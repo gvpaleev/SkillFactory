{
 "cells": [
  {
   "cell_type": "code",
   "execution_count": 1,
   "id": "64e3f4ec",
   "metadata": {},
   "outputs": [],
   "source": [
    "import sys\n",
    "from sklearn.model_selection import KFold\n",
    "from tqdm.notebook import tqdm\n",
    "from catboost import CatBoostRegressor\n",
    "from bs4 import BeautifulSoup    \n",
    "import requests "
   ]
  },
  {
   "cell_type": "code",
   "execution_count": 2,
   "id": "b50ec839",
   "metadata": {},
   "outputs": [],
   "source": [
    "\n",
    "import numpy as np\n",
    "import pandas as pd \n",
    "\n",
    "import matplotlib.pyplot as plt\n",
    "import seaborn as sns\n",
    "\n",
    "from sklearn.feature_selection import f_regression, mutual_info_regression\n",
    "from sklearn.preprocessing import LabelEncoder, OneHotEncoder, StandardScaler, PolynomialFeatures\n",
    "\n",
    "from sklearn.model_selection import train_test_split, RandomizedSearchCV\n",
    "from sklearn.linear_model import LogisticRegression\n",
    "from pandas import Series\n",
    "\n",
    "from sklearn.metrics import recall_score\n",
    "from sklearn.metrics import auc, roc_auc_score, roc_curve\n",
    "from sklearn.base import clone\n",
    "import datetime\n",
    "from datetime import datetime, timedelta\n",
    "import math\n",
    "\n",
    "from sklearn.preprocessing import StandardScaler\n",
    "from sklearn.ensemble import BaggingRegressor\n",
    "from sklearn.tree import DecisionTreeRegressor\n",
    "from sklearn.ensemble import RandomForestRegressor, ExtraTreesRegressor\n",
    "from sklearn.ensemble import GradientBoostingRegressor, AdaBoostRegressor\n",
    "from pprint import pprint"
   ]
  },
  {
   "cell_type": "markdown",
   "id": "d7f79de3",
   "metadata": {},
   "source": [
    "# _____"
   ]
  },
  {
   "cell_type": "code",
   "execution_count": 3,
   "id": "6b848497",
   "metadata": {},
   "outputs": [],
   "source": [
    "RANDOM_SEED = 42"
   ]
  },
  {
   "cell_type": "code",
   "execution_count": 4,
   "id": "63216a14",
   "metadata": {},
   "outputs": [],
   "source": [
    "#Метрика\n",
    "def mape(y_true, y_pred):\n",
    "    return np.mean(np.abs((y_pred-y_true)/y_true))"
   ]
  },
  {
   "cell_type": "markdown",
   "id": "82ff7e51",
   "metadata": {},
   "source": [
    "# Часть 1. Парсинг"
   ]
  },
  {
   "cell_type": "markdown",
   "id": "ea27d726",
   "metadata": {},
   "source": [
    "В ходе анализа сайта auto.ru было выяснено следующее:\n",
    "1) Сайт формируется динамически на стороне клиента.\n",
    "2) Перед формированием сайта на стороне клиента, происходят ajax запросы на сервер для выборки данных.\n",
    "\n",
    "В ходе анализа данных для оценки, было выяснено, что данные были собраны из двух JSON обектов из которых динамически формируется сайт-обявления auto.ru\n",
    "\n",
    "Использовались библиотеки asyncio и aiohttp.\n",
    "в папке parser предоставлены скрипты.\n",
    "\n",
    "В ходе парсинга было собрано 90т уникальных объявлений."
   ]
  },
  {
   "cell_type": "markdown",
   "id": "6af87e64",
   "metadata": {},
   "source": [
    "# Часть 2. Предобработка данных."
   ]
  },
  {
   "cell_type": "code",
   "execution_count": 5,
   "id": "46a1199c",
   "metadata": {},
   "outputs": [],
   "source": [
    "test =  pd.read_csv('test.csv')\n",
    "train = pd.read_csv('train.csv')\n",
    "sample_submission = pd.read_csv('sample_submission.csv')"
   ]
  },
  {
   "cell_type": "code",
   "execution_count": 6,
   "id": "3563fcb5",
   "metadata": {},
   "outputs": [],
   "source": [
    "del train['Unnamed: 0']"
   ]
  },
  {
   "cell_type": "code",
   "execution_count": 7,
   "id": "eca7e838",
   "metadata": {},
   "outputs": [
    {
     "data": {
      "text/plain": [
       "(34686, 32)"
      ]
     },
     "execution_count": 7,
     "metadata": {},
     "output_type": "execute_result"
    }
   ],
   "source": [
    "test.shape"
   ]
  },
  {
   "cell_type": "code",
   "execution_count": 8,
   "id": "af4a4f1b",
   "metadata": {},
   "outputs": [
    {
     "data": {
      "text/plain": [
       "(82167, 34)"
      ]
     },
     "execution_count": 8,
     "metadata": {},
     "output_type": "execute_result"
    }
   ],
   "source": [
    "train.shape"
   ]
  },
  {
   "cell_type": "code",
   "execution_count": 9,
   "id": "0c3a8129",
   "metadata": {},
   "outputs": [
    {
     "data": {
      "text/plain": [
       "(34686, 2)"
      ]
     },
     "execution_count": 9,
     "metadata": {},
     "output_type": "execute_result"
    }
   ],
   "source": [
    "sample_submission.shape"
   ]
  },
  {
   "cell_type": "code",
   "execution_count": 10,
   "id": "bbcf65c7",
   "metadata": {},
   "outputs": [],
   "source": [
    "test['price'] = 0"
   ]
  },
  {
   "cell_type": "code",
   "execution_count": 11,
   "id": "7bdd49fd",
   "metadata": {},
   "outputs": [],
   "source": [
    "test['is_val'] = '0'"
   ]
  },
  {
   "cell_type": "code",
   "execution_count": 12,
   "id": "364aa25b",
   "metadata": {},
   "outputs": [],
   "source": [
    "train['is_val'] = '1'"
   ]
  },
  {
   "cell_type": "code",
   "execution_count": 13,
   "id": "d6270b53",
   "metadata": {},
   "outputs": [],
   "source": [
    "data = train.append(test,  sort=False).reset_index(drop=True)"
   ]
  },
  {
   "cell_type": "code",
   "execution_count": 14,
   "id": "a682463b",
   "metadata": {},
   "outputs": [
    {
     "data": {
      "text/plain": [
       "(116853, 35)"
      ]
     },
     "execution_count": 14,
     "metadata": {},
     "output_type": "execute_result"
    }
   ],
   "source": [
    "data.shape"
   ]
  },
  {
   "cell_type": "code",
   "execution_count": 15,
   "id": "21ef7e93",
   "metadata": {},
   "outputs": [],
   "source": [
    "# Целевая переменная\n",
    "y = data['price']"
   ]
  },
  {
   "cell_type": "code",
   "execution_count": 16,
   "id": "52667239",
   "metadata": {},
   "outputs": [
    {
     "data": {
      "text/plain": [
       "(116853,)"
      ]
     },
     "execution_count": 16,
     "metadata": {},
     "output_type": "execute_result"
    }
   ],
   "source": [
    "y.shape"
   ]
  },
  {
   "cell_type": "code",
   "execution_count": null,
   "id": "7fa36157",
   "metadata": {},
   "outputs": [],
   "source": []
  },
  {
   "cell_type": "code",
   "execution_count": 17,
   "id": "c3d14e4f",
   "metadata": {},
   "outputs": [
    {
     "data": {
      "text/plain": [
       "Unnamed: 0.1            34686\n",
       "bodyType                    0\n",
       "brand                       0\n",
       "car_url                     0\n",
       "color                       0\n",
       "complectation_dict      28268\n",
       "description                 0\n",
       "engineDisplacement          0\n",
       "enginePower                 0\n",
       "equipment_dict           9996\n",
       "fuelType                    0\n",
       "image                       0\n",
       "mileage                     0\n",
       "modelDate                   0\n",
       "model_info                  0\n",
       "model_name                  0\n",
       "name                        0\n",
       "numberOfDoors               0\n",
       "parsing_unixtime            0\n",
       "priceCurrency               0\n",
       "productionDate              0\n",
       "sell_id                     0\n",
       "super_gen                   0\n",
       "vehicleConfiguration        0\n",
       "vehicleTransmission         0\n",
       "vendor                      0\n",
       "Владельцы                   0\n",
       "Владение                22691\n",
       "ПТС                         1\n",
       "Привод                      0\n",
       "Руль                        0\n",
       "Состояние                   0\n",
       "Таможня                     0\n",
       "price                       0\n",
       "is_val                      0\n",
       "dtype: int64"
      ]
     },
     "execution_count": 17,
     "metadata": {},
     "output_type": "execute_result"
    }
   ],
   "source": [
    "data.isnull().sum()"
   ]
  },
  {
   "cell_type": "code",
   "execution_count": 18,
   "id": "3507f22a",
   "metadata": {},
   "outputs": [
    {
     "data": {
      "text/plain": [
       "{'id': '0'}                                                                                                                                                                                                                                                                                                                                                                                                                                                                                                                                                                                                                                                                                                                                                                                                                                                                                                                                                                                                                                                                                                                                                                                                                                                                                                                                                                                                                                                                                                                                                                                                                                                                                                                                                                                                                                                                                                                                                                                                                                                                                                                                                                                                                                                                                                                                                                                                                                                                                                                                                                                                                                                                                                                                                                                                                                                                                                                                                                                                                                                                                                                                                                                                                                                                                                                                                                                                                                                                                                                                                                                                                                                                                                                                                                                                                                                                                                                                                                                                                                                                                                                                                                                                                                                                                                                                                                                                                                                                                                                                                                                                                                                                                                                                                                                                                                                                                                                                                                                                                                                                                                                                                                                                                                                                                                                                                                                                                                                                                                                                                                                                                                                                                                                                                                                                                                                                                                                                                                                                                                                                                                                                                                                                                                                                                                                                                                                                                                                                                                                                                                                                                                                                                                                                                                                                                                                                                                                                                                                                                                                                                                                                                                                                                                                                                                                                                                                                                                                                                                                                                                                                                                                                                                                                                                                                                                                                                                                                                                                                                                                                                                                                                                                                                                                                                                                                                                                                                                                                                                                                                                                                                                                                                                                                                                                                                                                                                                                                                                                                                                                                                                                                                                                                                                                                                                                                                                                                                                                                                                                                                                                                                                                                                                                                                                                                                                                                                                                                                                                                                                                                                                                                                                                                                                                                                                                                                                                                                                                                                                                                                                                                                                                                                                                                                                                                                                                                                                                                                                                                                                                                                                                                                                                                                                                                                                                                                                                                                                                                                                                                                                                                                                                                            65179\n",
       "{'id': '20726617', 'name': 'Comfortline (MY 2015-2018)', 'available_options': ['airbag-passenger', 'lock', 'electro-mirrors', 'mirrors-heat', 'computer', 'seat-transformation', 'fabric-seats', 'steel-wheels', 'abs', 'wheel-leather', 'usb', 'audiopreparation', 'ashtray-and-cigarette-lighter', 'servo', 'electro-window-back', 'condition', 'airbag-driver', 'isofix', 'aux', 'electro-window-front', 'paint-metallic', 'leather-gear-stick', 'audiosystem-cd', 'migration-flag', 'front-seats-heat', 'bluetooth', 'wheel-configuration2', 'wheel-configuration1', 'immo', 'third-rear-headrest'], 'vendor_colors': [{'body_color_id': 21425660, 'mark_color_id': 21421291, 'name_ru': 'Синий Reef (металлик), Чёрный Deep (перламутр)', 'hex_codes': ['1B60A2', '393531'], 'color_type': 'VENDOR_COLOR_TYPE_UNKNOWN', 'stock_color': {'hex_code': '0000CC', 'name_ru': 'синий'}, 'photos': [{'name': '34-front', 'sizes': {'orig': '//avatars.mds.yandex.net/get-verba/1604130/2a000001692e9b3127d5f30da93a4398931c/orig', 'wizardv3mr': '//avatars.mds.yandex.net/get-verba/1604130/2a000001692e9b3127d5f30da93a4398931c/wizardv3mr', 'wizardv3': '//avatars.mds.yandex.net/get-verba/1604130/2a000001692e9b3127d5f30da93a4398931c/wizardv3', 'cattouch': '//avatars.mds.yandex.net/get-verba/1604130/2a000001692e9b3127d5f30da93a4398931c/cattouch', 'small': '//avatars.mds.yandex.net/get-verba/1604130/2a000001692e9b3127d5f30da93a4398931c/small', '320x240': '//avatars.mds.yandex.net/get-verba/1604130/2a000001692e9b3127d5f30da93a4398931c/320x240', '1200x900': '//avatars.mds.yandex.net/get-verba/1604130/2a000001692e9b3127d5f30da93a4398931c/1200x900', '1200x900n': '//avatars.mds.yandex.net/get-verba/1604130/2a000001692e9b3127d5f30da93a4398931c/1200x900n', 'thumb_m': '//avatars.mds.yandex.net/get-verba/1604130/2a000001692e9b3127d5f30da93a4398931c/thumb_m', 'full': '//avatars.mds.yandex.net/get-verba/1604130/2a000001692e9b3127d5f30da93a4398931c/full', '832x624': '//avatars.mds.yandex.net/get-verba/1604130/2a000001692e9b3127d5f30da93a4398931c/832x624', '456x342': '//avatars.mds.yandex.net/get-verba/1604130/2a000001692e9b3127d5f30da93a4398931c/456x342', '120x90': '//avatars.mds.yandex.net/get-verba/1604130/2a000001692e9b3127d5f30da93a4398931c/120x90', '92x69': '//avatars.mds.yandex.net/get-verba/1604130/2a000001692e9b3127d5f30da93a4398931c/92x69', 'islandoff': '//avatars.mds.yandex.net/get-verba/1604130/2a000001692e9b3127d5f30da93a4398931c/islandoff', 'thumb_s': '//avatars.mds.yandex.net/get-verba/1604130/2a000001692e9b3127d5f30da93a4398931c/thumb_s', 'thumb_s_2x': '//avatars.mds.yandex.net/get-verba/1604130/2a000001692e9b3127d5f30da93a4398931c/thumb_s_2x', 'auto_main': '//avatars.mds.yandex.net/get-verba/1604130/2a000001692e9b3127d5f30da93a4398931c/auto_main', 'image': '//avatars.mds.yandex.net/get-verba/1604130/2a000001692e9b3127d5f30da93a4398931c/image'}}, {'name': '34-back', 'sizes': {'orig': '//avatars.mds.yandex.net/get-verba/1030388/2a000001692e9b462c0ce0d3a60626ba9b28/orig', 'wizardv3mr': '//avatars.mds.yandex.net/get-verba/1030388/2a000001692e9b462c0ce0d3a60626ba9b28/wizardv3mr', 'wizardv3': '//avatars.mds.yandex.net/get-verba/1030388/2a000001692e9b462c0ce0d3a60626ba9b28/wizardv3', 'cattouch': '//avatars.mds.yandex.net/get-verba/1030388/2a000001692e9b462c0ce0d3a60626ba9b28/cattouch', 'small': '//avatars.mds.yandex.net/get-verba/1030388/2a000001692e9b462c0ce0d3a60626ba9b28/small', '320x240': '//avatars.mds.yandex.net/get-verba/1030388/2a000001692e9b462c0ce0d3a60626ba9b28/320x240', '1200x900': '//avatars.mds.yandex.net/get-verba/1030388/2a000001692e9b462c0ce0d3a60626ba9b28/1200x900', '1200x900n': '//avatars.mds.yandex.net/get-verba/1030388/2a000001692e9b462c0ce0d3a60626ba9b28/1200x900n', 'thumb_m': '//avatars.mds.yandex.net/get-verba/1030388/2a000001692e9b462c0ce0d3a60626ba9b28/thumb_m', 'full': '//avatars.mds.yandex.net/get-verba/1030388/2a000001692e9b462c0ce0d3a60626ba9b28/full', '832x624': '//avatars.mds.yandex.net/get-verba/1030388/2a000001692e9b462c0ce0d3a60626ba9b28/832x624', '456x342': '//avatars.mds.yandex.net/get-verba/1030388/2a000001692e9b462c0ce0d3a60626ba9b28/456x342', '120x90': '//avatars.mds.yandex.net/get-verba/1030388/2a000001692e9b462c0ce0d3a60626ba9b28/120x90', '92x69': '//avatars.mds.yandex.net/get-verba/1030388/2a000001692e9b462c0ce0d3a60626ba9b28/92x69', 'islandoff': '//avatars.mds.yandex.net/get-verba/1030388/2a000001692e9b462c0ce0d3a60626ba9b28/islandoff', 'thumb_s': '//avatars.mds.yandex.net/get-verba/1030388/2a000001692e9b462c0ce0d3a60626ba9b28/thumb_s', 'thumb_s_2x': '//avatars.mds.yandex.net/get-verba/1030388/2a000001692e9b462c0ce0d3a60626ba9b28/thumb_s_2x', 'auto_main': '//avatars.mds.yandex.net/get-verba/1030388/2a000001692e9b462c0ce0d3a60626ba9b28/auto_main', 'image': '//avatars.mds.yandex.net/get-verba/1030388/2a000001692e9b462c0ce0d3a60626ba9b28/image'}}, {'name': 'side', 'sizes': {'orig': '//avatars.mds.yandex.net/get-verba/997355/2a000001692e9b984b372bbef1a7a12c8658/orig', 'wizardv3mr': '//avatars.mds.yandex.net/get-verba/997355/2a000001692e9b984b372bbef1a7a12c8658/wizardv3mr', 'wizardv3': '//avatars.mds.yandex.net/get-verba/997355/2a000001692e9b984b372bbef1a7a12c8658/wizardv3', 'cattouch': '//avatars.mds.yandex.net/get-verba/997355/2a000001692e9b984b372bbef1a7a12c8658/cattouch', 'small': '//avatars.mds.yandex.net/get-verba/997355/2a000001692e9b984b372bbef1a7a12c8658/small', '320x240': '//avatars.mds.yandex.net/get-verba/997355/2a000001692e9b984b372bbef1a7a12c8658/320x240', '1200x900': '//avatars.mds.yandex.net/get-verba/997355/2a000001692e9b984b372bbef1a7a12c8658/1200x900', '1200x900n': '//avatars.mds.yandex.net/get-verba/997355/2a000001692e9b984b372bbef1a7a12c8658/1200x900n', 'thumb_m': '//avatars.mds.yandex.net/get-verba/997355/2a000001692e9b984b372bbef1a7a12c8658/thumb_m', 'full': '//avatars.mds.yandex.net/get-verba/997355/2a000001692e9b984b372bbef1a7a12c8658/full', '832x624': '//avatars.mds.yandex.net/get-verba/997355/2a000001692e9b984b372bbef1a7a12c8658/832x624', '456x342': '//avatars.mds.yandex.net/get-verba/997355/2a000001692e9b984b372bbef1a7a12c8658/456x342', '120x90': '//avatars.mds.yandex.net/get-verba/997355/2a000001692e9b984b372bbef1a7a12c8658/120x90', '92x69': '//avatars.mds.yandex.net/get-verba/997355/2a000001692e9b984b372bbef1a7a12c8658/92x69', 'islandoff': '//avatars.mds.yandex.net/get-verba/997355/2a000001692e9b984b372bbef1a7a12c8658/islandoff', 'thumb_s': '//avatars.mds.yandex.net/get-verba/997355/2a000001692e9b984b372bbef1a7a12c8658/thumb_s', 'thumb_s_2x': '//avatars.mds.yandex.net/get-verba/997355/2a000001692e9b984b372bbef1a7a12c8658/thumb_s_2x', 'auto_main': '//avatars.mds.yandex.net/get-verba/997355/2a000001692e9b984b372bbef1a7a12c8658/auto_main', 'image': '//avatars.mds.yandex.net/get-verba/997355/2a000001692e9b984b372bbef1a7a12c8658/image'}}, {'name': 'front', 'sizes': {'orig': '//avatars.mds.yandex.net/get-verba/1604130/2a000001692e9ba8654aac8c30ffdc8c3865/orig', 'wizardv3mr': '//avatars.mds.yandex.net/get-verba/1604130/2a000001692e9ba8654aac8c30ffdc8c3865/wizardv3mr', 'wizardv3': '//avatars.mds.yandex.net/get-verba/1604130/2a000001692e9ba8654aac8c30ffdc8c3865/wizardv3', 'cattouch': '//avatars.mds.yandex.net/get-verba/1604130/2a000001692e9ba8654aac8c30ffdc8c3865/cattouch', 'small': '//avatars.mds.yandex.net/get-verba/1604130/2a000001692e9ba8654aac8c30ffdc8c3865/small', '320x240': '//avatars.mds.yandex.net/get-verba/1604130/2a000001692e9ba8654aac8c30ffdc8c3865/320x240', '1200x900': '//avatars.mds.yandex.net/get-verba/1604130/2a000001692e9ba8654aac8c30ffdc8c3865/1200x900', '1200x900n': '//avatars.mds.yandex.net/get-verba/1604130/2a000001692e9ba8654aac8c30ffdc8c3865/1200x900n', 'thumb_m': '//avatars.mds.yandex.net/get-verba/1604130/2a000001692e9ba8654aac8c30ffdc8c3865/thumb_m', 'full': '//avatars.mds.yandex.net/get-verba/1604130/2a000001692e9ba8654aac8c30ffdc8c3865/full', '832x624': '//avatars.mds.yandex.net/get-verba/1604130/2a000001692e9ba8654aac8c30ffdc8c3865/832x624', '456x342': '//avatars.mds.yandex.net/get-verba/1604130/2a000001692e9ba8654aac8c30ffdc8c3865/456x342', '120x90': '//avatars.mds.yandex.net/get-verba/1604130/2a000001692e9ba8654aac8c30ffdc8c3865/120x90', '92x69': '//avatars.mds.yandex.net/get-verba/1604130/2a000001692e9ba8654aac8c30ffdc8c3865/92x69', 'islandoff': '//avatars.mds.yandex.net/get-verba/1604130/2a000001692e9ba8654aac8c30ffdc8c3865/islandoff', 'thumb_s': '//avatars.mds.yandex.net/get-verba/1604130/2a000001692e9ba8654aac8c30ffdc8c3865/thumb_s', 'thumb_s_2x': '//avatars.mds.yandex.net/get-verba/1604130/2a000001692e9ba8654aac8c30ffdc8c3865/thumb_s_2x', 'auto_main': '//avatars.mds.yandex.net/get-verba/1604130/2a000001692e9ba8654aac8c30ffdc8c3865/auto_main', 'image': '//avatars.mds.yandex.net/get-verba/1604130/2a000001692e9ba8654aac8c30ffdc8c3865/image'}}, {'name': 'back', 'sizes': {'orig': '//avatars.mds.yandex.net/get-verba/1540742/2a000001692e9beb4675cf5a9274510663c2/orig', 'wizardv3mr': '//avatars.mds.yandex.net/get-verba/1540742/2a000001692e9beb4675cf5a9274510663c2/wizardv3mr', 'wizardv3': '//avatars.mds.yandex.net/get-verba/1540742/2a000001692e9beb4675cf5a9274510663c2/wizardv3', 'cattouch': '//avatars.mds.yandex.net/get-verba/1540742/2a000001692e9beb4675cf5a9274510663c2/cattouch', 'small': '//avatars.mds.yandex.net/get-verba/1540742/2a000001692e9beb4675cf5a9274510663c2/small', '320x240': '//avatars.mds.yandex.net/get-verba/1540742/2a000001692e9beb4675cf5a9274510663c2/320x240', '1200x900': '//avatars.mds.yandex.net/get-verba/1540742/2a000001692e9beb4675cf5a9274510663c2/1200x900', '1200x900n': '//avatars.mds.yandex.net/get-verba/1540742/2a000001692e9beb4675cf5a9274510663c2/1200x900n', 'thumb_m': '//avatars.mds.yandex.net/get-verba/1540742/2a000001692e9beb4675cf5a9274510663c2/thumb_m', 'full': '//avatars.mds.yandex.net/get-verba/1540742/2a000001692e9beb4675cf5a9274510663c2/full', '832x624': '//avatars.mds.yandex.net/get-verba/1540742/2a000001692e9beb4675cf5a9274510663c2/832x624', '456x342': '//avatars.mds.yandex.net/get-verba/1540742/2a000001692e9beb4675cf5a9274510663c2/456x342', '120x90': '//avatars.mds.yandex.net/get-verba/1540742/2a000001692e9beb4675cf5a9274510663c2/120x90', '92x69': '//avatars.mds.yandex.net/get-verba/1540742/2a000001692e9beb4675cf5a9274510663c2/92x69', 'islandoff': '//avatars.mds.yandex.net/get-verba/1540742/2a000001692e9beb4675cf5a9274510663c2/islandoff', 'thumb_s': '//avatars.mds.yandex.net/get-verba/1540742/2a000001692e9beb4675cf5a9274510663c2/thumb_s', 'thumb_s_2x': '//avatars.mds.yandex.net/get-verba/1540742/2a000001692e9beb4675cf5a9274510663c2/thumb_s_2x', 'auto_main': '//avatars.mds.yandex.net/get-verba/1540742/2a000001692e9beb4675cf5a9274510663c2/auto_main', 'image': '//avatars.mds.yandex.net/get-verba/1540742/2a000001692e9beb4675cf5a9274510663c2/image'}}], 'main_color': True}]}                                                                                                                                                                                                                                                                                                                                                                                                                                                                                                             94\n",
       "{'id': '4562904', 'name': 'Elegance', 'available_options': ['cruise-control', 'multi-wheel', 'airbag-passenger', 'lock', 'electro-mirrors', 'mirrors-heat', 'cooling-box', 'computer', 'seat-transformation', 'wheel-power', 'fabric-seats', 'airbag-side', 'abs', 'wheel-leather', 'climate-control-1', 'esp', 'audiopreparation', 'electro-window-back', 'condition', 'music-super', 'park-assist-r', 'airbag-driver', 'isofix', 'aux', 'electro-window-front', 'light-sensor', 'hcc', 'alarm', 'ptf', 'rain-sensor', 'audiosystem-cd', 'migration-flag', 'front-seats-heat', 'wheel-configuration2', 'wheel-configuration1', 'immo']}                                                                                                                                                                                                                                                                                                                                                                                                                                                                                                                                                                                                                                                                                                                                                                                                                                                                                                                                                                                                                                                                                                                                                                                                                                                                                                                                                                                                                                                                                                                                                                                                                                                                                                                                                                                                                                                                                                                                                                                                                                                                                                                                                                                                                                                                                                                                                                                                                                                                                                                                                                                                                                                                                                                                                                                                                                                                                                                                                                                                                                                                                                                                                                                                                                                                                                                                                                                                                                                                                                                                                                                                                                                                                                                                                                                                                                                                                                                                                                                                                                                                                                                                                                                                                                                                                                                                                                                                                                                                                                                                                                                                                                                                                                                                                                                                                                                                                                                                                                                                                                                                                                                                                                                                                                                                                                                                                                                                                                                                                                                                                                                                                                                                                                                                                                                                                                                                                                                                                                                                                                                                                                                                                                                                                                                                                                                                                                                                                                                                                                                                                                                                                                                                                                                                                                                                                                                                                                                                                                                                                                                                                                                                                                                                                                                                                                                                                                                                                                                                                                                                                                                                                                                                                                                                                                                                                                                                                                                                                                                                                                                                                                                                                                                                                                                                                                                                                                                                                                                                                                                                                                                                                                                                                                                                                                                                                                                                                                                                                                                                                                                                                                                                                                                                                                                                                                                                                                                                                                                                                                                                                                                                                                                                                                                                                                                                                                                                                                                                                                                                                                                                                                                                                                                                                                                                                                                                                                                                                                                                                                                                                                                                                                                                                                                                                                                                                                                                                                                                                                                                                                                  78\n",
       "{'id': '20913628', 'name': 'Style', 'available_options': ['cruise-control', 'multi-wheel', 'heated-wash-system', 'airbag-passenger', 'decorative-interior-lighting', 'lock', 'electro-mirrors', 'mirrors-heat', 'volume-sensor', 'cooling-box', 'glonass', 'passenger-seat-updown', 'computer', 'seat-transformation', 'fabric-seats', 'airbag-side', 'electronic-gage-panel', 'abs', 'wheel-leather', 'climate-control-2', 'esp', 'usb', 'audiopreparation', 'ashtray-and-cigarette-lighter', 'front-centre-armrest', 'servo', 'electro-window-back', '16-inch-wheels', 'park-assist-r', 'airbag-driver', 'isofix', 'aux', 'electro-window-front', 'light-sensor', 'hcc', 'airbag-curtain', 'alarm', 'leather-gear-stick', 'ptf', 'rain-sensor', 'voice-recognition', 'audiosystem-cd', 'front-seats-heat', 'bluetooth', 'wheel-configuration2', 'wheel-configuration1', 'immo', '12v-socket', 'third-rear-headrest'], 'vendor_colors': [{'body_color_id': 21438108, 'mark_color_id': 21390875, 'name_ru': 'Серый Platinum', 'hex_codes': ['787672'], 'color_type': 'METALLIC', 'stock_color': {'hex_code': '97948F', 'name_ru': 'серый'}, 'photos': [{'name': '34-front', 'sizes': {'orig': '//avatars.mds.yandex.net/get-verba/1540742/2a0000016dcfe0e0ca95c1e01f535bff3a3c/orig', 'wizardv3mr': '//avatars.mds.yandex.net/get-verba/1540742/2a0000016dcfe0e0ca95c1e01f535bff3a3c/wizardv3mr', 'wizardv3': '//avatars.mds.yandex.net/get-verba/1540742/2a0000016dcfe0e0ca95c1e01f535bff3a3c/wizardv3', 'cattouch': '//avatars.mds.yandex.net/get-verba/1540742/2a0000016dcfe0e0ca95c1e01f535bff3a3c/cattouch', 'small': '//avatars.mds.yandex.net/get-verba/1540742/2a0000016dcfe0e0ca95c1e01f535bff3a3c/small', '320x240': '//avatars.mds.yandex.net/get-verba/1540742/2a0000016dcfe0e0ca95c1e01f535bff3a3c/320x240', '1200x900': '//avatars.mds.yandex.net/get-verba/1540742/2a0000016dcfe0e0ca95c1e01f535bff3a3c/1200x900', '1200x900n': '//avatars.mds.yandex.net/get-verba/1540742/2a0000016dcfe0e0ca95c1e01f535bff3a3c/1200x900n', 'thumb_m': '//avatars.mds.yandex.net/get-verba/1540742/2a0000016dcfe0e0ca95c1e01f535bff3a3c/thumb_m', 'full': '//avatars.mds.yandex.net/get-verba/1540742/2a0000016dcfe0e0ca95c1e01f535bff3a3c/full', '832x624': '//avatars.mds.yandex.net/get-verba/1540742/2a0000016dcfe0e0ca95c1e01f535bff3a3c/832x624', '456x342': '//avatars.mds.yandex.net/get-verba/1540742/2a0000016dcfe0e0ca95c1e01f535bff3a3c/456x342', '120x90': '//avatars.mds.yandex.net/get-verba/1540742/2a0000016dcfe0e0ca95c1e01f535bff3a3c/120x90', '92x69': '//avatars.mds.yandex.net/get-verba/1540742/2a0000016dcfe0e0ca95c1e01f535bff3a3c/92x69', 'islandoff': '//avatars.mds.yandex.net/get-verba/1540742/2a0000016dcfe0e0ca95c1e01f535bff3a3c/islandoff', 'thumb_s': '//avatars.mds.yandex.net/get-verba/1540742/2a0000016dcfe0e0ca95c1e01f535bff3a3c/thumb_s', 'thumb_s_2x': '//avatars.mds.yandex.net/get-verba/1540742/2a0000016dcfe0e0ca95c1e01f535bff3a3c/thumb_s_2x', 'auto_main': '//avatars.mds.yandex.net/get-verba/1540742/2a0000016dcfe0e0ca95c1e01f535bff3a3c/auto_main', 'image': '//avatars.mds.yandex.net/get-verba/1540742/2a0000016dcfe0e0ca95c1e01f535bff3a3c/image'}}, {'name': '34-back', 'sizes': {'orig': '//avatars.mds.yandex.net/get-verba/937147/2a0000016dcfe0fc1be343934c10f4bd6712/orig', 'wizardv3mr': '//avatars.mds.yandex.net/get-verba/937147/2a0000016dcfe0fc1be343934c10f4bd6712/wizardv3mr', 'wizardv3': '//avatars.mds.yandex.net/get-verba/937147/2a0000016dcfe0fc1be343934c10f4bd6712/wizardv3', 'cattouch': '//avatars.mds.yandex.net/get-verba/937147/2a0000016dcfe0fc1be343934c10f4bd6712/cattouch', 'small': '//avatars.mds.yandex.net/get-verba/937147/2a0000016dcfe0fc1be343934c10f4bd6712/small', '320x240': '//avatars.mds.yandex.net/get-verba/937147/2a0000016dcfe0fc1be343934c10f4bd6712/320x240', '1200x900': '//avatars.mds.yandex.net/get-verba/937147/2a0000016dcfe0fc1be343934c10f4bd6712/1200x900', '1200x900n': '//avatars.mds.yandex.net/get-verba/937147/2a0000016dcfe0fc1be343934c10f4bd6712/1200x900n', 'thumb_m': '//avatars.mds.yandex.net/get-verba/937147/2a0000016dcfe0fc1be343934c10f4bd6712/thumb_m', 'full': '//avatars.mds.yandex.net/get-verba/937147/2a0000016dcfe0fc1be343934c10f4bd6712/full', '832x624': '//avatars.mds.yandex.net/get-verba/937147/2a0000016dcfe0fc1be343934c10f4bd6712/832x624', '456x342': '//avatars.mds.yandex.net/get-verba/937147/2a0000016dcfe0fc1be343934c10f4bd6712/456x342', '120x90': '//avatars.mds.yandex.net/get-verba/937147/2a0000016dcfe0fc1be343934c10f4bd6712/120x90', '92x69': '//avatars.mds.yandex.net/get-verba/937147/2a0000016dcfe0fc1be343934c10f4bd6712/92x69', 'islandoff': '//avatars.mds.yandex.net/get-verba/937147/2a0000016dcfe0fc1be343934c10f4bd6712/islandoff', 'thumb_s': '//avatars.mds.yandex.net/get-verba/937147/2a0000016dcfe0fc1be343934c10f4bd6712/thumb_s', 'thumb_s_2x': '//avatars.mds.yandex.net/get-verba/937147/2a0000016dcfe0fc1be343934c10f4bd6712/thumb_s_2x', 'auto_main': '//avatars.mds.yandex.net/get-verba/937147/2a0000016dcfe0fc1be343934c10f4bd6712/auto_main', 'image': '//avatars.mds.yandex.net/get-verba/937147/2a0000016dcfe0fc1be343934c10f4bd6712/image'}}, {'name': 'side', 'sizes': {'orig': '//avatars.mds.yandex.net/get-verba/997355/2a0000016dcfe11090fc6e82019c69278a4b/orig', 'wizardv3mr': '//avatars.mds.yandex.net/get-verba/997355/2a0000016dcfe11090fc6e82019c69278a4b/wizardv3mr', 'wizardv3': '//avatars.mds.yandex.net/get-verba/997355/2a0000016dcfe11090fc6e82019c69278a4b/wizardv3', 'cattouch': '//avatars.mds.yandex.net/get-verba/997355/2a0000016dcfe11090fc6e82019c69278a4b/cattouch', 'small': '//avatars.mds.yandex.net/get-verba/997355/2a0000016dcfe11090fc6e82019c69278a4b/small', '320x240': '//avatars.mds.yandex.net/get-verba/997355/2a0000016dcfe11090fc6e82019c69278a4b/320x240', '1200x900': '//avatars.mds.yandex.net/get-verba/997355/2a0000016dcfe11090fc6e82019c69278a4b/1200x900', '1200x900n': '//avatars.mds.yandex.net/get-verba/997355/2a0000016dcfe11090fc6e82019c69278a4b/1200x900n', 'thumb_m': '//avatars.mds.yandex.net/get-verba/997355/2a0000016dcfe11090fc6e82019c69278a4b/thumb_m', 'full': '//avatars.mds.yandex.net/get-verba/997355/2a0000016dcfe11090fc6e82019c69278a4b/full', '832x624': '//avatars.mds.yandex.net/get-verba/997355/2a0000016dcfe11090fc6e82019c69278a4b/832x624', '456x342': '//avatars.mds.yandex.net/get-verba/997355/2a0000016dcfe11090fc6e82019c69278a4b/456x342', '120x90': '//avatars.mds.yandex.net/get-verba/997355/2a0000016dcfe11090fc6e82019c69278a4b/120x90', '92x69': '//avatars.mds.yandex.net/get-verba/997355/2a0000016dcfe11090fc6e82019c69278a4b/92x69', 'islandoff': '//avatars.mds.yandex.net/get-verba/997355/2a0000016dcfe11090fc6e82019c69278a4b/islandoff', 'thumb_s': '//avatars.mds.yandex.net/get-verba/997355/2a0000016dcfe11090fc6e82019c69278a4b/thumb_s', 'thumb_s_2x': '//avatars.mds.yandex.net/get-verba/997355/2a0000016dcfe11090fc6e82019c69278a4b/thumb_s_2x', 'auto_main': '//avatars.mds.yandex.net/get-verba/997355/2a0000016dcfe11090fc6e82019c69278a4b/auto_main', 'image': '//avatars.mds.yandex.net/get-verba/997355/2a0000016dcfe11090fc6e82019c69278a4b/image'}}, {'name': 'front', 'sizes': {'orig': '//avatars.mds.yandex.net/get-verba/997355/2a0000016dcfe1479d0018532a6831caa889/orig', 'wizardv3mr': '//avatars.mds.yandex.net/get-verba/997355/2a0000016dcfe1479d0018532a6831caa889/wizardv3mr', 'wizardv3': '//avatars.mds.yandex.net/get-verba/997355/2a0000016dcfe1479d0018532a6831caa889/wizardv3', 'cattouch': '//avatars.mds.yandex.net/get-verba/997355/2a0000016dcfe1479d0018532a6831caa889/cattouch', 'small': '//avatars.mds.yandex.net/get-verba/997355/2a0000016dcfe1479d0018532a6831caa889/small', '320x240': '//avatars.mds.yandex.net/get-verba/997355/2a0000016dcfe1479d0018532a6831caa889/320x240', '1200x900': '//avatars.mds.yandex.net/get-verba/997355/2a0000016dcfe1479d0018532a6831caa889/1200x900', '1200x900n': '//avatars.mds.yandex.net/get-verba/997355/2a0000016dcfe1479d0018532a6831caa889/1200x900n', 'thumb_m': '//avatars.mds.yandex.net/get-verba/997355/2a0000016dcfe1479d0018532a6831caa889/thumb_m', 'full': '//avatars.mds.yandex.net/get-verba/997355/2a0000016dcfe1479d0018532a6831caa889/full', '832x624': '//avatars.mds.yandex.net/get-verba/997355/2a0000016dcfe1479d0018532a6831caa889/832x624', '456x342': '//avatars.mds.yandex.net/get-verba/997355/2a0000016dcfe1479d0018532a6831caa889/456x342', '120x90': '//avatars.mds.yandex.net/get-verba/997355/2a0000016dcfe1479d0018532a6831caa889/120x90', '92x69': '//avatars.mds.yandex.net/get-verba/997355/2a0000016dcfe1479d0018532a6831caa889/92x69', 'islandoff': '//avatars.mds.yandex.net/get-verba/997355/2a0000016dcfe1479d0018532a6831caa889/islandoff', 'thumb_s': '//avatars.mds.yandex.net/get-verba/997355/2a0000016dcfe1479d0018532a6831caa889/thumb_s', 'thumb_s_2x': '//avatars.mds.yandex.net/get-verba/997355/2a0000016dcfe1479d0018532a6831caa889/thumb_s_2x', 'auto_main': '//avatars.mds.yandex.net/get-verba/997355/2a0000016dcfe1479d0018532a6831caa889/auto_main', 'image': '//avatars.mds.yandex.net/get-verba/997355/2a0000016dcfe1479d0018532a6831caa889/image'}}, {'name': 'back', 'sizes': {'orig': '//avatars.mds.yandex.net/get-verba/997355/2a0000016dcfe170341bf5bda8080e27b18a/orig', 'wizardv3mr': '//avatars.mds.yandex.net/get-verba/997355/2a0000016dcfe170341bf5bda8080e27b18a/wizardv3mr', 'wizardv3': '//avatars.mds.yandex.net/get-verba/997355/2a0000016dcfe170341bf5bda8080e27b18a/wizardv3', 'cattouch': '//avatars.mds.yandex.net/get-verba/997355/2a0000016dcfe170341bf5bda8080e27b18a/cattouch', 'small': '//avatars.mds.yandex.net/get-verba/997355/2a0000016dcfe170341bf5bda8080e27b18a/small', '320x240': '//avatars.mds.yandex.net/get-verba/997355/2a0000016dcfe170341bf5bda8080e27b18a/320x240', '1200x900': '//avatars.mds.yandex.net/get-verba/997355/2a0000016dcfe170341bf5bda8080e27b18a/1200x900', '1200x900n': '//avatars.mds.yandex.net/get-verba/997355/2a0000016dcfe170341bf5bda8080e27b18a/1200x900n', 'thumb_m': '//avatars.mds.yandex.net/get-verba/997355/2a0000016dcfe170341bf5bda8080e27b18a/thumb_m', 'full': '//avatars.mds.yandex.net/get-verba/997355/2a0000016dcfe170341bf5bda8080e27b18a/full', '832x624': '//avatars.mds.yandex.net/get-verba/997355/2a0000016dcfe170341bf5bda8080e27b18a/832x624', '456x342': '//avatars.mds.yandex.net/get-verba/997355/2a0000016dcfe170341bf5bda8080e27b18a/456x342', '120x90': '//avatars.mds.yandex.net/get-verba/997355/2a0000016dcfe170341bf5bda8080e27b18a/120x90', '92x69': '//avatars.mds.yandex.net/get-verba/997355/2a0000016dcfe170341bf5bda8080e27b18a/92x69', 'islandoff': '//avatars.mds.yandex.net/get-verba/997355/2a0000016dcfe170341bf5bda8080e27b18a/islandoff', 'thumb_s': '//avatars.mds.yandex.net/get-verba/997355/2a0000016dcfe170341bf5bda8080e27b18a/thumb_s', 'thumb_s_2x': '//avatars.mds.yandex.net/get-verba/997355/2a0000016dcfe170341bf5bda8080e27b18a/thumb_s_2x', 'auto_main': '//avatars.mds.yandex.net/get-verba/997355/2a0000016dcfe170341bf5bda8080e27b18a/auto_main', 'image': '//avatars.mds.yandex.net/get-verba/997355/2a0000016dcfe170341bf5bda8080e27b18a/image'}}], 'main_color': True}]}                                                                                                                                                                                                                                                                                                                  69\n",
       "{'id': '20887775', 'name': 'Comfortline', 'available_options': ['cruise-control', 'multi-wheel', 'heated-wash-system', 'airbag-passenger', 'roof-rails', 'lock', 'electro-mirrors', 'mirrors-heat', 'drowsy-driver-alert-system', 'automatic-lighting-control', 'collision-prevention-assist', 'computer', 'high-beam-assist', 'seat-transformation', 'light-cleaner', 'fabric-seats', 'airbag-side', 'abs', 'wheel-leather', 'climate-control-1', 'tinted-glass', 'esp', 'usb', 'audiopreparation', 'ashtray-and-cigarette-lighter', 'front-centre-armrest', 'servo', 'steering-wheel-gear-shift-paddles', 'electro-window-back', '17-inch-wheels', 'body-mouldings', 'park-assist-f', 'folding-front-passenger-seat', 'rear-seats-heat', 'led-lights', 'park-assist-r', 'airbag-driver', 'isofix', 'electro-window-front', 'airbag-curtain', 'ptf', 'rain-sensor', 'audiosystem-cd', 'migration-flag', 'folding-tables-rear', 'front-seats-heat', 'power-child-locks-rear-doors', 'bluetooth', 'wheel-configuration2', 'wheel-configuration1', 'immo', '12v-socket', 'third-rear-headrest'], 'vendor_colors': [{'body_color_id': 21425877, 'mark_color_id': 21391359, 'name_ru': 'Синий Reef Blue', 'hex_codes': ['1B60A2'], 'color_type': 'METALLIC', 'stock_color': {'hex_code': '0000CC', 'name_ru': 'синий'}, 'photos': [{'name': '34-front', 'sizes': {'orig': '//avatars.mds.yandex.net/get-verba/1535139/2a000001692f317f8834af7dde055334a9ea/orig', 'wizardv3mr': '//avatars.mds.yandex.net/get-verba/1535139/2a000001692f317f8834af7dde055334a9ea/wizardv3mr', 'wizardv3': '//avatars.mds.yandex.net/get-verba/1535139/2a000001692f317f8834af7dde055334a9ea/wizardv3', 'cattouch': '//avatars.mds.yandex.net/get-verba/1535139/2a000001692f317f8834af7dde055334a9ea/cattouch', 'small': '//avatars.mds.yandex.net/get-verba/1535139/2a000001692f317f8834af7dde055334a9ea/small', '320x240': '//avatars.mds.yandex.net/get-verba/1535139/2a000001692f317f8834af7dde055334a9ea/320x240', '1200x900': '//avatars.mds.yandex.net/get-verba/1535139/2a000001692f317f8834af7dde055334a9ea/1200x900', '1200x900n': '//avatars.mds.yandex.net/get-verba/1535139/2a000001692f317f8834af7dde055334a9ea/1200x900n', 'thumb_m': '//avatars.mds.yandex.net/get-verba/1535139/2a000001692f317f8834af7dde055334a9ea/thumb_m', 'full': '//avatars.mds.yandex.net/get-verba/1535139/2a000001692f317f8834af7dde055334a9ea/full', '832x624': '//avatars.mds.yandex.net/get-verba/1535139/2a000001692f317f8834af7dde055334a9ea/832x624', '456x342': '//avatars.mds.yandex.net/get-verba/1535139/2a000001692f317f8834af7dde055334a9ea/456x342', '120x90': '//avatars.mds.yandex.net/get-verba/1535139/2a000001692f317f8834af7dde055334a9ea/120x90', '92x69': '//avatars.mds.yandex.net/get-verba/1535139/2a000001692f317f8834af7dde055334a9ea/92x69', 'islandoff': '//avatars.mds.yandex.net/get-verba/1535139/2a000001692f317f8834af7dde055334a9ea/islandoff', 'thumb_s': '//avatars.mds.yandex.net/get-verba/1535139/2a000001692f317f8834af7dde055334a9ea/thumb_s', 'thumb_s_2x': '//avatars.mds.yandex.net/get-verba/1535139/2a000001692f317f8834af7dde055334a9ea/thumb_s_2x', 'auto_main': '//avatars.mds.yandex.net/get-verba/1535139/2a000001692f317f8834af7dde055334a9ea/auto_main', 'image': '//avatars.mds.yandex.net/get-verba/1535139/2a000001692f317f8834af7dde055334a9ea/image'}}, {'name': '34-back', 'sizes': {'orig': '//avatars.mds.yandex.net/get-verba/1535139/2a000001692f3192b6b27178cfb99a1c0bd9/orig', 'wizardv3mr': '//avatars.mds.yandex.net/get-verba/1535139/2a000001692f3192b6b27178cfb99a1c0bd9/wizardv3mr', 'wizardv3': '//avatars.mds.yandex.net/get-verba/1535139/2a000001692f3192b6b27178cfb99a1c0bd9/wizardv3', 'cattouch': '//avatars.mds.yandex.net/get-verba/1535139/2a000001692f3192b6b27178cfb99a1c0bd9/cattouch', 'small': '//avatars.mds.yandex.net/get-verba/1535139/2a000001692f3192b6b27178cfb99a1c0bd9/small', '320x240': '//avatars.mds.yandex.net/get-verba/1535139/2a000001692f3192b6b27178cfb99a1c0bd9/320x240', '1200x900': '//avatars.mds.yandex.net/get-verba/1535139/2a000001692f3192b6b27178cfb99a1c0bd9/1200x900', '1200x900n': '//avatars.mds.yandex.net/get-verba/1535139/2a000001692f3192b6b27178cfb99a1c0bd9/1200x900n', 'thumb_m': '//avatars.mds.yandex.net/get-verba/1535139/2a000001692f3192b6b27178cfb99a1c0bd9/thumb_m', 'full': '//avatars.mds.yandex.net/get-verba/1535139/2a000001692f3192b6b27178cfb99a1c0bd9/full', '832x624': '//avatars.mds.yandex.net/get-verba/1535139/2a000001692f3192b6b27178cfb99a1c0bd9/832x624', '456x342': '//avatars.mds.yandex.net/get-verba/1535139/2a000001692f3192b6b27178cfb99a1c0bd9/456x342', '120x90': '//avatars.mds.yandex.net/get-verba/1535139/2a000001692f3192b6b27178cfb99a1c0bd9/120x90', '92x69': '//avatars.mds.yandex.net/get-verba/1535139/2a000001692f3192b6b27178cfb99a1c0bd9/92x69', 'islandoff': '//avatars.mds.yandex.net/get-verba/1535139/2a000001692f3192b6b27178cfb99a1c0bd9/islandoff', 'thumb_s': '//avatars.mds.yandex.net/get-verba/1535139/2a000001692f3192b6b27178cfb99a1c0bd9/thumb_s', 'thumb_s_2x': '//avatars.mds.yandex.net/get-verba/1535139/2a000001692f3192b6b27178cfb99a1c0bd9/thumb_s_2x', 'auto_main': '//avatars.mds.yandex.net/get-verba/1535139/2a000001692f3192b6b27178cfb99a1c0bd9/auto_main', 'image': '//avatars.mds.yandex.net/get-verba/1535139/2a000001692f3192b6b27178cfb99a1c0bd9/image'}}, {'name': 'side', 'sizes': {'orig': '//avatars.mds.yandex.net/get-verba/787013/2a000001692f31ac4103d044453c3ea01440/orig', 'wizardv3mr': '//avatars.mds.yandex.net/get-verba/787013/2a000001692f31ac4103d044453c3ea01440/wizardv3mr', 'wizardv3': '//avatars.mds.yandex.net/get-verba/787013/2a000001692f31ac4103d044453c3ea01440/wizardv3', 'cattouch': '//avatars.mds.yandex.net/get-verba/787013/2a000001692f31ac4103d044453c3ea01440/cattouch', 'small': '//avatars.mds.yandex.net/get-verba/787013/2a000001692f31ac4103d044453c3ea01440/small', '320x240': '//avatars.mds.yandex.net/get-verba/787013/2a000001692f31ac4103d044453c3ea01440/320x240', '1200x900': '//avatars.mds.yandex.net/get-verba/787013/2a000001692f31ac4103d044453c3ea01440/1200x900', '1200x900n': '//avatars.mds.yandex.net/get-verba/787013/2a000001692f31ac4103d044453c3ea01440/1200x900n', 'thumb_m': '//avatars.mds.yandex.net/get-verba/787013/2a000001692f31ac4103d044453c3ea01440/thumb_m', 'full': '//avatars.mds.yandex.net/get-verba/787013/2a000001692f31ac4103d044453c3ea01440/full', '832x624': '//avatars.mds.yandex.net/get-verba/787013/2a000001692f31ac4103d044453c3ea01440/832x624', '456x342': '//avatars.mds.yandex.net/get-verba/787013/2a000001692f31ac4103d044453c3ea01440/456x342', '120x90': '//avatars.mds.yandex.net/get-verba/787013/2a000001692f31ac4103d044453c3ea01440/120x90', '92x69': '//avatars.mds.yandex.net/get-verba/787013/2a000001692f31ac4103d044453c3ea01440/92x69', 'islandoff': '//avatars.mds.yandex.net/get-verba/787013/2a000001692f31ac4103d044453c3ea01440/islandoff', 'thumb_s': '//avatars.mds.yandex.net/get-verba/787013/2a000001692f31ac4103d044453c3ea01440/thumb_s', 'thumb_s_2x': '//avatars.mds.yandex.net/get-verba/787013/2a000001692f31ac4103d044453c3ea01440/thumb_s_2x', 'auto_main': '//avatars.mds.yandex.net/get-verba/787013/2a000001692f31ac4103d044453c3ea01440/auto_main', 'image': '//avatars.mds.yandex.net/get-verba/787013/2a000001692f31ac4103d044453c3ea01440/image'}}, {'name': 'front', 'sizes': {'orig': '//avatars.mds.yandex.net/get-verba/1540742/2a000001692f31bea7181d760dcae4ffc2c5/orig', 'wizardv3mr': '//avatars.mds.yandex.net/get-verba/1540742/2a000001692f31bea7181d760dcae4ffc2c5/wizardv3mr', 'wizardv3': '//avatars.mds.yandex.net/get-verba/1540742/2a000001692f31bea7181d760dcae4ffc2c5/wizardv3', 'cattouch': '//avatars.mds.yandex.net/get-verba/1540742/2a000001692f31bea7181d760dcae4ffc2c5/cattouch', 'small': '//avatars.mds.yandex.net/get-verba/1540742/2a000001692f31bea7181d760dcae4ffc2c5/small', '320x240': '//avatars.mds.yandex.net/get-verba/1540742/2a000001692f31bea7181d760dcae4ffc2c5/320x240', '1200x900': '//avatars.mds.yandex.net/get-verba/1540742/2a000001692f31bea7181d760dcae4ffc2c5/1200x900', '1200x900n': '//avatars.mds.yandex.net/get-verba/1540742/2a000001692f31bea7181d760dcae4ffc2c5/1200x900n', 'thumb_m': '//avatars.mds.yandex.net/get-verba/1540742/2a000001692f31bea7181d760dcae4ffc2c5/thumb_m', 'full': '//avatars.mds.yandex.net/get-verba/1540742/2a000001692f31bea7181d760dcae4ffc2c5/full', '832x624': '//avatars.mds.yandex.net/get-verba/1540742/2a000001692f31bea7181d760dcae4ffc2c5/832x624', '456x342': '//avatars.mds.yandex.net/get-verba/1540742/2a000001692f31bea7181d760dcae4ffc2c5/456x342', '120x90': '//avatars.mds.yandex.net/get-verba/1540742/2a000001692f31bea7181d760dcae4ffc2c5/120x90', '92x69': '//avatars.mds.yandex.net/get-verba/1540742/2a000001692f31bea7181d760dcae4ffc2c5/92x69', 'islandoff': '//avatars.mds.yandex.net/get-verba/1540742/2a000001692f31bea7181d760dcae4ffc2c5/islandoff', 'thumb_s': '//avatars.mds.yandex.net/get-verba/1540742/2a000001692f31bea7181d760dcae4ffc2c5/thumb_s', 'thumb_s_2x': '//avatars.mds.yandex.net/get-verba/1540742/2a000001692f31bea7181d760dcae4ffc2c5/thumb_s_2x', 'auto_main': '//avatars.mds.yandex.net/get-verba/1540742/2a000001692f31bea7181d760dcae4ffc2c5/auto_main', 'image': '//avatars.mds.yandex.net/get-verba/1540742/2a000001692f31bea7181d760dcae4ffc2c5/image'}}, {'name': 'back', 'sizes': {'orig': '//avatars.mds.yandex.net/get-verba/787013/2a000001692f31ce2f0a8f856c7e605a86c2/orig', 'wizardv3mr': '//avatars.mds.yandex.net/get-verba/787013/2a000001692f31ce2f0a8f856c7e605a86c2/wizardv3mr', 'wizardv3': '//avatars.mds.yandex.net/get-verba/787013/2a000001692f31ce2f0a8f856c7e605a86c2/wizardv3', 'cattouch': '//avatars.mds.yandex.net/get-verba/787013/2a000001692f31ce2f0a8f856c7e605a86c2/cattouch', 'small': '//avatars.mds.yandex.net/get-verba/787013/2a000001692f31ce2f0a8f856c7e605a86c2/small', '320x240': '//avatars.mds.yandex.net/get-verba/787013/2a000001692f31ce2f0a8f856c7e605a86c2/320x240', '1200x900': '//avatars.mds.yandex.net/get-verba/787013/2a000001692f31ce2f0a8f856c7e605a86c2/1200x900', '1200x900n': '//avatars.mds.yandex.net/get-verba/787013/2a000001692f31ce2f0a8f856c7e605a86c2/1200x900n', 'thumb_m': '//avatars.mds.yandex.net/get-verba/787013/2a000001692f31ce2f0a8f856c7e605a86c2/thumb_m', 'full': '//avatars.mds.yandex.net/get-verba/787013/2a000001692f31ce2f0a8f856c7e605a86c2/full', '832x624': '//avatars.mds.yandex.net/get-verba/787013/2a000001692f31ce2f0a8f856c7e605a86c2/832x624', '456x342': '//avatars.mds.yandex.net/get-verba/787013/2a000001692f31ce2f0a8f856c7e605a86c2/456x342', '120x90': '//avatars.mds.yandex.net/get-verba/787013/2a000001692f31ce2f0a8f856c7e605a86c2/120x90', '92x69': '//avatars.mds.yandex.net/get-verba/787013/2a000001692f31ce2f0a8f856c7e605a86c2/92x69', 'islandoff': '//avatars.mds.yandex.net/get-verba/787013/2a000001692f31ce2f0a8f856c7e605a86c2/islandoff', 'thumb_s': '//avatars.mds.yandex.net/get-verba/787013/2a000001692f31ce2f0a8f856c7e605a86c2/thumb_s', 'thumb_s_2x': '//avatars.mds.yandex.net/get-verba/787013/2a000001692f31ce2f0a8f856c7e605a86c2/thumb_s_2x', 'auto_main': '//avatars.mds.yandex.net/get-verba/787013/2a000001692f31ce2f0a8f856c7e605a86c2/auto_main', 'image': '//avatars.mds.yandex.net/get-verba/787013/2a000001692f31ce2f0a8f856c7e605a86c2/image'}}], 'main_color': True}]}                                                                                                    67\n",
       "                                                                                                                                                                                                                                                                                                                                                                                                                                                                                                                                                                                                                                                                                                                                                                                                                                                                                                                                                                                                                                                                                                                                                                                                                                                                                                                                                                                                                                                                                                                                                                                                                                                                                                                                                                                                                                                                                                                                                                                                                                                                                                                                                                                                                                                                                                                                                                                                                                                                                                                                                                                                                                                                                                                                                                                                                                                                                                                                                                                                                                                                                                                                                                                                                                                                                                                                                                                                                                                                                                                                                                                                                                                                                                                                                                                                                                                                                                                                                                                                                                                                                                                                                                                                                                                                                                                                                                                                                                                                                                                                                                                                                                                                                                                                                                                                                                                                                                                                                                                                                                                                                                                                                                                                                                                                                                                                                                                                                                                                                                                                                                                                                                                                                                                                                                                                                                                                                                                                                                                                                                                                                                                                                                                                                                                                                                                                                                                                                                                                                                                                                                                                                                                                                                                                                                                                                                                                                                                                                                                                                                                                                                                                                                                                                                                                                                                                                                                                                                                                                                                                                                                                                                                                                                                                                                                                                                                                                                                                                                                                                                                                                                                                                                                                                                                                                                                                                                                                                                                                                                                                                                                                                                                                                                                                                                                                                                                                                                                                                                                                                                                                                                                                                                                                                                                                                                                                                                                                                                                                                                                                                                                                                                                                                                                                                                                                                                                                                                                                                                                                                                                                                                                                                                                                                                                                                                                                                                                                                                                                                                                                                                                                                                                                                                                                                                                                                                                                                                                                                                                                                                                                                                                                                                                                                                                                                                                                                                                                                                                                                                                                                                                                                                                                                       ...  \n",
       "{'id': '21202735', 'name': 'EXECUTIVE', 'available_options': ['cruise-control', 'multi-wheel', 'airbag-passenger', 'roof-rails', 'lock', 'door-sill-panel', 'electro-mirrors', 'mirrors-heat', 'leather', 'seat-memory', 'front-seats-heat-vent', 'start-stop-function', 'automatic-lighting-control', 'computer', 'seat-transformation', 'wheel-power', 'light-cleaner', 'airbag-rear-side', 'airbag-side', 'electro-trunk', 'abs', 'wheel-leather', 'climate-control-1', 'auto-mirrors', 'esp', 'usb', 'audiopreparation', 'front-centre-armrest', 'rear-camera', 'electro-window-back', '18-inch-wheels', 'park-assist-f', 'rear-seats-heat', 'wheel-heat', 'led-lights', 'park-assist-r', 'knee-airbag', 'airbag-driver', 'isofix', 'aux', 'electro-window-front', 'light-sensor', 'hcc', 'airbag-curtain', 'keyless-entry', 'passenger-seat-electric', 'alarm', 'paint-metallic', 'leather-gear-stick', 'start-button', 'ptf', 'rain-sensor', 'tyre-pressure', 'audiosystem-cd', 'migration-flag', 'front-seats-heat', 'power-child-locks-rear-doors', 'bluetooth', 'wheel-configuration2', 'wheel-configuration1', 'immo', 'windscreen-heat', '12v-socket', 'third-rear-headrest'], 'vendor_colors': [{'body_color_id': 21442005, 'mark_color_id': 21389523, 'name_ru': 'Серебристый', 'hex_codes': ['7D7D81'], 'color_type': 'METALLIC', 'stock_color': {'hex_code': 'CACECB', 'name_ru': 'серебряный'}, 'photos': [{'name': '34-front', 'sizes': {'orig': '//avatars.mds.yandex.net/get-verba/1535139/2a00000169444208fa41f16b1ae042a38c62/orig', 'wizardv3mr': '//avatars.mds.yandex.net/get-verba/1535139/2a00000169444208fa41f16b1ae042a38c62/wizardv3mr', 'wizardv3': '//avatars.mds.yandex.net/get-verba/1535139/2a00000169444208fa41f16b1ae042a38c62/wizardv3', 'cattouch': '//avatars.mds.yandex.net/get-verba/1535139/2a00000169444208fa41f16b1ae042a38c62/cattouch', 'small': '//avatars.mds.yandex.net/get-verba/1535139/2a00000169444208fa41f16b1ae042a38c62/small', '320x240': '//avatars.mds.yandex.net/get-verba/1535139/2a00000169444208fa41f16b1ae042a38c62/320x240', '1200x900': '//avatars.mds.yandex.net/get-verba/1535139/2a00000169444208fa41f16b1ae042a38c62/1200x900', '1200x900n': '//avatars.mds.yandex.net/get-verba/1535139/2a00000169444208fa41f16b1ae042a38c62/1200x900n', 'thumb_m': '//avatars.mds.yandex.net/get-verba/1535139/2a00000169444208fa41f16b1ae042a38c62/thumb_m', 'full': '//avatars.mds.yandex.net/get-verba/1535139/2a00000169444208fa41f16b1ae042a38c62/full', '832x624': '//avatars.mds.yandex.net/get-verba/1535139/2a00000169444208fa41f16b1ae042a38c62/832x624', '456x342': '//avatars.mds.yandex.net/get-verba/1535139/2a00000169444208fa41f16b1ae042a38c62/456x342', '120x90': '//avatars.mds.yandex.net/get-verba/1535139/2a00000169444208fa41f16b1ae042a38c62/120x90', '92x69': '//avatars.mds.yandex.net/get-verba/1535139/2a00000169444208fa41f16b1ae042a38c62/92x69', 'islandoff': '//avatars.mds.yandex.net/get-verba/1535139/2a00000169444208fa41f16b1ae042a38c62/islandoff', 'thumb_s': '//avatars.mds.yandex.net/get-verba/1535139/2a00000169444208fa41f16b1ae042a38c62/thumb_s', 'thumb_s_2x': '//avatars.mds.yandex.net/get-verba/1535139/2a00000169444208fa41f16b1ae042a38c62/thumb_s_2x', 'auto_main': '//avatars.mds.yandex.net/get-verba/1535139/2a00000169444208fa41f16b1ae042a38c62/auto_main', 'image': '//avatars.mds.yandex.net/get-verba/1535139/2a00000169444208fa41f16b1ae042a38c62/image'}}, {'name': '34-back', 'sizes': {'orig': '//avatars.mds.yandex.net/get-verba/1535139/2a0000016944421777bdc7fb696ba97d791e/orig', 'wizardv3mr': '//avatars.mds.yandex.net/get-verba/1535139/2a0000016944421777bdc7fb696ba97d791e/wizardv3mr', 'wizardv3': '//avatars.mds.yandex.net/get-verba/1535139/2a0000016944421777bdc7fb696ba97d791e/wizardv3', 'cattouch': '//avatars.mds.yandex.net/get-verba/1535139/2a0000016944421777bdc7fb696ba97d791e/cattouch', 'small': '//avatars.mds.yandex.net/get-verba/1535139/2a0000016944421777bdc7fb696ba97d791e/small', '320x240': '//avatars.mds.yandex.net/get-verba/1535139/2a0000016944421777bdc7fb696ba97d791e/320x240', '1200x900': '//avatars.mds.yandex.net/get-verba/1535139/2a0000016944421777bdc7fb696ba97d791e/1200x900', '1200x900n': '//avatars.mds.yandex.net/get-verba/1535139/2a0000016944421777bdc7fb696ba97d791e/1200x900n', 'thumb_m': '//avatars.mds.yandex.net/get-verba/1535139/2a0000016944421777bdc7fb696ba97d791e/thumb_m', 'full': '//avatars.mds.yandex.net/get-verba/1535139/2a0000016944421777bdc7fb696ba97d791e/full', '832x624': '//avatars.mds.yandex.net/get-verba/1535139/2a0000016944421777bdc7fb696ba97d791e/832x624', '456x342': '//avatars.mds.yandex.net/get-verba/1535139/2a0000016944421777bdc7fb696ba97d791e/456x342', '120x90': '//avatars.mds.yandex.net/get-verba/1535139/2a0000016944421777bdc7fb696ba97d791e/120x90', '92x69': '//avatars.mds.yandex.net/get-verba/1535139/2a0000016944421777bdc7fb696ba97d791e/92x69', 'islandoff': '//avatars.mds.yandex.net/get-verba/1535139/2a0000016944421777bdc7fb696ba97d791e/islandoff', 'thumb_s': '//avatars.mds.yandex.net/get-verba/1535139/2a0000016944421777bdc7fb696ba97d791e/thumb_s', 'thumb_s_2x': '//avatars.mds.yandex.net/get-verba/1535139/2a0000016944421777bdc7fb696ba97d791e/thumb_s_2x', 'auto_main': '//avatars.mds.yandex.net/get-verba/1535139/2a0000016944421777bdc7fb696ba97d791e/auto_main', 'image': '//avatars.mds.yandex.net/get-verba/1535139/2a0000016944421777bdc7fb696ba97d791e/image'}}, {'name': 'side', 'sizes': {'orig': '//avatars.mds.yandex.net/get-verba/997355/2a00000169444224d09b85d0f5d613158838/orig', 'wizardv3mr': '//avatars.mds.yandex.net/get-verba/997355/2a00000169444224d09b85d0f5d613158838/wizardv3mr', 'wizardv3': '//avatars.mds.yandex.net/get-verba/997355/2a00000169444224d09b85d0f5d613158838/wizardv3', 'cattouch': '//avatars.mds.yandex.net/get-verba/997355/2a00000169444224d09b85d0f5d613158838/cattouch', 'small': '//avatars.mds.yandex.net/get-verba/997355/2a00000169444224d09b85d0f5d613158838/small', '320x240': '//avatars.mds.yandex.net/get-verba/997355/2a00000169444224d09b85d0f5d613158838/320x240', '1200x900': '//avatars.mds.yandex.net/get-verba/997355/2a00000169444224d09b85d0f5d613158838/1200x900', '1200x900n': '//avatars.mds.yandex.net/get-verba/997355/2a00000169444224d09b85d0f5d613158838/1200x900n', 'thumb_m': '//avatars.mds.yandex.net/get-verba/997355/2a00000169444224d09b85d0f5d613158838/thumb_m', 'full': '//avatars.mds.yandex.net/get-verba/997355/2a00000169444224d09b85d0f5d613158838/full', '832x624': '//avatars.mds.yandex.net/get-verba/997355/2a00000169444224d09b85d0f5d613158838/832x624', '456x342': '//avatars.mds.yandex.net/get-verba/997355/2a00000169444224d09b85d0f5d613158838/456x342', '120x90': '//avatars.mds.yandex.net/get-verba/997355/2a00000169444224d09b85d0f5d613158838/120x90', '92x69': '//avatars.mds.yandex.net/get-verba/997355/2a00000169444224d09b85d0f5d613158838/92x69', 'islandoff': '//avatars.mds.yandex.net/get-verba/997355/2a00000169444224d09b85d0f5d613158838/islandoff', 'thumb_s': '//avatars.mds.yandex.net/get-verba/997355/2a00000169444224d09b85d0f5d613158838/thumb_s', 'thumb_s_2x': '//avatars.mds.yandex.net/get-verba/997355/2a00000169444224d09b85d0f5d613158838/thumb_s_2x', 'auto_main': '//avatars.mds.yandex.net/get-verba/997355/2a00000169444224d09b85d0f5d613158838/auto_main', 'image': '//avatars.mds.yandex.net/get-verba/997355/2a00000169444224d09b85d0f5d613158838/image'}}, {'name': 'front', 'sizes': {'orig': '//avatars.mds.yandex.net/get-verba/1535139/2a0000016944423392df81246c137f7053dc/orig', 'wizardv3mr': '//avatars.mds.yandex.net/get-verba/1535139/2a0000016944423392df81246c137f7053dc/wizardv3mr', 'wizardv3': '//avatars.mds.yandex.net/get-verba/1535139/2a0000016944423392df81246c137f7053dc/wizardv3', 'cattouch': '//avatars.mds.yandex.net/get-verba/1535139/2a0000016944423392df81246c137f7053dc/cattouch', 'small': '//avatars.mds.yandex.net/get-verba/1535139/2a0000016944423392df81246c137f7053dc/small', '320x240': '//avatars.mds.yandex.net/get-verba/1535139/2a0000016944423392df81246c137f7053dc/320x240', '1200x900': '//avatars.mds.yandex.net/get-verba/1535139/2a0000016944423392df81246c137f7053dc/1200x900', '1200x900n': '//avatars.mds.yandex.net/get-verba/1535139/2a0000016944423392df81246c137f7053dc/1200x900n', 'thumb_m': '//avatars.mds.yandex.net/get-verba/1535139/2a0000016944423392df81246c137f7053dc/thumb_m', 'full': '//avatars.mds.yandex.net/get-verba/1535139/2a0000016944423392df81246c137f7053dc/full', '832x624': '//avatars.mds.yandex.net/get-verba/1535139/2a0000016944423392df81246c137f7053dc/832x624', '456x342': '//avatars.mds.yandex.net/get-verba/1535139/2a0000016944423392df81246c137f7053dc/456x342', '120x90': '//avatars.mds.yandex.net/get-verba/1535139/2a0000016944423392df81246c137f7053dc/120x90', '92x69': '//avatars.mds.yandex.net/get-verba/1535139/2a0000016944423392df81246c137f7053dc/92x69', 'islandoff': '//avatars.mds.yandex.net/get-verba/1535139/2a0000016944423392df81246c137f7053dc/islandoff', 'thumb_s': '//avatars.mds.yandex.net/get-verba/1535139/2a0000016944423392df81246c137f7053dc/thumb_s', 'thumb_s_2x': '//avatars.mds.yandex.net/get-verba/1535139/2a0000016944423392df81246c137f7053dc/thumb_s_2x', 'auto_main': '//avatars.mds.yandex.net/get-verba/1535139/2a0000016944423392df81246c137f7053dc/auto_main', 'image': '//avatars.mds.yandex.net/get-verba/1535139/2a0000016944423392df81246c137f7053dc/image'}}, {'name': 'back', 'sizes': {'orig': '//avatars.mds.yandex.net/get-verba/787013/2a0000016944423ec288f9538aee31ae4f7c/orig', 'wizardv3mr': '//avatars.mds.yandex.net/get-verba/787013/2a0000016944423ec288f9538aee31ae4f7c/wizardv3mr', 'wizardv3': '//avatars.mds.yandex.net/get-verba/787013/2a0000016944423ec288f9538aee31ae4f7c/wizardv3', 'cattouch': '//avatars.mds.yandex.net/get-verba/787013/2a0000016944423ec288f9538aee31ae4f7c/cattouch', 'small': '//avatars.mds.yandex.net/get-verba/787013/2a0000016944423ec288f9538aee31ae4f7c/small', '320x240': '//avatars.mds.yandex.net/get-verba/787013/2a0000016944423ec288f9538aee31ae4f7c/320x240', '1200x900': '//avatars.mds.yandex.net/get-verba/787013/2a0000016944423ec288f9538aee31ae4f7c/1200x900', '1200x900n': '//avatars.mds.yandex.net/get-verba/787013/2a0000016944423ec288f9538aee31ae4f7c/1200x900n', 'thumb_m': '//avatars.mds.yandex.net/get-verba/787013/2a0000016944423ec288f9538aee31ae4f7c/thumb_m', 'full': '//avatars.mds.yandex.net/get-verba/787013/2a0000016944423ec288f9538aee31ae4f7c/full', '832x624': '//avatars.mds.yandex.net/get-verba/787013/2a0000016944423ec288f9538aee31ae4f7c/832x624', '456x342': '//avatars.mds.yandex.net/get-verba/787013/2a0000016944423ec288f9538aee31ae4f7c/456x342', '120x90': '//avatars.mds.yandex.net/get-verba/787013/2a0000016944423ec288f9538aee31ae4f7c/120x90', '92x69': '//avatars.mds.yandex.net/get-verba/787013/2a0000016944423ec288f9538aee31ae4f7c/92x69', 'islandoff': '//avatars.mds.yandex.net/get-verba/787013/2a0000016944423ec288f9538aee31ae4f7c/islandoff', 'thumb_s': '//avatars.mds.yandex.net/get-verba/787013/2a0000016944423ec288f9538aee31ae4f7c/thumb_s', 'thumb_s_2x': '//avatars.mds.yandex.net/get-verba/787013/2a0000016944423ec288f9538aee31ae4f7c/thumb_s_2x', 'auto_main': '//avatars.mds.yandex.net/get-verba/787013/2a0000016944423ec288f9538aee31ae4f7c/auto_main', 'image': '//avatars.mds.yandex.net/get-verba/787013/2a0000016944423ec288f9538aee31ae4f7c/image'}}], 'main_color': False}]}        1\n",
       "{'id': '21202930', 'name': 'LUXURY', 'available_options': ['cruise-control', 'multi-wheel', 'heated-wash-system', 'airbag-passenger', 'navigation', 'roof-rails', 'lock', 'door-sill-panel', 'electro-mirrors', 'mirrors-heat', 'leather', 'seat-memory', 'front-seats-heat-vent', 'start-stop-function', 'automatic-lighting-control', 'computer', 'seat-transformation', 'wheel-power', 'light-cleaner', 'airbag-rear-side', 'airbag-side', 'electro-trunk', 'abs', 'wheel-leather', 'climate-control-1', 'auto-mirrors', 'esp', 'usb', 'audiopreparation', 'front-centre-armrest', '20-inch-wheels', 'rear-camera', 'electro-window-back', 'hatch', 'park-assist-f', 'rear-seats-heat', 'wheel-heat', 'led-lights', 'music-super', 'park-assist-r', 'knee-airbag', 'airbag-driver', 'isofix', 'aux', 'roller-blinds-for-rear-side-windows', 'electro-window-front', 'light-sensor', 'hcc', 'airbag-curtain', 'keyless-entry', 'passenger-seat-electric', 'alarm', 'leather-gear-stick', 'blind-spot', 'start-button', 'ptf', 'rain-sensor', 'tyre-pressure', 'audiosystem-cd', 'migration-flag', 'front-seats-heat', 'bluetooth', 'wheel-configuration2', 'wheel-configuration1', 'immo', 'windscreen-heat', '12v-socket', 'third-rear-headrest', '360-camera']}                                                                                                                                                                                                                                                                                                                                                                                                                                                                                                                                                                                                                                                                                                                                                                                                                                                                                                                                                                                                                                                                                                                                                                                                                                                                                                                                                                                                                                                                                                                                                                                                                                                                                                                                                                                                                                                                                                                                                                                                                                                                                                                                                                                                                                                                                                                                                                                                                                                                                                                                                                                                                                                                                                                                                                                                                                                                                                                                                                                                                                                                                                                                                                                                                                                                                                                                                                                                                                                                                                                                                                                                                                                                                                                                                                                                                                                                                                                                                                                                                                                                                                                                                                                                                                                                                                                                                                                                                                                                                                                                                                                                                                                                                                                                                                                                                                                                                                                                                                                                                                                                                                                                                                                                                                                                                                                                                                                                                                                                                                                                                                                                                                                                                                                                                                                                                                                                                                                                                                                                                                                                                                                                                                                                                                                                                                                                                                                                                                                                                                                                                                                                                                                                                                                                                                                                                                                                                                                                                                                                                                                                                                                                                                                                                                                                                                                                                                                                                                                                                                                                                                                                                                                                                                                                                                                                                                                                                                                                                                                                                                                                                                                                                                                                                                                                                                                                                                                                                                                                                                                                                                                                                                                                                                                                                                                                                                                                                                                                                                                                                                                                                                                                                                                                                                                                                                                                                                                                                                                                                                                                                                                                                                                                                                                                                                                                                                                                                                                                                                                                                                                                                                                                                                                                                                                                                                                                                                                                                        1\n",
       "{'id': '21202905', 'name': 'EXECUTIVE+', 'available_options': ['cruise-control', 'multi-wheel', 'heated-wash-system', 'airbag-passenger', 'navigation', 'roof-rails', 'lock', 'door-sill-panel', 'electro-mirrors', 'mirrors-heat', 'leather', 'seat-memory', 'front-seats-heat-vent', 'start-stop-function', 'automatic-lighting-control', 'computer', 'seat-transformation', 'wheel-power', 'light-cleaner', 'airbag-rear-side', 'airbag-side', 'electro-trunk', 'abs', 'wheel-leather', 'climate-control-1', 'auto-mirrors', 'esp', 'usb', 'audiopreparation', 'front-centre-armrest', '20-inch-wheels', 'rear-camera', 'electro-window-back', 'hatch', 'park-assist-f', 'rear-seats-heat', 'wheel-heat', 'led-lights', 'music-super', 'park-assist-r', 'knee-airbag', 'airbag-driver', 'isofix', 'aux', 'electro-window-front', 'light-sensor', 'hcc', 'airbag-curtain', 'keyless-entry', 'passenger-seat-electric', 'alarm', 'leather-gear-stick', 'start-button', 'ptf', 'rain-sensor', 'tyre-pressure', 'audiosystem-cd', 'migration-flag', 'front-seats-heat', 'bluetooth', 'wheel-configuration2', 'wheel-configuration1', 'immo', 'windscreen-heat', '12v-socket', 'third-rear-headrest'], 'vendor_colors': [{'body_color_id': 21441967, 'mark_color_id': 21389412, 'name_ru': 'Искрящийся белый', 'hex_codes': ['F7F9F5'], 'color_type': 'METALLIC', 'stock_color': {'hex_code': 'FAFBFB', 'name_ru': 'белый'}, 'photos': [{'name': '34-front', 'sizes': {'orig': '//avatars.mds.yandex.net/get-verba/937147/2a00000169443ec236a38edbd2c73f81eb86/orig', 'wizardv3mr': '//avatars.mds.yandex.net/get-verba/937147/2a00000169443ec236a38edbd2c73f81eb86/wizardv3mr', 'wizardv3': '//avatars.mds.yandex.net/get-verba/937147/2a00000169443ec236a38edbd2c73f81eb86/wizardv3', 'cattouch': '//avatars.mds.yandex.net/get-verba/937147/2a00000169443ec236a38edbd2c73f81eb86/cattouch', 'small': '//avatars.mds.yandex.net/get-verba/937147/2a00000169443ec236a38edbd2c73f81eb86/small', '320x240': '//avatars.mds.yandex.net/get-verba/937147/2a00000169443ec236a38edbd2c73f81eb86/320x240', '1200x900': '//avatars.mds.yandex.net/get-verba/937147/2a00000169443ec236a38edbd2c73f81eb86/1200x900', '1200x900n': '//avatars.mds.yandex.net/get-verba/937147/2a00000169443ec236a38edbd2c73f81eb86/1200x900n', 'thumb_m': '//avatars.mds.yandex.net/get-verba/937147/2a00000169443ec236a38edbd2c73f81eb86/thumb_m', 'full': '//avatars.mds.yandex.net/get-verba/937147/2a00000169443ec236a38edbd2c73f81eb86/full', '832x624': '//avatars.mds.yandex.net/get-verba/937147/2a00000169443ec236a38edbd2c73f81eb86/832x624', '456x342': '//avatars.mds.yandex.net/get-verba/937147/2a00000169443ec236a38edbd2c73f81eb86/456x342', '120x90': '//avatars.mds.yandex.net/get-verba/937147/2a00000169443ec236a38edbd2c73f81eb86/120x90', '92x69': '//avatars.mds.yandex.net/get-verba/937147/2a00000169443ec236a38edbd2c73f81eb86/92x69', 'islandoff': '//avatars.mds.yandex.net/get-verba/937147/2a00000169443ec236a38edbd2c73f81eb86/islandoff', 'thumb_s': '//avatars.mds.yandex.net/get-verba/937147/2a00000169443ec236a38edbd2c73f81eb86/thumb_s', 'thumb_s_2x': '//avatars.mds.yandex.net/get-verba/937147/2a00000169443ec236a38edbd2c73f81eb86/thumb_s_2x', 'auto_main': '//avatars.mds.yandex.net/get-verba/937147/2a00000169443ec236a38edbd2c73f81eb86/auto_main', 'image': '//avatars.mds.yandex.net/get-verba/937147/2a00000169443ec236a38edbd2c73f81eb86/image'}}, {'name': '34-back', 'sizes': {'orig': '//avatars.mds.yandex.net/get-verba/216201/2a00000169443ecefa1c0ce88d958304b40f/orig', 'wizardv3mr': '//avatars.mds.yandex.net/get-verba/216201/2a00000169443ecefa1c0ce88d958304b40f/wizardv3mr', 'wizardv3': '//avatars.mds.yandex.net/get-verba/216201/2a00000169443ecefa1c0ce88d958304b40f/wizardv3', 'cattouch': '//avatars.mds.yandex.net/get-verba/216201/2a00000169443ecefa1c0ce88d958304b40f/cattouch', 'small': '//avatars.mds.yandex.net/get-verba/216201/2a00000169443ecefa1c0ce88d958304b40f/small', '320x240': '//avatars.mds.yandex.net/get-verba/216201/2a00000169443ecefa1c0ce88d958304b40f/320x240', '1200x900': '//avatars.mds.yandex.net/get-verba/216201/2a00000169443ecefa1c0ce88d958304b40f/1200x900', '1200x900n': '//avatars.mds.yandex.net/get-verba/216201/2a00000169443ecefa1c0ce88d958304b40f/1200x900n', 'thumb_m': '//avatars.mds.yandex.net/get-verba/216201/2a00000169443ecefa1c0ce88d958304b40f/thumb_m', 'full': '//avatars.mds.yandex.net/get-verba/216201/2a00000169443ecefa1c0ce88d958304b40f/full', '832x624': '//avatars.mds.yandex.net/get-verba/216201/2a00000169443ecefa1c0ce88d958304b40f/832x624', '456x342': '//avatars.mds.yandex.net/get-verba/216201/2a00000169443ecefa1c0ce88d958304b40f/456x342', '120x90': '//avatars.mds.yandex.net/get-verba/216201/2a00000169443ecefa1c0ce88d958304b40f/120x90', '92x69': '//avatars.mds.yandex.net/get-verba/216201/2a00000169443ecefa1c0ce88d958304b40f/92x69', 'islandoff': '//avatars.mds.yandex.net/get-verba/216201/2a00000169443ecefa1c0ce88d958304b40f/islandoff', 'thumb_s': '//avatars.mds.yandex.net/get-verba/216201/2a00000169443ecefa1c0ce88d958304b40f/thumb_s', 'thumb_s_2x': '//avatars.mds.yandex.net/get-verba/216201/2a00000169443ecefa1c0ce88d958304b40f/thumb_s_2x', 'auto_main': '//avatars.mds.yandex.net/get-verba/216201/2a00000169443ecefa1c0ce88d958304b40f/auto_main', 'image': '//avatars.mds.yandex.net/get-verba/216201/2a00000169443ecefa1c0ce88d958304b40f/image'}}, {'name': 'side', 'sizes': {'orig': '//avatars.mds.yandex.net/get-verba/1540742/2a00000169489813e1c3d633b153f3e687b4/orig', 'wizardv3mr': '//avatars.mds.yandex.net/get-verba/1540742/2a00000169489813e1c3d633b153f3e687b4/wizardv3mr', 'wizardv3': '//avatars.mds.yandex.net/get-verba/1540742/2a00000169489813e1c3d633b153f3e687b4/wizardv3', 'cattouch': '//avatars.mds.yandex.net/get-verba/1540742/2a00000169489813e1c3d633b153f3e687b4/cattouch', 'small': '//avatars.mds.yandex.net/get-verba/1540742/2a00000169489813e1c3d633b153f3e687b4/small', '320x240': '//avatars.mds.yandex.net/get-verba/1540742/2a00000169489813e1c3d633b153f3e687b4/320x240', '1200x900': '//avatars.mds.yandex.net/get-verba/1540742/2a00000169489813e1c3d633b153f3e687b4/1200x900', '1200x900n': '//avatars.mds.yandex.net/get-verba/1540742/2a00000169489813e1c3d633b153f3e687b4/1200x900n', 'thumb_m': '//avatars.mds.yandex.net/get-verba/1540742/2a00000169489813e1c3d633b153f3e687b4/thumb_m', 'full': '//avatars.mds.yandex.net/get-verba/1540742/2a00000169489813e1c3d633b153f3e687b4/full', '832x624': '//avatars.mds.yandex.net/get-verba/1540742/2a00000169489813e1c3d633b153f3e687b4/832x624', '456x342': '//avatars.mds.yandex.net/get-verba/1540742/2a00000169489813e1c3d633b153f3e687b4/456x342', '120x90': '//avatars.mds.yandex.net/get-verba/1540742/2a00000169489813e1c3d633b153f3e687b4/120x90', '92x69': '//avatars.mds.yandex.net/get-verba/1540742/2a00000169489813e1c3d633b153f3e687b4/92x69', 'islandoff': '//avatars.mds.yandex.net/get-verba/1540742/2a00000169489813e1c3d633b153f3e687b4/islandoff', 'thumb_s': '//avatars.mds.yandex.net/get-verba/1540742/2a00000169489813e1c3d633b153f3e687b4/thumb_s', 'thumb_s_2x': '//avatars.mds.yandex.net/get-verba/1540742/2a00000169489813e1c3d633b153f3e687b4/thumb_s_2x', 'auto_main': '//avatars.mds.yandex.net/get-verba/1540742/2a00000169489813e1c3d633b153f3e687b4/auto_main', 'image': '//avatars.mds.yandex.net/get-verba/1540742/2a00000169489813e1c3d633b153f3e687b4/image'}}, {'name': 'front', 'sizes': {'orig': '//avatars.mds.yandex.net/get-verba/997355/2a00000169443ee9f6c0b74876dc6873e1f6/orig', 'wizardv3mr': '//avatars.mds.yandex.net/get-verba/997355/2a00000169443ee9f6c0b74876dc6873e1f6/wizardv3mr', 'wizardv3': '//avatars.mds.yandex.net/get-verba/997355/2a00000169443ee9f6c0b74876dc6873e1f6/wizardv3', 'cattouch': '//avatars.mds.yandex.net/get-verba/997355/2a00000169443ee9f6c0b74876dc6873e1f6/cattouch', 'small': '//avatars.mds.yandex.net/get-verba/997355/2a00000169443ee9f6c0b74876dc6873e1f6/small', '320x240': '//avatars.mds.yandex.net/get-verba/997355/2a00000169443ee9f6c0b74876dc6873e1f6/320x240', '1200x900': '//avatars.mds.yandex.net/get-verba/997355/2a00000169443ee9f6c0b74876dc6873e1f6/1200x900', '1200x900n': '//avatars.mds.yandex.net/get-verba/997355/2a00000169443ee9f6c0b74876dc6873e1f6/1200x900n', 'thumb_m': '//avatars.mds.yandex.net/get-verba/997355/2a00000169443ee9f6c0b74876dc6873e1f6/thumb_m', 'full': '//avatars.mds.yandex.net/get-verba/997355/2a00000169443ee9f6c0b74876dc6873e1f6/full', '832x624': '//avatars.mds.yandex.net/get-verba/997355/2a00000169443ee9f6c0b74876dc6873e1f6/832x624', '456x342': '//avatars.mds.yandex.net/get-verba/997355/2a00000169443ee9f6c0b74876dc6873e1f6/456x342', '120x90': '//avatars.mds.yandex.net/get-verba/997355/2a00000169443ee9f6c0b74876dc6873e1f6/120x90', '92x69': '//avatars.mds.yandex.net/get-verba/997355/2a00000169443ee9f6c0b74876dc6873e1f6/92x69', 'islandoff': '//avatars.mds.yandex.net/get-verba/997355/2a00000169443ee9f6c0b74876dc6873e1f6/islandoff', 'thumb_s': '//avatars.mds.yandex.net/get-verba/997355/2a00000169443ee9f6c0b74876dc6873e1f6/thumb_s', 'thumb_s_2x': '//avatars.mds.yandex.net/get-verba/997355/2a00000169443ee9f6c0b74876dc6873e1f6/thumb_s_2x', 'auto_main': '//avatars.mds.yandex.net/get-verba/997355/2a00000169443ee9f6c0b74876dc6873e1f6/auto_main', 'image': '//avatars.mds.yandex.net/get-verba/997355/2a00000169443ee9f6c0b74876dc6873e1f6/image'}}, {'name': 'back', 'sizes': {'orig': '//avatars.mds.yandex.net/get-verba/937147/2a00000169443ef5d0bc7191df40d1e06c6b/orig', 'wizardv3mr': '//avatars.mds.yandex.net/get-verba/937147/2a00000169443ef5d0bc7191df40d1e06c6b/wizardv3mr', 'wizardv3': '//avatars.mds.yandex.net/get-verba/937147/2a00000169443ef5d0bc7191df40d1e06c6b/wizardv3', 'cattouch': '//avatars.mds.yandex.net/get-verba/937147/2a00000169443ef5d0bc7191df40d1e06c6b/cattouch', 'small': '//avatars.mds.yandex.net/get-verba/937147/2a00000169443ef5d0bc7191df40d1e06c6b/small', '320x240': '//avatars.mds.yandex.net/get-verba/937147/2a00000169443ef5d0bc7191df40d1e06c6b/320x240', '1200x900': '//avatars.mds.yandex.net/get-verba/937147/2a00000169443ef5d0bc7191df40d1e06c6b/1200x900', '1200x900n': '//avatars.mds.yandex.net/get-verba/937147/2a00000169443ef5d0bc7191df40d1e06c6b/1200x900n', 'thumb_m': '//avatars.mds.yandex.net/get-verba/937147/2a00000169443ef5d0bc7191df40d1e06c6b/thumb_m', 'full': '//avatars.mds.yandex.net/get-verba/937147/2a00000169443ef5d0bc7191df40d1e06c6b/full', '832x624': '//avatars.mds.yandex.net/get-verba/937147/2a00000169443ef5d0bc7191df40d1e06c6b/832x624', '456x342': '//avatars.mds.yandex.net/get-verba/937147/2a00000169443ef5d0bc7191df40d1e06c6b/456x342', '120x90': '//avatars.mds.yandex.net/get-verba/937147/2a00000169443ef5d0bc7191df40d1e06c6b/120x90', '92x69': '//avatars.mds.yandex.net/get-verba/937147/2a00000169443ef5d0bc7191df40d1e06c6b/92x69', 'islandoff': '//avatars.mds.yandex.net/get-verba/937147/2a00000169443ef5d0bc7191df40d1e06c6b/islandoff', 'thumb_s': '//avatars.mds.yandex.net/get-verba/937147/2a00000169443ef5d0bc7191df40d1e06c6b/thumb_s', 'thumb_s_2x': '//avatars.mds.yandex.net/get-verba/937147/2a00000169443ef5d0bc7191df40d1e06c6b/thumb_s_2x', 'auto_main': '//avatars.mds.yandex.net/get-verba/937147/2a00000169443ef5d0bc7191df40d1e06c6b/auto_main', 'image': '//avatars.mds.yandex.net/get-verba/937147/2a00000169443ef5d0bc7191df40d1e06c6b/image'}}], 'main_color': False}]}                                   1\n",
       "{'id': '21202892', 'name': 'BLACK ROYAL', 'available_options': ['cruise-control', 'multi-wheel', 'heated-wash-system', 'airbag-passenger', 'roof-rails', 'lock', 'door-sill-panel', 'electro-mirrors', 'mirrors-heat', 'leather', 'seat-memory', 'front-seats-heat-vent', 'start-stop-function', 'automatic-lighting-control', 'computer', 'seat-transformation', 'wheel-power', 'light-cleaner', 'airbag-rear-side', 'airbag-side', 'electro-trunk', 'abs', 'wheel-leather', 'climate-control-1', 'auto-mirrors', 'esp', 'usb', 'audiopreparation', 'front-centre-armrest', '20-inch-wheels', 'rear-camera', 'electro-window-back', 'park-assist-f', 'rear-seats-heat', 'wheel-heat', 'led-lights', 'music-super', 'park-assist-r', 'knee-airbag', 'airbag-driver', 'isofix', 'aux', 'electro-window-front', 'light-sensor', 'hcc', 'airbag-curtain', 'keyless-entry', 'passenger-seat-electric', 'alarm', 'leather-gear-stick', 'start-button', 'ptf', 'rain-sensor', 'tyre-pressure', 'audiosystem-cd', 'migration-flag', 'front-seats-heat', 'bluetooth', 'wheel-configuration2', 'wheel-configuration1', 'immo', 'windscreen-heat', '12v-socket', 'third-rear-headrest'], 'vendor_colors': [{'body_color_id': 21441991, 'mark_color_id': 21389524, 'name_ru': 'Светло-серый', 'hex_codes': ['7E7B7A'], 'color_type': 'METALLIC', 'stock_color': {'hex_code': '97948F', 'name_ru': 'серый'}, 'photos': [{'name': '34-front', 'sizes': {'orig': '//avatars.mds.yandex.net/get-verba/1540742/2a00000169444189ec297686d8d2236b0541/orig', 'wizardv3mr': '//avatars.mds.yandex.net/get-verba/1540742/2a00000169444189ec297686d8d2236b0541/wizardv3mr', 'wizardv3': '//avatars.mds.yandex.net/get-verba/1540742/2a00000169444189ec297686d8d2236b0541/wizardv3', 'cattouch': '//avatars.mds.yandex.net/get-verba/1540742/2a00000169444189ec297686d8d2236b0541/cattouch', 'small': '//avatars.mds.yandex.net/get-verba/1540742/2a00000169444189ec297686d8d2236b0541/small', '320x240': '//avatars.mds.yandex.net/get-verba/1540742/2a00000169444189ec297686d8d2236b0541/320x240', '1200x900': '//avatars.mds.yandex.net/get-verba/1540742/2a00000169444189ec297686d8d2236b0541/1200x900', '1200x900n': '//avatars.mds.yandex.net/get-verba/1540742/2a00000169444189ec297686d8d2236b0541/1200x900n', 'thumb_m': '//avatars.mds.yandex.net/get-verba/1540742/2a00000169444189ec297686d8d2236b0541/thumb_m', 'full': '//avatars.mds.yandex.net/get-verba/1540742/2a00000169444189ec297686d8d2236b0541/full', '832x624': '//avatars.mds.yandex.net/get-verba/1540742/2a00000169444189ec297686d8d2236b0541/832x624', '456x342': '//avatars.mds.yandex.net/get-verba/1540742/2a00000169444189ec297686d8d2236b0541/456x342', '120x90': '//avatars.mds.yandex.net/get-verba/1540742/2a00000169444189ec297686d8d2236b0541/120x90', '92x69': '//avatars.mds.yandex.net/get-verba/1540742/2a00000169444189ec297686d8d2236b0541/92x69', 'islandoff': '//avatars.mds.yandex.net/get-verba/1540742/2a00000169444189ec297686d8d2236b0541/islandoff', 'thumb_s': '//avatars.mds.yandex.net/get-verba/1540742/2a00000169444189ec297686d8d2236b0541/thumb_s', 'thumb_s_2x': '//avatars.mds.yandex.net/get-verba/1540742/2a00000169444189ec297686d8d2236b0541/thumb_s_2x', 'auto_main': '//avatars.mds.yandex.net/get-verba/1540742/2a00000169444189ec297686d8d2236b0541/auto_main', 'image': '//avatars.mds.yandex.net/get-verba/1540742/2a00000169444189ec297686d8d2236b0541/image'}}, {'name': '34-back', 'sizes': {'orig': '//avatars.mds.yandex.net/get-verba/997355/2a000001694441962f0220fe0dcbd76ac98c/orig', 'wizardv3mr': '//avatars.mds.yandex.net/get-verba/997355/2a000001694441962f0220fe0dcbd76ac98c/wizardv3mr', 'wizardv3': '//avatars.mds.yandex.net/get-verba/997355/2a000001694441962f0220fe0dcbd76ac98c/wizardv3', 'cattouch': '//avatars.mds.yandex.net/get-verba/997355/2a000001694441962f0220fe0dcbd76ac98c/cattouch', 'small': '//avatars.mds.yandex.net/get-verba/997355/2a000001694441962f0220fe0dcbd76ac98c/small', '320x240': '//avatars.mds.yandex.net/get-verba/997355/2a000001694441962f0220fe0dcbd76ac98c/320x240', '1200x900': '//avatars.mds.yandex.net/get-verba/997355/2a000001694441962f0220fe0dcbd76ac98c/1200x900', '1200x900n': '//avatars.mds.yandex.net/get-verba/997355/2a000001694441962f0220fe0dcbd76ac98c/1200x900n', 'thumb_m': '//avatars.mds.yandex.net/get-verba/997355/2a000001694441962f0220fe0dcbd76ac98c/thumb_m', 'full': '//avatars.mds.yandex.net/get-verba/997355/2a000001694441962f0220fe0dcbd76ac98c/full', '832x624': '//avatars.mds.yandex.net/get-verba/997355/2a000001694441962f0220fe0dcbd76ac98c/832x624', '456x342': '//avatars.mds.yandex.net/get-verba/997355/2a000001694441962f0220fe0dcbd76ac98c/456x342', '120x90': '//avatars.mds.yandex.net/get-verba/997355/2a000001694441962f0220fe0dcbd76ac98c/120x90', '92x69': '//avatars.mds.yandex.net/get-verba/997355/2a000001694441962f0220fe0dcbd76ac98c/92x69', 'islandoff': '//avatars.mds.yandex.net/get-verba/997355/2a000001694441962f0220fe0dcbd76ac98c/islandoff', 'thumb_s': '//avatars.mds.yandex.net/get-verba/997355/2a000001694441962f0220fe0dcbd76ac98c/thumb_s', 'thumb_s_2x': '//avatars.mds.yandex.net/get-verba/997355/2a000001694441962f0220fe0dcbd76ac98c/thumb_s_2x', 'auto_main': '//avatars.mds.yandex.net/get-verba/997355/2a000001694441962f0220fe0dcbd76ac98c/auto_main', 'image': '//avatars.mds.yandex.net/get-verba/997355/2a000001694441962f0220fe0dcbd76ac98c/image'}}, {'name': 'side', 'sizes': {'orig': '//avatars.mds.yandex.net/get-verba/1540742/2a000001694441a30ff40cb4f21b2d7225a7/orig', 'wizardv3mr': '//avatars.mds.yandex.net/get-verba/1540742/2a000001694441a30ff40cb4f21b2d7225a7/wizardv3mr', 'wizardv3': '//avatars.mds.yandex.net/get-verba/1540742/2a000001694441a30ff40cb4f21b2d7225a7/wizardv3', 'cattouch': '//avatars.mds.yandex.net/get-verba/1540742/2a000001694441a30ff40cb4f21b2d7225a7/cattouch', 'small': '//avatars.mds.yandex.net/get-verba/1540742/2a000001694441a30ff40cb4f21b2d7225a7/small', '320x240': '//avatars.mds.yandex.net/get-verba/1540742/2a000001694441a30ff40cb4f21b2d7225a7/320x240', '1200x900': '//avatars.mds.yandex.net/get-verba/1540742/2a000001694441a30ff40cb4f21b2d7225a7/1200x900', '1200x900n': '//avatars.mds.yandex.net/get-verba/1540742/2a000001694441a30ff40cb4f21b2d7225a7/1200x900n', 'thumb_m': '//avatars.mds.yandex.net/get-verba/1540742/2a000001694441a30ff40cb4f21b2d7225a7/thumb_m', 'full': '//avatars.mds.yandex.net/get-verba/1540742/2a000001694441a30ff40cb4f21b2d7225a7/full', '832x624': '//avatars.mds.yandex.net/get-verba/1540742/2a000001694441a30ff40cb4f21b2d7225a7/832x624', '456x342': '//avatars.mds.yandex.net/get-verba/1540742/2a000001694441a30ff40cb4f21b2d7225a7/456x342', '120x90': '//avatars.mds.yandex.net/get-verba/1540742/2a000001694441a30ff40cb4f21b2d7225a7/120x90', '92x69': '//avatars.mds.yandex.net/get-verba/1540742/2a000001694441a30ff40cb4f21b2d7225a7/92x69', 'islandoff': '//avatars.mds.yandex.net/get-verba/1540742/2a000001694441a30ff40cb4f21b2d7225a7/islandoff', 'thumb_s': '//avatars.mds.yandex.net/get-verba/1540742/2a000001694441a30ff40cb4f21b2d7225a7/thumb_s', 'thumb_s_2x': '//avatars.mds.yandex.net/get-verba/1540742/2a000001694441a30ff40cb4f21b2d7225a7/thumb_s_2x', 'auto_main': '//avatars.mds.yandex.net/get-verba/1540742/2a000001694441a30ff40cb4f21b2d7225a7/auto_main', 'image': '//avatars.mds.yandex.net/get-verba/1540742/2a000001694441a30ff40cb4f21b2d7225a7/image'}}, {'name': 'front', 'sizes': {'orig': '//avatars.mds.yandex.net/get-verba/216201/2a000001694441af15e4f60f3601aff7d0f9/orig', 'wizardv3mr': '//avatars.mds.yandex.net/get-verba/216201/2a000001694441af15e4f60f3601aff7d0f9/wizardv3mr', 'wizardv3': '//avatars.mds.yandex.net/get-verba/216201/2a000001694441af15e4f60f3601aff7d0f9/wizardv3', 'cattouch': '//avatars.mds.yandex.net/get-verba/216201/2a000001694441af15e4f60f3601aff7d0f9/cattouch', 'small': '//avatars.mds.yandex.net/get-verba/216201/2a000001694441af15e4f60f3601aff7d0f9/small', '320x240': '//avatars.mds.yandex.net/get-verba/216201/2a000001694441af15e4f60f3601aff7d0f9/320x240', '1200x900': '//avatars.mds.yandex.net/get-verba/216201/2a000001694441af15e4f60f3601aff7d0f9/1200x900', '1200x900n': '//avatars.mds.yandex.net/get-verba/216201/2a000001694441af15e4f60f3601aff7d0f9/1200x900n', 'thumb_m': '//avatars.mds.yandex.net/get-verba/216201/2a000001694441af15e4f60f3601aff7d0f9/thumb_m', 'full': '//avatars.mds.yandex.net/get-verba/216201/2a000001694441af15e4f60f3601aff7d0f9/full', '832x624': '//avatars.mds.yandex.net/get-verba/216201/2a000001694441af15e4f60f3601aff7d0f9/832x624', '456x342': '//avatars.mds.yandex.net/get-verba/216201/2a000001694441af15e4f60f3601aff7d0f9/456x342', '120x90': '//avatars.mds.yandex.net/get-verba/216201/2a000001694441af15e4f60f3601aff7d0f9/120x90', '92x69': '//avatars.mds.yandex.net/get-verba/216201/2a000001694441af15e4f60f3601aff7d0f9/92x69', 'islandoff': '//avatars.mds.yandex.net/get-verba/216201/2a000001694441af15e4f60f3601aff7d0f9/islandoff', 'thumb_s': '//avatars.mds.yandex.net/get-verba/216201/2a000001694441af15e4f60f3601aff7d0f9/thumb_s', 'thumb_s_2x': '//avatars.mds.yandex.net/get-verba/216201/2a000001694441af15e4f60f3601aff7d0f9/thumb_s_2x', 'auto_main': '//avatars.mds.yandex.net/get-verba/216201/2a000001694441af15e4f60f3601aff7d0f9/auto_main', 'image': '//avatars.mds.yandex.net/get-verba/216201/2a000001694441af15e4f60f3601aff7d0f9/image'}}, {'name': 'back', 'sizes': {'orig': '//avatars.mds.yandex.net/get-verba/1540742/2a000001694441c654a5586a4d602b2ae8eb/orig', 'wizardv3mr': '//avatars.mds.yandex.net/get-verba/1540742/2a000001694441c654a5586a4d602b2ae8eb/wizardv3mr', 'wizardv3': '//avatars.mds.yandex.net/get-verba/1540742/2a000001694441c654a5586a4d602b2ae8eb/wizardv3', 'cattouch': '//avatars.mds.yandex.net/get-verba/1540742/2a000001694441c654a5586a4d602b2ae8eb/cattouch', 'small': '//avatars.mds.yandex.net/get-verba/1540742/2a000001694441c654a5586a4d602b2ae8eb/small', '320x240': '//avatars.mds.yandex.net/get-verba/1540742/2a000001694441c654a5586a4d602b2ae8eb/320x240', '1200x900': '//avatars.mds.yandex.net/get-verba/1540742/2a000001694441c654a5586a4d602b2ae8eb/1200x900', '1200x900n': '//avatars.mds.yandex.net/get-verba/1540742/2a000001694441c654a5586a4d602b2ae8eb/1200x900n', 'thumb_m': '//avatars.mds.yandex.net/get-verba/1540742/2a000001694441c654a5586a4d602b2ae8eb/thumb_m', 'full': '//avatars.mds.yandex.net/get-verba/1540742/2a000001694441c654a5586a4d602b2ae8eb/full', '832x624': '//avatars.mds.yandex.net/get-verba/1540742/2a000001694441c654a5586a4d602b2ae8eb/832x624', '456x342': '//avatars.mds.yandex.net/get-verba/1540742/2a000001694441c654a5586a4d602b2ae8eb/456x342', '120x90': '//avatars.mds.yandex.net/get-verba/1540742/2a000001694441c654a5586a4d602b2ae8eb/120x90', '92x69': '//avatars.mds.yandex.net/get-verba/1540742/2a000001694441c654a5586a4d602b2ae8eb/92x69', 'islandoff': '//avatars.mds.yandex.net/get-verba/1540742/2a000001694441c654a5586a4d602b2ae8eb/islandoff', 'thumb_s': '//avatars.mds.yandex.net/get-verba/1540742/2a000001694441c654a5586a4d602b2ae8eb/thumb_s', 'thumb_s_2x': '//avatars.mds.yandex.net/get-verba/1540742/2a000001694441c654a5586a4d602b2ae8eb/thumb_s_2x', 'auto_main': '//avatars.mds.yandex.net/get-verba/1540742/2a000001694441c654a5586a4d602b2ae8eb/auto_main', 'image': '//avatars.mds.yandex.net/get-verba/1540742/2a000001694441c654a5586a4d602b2ae8eb/image'}}], 'main_color': False}]}                       1\n",
       "{\"id\":\"6336008\",\"name\":\"xDrive20d Локальная сборка\",\"available_options\":[\"multi-wheel\",\"airbag-passenger\",\"roof-rails\",\"lock\",\"electro-mirrors\",\"mirrors-heat\",\"volume-sensor\",\"start-stop-function\",\"computer\",\"seat-transformation\",\"fabric-seats\",\"airbag-side\",\"abs\",\"wheel-leather\",\"climate-control-1\",\"esp\",\"audiopreparation\",\"front-centre-armrest\",\"servo\",\"electro-window-back\",\"17-inch-wheels\",\"wheel-heat\",\"condition\",\"park-assist-r\",\"airbag-driver\",\"isofix\",\"aux\",\"electro-window-front\",\"airbag-curtain\",\"alarm\",\"start-button\",\"ptf\",\"audiosystem-cd\",\"front-seats-heat\",\"wheel-configuration2\",\"wheel-configuration1\",\"immo\",\"third-rear-headrest\"],\"vendor_colors\":[{\"body_color_id\":20609705,\"mark_color_id\":21387534,\"name_ru\":\"Коричневый марракеш\",\"color_type\":\"METALLIC\",\"stock_color\":{\"hex_code\":\"200204\",\"name_ru\":\"коричневый\"},\"photos\":[{\"name\":\"34-front\",\"sizes\":{\"orig\":\"//avatars.mds.yandex.net/get-verba/787013/2a000001609cebce5401dc41613d83de6d34/orig\",\"wizardv3mr\":\"//avatars.mds.yandex.net/get-verba/787013/2a000001609cebce5401dc41613d83de6d34/wizardv3mr\",\"wizardv3\":\"//avatars.mds.yandex.net/get-verba/787013/2a000001609cebce5401dc41613d83de6d34/wizardv3\",\"cattouch\":\"//avatars.mds.yandex.net/get-verba/787013/2a000001609cebce5401dc41613d83de6d34/cattouch\",\"small\":\"//avatars.mds.yandex.net/get-verba/787013/2a000001609cebce5401dc41613d83de6d34/small\",\"320x240\":\"//avatars.mds.yandex.net/get-verba/787013/2a000001609cebce5401dc41613d83de6d34/320x240\",\"1200x900\":\"//avatars.mds.yandex.net/get-verba/787013/2a000001609cebce5401dc41613d83de6d34/1200x900\",\"1200x900n\":\"//avatars.mds.yandex.net/get-verba/787013/2a000001609cebce5401dc41613d83de6d34/1200x900n\",\"thumb_m\":\"//avatars.mds.yandex.net/get-verba/787013/2a000001609cebce5401dc41613d83de6d34/thumb_m\",\"full\":\"//avatars.mds.yandex.net/get-verba/787013/2a000001609cebce5401dc41613d83de6d34/full\",\"832x624\":\"//avatars.mds.yandex.net/get-verba/787013/2a000001609cebce5401dc41613d83de6d34/832x624\",\"456x342\":\"//avatars.mds.yandex.net/get-verba/787013/2a000001609cebce5401dc41613d83de6d34/456x342\",\"120x90\":\"//avatars.mds.yandex.net/get-verba/787013/2a000001609cebce5401dc41613d83de6d34/120x90\",\"92x69\":\"//avatars.mds.yandex.net/get-verba/787013/2a000001609cebce5401dc41613d83de6d34/92x69\",\"islandoff\":\"//avatars.mds.yandex.net/get-verba/787013/2a000001609cebce5401dc41613d83de6d34/islandoff\",\"thumb_s\":\"//avatars.mds.yandex.net/get-verba/787013/2a000001609cebce5401dc41613d83de6d34/thumb_s\",\"thumb_s_2x\":\"//avatars.mds.yandex.net/get-verba/787013/2a000001609cebce5401dc41613d83de6d34/thumb_s_2x\"}},{\"name\":\"34-back\",\"sizes\":{\"orig\":\"//avatars.mds.yandex.net/get-verba/787013/2a000001609cf7975b249218a1129c9d8ac0/orig\",\"wizardv3mr\":\"//avatars.mds.yandex.net/get-verba/787013/2a000001609cf7975b249218a1129c9d8ac0/wizardv3mr\",\"wizardv3\":\"//avatars.mds.yandex.net/get-verba/787013/2a000001609cf7975b249218a1129c9d8ac0/wizardv3\",\"cattouch\":\"//avatars.mds.yandex.net/get-verba/787013/2a000001609cf7975b249218a1129c9d8ac0/cattouch\",\"small\":\"//avatars.mds.yandex.net/get-verba/787013/2a000001609cf7975b249218a1129c9d8ac0/small\",\"320x240\":\"//avatars.mds.yandex.net/get-verba/787013/2a000001609cf7975b249218a1129c9d8ac0/320x240\",\"1200x900\":\"//avatars.mds.yandex.net/get-verba/787013/2a000001609cf7975b249218a1129c9d8ac0/1200x900\",\"1200x900n\":\"//avatars.mds.yandex.net/get-verba/787013/2a000001609cf7975b249218a1129c9d8ac0/1200x900n\",\"thumb_m\":\"//avatars.mds.yandex.net/get-verba/787013/2a000001609cf7975b249218a1129c9d8ac0/thumb_m\",\"full\":\"//avatars.mds.yandex.net/get-verba/787013/2a000001609cf7975b249218a1129c9d8ac0/full\",\"832x624\":\"//avatars.mds.yandex.net/get-verba/787013/2a000001609cf7975b249218a1129c9d8ac0/832x624\",\"456x342\":\"//avatars.mds.yandex.net/get-verba/787013/2a000001609cf7975b249218a1129c9d8ac0/456x342\",\"120x90\":\"//avatars.mds.yandex.net/get-verba/787013/2a000001609cf7975b249218a1129c9d8ac0/120x90\",\"92x69\":\"//avatars.mds.yandex.net/get-verba/787013/2a000001609cf7975b249218a1129c9d8ac0/92x69\",\"islandoff\":\"//avatars.mds.yandex.net/get-verba/787013/2a000001609cf7975b249218a1129c9d8ac0/islandoff\",\"thumb_s\":\"//avatars.mds.yandex.net/get-verba/787013/2a000001609cf7975b249218a1129c9d8ac0/thumb_s\",\"thumb_s_2x\":\"//avatars.mds.yandex.net/get-verba/787013/2a000001609cf7975b249218a1129c9d8ac0/thumb_s_2x\"}},{\"name\":\"side\",\"sizes\":{\"orig\":\"//avatars.mds.yandex.net/get-verba/787013/2a000001609d4d0453197e2f84719f735f86/orig\",\"wizardv3mr\":\"//avatars.mds.yandex.net/get-verba/787013/2a000001609d4d0453197e2f84719f735f86/wizardv3mr\",\"wizardv3\":\"//avatars.mds.yandex.net/get-verba/787013/2a000001609d4d0453197e2f84719f735f86/wizardv3\",\"cattouch\":\"//avatars.mds.yandex.net/get-verba/787013/2a000001609d4d0453197e2f84719f735f86/cattouch\",\"small\":\"//avatars.mds.yandex.net/get-verba/787013/2a000001609d4d0453197e2f84719f735f86/small\",\"320x240\":\"//avatars.mds.yandex.net/get-verba/787013/2a000001609d4d0453197e2f84719f735f86/320x240\",\"1200x900\":\"//avatars.mds.yandex.net/get-verba/787013/2a000001609d4d0453197e2f84719f735f86/1200x900\",\"1200x900n\":\"//avatars.mds.yandex.net/get-verba/787013/2a000001609d4d0453197e2f84719f735f86/1200x900n\",\"thumb_m\":\"//avatars.mds.yandex.net/get-verba/787013/2a000001609d4d0453197e2f84719f735f86/thumb_m\",\"full\":\"//avatars.mds.yandex.net/get-verba/787013/2a000001609d4d0453197e2f84719f735f86/full\",\"832x624\":\"//avatars.mds.yandex.net/get-verba/787013/2a000001609d4d0453197e2f84719f735f86/832x624\",\"456x342\":\"//avatars.mds.yandex.net/get-verba/787013/2a000001609d4d0453197e2f84719f735f86/456x342\",\"120x90\":\"//avatars.mds.yandex.net/get-verba/787013/2a000001609d4d0453197e2f84719f735f86/120x90\",\"92x69\":\"//avatars.mds.yandex.net/get-verba/787013/2a000001609d4d0453197e2f84719f735f86/92x69\",\"islandoff\":\"//avatars.mds.yandex.net/get-verba/787013/2a000001609d4d0453197e2f84719f735f86/islandoff\",\"thumb_s\":\"//avatars.mds.yandex.net/get-verba/787013/2a000001609d4d0453197e2f84719f735f86/thumb_s\",\"thumb_s_2x\":\"//avatars.mds.yandex.net/get-verba/787013/2a000001609d4d0453197e2f84719f735f86/thumb_s_2x\"}},{\"name\":\"front\",\"sizes\":{\"orig\":\"//avatars.mds.yandex.net/get-verba/787013/2a000001609d52e0fbde3d406e6bd9ef03f6/orig\",\"wizardv3mr\":\"//avatars.mds.yandex.net/get-verba/787013/2a000001609d52e0fbde3d406e6bd9ef03f6/wizardv3mr\",\"wizardv3\":\"//avatars.mds.yandex.net/get-verba/787013/2a000001609d52e0fbde3d406e6bd9ef03f6/wizardv3\",\"cattouch\":\"//avatars.mds.yandex.net/get-verba/787013/2a000001609d52e0fbde3d406e6bd9ef03f6/cattouch\",\"small\":\"//avatars.mds.yandex.net/get-verba/787013/2a000001609d52e0fbde3d406e6bd9ef03f6/small\",\"320x240\":\"//avatars.mds.yandex.net/get-verba/787013/2a000001609d52e0fbde3d406e6bd9ef03f6/320x240\",\"1200x900\":\"//avatars.mds.yandex.net/get-verba/787013/2a000001609d52e0fbde3d406e6bd9ef03f6/1200x900\",\"1200x900n\":\"//avatars.mds.yandex.net/get-verba/787013/2a000001609d52e0fbde3d406e6bd9ef03f6/1200x900n\",\"thumb_m\":\"//avatars.mds.yandex.net/get-verba/787013/2a000001609d52e0fbde3d406e6bd9ef03f6/thumb_m\",\"full\":\"//avatars.mds.yandex.net/get-verba/787013/2a000001609d52e0fbde3d406e6bd9ef03f6/full\",\"832x624\":\"//avatars.mds.yandex.net/get-verba/787013/2a000001609d52e0fbde3d406e6bd9ef03f6/832x624\",\"456x342\":\"//avatars.mds.yandex.net/get-verba/787013/2a000001609d52e0fbde3d406e6bd9ef03f6/456x342\",\"120x90\":\"//avatars.mds.yandex.net/get-verba/787013/2a000001609d52e0fbde3d406e6bd9ef03f6/120x90\",\"92x69\":\"//avatars.mds.yandex.net/get-verba/787013/2a000001609d52e0fbde3d406e6bd9ef03f6/92x69\",\"islandoff\":\"//avatars.mds.yandex.net/get-verba/787013/2a000001609d52e0fbde3d406e6bd9ef03f6/islandoff\",\"thumb_s\":\"//avatars.mds.yandex.net/get-verba/787013/2a000001609d52e0fbde3d406e6bd9ef03f6/thumb_s\",\"thumb_s_2x\":\"//avatars.mds.yandex.net/get-verba/787013/2a000001609d52e0fbde3d406e6bd9ef03f6/thumb_s_2x\"}},{\"name\":\"back\",\"sizes\":{\"orig\":\"//avatars.mds.yandex.net/get-verba/787013/2a000001609cfa81568f923c23ecc3e0a21a/orig\",\"wizardv3mr\":\"//avatars.mds.yandex.net/get-verba/787013/2a000001609cfa81568f923c23ecc3e0a21a/wizardv3mr\",\"wizardv3\":\"//avatars.mds.yandex.net/get-verba/787013/2a000001609cfa81568f923c23ecc3e0a21a/wizardv3\",\"cattouch\":\"//avatars.mds.yandex.net/get-verba/787013/2a000001609cfa81568f923c23ecc3e0a21a/cattouch\",\"small\":\"//avatars.mds.yandex.net/get-verba/787013/2a000001609cfa81568f923c23ecc3e0a21a/small\",\"320x240\":\"//avatars.mds.yandex.net/get-verba/787013/2a000001609cfa81568f923c23ecc3e0a21a/320x240\",\"1200x900\":\"//avatars.mds.yandex.net/get-verba/787013/2a000001609cfa81568f923c23ecc3e0a21a/1200x900\",\"1200x900n\":\"//avatars.mds.yandex.net/get-verba/787013/2a000001609cfa81568f923c23ecc3e0a21a/1200x900n\",\"thumb_m\":\"//avatars.mds.yandex.net/get-verba/787013/2a000001609cfa81568f923c23ecc3e0a21a/thumb_m\",\"full\":\"//avatars.mds.yandex.net/get-verba/787013/2a000001609cfa81568f923c23ecc3e0a21a/full\",\"832x624\":\"//avatars.mds.yandex.net/get-verba/787013/2a000001609cfa81568f923c23ecc3e0a21a/832x624\",\"456x342\":\"//avatars.mds.yandex.net/get-verba/787013/2a000001609cfa81568f923c23ecc3e0a21a/456x342\",\"120x90\":\"//avatars.mds.yandex.net/get-verba/787013/2a000001609cfa81568f923c23ecc3e0a21a/120x90\",\"92x69\":\"//avatars.mds.yandex.net/get-verba/787013/2a000001609cfa81568f923c23ecc3e0a21a/92x69\",\"islandoff\":\"//avatars.mds.yandex.net/get-verba/787013/2a000001609cfa81568f923c23ecc3e0a21a/islandoff\",\"thumb_s\":\"//avatars.mds.yandex.net/get-verba/787013/2a000001609cfa81568f923c23ecc3e0a21a/thumb_s\",\"thumb_s_2x\":\"//avatars.mds.yandex.net/get-verba/787013/2a000001609cfa81568f923c23ecc3e0a21a/thumb_s_2x\"}}],\"main_color\":false}]}                                                                                                                                                                                                                                                                                                                                                                                                                                                                                                                                                                                                                                                                                                                                                                                                                                                                                                                                                                                                                                                                                                                                                                                                                                                                                                                                                                                                                                                                                                                                                                                                                                                                                                                                                                                                                                                              1\n",
       "Name: complectation_dict, Length: 6317, dtype: int64"
      ]
     },
     "execution_count": 18,
     "metadata": {},
     "output_type": "execute_result"
    }
   ],
   "source": [
    "data.complectation_dict.value_counts()"
   ]
  },
  {
   "cell_type": "code",
   "execution_count": 19,
   "id": "5937298b",
   "metadata": {},
   "outputs": [],
   "source": [
    "del data['complectation_dict']"
   ]
  },
  {
   "cell_type": "code",
   "execution_count": 20,
   "id": "165fe069",
   "metadata": {},
   "outputs": [
    {
     "data": {
      "text/plain": [
       "{\"leather\":true}                                                                                                                                                                                                                                                                                                                                                                                                                                                                                                                                                                                                                                                                                                                                                                                                                                                                                                                                                                                                                                                                                                                                                                                                          108\n",
       "{\"gbo\":true}                                                                                                                                                                                                                                                                                                                                                                                                                                                                                                                                                                                                                                                                                                                                                                                                                                                                                                                                                                                                                                                                                                                                                                                                              106\n",
       "{\"fabric-seats\":true}                                                                                                                                                                                                                                                                                                                                                                                                                                                                                                                                                                                                                                                                                                                                                                                                                                                                                                                                                                                                                                                                                                                                                                                                      59\n",
       "{\"roof-rails\":true}                                                                                                                                                                                                                                                                                                                                                                                                                                                                                                                                                                                                                                                                                                                                                                                                                                                                                                                                                                                                                                                                                                                                                                                                        37\n",
       "{\"cruise-control\":true,\"esp\":true,\"airbag-driver\":true,\"electro-window-front\":true,\"xenon\":true,\"airbag-passenger\":true,\"computer\":true,\"seat-transformation\":true,\"wheel-power\":true,\"alarm\":true,\"passenger-seat-electric\":true,\"lock\":true,\"electro-mirrors\":true,\"electro-window-back\":true,\"paint-metallic\":true,\"ptf\":true,\"airbag-side\":true,\"mirrors-heat\":true,\"hatch\":true,\"leather\":true,\"abs\":true,\"front-seats-heat\":true,\"wheel-configuration2\":true,\"wheel-configuration1\":true,\"immo\":true,\"climate-control-1\":true,\"music-super\":true}                                                                                                                                                                                                                                                                                                                                                                                                                                                                                                                                                                                                                                                                    21\n",
       "                                                                                                                                                                                                                                                                                                                                                                                                                                                                                                                                                                                                                                                                                                                                                                                                                                                                                                                                                                                                                                                                                                                                                                                                                         ... \n",
       "{\"airbag-passenger\":true,\"airbag-rear-side\":true,\"asr\":true,\"tinted-glass\":true,\"abs\":true,\"ptf\":true,\"airbag-driver\":true,\"airbag-side\":true,\"immo\":true,\"fabric-seats\":true,\"knee-airbag\":true}                                                                                                                                                                                                                                                                                                                                                                                                                                                                                                                                                                                                                                                                                                                                                                                                                                                                                                                                                                                                                           1\n",
       "{\"steel-wheels\":true,\"ptf\":true,\"airbag-driver\":true,\"aux\":true,\"usb\":true,\"isofix\":true,\"electro-window-front\":true,\"audiosystem-cd\":true,\"airbag-passenger\":true,\"driver-seat-updown\":true,\"condition\":true,\"abs\":true,\"bluetooth\":true,\"roof-rails\":true,\"seat-transformation\":true,\"wheel-power\":true,\"wheel-configuration1\":true,\"immo\":true,\"lock\":true,\"12v-socket\":true,\"fabric-seats\":true}                                                                                                                                                                                                                                                                                                                                                                                                                                                                                                                                                                                                                                                                                                                                                                                                                        1\n",
       "{\"cruise-control\":true,\"asr\":true,\"tinted-glass\":true,\"esp\":true,\"usb\":true,\"multi-wheel\":true,\"spare-wheel\":true,\"audiosystem-tv\":true,\"airbag-passenger\":true,\"front-centre-armrest\":true,\"navigation\":true,\"apple-carplay\":true,\"front-seat-support\":true,\"bas\":true,\"lock\":true,\"rear-camera\":true,\"drl\":true,\"electro-mirrors\":true,\"electro-window-back\":true,\"easy-trunk-opening\":true,\"mirrors-heat\":true,\"17-inch-wheels\":true,\"park-assist-f\":true,\"wheel-heat\":true,\"park-assist-r\":true,\"glonass\":true,\"airbag-driver\":true,\"aux\":true,\"isofix\":true,\"electro-window-front\":true,\"light-sensor\":true,\"hcc\":true,\"airbag-curtain\":true,\"passenger-seat-updown\":true,\"computer\":true,\"keyless-entry\":true,\"ya-auto\":true,\"seat-transformation\":true,\"android-auto\":true,\"wheel-power\":true,\"dha\":true,\"fabric-seats\":true,\"ptf\":true,\"leather-gear-stick\":true,\"start-button\":true,\"rain-sensor\":true,\"airbag-side\":true,\"electro-trunk\":true,\"abs\":true,\"bluetooth\":true,\"front-seats-heat\":true,\"wheel-leather\":true,\"wheel-configuration2\":true,\"wheel-configuration1\":true,\"immo\":true,\"windscreen-heat\":true,\"climate-control-2\":true,\"auto-mirrors\":true,\"12v-socket\":true,\"third-rear-headrest\":true}      1\n",
       "{\"front-seats-heat\":true,\"wheel-power\":true,\"fabric-seats\":true}                                                                                                                                                                                                                                                                                                                                                                                                                                                                                                                                                                                                                                                                                                                                                                                                                                                                                                                                                                                                                                                                                                                                                            1\n",
       "{\"alloy-wheel-disks\":true,\"navigation\":true,\"ptf\":true,\"airbrush\":true,\"aux\":true,\"20-inch-wheels\":true,\"dark-interior\":true,\"xenon\":true,\"leather\":true,\"seat-memory\":true}                                                                                                                                                                                                                                                                                                                                                                                                                                                                                                                                                                                                                                                                                                                                                                                                                                                                                                                                                                                                                                                1\n",
       "Name: equipment_dict, Length: 23705, dtype: int64"
      ]
     },
     "execution_count": 20,
     "metadata": {},
     "output_type": "execute_result"
    }
   ],
   "source": [
    "data[data['is_val'] == '0'].equipment_dict.value_counts()"
   ]
  },
  {
   "cell_type": "code",
   "execution_count": 21,
   "id": "24fe8c2b",
   "metadata": {},
   "outputs": [
    {
     "data": {
      "text/plain": [
       "{}                                                                                                                                                                                                                                                                                                                                                                                                                                                                                                                                                                                                                                                                                                                                                                                                                                                                                                                                                                                                                                                                                                                                                                                                                                                                                                                                                                                                                                                                                                                                                                                                                                                                                                                                                                                                                                                                                                                                                                                                                                                                                                                                      25869\n",
       "{'alarm': True}                                                                                                                                                                                                                                                                                                                                                                                                                                                                                                                                                                                                                                                                                                                                                                                                                                                                                                                                                                                                                                                                                                                                                                                                                                                                                                                                                                                                                                                                                                                                                                                                                                                                                                                                                                                                                                                                                                                                                                                                                                                                                                                           557\n",
       "{'gbo': True}                                                                                                                                                                                                                                                                                                                                                                                                                                                                                                                                                                                                                                                                                                                                                                                                                                                                                                                                                                                                                                                                                                                                                                                                                                                                                                                                                                                                                                                                                                                                                                                                                                                                                                                                                                                                                                                                                                                                                                                                                                                                                                                             299\n",
       "{'condition': True}                                                                                                                                                                                                                                                                                                                                                                                                                                                                                                                                                                                                                                                                                                                                                                                                                                                                                                                                                                                                                                                                                                                                                                                                                                                                                                                                                                                                                                                                                                                                                                                                                                                                                                                                                                                                                                                                                                                                                                                                                                                                                                                       255\n",
       "{'leather': True}                                                                                                                                                                                                                                                                                                                                                                                                                                                                                                                                                                                                                                                                                                                                                                                                                                                                                                                                                                                                                                                                                                                                                                                                                                                                                                                                                                                                                                                                                                                                                                                                                                                                                                                                                                                                                                                                                                                                                                                                                                                                                                                         245\n",
       "                                                                                                                                                                                                                                                                                                                                                                                                                                                                                                                                                                                                                                                                                                                                                                                                                                                                                                                                                                                                                                                                                                                                                                                                                                                                                                                                                                                                                                                                                                                                                                                                                                                                                                                                                                                                                                                                                                                                                                                                                                                                                                                                        ...  \n",
       "{'asr': True, 'tinted-glass': True, 'esp': True, 'adaptive-light': True, 'usb': True, 'e-adjustment-wheel': True, 'multi-wheel': True, 'heated-wash-system': True, 'ashtray-and-cigarette-lighter': True, 'airbag-passenger': True, 'navigation': True, 'decorative-interior-lighting': True, 'rear-camera': True, 'lock': True, 'air-suspension': True, 'electro-mirrors': True, 'drl': True, 'steering-wheel-gear-shift-paddles': True, 'multizone-climate-control': True, 'power-latching-doors': True, 'volume-sensor': True, 'dark-interior': True, 'park-assist-f': True, 'leather': True, '19-inch-wheels': True, 'wheel-heat': True, 'led-lights': True, 'driver-seat-memory': True, 'park-assist-r': True, 'start-stop-function': True, 'airbag-driver': True, 'aux': True, 'drive-mode-sys': True, 'light-sensor': True, 'automatic-lighting-control': True, 'high-beam-assist': True, 'keyless-entry': True, 'android-auto': True, 'wheel-power': True, 'light-cleaner': True, 'alloy-wheel-disks': True, 'leather-gear-stick': True, 'start-button': True, 'ptf': True, 'rain-sensor': True, 'airbag-side': True, 'tyre-pressure': True, 'voice-recognition': True, 'panorama-roof': True, 'electro-trunk': True, 'auto-cruise': True, 'abs': True, 'power-child-locks-rear-doors': True, 'bluetooth': True, 'wheel-leather': True, 'immo': True, 'auto-mirrors': True, 'black-roof': True}                                                                                                                                                                                                                                                                                                                                                                                                                                                                                                                                                                                                                                                                                                                                     1\n",
       "{'cruise-control': True, 'asr': True, 'tinted-glass': True, 'roller-blind-for-rear-window': True, 'esp': True, 'adaptive-light': True, 'usb': True, 'e-adjustment-wheel': True, 'multi-wheel': True, 'auto-park': True, 'audiosystem-tv': True, 'lane-keeping-assist': True, 'airbag-passenger': True, 'front-centre-armrest': True, 'navigation': True, 'apple-carplay': True, 'front-seat-support': True, 'decorative-interior-lighting': True, 'bas': True, 'lock': True, 'rear-camera': True, 'wheel-memory': True, 'servo': True, 'electro-mirrors': True, 'steering-wheel-gear-shift-paddles': True, 'electro-window-back': True, 'multizone-climate-control': True, 'mirrors-heat': True, 'volume-sensor': True, 'folding-front-passenger-seat': True, 'rear-seats-heat': True, 'cooling-box': True, 'leather': True, 'seat-memory': True, '19-inch-wheels': True, 'wheel-heat': True, 'led-lights': True, 'music-super': True, 'electro-rear-seat': True, 'knee-airbag': True, 'engine-proof': True, 'glonass': True, 'wireless-charger': True, 'airbag-driver': True, 'isofix': True, 'aux': True, 'roller-blinds-for-rear-side-windows': True, 'drive-mode-sys': True, 'electro-window-front': True, 'light-sensor': True, 'hcc': True, 'drowsy-driver-alert-system': True, 'automatic-lighting-control': True, 'airbag-curtain': True, 'passenger-seat-updown': True, 'collision-prevention-assist': True, 'computer': True, 'high-beam-assist': True, 'keyless-entry': True, 'android-auto': True, 'entertainment-system-for-rear-seat-passengers': True, 'passenger-seat-electric': True, 'alarm': True, 'light-cleaner': True, 'alloy-wheel-disks': True, 'blind-spot': True, 'traffic-sign-recognition': True, 'start-button': True, 'ptf': True, 'rain-sensor': True, 'airbag-side': True, 'seats-5': True, 'tyre-pressure': True, 'voice-recognition': True, 'panorama-roof': True, 'abs': True, 'front-seats-heat': True, 'power-child-locks-rear-doors': True, 'bluetooth': True, 'wheel-leather': True, 'immo': True, 'auto-mirrors': True, '12v-socket': True, 'third-rear-headrest': True, 'black-roof': True}        1\n",
       "{'cruise-control': True, 'tinted-glass': True, 'esp': True, 'windcleaner-heat': True, 'e-adjustment-wheel': True, 'multi-wheel': True, 'xenon': True, 'spare-wheel': True, 'audiosystem-tv': True, 'heated-wash-system': True, 'airbag-passenger': True, 'front-centre-armrest': True, 'navigation': True, 'bas': True, 'lock': True, 'wheel-memory': True, 'drl': True, 'electro-mirrors': True, 'electro-window-back': True, 'driver-seat-support': True, '18-inch-wheels': True, 'multizone-climate-control': True, 'mirrors-heat': True, 'volume-sensor': True, 'hatch': True, 'park-assist-f': True, 'rear-seats-heat': True, 'leather': True, 'wheel-heat': True, 'electro-rear-seat': True, 'park-assist-r': True, 'knee-airbag': True, 'engine-proof': True, 'airbag-driver': True, 'isofix': True, 'aux': True, 'electro-window-front': True, 'automatic-lighting-control': True, 'airbag-curtain': True, 'passenger-seat-updown': True, 'computer': True, 'keyless-entry': True, 'wheel-power': True, 'passenger-seat-electric': True, 'light-cleaner': True, 'airbag-rear-side': True, 'alloy-wheel-disks': True, 'seats-5': True, 'airbag-side': True, 'audiosystem-cd': True, 'abs': True, 'bluetooth': True, 'front-seats-heat': True, 'wheel-leather': True, 'immo': True, 'auto-mirrors': True, '12v-socket': True}                                                                                                                                                                                                                                                                                                                                                                                                                                                                                                                                                                                                                                                                                                                                                                                                         1\n",
       "{'cruise-control': True, 'electro-window-back': True, 'ptf': True, 'eco-leather': True, 'sport-seats': True, 'electro-window-front': True, 'ashtray-and-cigarette-lighter': True, 'passenger-seat-updown': True, 'front-centre-armrest': True, 'high-beam-assist': True, 'front-seat-support': True, 'abs': True, 'wheel-power': True, 'passenger-seat-electric': True, 'light-interior': True, 'climate-control-1': True, 'third-rear-headrest': True, 'activ-suspension': True, 'electro-mirrors': True}                                                                                                                                                                                                                                                                                                                                                                                                                                                                                                                                                                                                                                                                                                                                                                                                                                                                                                                                                                                                                                                                                                                                                                                                                                                                                                                                                                                                                                                                                                                                                                                                                                  1\n",
       "{\"alloy-wheel-disks\":true,\"navigation\":true,\"ptf\":true,\"airbrush\":true,\"aux\":true,\"20-inch-wheels\":true,\"dark-interior\":true,\"xenon\":true,\"leather\":true,\"seat-memory\":true}                                                                                                                                                                                                                                                                                                                                                                                                                                                                                                                                                                                                                                                                                                                                                                                                                                                                                                                                                                                                                                                                                                                                                                                                                                                                                                                                                                                                                                                                                                                                                                                                                                                                                                                                                                                                                                                                                                                                                                1\n",
       "Name: equipment_dict, Length: 73549, dtype: int64"
      ]
     },
     "execution_count": 21,
     "metadata": {},
     "output_type": "execute_result"
    }
   ],
   "source": [
    "data.equipment_dict.value_counts()"
   ]
  },
  {
   "cell_type": "markdown",
   "id": "a76dcac2",
   "metadata": {},
   "source": [
    "Около 60К путое ..."
   ]
  },
  {
   "cell_type": "code",
   "execution_count": 22,
   "id": "8562340c",
   "metadata": {},
   "outputs": [],
   "source": [
    "del data['equipment_dict']"
   ]
  },
  {
   "cell_type": "code",
   "execution_count": 23,
   "id": "27de5d9e",
   "metadata": {},
   "outputs": [
    {
     "data": {
      "text/plain": [
       "(34686, 33)"
      ]
     },
     "execution_count": 23,
     "metadata": {},
     "output_type": "execute_result"
    }
   ],
   "source": [
    "data[data['is_val']=='0'].shape"
   ]
  },
  {
   "cell_type": "code",
   "execution_count": 24,
   "id": "aca82ce3",
   "metadata": {},
   "outputs": [
    {
     "data": {
      "text/plain": [
       "Unnamed: 0.1            34686\n",
       "bodyType                    0\n",
       "brand                       0\n",
       "car_url                     0\n",
       "color                       0\n",
       "description                 0\n",
       "engineDisplacement          0\n",
       "enginePower                 0\n",
       "fuelType                    0\n",
       "image                       0\n",
       "mileage                     0\n",
       "modelDate                   0\n",
       "model_info                  0\n",
       "model_name                  0\n",
       "name                        0\n",
       "numberOfDoors               0\n",
       "parsing_unixtime            0\n",
       "priceCurrency               0\n",
       "productionDate              0\n",
       "sell_id                     0\n",
       "super_gen                   0\n",
       "vehicleConfiguration        0\n",
       "vehicleTransmission         0\n",
       "vendor                      0\n",
       "Владельцы                   0\n",
       "Владение                22691\n",
       "ПТС                         1\n",
       "Привод                      0\n",
       "Руль                        0\n",
       "Состояние                   0\n",
       "Таможня                     0\n",
       "price                       0\n",
       "is_val                      0\n",
       "dtype: int64"
      ]
     },
     "execution_count": 24,
     "metadata": {},
     "output_type": "execute_result"
    }
   ],
   "source": [
    "data.isnull().sum()"
   ]
  },
  {
   "cell_type": "code",
   "execution_count": 25,
   "id": "527d1704",
   "metadata": {},
   "outputs": [
    {
     "data": {
      "text/plain": [
       "0                        0\n",
       "1                        0\n",
       "2                        0\n",
       "3                        0\n",
       "4                        0\n",
       "                ...       \n",
       "116848    2 года и 1 месяц\n",
       "116849                 NaN\n",
       "116850                 NaN\n",
       "116851                 NaN\n",
       "116852     6 лет и 1 месяц\n",
       "Name: Владение, Length: 116853, dtype: object"
      ]
     },
     "execution_count": 25,
     "metadata": {},
     "output_type": "execute_result"
    }
   ],
   "source": [
    "data['Владение']"
   ]
  },
  {
   "cell_type": "code",
   "execution_count": 26,
   "id": "3321a107",
   "metadata": {},
   "outputs": [],
   "source": [
    "del data['Владение']"
   ]
  },
  {
   "cell_type": "code",
   "execution_count": 27,
   "id": "f1df2bf0",
   "metadata": {},
   "outputs": [
    {
     "data": {
      "text/plain": [
       "Оригинал            97846\n",
       "Дубликат            19003\n",
       "ą×čĆąĖą│ąĖąĮą░ą╗        2\n",
       "абаИаГаИаНаАаЛ        1\n",
       "Name: ПТС, dtype: int64"
      ]
     },
     "execution_count": 27,
     "metadata": {},
     "output_type": "execute_result"
    }
   ],
   "source": [
    "data['ПТС'].value_counts()"
   ]
  },
  {
   "cell_type": "code",
   "execution_count": 28,
   "id": "4bb301cf",
   "metadata": {},
   "outputs": [],
   "source": [
    "data['ПТС'] = data['ПТС'].fillna('Оригинал')"
   ]
  },
  {
   "cell_type": "code",
   "execution_count": 29,
   "id": "896df6d9",
   "metadata": {},
   "outputs": [],
   "source": [
    "timArr = data['ПТС'].value_counts().index[2:]\n",
    "\n",
    "data['ПТС'] = data['ПТС'].apply(lambda x : 'Оригинал' if x in timArr \\\n",
    "                 else x)"
   ]
  },
  {
   "cell_type": "code",
   "execution_count": null,
   "id": "964d70f0",
   "metadata": {},
   "outputs": [],
   "source": []
  },
  {
   "cell_type": "code",
   "execution_count": 30,
   "id": "5f1a8fe8",
   "metadata": {},
   "outputs": [
    {
     "data": {
      "text/plain": [
       "Unnamed: 0.1            34686\n",
       "bodyType                    0\n",
       "brand                       0\n",
       "car_url                     0\n",
       "color                       0\n",
       "description                 0\n",
       "engineDisplacement          0\n",
       "enginePower                 0\n",
       "fuelType                    0\n",
       "image                       0\n",
       "mileage                     0\n",
       "modelDate                   0\n",
       "model_info                  0\n",
       "model_name                  0\n",
       "name                        0\n",
       "numberOfDoors               0\n",
       "parsing_unixtime            0\n",
       "priceCurrency               0\n",
       "productionDate              0\n",
       "sell_id                     0\n",
       "super_gen                   0\n",
       "vehicleConfiguration        0\n",
       "vehicleTransmission         0\n",
       "vendor                      0\n",
       "Владельцы                   0\n",
       "ПТС                         0\n",
       "Привод                      0\n",
       "Руль                        0\n",
       "Состояние                   0\n",
       "Таможня                     0\n",
       "price                       0\n",
       "is_val                      0\n",
       "dtype: int64"
      ]
     },
     "execution_count": 30,
     "metadata": {},
     "output_type": "execute_result"
    }
   ],
   "source": [
    "data.isnull().sum()"
   ]
  },
  {
   "cell_type": "code",
   "execution_count": 31,
   "id": "d7cd8626",
   "metadata": {},
   "outputs": [
    {
     "data": {
      "text/plain": [
       "(34686, 32)"
      ]
     },
     "execution_count": 31,
     "metadata": {},
     "output_type": "execute_result"
    }
   ],
   "source": [
    "data[data['is_val']=='0'].shape"
   ]
  },
  {
   "cell_type": "code",
   "execution_count": 32,
   "id": "3c0c67e3",
   "metadata": {},
   "outputs": [
    {
     "data": {
      "text/plain": [
       "седан                             42220\n",
       "внедорожник 5 дв.                 41884\n",
       "хэтчбек 5 дв.                      7856\n",
       "лифтбек                            6545\n",
       "универсал 5 дв.                    4829\n",
       "минивэн                            4080\n",
       "купе                               2379\n",
       "компактвэн                         2351\n",
       "хэтчбек 3 дв.                      1312\n",
       "пикап двойная кабина               1119\n",
       "купе-хардтоп                        478\n",
       "фургон                              469\n",
       "внедорожник 3 дв.                   429\n",
       "родстер                             295\n",
       "кабриолет                           288\n",
       "седан-хардтоп                       139\n",
       "микровэн                             81\n",
       "пикап одинарная кабина               28\n",
       "седан 2 дв.                          27\n",
       "пикап полуторная кабина              19\n",
       "лимузин                              13\n",
       "внедорожник открытый                  5\n",
       "тарга                                 3\n",
       "ą▓ąĮąĄą┤ąŠčĆąŠąČąĮąĖą║ 5 ą┤ą▓.        2\n",
       "аВаНаЕаДаОбаОаЖаНаИаК 5 аДаВ.        1\n",
       "фастбек                               1\n",
       "Name: bodyType, dtype: int64"
      ]
     },
     "execution_count": 32,
     "metadata": {},
     "output_type": "execute_result"
    }
   ],
   "source": [
    "data['bodyType'].value_counts()"
   ]
  },
  {
   "cell_type": "code",
   "execution_count": 33,
   "id": "cc15422b",
   "metadata": {},
   "outputs": [],
   "source": [
    "timArr = data['bodyType'].value_counts().index[-3:-1]\n",
    "\n",
    "for item in timArr:\n",
    "    data.drop(data[data.bodyType == item].index, inplace=True)"
   ]
  },
  {
   "cell_type": "code",
   "execution_count": null,
   "id": "dd5ca4cc",
   "metadata": {},
   "outputs": [],
   "source": []
  },
  {
   "cell_type": "code",
   "execution_count": 34,
   "id": "c9d1986c",
   "metadata": {},
   "outputs": [
    {
     "data": {
      "text/plain": [
       "седан                      42220\n",
       "внедорожник 5 дв.          41884\n",
       "хэтчбек 5 дв.               7856\n",
       "лифтбек                     6545\n",
       "универсал 5 дв.             4829\n",
       "минивэн                     4080\n",
       "купе                        2379\n",
       "компактвэн                  2351\n",
       "хэтчбек 3 дв.               1312\n",
       "пикап двойная кабина        1119\n",
       "купе-хардтоп                 478\n",
       "фургон                       469\n",
       "внедорожник 3 дв.            429\n",
       "родстер                      295\n",
       "кабриолет                    288\n",
       "седан-хардтоп                139\n",
       "микровэн                      81\n",
       "пикап одинарная кабина        28\n",
       "седан 2 дв.                   27\n",
       "пикап полуторная кабина       19\n",
       "лимузин                       13\n",
       "внедорожник открытый           5\n",
       "тарга                          3\n",
       "фастбек                        1\n",
       "Name: bodyType, dtype: int64"
      ]
     },
     "execution_count": 34,
     "metadata": {},
     "output_type": "execute_result"
    }
   ],
   "source": [
    "data['bodyType'].value_counts()"
   ]
  },
  {
   "cell_type": "code",
   "execution_count": 35,
   "id": "bd9f03c4",
   "metadata": {},
   "outputs": [
    {
     "data": {
      "text/plain": [
       "TOYOTA        18417\n",
       "VOLKSWAGEN    15361\n",
       "MERCEDES      14905\n",
       "NISSAN        14765\n",
       "BMW           13684\n",
       "AUDI           9395\n",
       "MITSUBISHI     8802\n",
       "SKODA          7756\n",
       "HONDA          4795\n",
       "LEXUS          3441\n",
       "VOLVO          3439\n",
       "INFINITI       2090\n",
       "Name: brand, dtype: int64"
      ]
     },
     "execution_count": 35,
     "metadata": {},
     "output_type": "execute_result"
    }
   ],
   "source": [
    "data.brand.value_counts()"
   ]
  },
  {
   "cell_type": "code",
   "execution_count": 36,
   "id": "dba8bfc8",
   "metadata": {},
   "outputs": [
    {
     "data": {
      "text/plain": [
       "чёрный         34278\n",
       "белый          24355\n",
       "серый          14951\n",
       "серебристый    13664\n",
       "синий          10424\n",
       "красный         5076\n",
       "коричневый      4364\n",
       "зелёный         3160\n",
       "бежевый         1923\n",
       "голубой         1353\n",
       "золотистый       834\n",
       "пурпурный        827\n",
       "фиолетовый       683\n",
       "жёлтый           528\n",
       "оранжевый        384\n",
       "розовый           46\n",
       "Name: color, dtype: int64"
      ]
     },
     "execution_count": 36,
     "metadata": {},
     "output_type": "execute_result"
    }
   ],
   "source": [
    "data.color.value_counts()"
   ]
  },
  {
   "cell_type": "code",
   "execution_count": 37,
   "id": "9be83478",
   "metadata": {},
   "outputs": [
    {
     "data": {
      "text/html": [
       "<div>\n",
       "<style scoped>\n",
       "    .dataframe tbody tr th:only-of-type {\n",
       "        vertical-align: middle;\n",
       "    }\n",
       "\n",
       "    .dataframe tbody tr th {\n",
       "        vertical-align: top;\n",
       "    }\n",
       "\n",
       "    .dataframe thead th {\n",
       "        text-align: right;\n",
       "    }\n",
       "</style>\n",
       "<table border=\"1\" class=\"dataframe\">\n",
       "  <thead>\n",
       "    <tr style=\"text-align: right;\">\n",
       "      <th></th>\n",
       "      <th>Unnamed: 0.1</th>\n",
       "      <th>bodyType</th>\n",
       "      <th>brand</th>\n",
       "      <th>car_url</th>\n",
       "      <th>color</th>\n",
       "      <th>description</th>\n",
       "      <th>engineDisplacement</th>\n",
       "      <th>enginePower</th>\n",
       "      <th>fuelType</th>\n",
       "      <th>image</th>\n",
       "      <th>...</th>\n",
       "      <th>vehicleTransmission</th>\n",
       "      <th>vendor</th>\n",
       "      <th>Владельцы</th>\n",
       "      <th>ПТС</th>\n",
       "      <th>Привод</th>\n",
       "      <th>Руль</th>\n",
       "      <th>Состояние</th>\n",
       "      <th>Таможня</th>\n",
       "      <th>price</th>\n",
       "      <th>is_val</th>\n",
       "    </tr>\n",
       "  </thead>\n",
       "  <tbody>\n",
       "    <tr>\n",
       "      <th>0</th>\n",
       "      <td>0.0</td>\n",
       "      <td>универсал 5 дв.</td>\n",
       "      <td>SKODA</td>\n",
       "      <td>https://auto.ru/cars/used/sale/skoda/octavia/1...</td>\n",
       "      <td>коричневый</td>\n",
       "      <td>Автомобиль проверен и готов к эксплуатации!\\n\\...</td>\n",
       "      <td>1.4 LTR</td>\n",
       "      <td>140 N12</td>\n",
       "      <td>бензин</td>\n",
       "      <td>https://autoru.naydex.net/8NspfV975/35ebceAKti...</td>\n",
       "      <td>...</td>\n",
       "      <td>роботизированная</td>\n",
       "      <td>EUROPEAN</td>\n",
       "      <td>2 владельца</td>\n",
       "      <td>Оригинал</td>\n",
       "      <td>передний</td>\n",
       "      <td>Левый</td>\n",
       "      <td>Не требует ремонта</td>\n",
       "      <td>Растаможен</td>\n",
       "      <td>1020000</td>\n",
       "      <td>1</td>\n",
       "    </tr>\n",
       "    <tr>\n",
       "      <th>1</th>\n",
       "      <td>1.0</td>\n",
       "      <td>лифтбек</td>\n",
       "      <td>SKODA</td>\n",
       "      <td>https://auto.ru/cars/used/sale/skoda/octavia/1...</td>\n",
       "      <td>синий</td>\n",
       "      <td>✅ БОЛЕЕ 300 АВТОМОБИЛЕЙ С ПРОБЕГОМ В НАЛИЧИИ\\n...</td>\n",
       "      <td>1.4 LTR</td>\n",
       "      <td>75 N12</td>\n",
       "      <td>бензин</td>\n",
       "      <td>https://autoru.naydex.net/8NspfV975/35ebceAKti...</td>\n",
       "      <td>...</td>\n",
       "      <td>механическая</td>\n",
       "      <td>EUROPEAN</td>\n",
       "      <td>3 или более</td>\n",
       "      <td>Оригинал</td>\n",
       "      <td>передний</td>\n",
       "      <td>Левый</td>\n",
       "      <td>Не требует ремонта</td>\n",
       "      <td>Растаможен</td>\n",
       "      <td>285000</td>\n",
       "      <td>1</td>\n",
       "    </tr>\n",
       "    <tr>\n",
       "      <th>2</th>\n",
       "      <td>2.0</td>\n",
       "      <td>лифтбек</td>\n",
       "      <td>SKODA</td>\n",
       "      <td>https://auto.ru/cars/used/sale/skoda/octavia/1...</td>\n",
       "      <td>серебристый</td>\n",
       "      <td>Автo в комплeктация HOCKEY EDITION :\\n• Сиcтeм...</td>\n",
       "      <td>1.4 LTR</td>\n",
       "      <td>150 N12</td>\n",
       "      <td>бензин</td>\n",
       "      <td>https://avatars.mds.yandex.net/get-autoru-vos/...</td>\n",
       "      <td>...</td>\n",
       "      <td>автоматическая</td>\n",
       "      <td>EUROPEAN</td>\n",
       "      <td>2 владельца</td>\n",
       "      <td>Оригинал</td>\n",
       "      <td>передний</td>\n",
       "      <td>Левый</td>\n",
       "      <td>Не требует ремонта</td>\n",
       "      <td>Растаможен</td>\n",
       "      <td>2230000</td>\n",
       "      <td>1</td>\n",
       "    </tr>\n",
       "    <tr>\n",
       "      <th>3</th>\n",
       "      <td>3.0</td>\n",
       "      <td>лифтбек</td>\n",
       "      <td>SKODA</td>\n",
       "      <td>https://auto.ru/cars/used/sale/skoda/octavia/1...</td>\n",
       "      <td>серебристый</td>\n",
       "      <td>Машина очень ухоженная, мотор, подвеска, КПП -...</td>\n",
       "      <td>1.8 LTR</td>\n",
       "      <td>160 N12</td>\n",
       "      <td>бензин</td>\n",
       "      <td>https://autoru.naydex.net/8NspfV975/35ebceAKti...</td>\n",
       "      <td>...</td>\n",
       "      <td>механическая</td>\n",
       "      <td>EUROPEAN</td>\n",
       "      <td>3 или более</td>\n",
       "      <td>Оригинал</td>\n",
       "      <td>передний</td>\n",
       "      <td>Левый</td>\n",
       "      <td>Не требует ремонта</td>\n",
       "      <td>Растаможен</td>\n",
       "      <td>430000</td>\n",
       "      <td>1</td>\n",
       "    </tr>\n",
       "    <tr>\n",
       "      <th>4</th>\n",
       "      <td>4.0</td>\n",
       "      <td>лифтбек</td>\n",
       "      <td>SKODA</td>\n",
       "      <td>https://auto.ru/cars/used/sale/skoda/octavia/1...</td>\n",
       "      <td>зелёный</td>\n",
       "      <td>АСЦ / ЧЕСТНО, Автомобили с пробегом.\\nМы готов...</td>\n",
       "      <td>1.6 LTR</td>\n",
       "      <td>102 N12</td>\n",
       "      <td>бензин</td>\n",
       "      <td>https://autoru.naydex.net/8NspfV975/35ebceAKti...</td>\n",
       "      <td>...</td>\n",
       "      <td>автоматическая</td>\n",
       "      <td>EUROPEAN</td>\n",
       "      <td>3 или более</td>\n",
       "      <td>Оригинал</td>\n",
       "      <td>передний</td>\n",
       "      <td>Левый</td>\n",
       "      <td>Не требует ремонта</td>\n",
       "      <td>Растаможен</td>\n",
       "      <td>369000</td>\n",
       "      <td>1</td>\n",
       "    </tr>\n",
       "  </tbody>\n",
       "</table>\n",
       "<p>5 rows × 32 columns</p>\n",
       "</div>"
      ],
      "text/plain": [
       "   Unnamed: 0.1         bodyType  brand  \\\n",
       "0           0.0  универсал 5 дв.  SKODA   \n",
       "1           1.0          лифтбек  SKODA   \n",
       "2           2.0          лифтбек  SKODA   \n",
       "3           3.0          лифтбек  SKODA   \n",
       "4           4.0          лифтбек  SKODA   \n",
       "\n",
       "                                             car_url        color  \\\n",
       "0  https://auto.ru/cars/used/sale/skoda/octavia/1...   коричневый   \n",
       "1  https://auto.ru/cars/used/sale/skoda/octavia/1...        синий   \n",
       "2  https://auto.ru/cars/used/sale/skoda/octavia/1...  серебристый   \n",
       "3  https://auto.ru/cars/used/sale/skoda/octavia/1...  серебристый   \n",
       "4  https://auto.ru/cars/used/sale/skoda/octavia/1...      зелёный   \n",
       "\n",
       "                                         description engineDisplacement  \\\n",
       "0  Автомобиль проверен и готов к эксплуатации!\\n\\...            1.4 LTR   \n",
       "1  ✅ БОЛЕЕ 300 АВТОМОБИЛЕЙ С ПРОБЕГОМ В НАЛИЧИИ\\n...            1.4 LTR   \n",
       "2  Автo в комплeктация HOCKEY EDITION :\\n• Сиcтeм...            1.4 LTR   \n",
       "3  Машина очень ухоженная, мотор, подвеска, КПП -...            1.8 LTR   \n",
       "4  АСЦ / ЧЕСТНО, Автомобили с пробегом.\\nМы готов...            1.6 LTR   \n",
       "\n",
       "  enginePower fuelType                                              image  \\\n",
       "0     140 N12   бензин  https://autoru.naydex.net/8NspfV975/35ebceAKti...   \n",
       "1      75 N12   бензин  https://autoru.naydex.net/8NspfV975/35ebceAKti...   \n",
       "2     150 N12   бензин  https://avatars.mds.yandex.net/get-autoru-vos/...   \n",
       "3     160 N12   бензин  https://autoru.naydex.net/8NspfV975/35ebceAKti...   \n",
       "4     102 N12   бензин  https://autoru.naydex.net/8NspfV975/35ebceAKti...   \n",
       "\n",
       "   ...  vehicleTransmission    vendor    Владельцы       ПТС    Привод   Руль  \\\n",
       "0  ...     роботизированная  EUROPEAN  2 владельца  Оригинал  передний  Левый   \n",
       "1  ...         механическая  EUROPEAN  3 или более  Оригинал  передний  Левый   \n",
       "2  ...       автоматическая  EUROPEAN  2 владельца  Оригинал  передний  Левый   \n",
       "3  ...         механическая  EUROPEAN  3 или более  Оригинал  передний  Левый   \n",
       "4  ...       автоматическая  EUROPEAN  3 или более  Оригинал  передний  Левый   \n",
       "\n",
       "            Состояние     Таможня    price  is_val  \n",
       "0  Не требует ремонта  Растаможен  1020000       1  \n",
       "1  Не требует ремонта  Растаможен   285000       1  \n",
       "2  Не требует ремонта  Растаможен  2230000       1  \n",
       "3  Не требует ремонта  Растаможен   430000       1  \n",
       "4  Не требует ремонта  Растаможен   369000       1  \n",
       "\n",
       "[5 rows x 32 columns]"
      ]
     },
     "execution_count": 37,
     "metadata": {},
     "output_type": "execute_result"
    }
   ],
   "source": [
    "data.head()"
   ]
  },
  {
   "cell_type": "code",
   "execution_count": 38,
   "id": "0ceb09cd",
   "metadata": {},
   "outputs": [
    {
     "data": {
      "text/plain": [
       "0         Автомобиль проверен и готов к эксплуатации!\\n\\...\n",
       "1         ✅ БОЛЕЕ 300 АВТОМОБИЛЕЙ С ПРОБЕГОМ В НАЛИЧИИ\\n...\n",
       "2         Автo в комплeктация HOCKEY EDITION :\\n• Сиcтeм...\n",
       "3         Машина очень ухоженная, мотор, подвеска, КПП -...\n",
       "4         АСЦ / ЧЕСТНО, Автомобили с пробегом.\\nМы готов...\n",
       "                                ...                        \n",
       "116848    Продается BMW 316i в отличном состоянии. Прода...\n",
       "116849                       Продаётся отличный автомобиль.\n",
       "116850                                    Хорошее состояние\n",
       "116851    Автомобиль в идеальном состоянии . Куплен новы...\n",
       "116852     Пробег реальный, состояние отличное! Авторска...\n",
       "Name: description, Length: 116850, dtype: object"
      ]
     },
     "execution_count": 38,
     "metadata": {},
     "output_type": "execute_result"
    }
   ],
   "source": [
    "data.description"
   ]
  },
  {
   "cell_type": "markdown",
   "id": "8f8ff571",
   "metadata": {},
   "source": [
    "На мой взгляд, данные description бесполезные ... Можно было бы попытаться их классифицировать и т п ... Но какой хозяин будет писать плохо ? Обычно все приукрашивают и т п. грош цена классификации такого текста"
   ]
  },
  {
   "cell_type": "code",
   "execution_count": 39,
   "id": "1d434320",
   "metadata": {},
   "outputs": [],
   "source": [
    "del data['description']"
   ]
  },
  {
   "cell_type": "code",
   "execution_count": 40,
   "id": "845590a5",
   "metadata": {},
   "outputs": [
    {
     "data": {
      "text/html": [
       "<div>\n",
       "<style scoped>\n",
       "    .dataframe tbody tr th:only-of-type {\n",
       "        vertical-align: middle;\n",
       "    }\n",
       "\n",
       "    .dataframe tbody tr th {\n",
       "        vertical-align: top;\n",
       "    }\n",
       "\n",
       "    .dataframe thead th {\n",
       "        text-align: right;\n",
       "    }\n",
       "</style>\n",
       "<table border=\"1\" class=\"dataframe\">\n",
       "  <thead>\n",
       "    <tr style=\"text-align: right;\">\n",
       "      <th></th>\n",
       "      <th>Unnamed: 0.1</th>\n",
       "      <th>bodyType</th>\n",
       "      <th>brand</th>\n",
       "      <th>car_url</th>\n",
       "      <th>color</th>\n",
       "      <th>engineDisplacement</th>\n",
       "      <th>enginePower</th>\n",
       "      <th>fuelType</th>\n",
       "      <th>image</th>\n",
       "      <th>mileage</th>\n",
       "      <th>...</th>\n",
       "      <th>vehicleTransmission</th>\n",
       "      <th>vendor</th>\n",
       "      <th>Владельцы</th>\n",
       "      <th>ПТС</th>\n",
       "      <th>Привод</th>\n",
       "      <th>Руль</th>\n",
       "      <th>Состояние</th>\n",
       "      <th>Таможня</th>\n",
       "      <th>price</th>\n",
       "      <th>is_val</th>\n",
       "    </tr>\n",
       "  </thead>\n",
       "  <tbody>\n",
       "    <tr>\n",
       "      <th>0</th>\n",
       "      <td>0.0</td>\n",
       "      <td>универсал 5 дв.</td>\n",
       "      <td>SKODA</td>\n",
       "      <td>https://auto.ru/cars/used/sale/skoda/octavia/1...</td>\n",
       "      <td>коричневый</td>\n",
       "      <td>1.4 LTR</td>\n",
       "      <td>140 N12</td>\n",
       "      <td>бензин</td>\n",
       "      <td>https://autoru.naydex.net/8NspfV975/35ebceAKti...</td>\n",
       "      <td>185000</td>\n",
       "      <td>...</td>\n",
       "      <td>роботизированная</td>\n",
       "      <td>EUROPEAN</td>\n",
       "      <td>2 владельца</td>\n",
       "      <td>Оригинал</td>\n",
       "      <td>передний</td>\n",
       "      <td>Левый</td>\n",
       "      <td>Не требует ремонта</td>\n",
       "      <td>Растаможен</td>\n",
       "      <td>1020000</td>\n",
       "      <td>1</td>\n",
       "    </tr>\n",
       "    <tr>\n",
       "      <th>1</th>\n",
       "      <td>1.0</td>\n",
       "      <td>лифтбек</td>\n",
       "      <td>SKODA</td>\n",
       "      <td>https://auto.ru/cars/used/sale/skoda/octavia/1...</td>\n",
       "      <td>синий</td>\n",
       "      <td>1.4 LTR</td>\n",
       "      <td>75 N12</td>\n",
       "      <td>бензин</td>\n",
       "      <td>https://autoru.naydex.net/8NspfV975/35ebceAKti...</td>\n",
       "      <td>241327</td>\n",
       "      <td>...</td>\n",
       "      <td>механическая</td>\n",
       "      <td>EUROPEAN</td>\n",
       "      <td>3 или более</td>\n",
       "      <td>Оригинал</td>\n",
       "      <td>передний</td>\n",
       "      <td>Левый</td>\n",
       "      <td>Не требует ремонта</td>\n",
       "      <td>Растаможен</td>\n",
       "      <td>285000</td>\n",
       "      <td>1</td>\n",
       "    </tr>\n",
       "    <tr>\n",
       "      <th>2</th>\n",
       "      <td>2.0</td>\n",
       "      <td>лифтбек</td>\n",
       "      <td>SKODA</td>\n",
       "      <td>https://auto.ru/cars/used/sale/skoda/octavia/1...</td>\n",
       "      <td>серебристый</td>\n",
       "      <td>1.4 LTR</td>\n",
       "      <td>150 N12</td>\n",
       "      <td>бензин</td>\n",
       "      <td>https://avatars.mds.yandex.net/get-autoru-vos/...</td>\n",
       "      <td>14000</td>\n",
       "      <td>...</td>\n",
       "      <td>автоматическая</td>\n",
       "      <td>EUROPEAN</td>\n",
       "      <td>2 владельца</td>\n",
       "      <td>Оригинал</td>\n",
       "      <td>передний</td>\n",
       "      <td>Левый</td>\n",
       "      <td>Не требует ремонта</td>\n",
       "      <td>Растаможен</td>\n",
       "      <td>2230000</td>\n",
       "      <td>1</td>\n",
       "    </tr>\n",
       "    <tr>\n",
       "      <th>3</th>\n",
       "      <td>3.0</td>\n",
       "      <td>лифтбек</td>\n",
       "      <td>SKODA</td>\n",
       "      <td>https://auto.ru/cars/used/sale/skoda/octavia/1...</td>\n",
       "      <td>серебристый</td>\n",
       "      <td>1.8 LTR</td>\n",
       "      <td>160 N12</td>\n",
       "      <td>бензин</td>\n",
       "      <td>https://autoru.naydex.net/8NspfV975/35ebceAKti...</td>\n",
       "      <td>190000</td>\n",
       "      <td>...</td>\n",
       "      <td>механическая</td>\n",
       "      <td>EUROPEAN</td>\n",
       "      <td>3 или более</td>\n",
       "      <td>Оригинал</td>\n",
       "      <td>передний</td>\n",
       "      <td>Левый</td>\n",
       "      <td>Не требует ремонта</td>\n",
       "      <td>Растаможен</td>\n",
       "      <td>430000</td>\n",
       "      <td>1</td>\n",
       "    </tr>\n",
       "    <tr>\n",
       "      <th>4</th>\n",
       "      <td>4.0</td>\n",
       "      <td>лифтбек</td>\n",
       "      <td>SKODA</td>\n",
       "      <td>https://auto.ru/cars/used/sale/skoda/octavia/1...</td>\n",
       "      <td>зелёный</td>\n",
       "      <td>1.6 LTR</td>\n",
       "      <td>102 N12</td>\n",
       "      <td>бензин</td>\n",
       "      <td>https://autoru.naydex.net/8NspfV975/35ebceAKti...</td>\n",
       "      <td>178169</td>\n",
       "      <td>...</td>\n",
       "      <td>автоматическая</td>\n",
       "      <td>EUROPEAN</td>\n",
       "      <td>3 или более</td>\n",
       "      <td>Оригинал</td>\n",
       "      <td>передний</td>\n",
       "      <td>Левый</td>\n",
       "      <td>Не требует ремонта</td>\n",
       "      <td>Растаможен</td>\n",
       "      <td>369000</td>\n",
       "      <td>1</td>\n",
       "    </tr>\n",
       "  </tbody>\n",
       "</table>\n",
       "<p>5 rows × 31 columns</p>\n",
       "</div>"
      ],
      "text/plain": [
       "   Unnamed: 0.1         bodyType  brand  \\\n",
       "0           0.0  универсал 5 дв.  SKODA   \n",
       "1           1.0          лифтбек  SKODA   \n",
       "2           2.0          лифтбек  SKODA   \n",
       "3           3.0          лифтбек  SKODA   \n",
       "4           4.0          лифтбек  SKODA   \n",
       "\n",
       "                                             car_url        color  \\\n",
       "0  https://auto.ru/cars/used/sale/skoda/octavia/1...   коричневый   \n",
       "1  https://auto.ru/cars/used/sale/skoda/octavia/1...        синий   \n",
       "2  https://auto.ru/cars/used/sale/skoda/octavia/1...  серебристый   \n",
       "3  https://auto.ru/cars/used/sale/skoda/octavia/1...  серебристый   \n",
       "4  https://auto.ru/cars/used/sale/skoda/octavia/1...      зелёный   \n",
       "\n",
       "  engineDisplacement enginePower fuelType  \\\n",
       "0            1.4 LTR     140 N12   бензин   \n",
       "1            1.4 LTR      75 N12   бензин   \n",
       "2            1.4 LTR     150 N12   бензин   \n",
       "3            1.8 LTR     160 N12   бензин   \n",
       "4            1.6 LTR     102 N12   бензин   \n",
       "\n",
       "                                               image  mileage  ...  \\\n",
       "0  https://autoru.naydex.net/8NspfV975/35ebceAKti...   185000  ...   \n",
       "1  https://autoru.naydex.net/8NspfV975/35ebceAKti...   241327  ...   \n",
       "2  https://avatars.mds.yandex.net/get-autoru-vos/...    14000  ...   \n",
       "3  https://autoru.naydex.net/8NspfV975/35ebceAKti...   190000  ...   \n",
       "4  https://autoru.naydex.net/8NspfV975/35ebceAKti...   178169  ...   \n",
       "\n",
       "   vehicleTransmission    vendor    Владельцы       ПТС    Привод   Руль  \\\n",
       "0     роботизированная  EUROPEAN  2 владельца  Оригинал  передний  Левый   \n",
       "1         механическая  EUROPEAN  3 или более  Оригинал  передний  Левый   \n",
       "2       автоматическая  EUROPEAN  2 владельца  Оригинал  передний  Левый   \n",
       "3         механическая  EUROPEAN  3 или более  Оригинал  передний  Левый   \n",
       "4       автоматическая  EUROPEAN  3 или более  Оригинал  передний  Левый   \n",
       "\n",
       "            Состояние     Таможня    price is_val  \n",
       "0  Не требует ремонта  Растаможен  1020000      1  \n",
       "1  Не требует ремонта  Растаможен   285000      1  \n",
       "2  Не требует ремонта  Растаможен  2230000      1  \n",
       "3  Не требует ремонта  Растаможен   430000      1  \n",
       "4  Не требует ремонта  Растаможен   369000      1  \n",
       "\n",
       "[5 rows x 31 columns]"
      ]
     },
     "execution_count": 40,
     "metadata": {},
     "output_type": "execute_result"
    }
   ],
   "source": [
    "data.head()"
   ]
  },
  {
   "cell_type": "code",
   "execution_count": 41,
   "id": "e27e1afc",
   "metadata": {},
   "outputs": [
    {
     "data": {
      "text/plain": [
       "2.0 LTR    25772\n",
       "1.6 LTR    15905\n",
       "3.0 LTR    12673\n",
       "1.8 LTR    10392\n",
       "2.5 LTR     8203\n",
       "1.4 LTR     5539\n",
       "3.5 LTR     5209\n",
       "2.4 LTR     5089\n",
       "1.5 LTR     3834\n",
       "1.2 LTR     1768\n",
       "1.3 LTR     1594\n",
       "2.8 LTR     1427\n",
       "4.5 LTR     1307\n",
       "4.4 LTR     1284\n",
       "4.7 LTR     1254\n",
       "4.0 LTR     1235\n",
       "2.2 LTR     1139\n",
       "5.5 LTR     1137\n",
       "3.2 LTR     1091\n",
       "2.1 LTR      993\n",
       "2.7 LTR      797\n",
       "2.3 LTR      761\n",
       "1.9 LTR      754\n",
       "4.2 LTR      743\n",
       "3.6 LTR      620\n",
       "5.7 LTR      559\n",
       "3.7 LTR      552\n",
       "5.6 LTR      533\n",
       "1.0 LTR      518\n",
       "5.0 LTR      504\n",
       "4.6 LTR      442\n",
       "2.9 LTR      430\n",
       " LTR         356\n",
       "0.7 LTR      318\n",
       "2.6 LTR      268\n",
       "4.8 LTR      246\n",
       "1.7 LTR      221\n",
       "3.1 LTR      207\n",
       "3.3 LTR      186\n",
       "3.8 LTR      162\n",
       "3.4 LTR      142\n",
       "6.0 LTR      135\n",
       "4.3 LTR      124\n",
       "5.4 LTR      105\n",
       "6.2 LTR       95\n",
       "4.1 LTR       87\n",
       "5.2 LTR       27\n",
       "5.8 LTR       22\n",
       "5.9 LTR       19\n",
       "1.1 LTR       17\n",
       "6.3 LTR       17\n",
       "6.6 LTR       16\n",
       "4.9 LTR       14\n",
       "3.9 LTR        7\n",
       "5.3 LTR        1\n",
       "Name: engineDisplacement, dtype: int64"
      ]
     },
     "execution_count": 41,
     "metadata": {},
     "output_type": "execute_result"
    }
   ],
   "source": [
    "data.engineDisplacement.value_counts()"
   ]
  },
  {
   "cell_type": "code",
   "execution_count": 42,
   "id": "e84694a5",
   "metadata": {
    "scrolled": true
   },
   "outputs": [
    {
     "data": {
      "text/plain": [
       "10558    https://auto.ru/cars/used/sale/audi/e_tron/110...\n",
       "10559    https://auto.ru/cars/used/sale/audi/e_tron/110...\n",
       "10560    https://auto.ru/cars/used/sale/audi/e_tron/110...\n",
       "10561    https://auto.ru/cars/used/sale/audi/e_tron/110...\n",
       "10562    https://auto.ru/cars/used/sale/audi/e_tron/110...\n",
       "                               ...                        \n",
       "87408    https://auto.ru/cars/used/sale/audi/e_tron/110...\n",
       "90159    https://auto.ru/cars/used/sale/bmw/i3/11010431...\n",
       "90419    https://auto.ru/cars/used/sale/bmw/i3/11012780...\n",
       "90517    https://auto.ru/cars/used/sale/bmw/i3/11002716...\n",
       "90851    https://auto.ru/cars/used/sale/bmw/i3/11011745...\n",
       "Name: car_url, Length: 306, dtype: object"
      ]
     },
     "execution_count": 42,
     "metadata": {},
     "output_type": "execute_result"
    }
   ],
   "source": [
    "data[data['engineDisplacement'] == ' LTR' ]['car_url'].head(-50)"
   ]
  },
  {
   "cell_type": "markdown",
   "id": "5215bb87",
   "metadata": {},
   "source": [
    "Хмм..."
   ]
  },
  {
   "cell_type": "code",
   "execution_count": 43,
   "id": "5166d1cf",
   "metadata": {},
   "outputs": [
    {
     "data": {
      "text/html": [
       "<div>\n",
       "<style scoped>\n",
       "    .dataframe tbody tr th:only-of-type {\n",
       "        vertical-align: middle;\n",
       "    }\n",
       "\n",
       "    .dataframe tbody tr th {\n",
       "        vertical-align: top;\n",
       "    }\n",
       "\n",
       "    .dataframe thead th {\n",
       "        text-align: right;\n",
       "    }\n",
       "</style>\n",
       "<table border=\"1\" class=\"dataframe\">\n",
       "  <thead>\n",
       "    <tr style=\"text-align: right;\">\n",
       "      <th></th>\n",
       "      <th>Unnamed: 0.1</th>\n",
       "      <th>bodyType</th>\n",
       "      <th>brand</th>\n",
       "      <th>car_url</th>\n",
       "      <th>color</th>\n",
       "      <th>engineDisplacement</th>\n",
       "      <th>enginePower</th>\n",
       "      <th>fuelType</th>\n",
       "      <th>image</th>\n",
       "      <th>mileage</th>\n",
       "      <th>...</th>\n",
       "      <th>vehicleTransmission</th>\n",
       "      <th>vendor</th>\n",
       "      <th>Владельцы</th>\n",
       "      <th>ПТС</th>\n",
       "      <th>Привод</th>\n",
       "      <th>Руль</th>\n",
       "      <th>Состояние</th>\n",
       "      <th>Таможня</th>\n",
       "      <th>price</th>\n",
       "      <th>is_val</th>\n",
       "    </tr>\n",
       "  </thead>\n",
       "  <tbody>\n",
       "    <tr>\n",
       "      <th>0</th>\n",
       "      <td>0.0</td>\n",
       "      <td>универсал 5 дв.</td>\n",
       "      <td>SKODA</td>\n",
       "      <td>https://auto.ru/cars/used/sale/skoda/octavia/1...</td>\n",
       "      <td>коричневый</td>\n",
       "      <td>1.4 LTR</td>\n",
       "      <td>140 N12</td>\n",
       "      <td>бензин</td>\n",
       "      <td>https://autoru.naydex.net/8NspfV975/35ebceAKti...</td>\n",
       "      <td>185000</td>\n",
       "      <td>...</td>\n",
       "      <td>роботизированная</td>\n",
       "      <td>EUROPEAN</td>\n",
       "      <td>2 владельца</td>\n",
       "      <td>Оригинал</td>\n",
       "      <td>передний</td>\n",
       "      <td>Левый</td>\n",
       "      <td>Не требует ремонта</td>\n",
       "      <td>Растаможен</td>\n",
       "      <td>1020000</td>\n",
       "      <td>1</td>\n",
       "    </tr>\n",
       "    <tr>\n",
       "      <th>1</th>\n",
       "      <td>1.0</td>\n",
       "      <td>лифтбек</td>\n",
       "      <td>SKODA</td>\n",
       "      <td>https://auto.ru/cars/used/sale/skoda/octavia/1...</td>\n",
       "      <td>синий</td>\n",
       "      <td>1.4 LTR</td>\n",
       "      <td>75 N12</td>\n",
       "      <td>бензин</td>\n",
       "      <td>https://autoru.naydex.net/8NspfV975/35ebceAKti...</td>\n",
       "      <td>241327</td>\n",
       "      <td>...</td>\n",
       "      <td>механическая</td>\n",
       "      <td>EUROPEAN</td>\n",
       "      <td>3 или более</td>\n",
       "      <td>Оригинал</td>\n",
       "      <td>передний</td>\n",
       "      <td>Левый</td>\n",
       "      <td>Не требует ремонта</td>\n",
       "      <td>Растаможен</td>\n",
       "      <td>285000</td>\n",
       "      <td>1</td>\n",
       "    </tr>\n",
       "    <tr>\n",
       "      <th>2</th>\n",
       "      <td>2.0</td>\n",
       "      <td>лифтбек</td>\n",
       "      <td>SKODA</td>\n",
       "      <td>https://auto.ru/cars/used/sale/skoda/octavia/1...</td>\n",
       "      <td>серебристый</td>\n",
       "      <td>1.4 LTR</td>\n",
       "      <td>150 N12</td>\n",
       "      <td>бензин</td>\n",
       "      <td>https://avatars.mds.yandex.net/get-autoru-vos/...</td>\n",
       "      <td>14000</td>\n",
       "      <td>...</td>\n",
       "      <td>автоматическая</td>\n",
       "      <td>EUROPEAN</td>\n",
       "      <td>2 владельца</td>\n",
       "      <td>Оригинал</td>\n",
       "      <td>передний</td>\n",
       "      <td>Левый</td>\n",
       "      <td>Не требует ремонта</td>\n",
       "      <td>Растаможен</td>\n",
       "      <td>2230000</td>\n",
       "      <td>1</td>\n",
       "    </tr>\n",
       "    <tr>\n",
       "      <th>3</th>\n",
       "      <td>3.0</td>\n",
       "      <td>лифтбек</td>\n",
       "      <td>SKODA</td>\n",
       "      <td>https://auto.ru/cars/used/sale/skoda/octavia/1...</td>\n",
       "      <td>серебристый</td>\n",
       "      <td>1.8 LTR</td>\n",
       "      <td>160 N12</td>\n",
       "      <td>бензин</td>\n",
       "      <td>https://autoru.naydex.net/8NspfV975/35ebceAKti...</td>\n",
       "      <td>190000</td>\n",
       "      <td>...</td>\n",
       "      <td>механическая</td>\n",
       "      <td>EUROPEAN</td>\n",
       "      <td>3 или более</td>\n",
       "      <td>Оригинал</td>\n",
       "      <td>передний</td>\n",
       "      <td>Левый</td>\n",
       "      <td>Не требует ремонта</td>\n",
       "      <td>Растаможен</td>\n",
       "      <td>430000</td>\n",
       "      <td>1</td>\n",
       "    </tr>\n",
       "    <tr>\n",
       "      <th>4</th>\n",
       "      <td>4.0</td>\n",
       "      <td>лифтбек</td>\n",
       "      <td>SKODA</td>\n",
       "      <td>https://auto.ru/cars/used/sale/skoda/octavia/1...</td>\n",
       "      <td>зелёный</td>\n",
       "      <td>1.6 LTR</td>\n",
       "      <td>102 N12</td>\n",
       "      <td>бензин</td>\n",
       "      <td>https://autoru.naydex.net/8NspfV975/35ebceAKti...</td>\n",
       "      <td>178169</td>\n",
       "      <td>...</td>\n",
       "      <td>автоматическая</td>\n",
       "      <td>EUROPEAN</td>\n",
       "      <td>3 или более</td>\n",
       "      <td>Оригинал</td>\n",
       "      <td>передний</td>\n",
       "      <td>Левый</td>\n",
       "      <td>Не требует ремонта</td>\n",
       "      <td>Растаможен</td>\n",
       "      <td>369000</td>\n",
       "      <td>1</td>\n",
       "    </tr>\n",
       "  </tbody>\n",
       "</table>\n",
       "<p>5 rows × 31 columns</p>\n",
       "</div>"
      ],
      "text/plain": [
       "   Unnamed: 0.1         bodyType  brand  \\\n",
       "0           0.0  универсал 5 дв.  SKODA   \n",
       "1           1.0          лифтбек  SKODA   \n",
       "2           2.0          лифтбек  SKODA   \n",
       "3           3.0          лифтбек  SKODA   \n",
       "4           4.0          лифтбек  SKODA   \n",
       "\n",
       "                                             car_url        color  \\\n",
       "0  https://auto.ru/cars/used/sale/skoda/octavia/1...   коричневый   \n",
       "1  https://auto.ru/cars/used/sale/skoda/octavia/1...        синий   \n",
       "2  https://auto.ru/cars/used/sale/skoda/octavia/1...  серебристый   \n",
       "3  https://auto.ru/cars/used/sale/skoda/octavia/1...  серебристый   \n",
       "4  https://auto.ru/cars/used/sale/skoda/octavia/1...      зелёный   \n",
       "\n",
       "  engineDisplacement enginePower fuelType  \\\n",
       "0            1.4 LTR     140 N12   бензин   \n",
       "1            1.4 LTR      75 N12   бензин   \n",
       "2            1.4 LTR     150 N12   бензин   \n",
       "3            1.8 LTR     160 N12   бензин   \n",
       "4            1.6 LTR     102 N12   бензин   \n",
       "\n",
       "                                               image  mileage  ...  \\\n",
       "0  https://autoru.naydex.net/8NspfV975/35ebceAKti...   185000  ...   \n",
       "1  https://autoru.naydex.net/8NspfV975/35ebceAKti...   241327  ...   \n",
       "2  https://avatars.mds.yandex.net/get-autoru-vos/...    14000  ...   \n",
       "3  https://autoru.naydex.net/8NspfV975/35ebceAKti...   190000  ...   \n",
       "4  https://autoru.naydex.net/8NspfV975/35ebceAKti...   178169  ...   \n",
       "\n",
       "   vehicleTransmission    vendor    Владельцы       ПТС    Привод   Руль  \\\n",
       "0     роботизированная  EUROPEAN  2 владельца  Оригинал  передний  Левый   \n",
       "1         механическая  EUROPEAN  3 или более  Оригинал  передний  Левый   \n",
       "2       автоматическая  EUROPEAN  2 владельца  Оригинал  передний  Левый   \n",
       "3         механическая  EUROPEAN  3 или более  Оригинал  передний  Левый   \n",
       "4       автоматическая  EUROPEAN  3 или более  Оригинал  передний  Левый   \n",
       "\n",
       "            Состояние     Таможня    price is_val  \n",
       "0  Не требует ремонта  Растаможен  1020000      1  \n",
       "1  Не требует ремонта  Растаможен   285000      1  \n",
       "2  Не требует ремонта  Растаможен  2230000      1  \n",
       "3  Не требует ремонта  Растаможен   430000      1  \n",
       "4  Не требует ремонта  Растаможен   369000      1  \n",
       "\n",
       "[5 rows x 31 columns]"
      ]
     },
     "execution_count": 43,
     "metadata": {},
     "output_type": "execute_result"
    }
   ],
   "source": [
    "data.head()"
   ]
  },
  {
   "cell_type": "code",
   "execution_count": 44,
   "id": "d1935fcb",
   "metadata": {},
   "outputs": [
    {
     "data": {
      "text/plain": [
       "бензин     94125\n",
       "дизель     20318\n",
       "гибрид      2018\n",
       "электро      356\n",
       "газ           33\n",
       "Name: fuelType, dtype: int64"
      ]
     },
     "execution_count": 44,
     "metadata": {},
     "output_type": "execute_result"
    }
   ],
   "source": [
    "data.fuelType.value_counts()"
   ]
  },
  {
   "cell_type": "code",
   "execution_count": 45,
   "id": "1d22defc",
   "metadata": {},
   "outputs": [],
   "source": [
    "del data['image']"
   ]
  },
  {
   "cell_type": "code",
   "execution_count": 46,
   "id": "7e2ec843",
   "metadata": {},
   "outputs": [
    {
     "data": {
      "text/plain": [
       "Index(['Unnamed: 0.1', 'bodyType', 'brand', 'car_url', 'color',\n",
       "       'engineDisplacement', 'enginePower', 'fuelType', 'mileage', 'modelDate',\n",
       "       'model_info', 'model_name', 'name', 'numberOfDoors', 'parsing_unixtime',\n",
       "       'priceCurrency', 'productionDate', 'sell_id', 'super_gen',\n",
       "       'vehicleConfiguration', 'vehicleTransmission', 'vendor', 'Владельцы',\n",
       "       'ПТС', 'Привод', 'Руль', 'Состояние', 'Таможня', 'price', 'is_val'],\n",
       "      dtype='object')"
      ]
     },
     "execution_count": 46,
     "metadata": {},
     "output_type": "execute_result"
    }
   ],
   "source": [
    "data.columns\n"
   ]
  },
  {
   "cell_type": "code",
   "execution_count": 47,
   "id": "4fd70b97",
   "metadata": {},
   "outputs": [
    {
     "data": {
      "text/plain": [
       "200000    1782\n",
       "300000    1773\n",
       "250000    1510\n",
       "150000    1256\n",
       "180000    1170\n",
       "          ... \n",
       "22631        1\n",
       "90976        1\n",
       "1750         1\n",
       "12913        1\n",
       "157965       1\n",
       "Name: mileage, Length: 31071, dtype: int64"
      ]
     },
     "execution_count": 47,
     "metadata": {},
     "output_type": "execute_result"
    }
   ],
   "source": [
    "data.mileage.value_counts()"
   ]
  },
  {
   "cell_type": "code",
   "execution_count": 48,
   "id": "583f0b2d",
   "metadata": {},
   "outputs": [
    {
     "data": {
      "text/plain": [
       "0         2013\n",
       "1         2000\n",
       "2         2019\n",
       "3         2004\n",
       "4         2004\n",
       "          ... \n",
       "116848    2011\n",
       "116849    2016\n",
       "116850    1995\n",
       "116851    2012\n",
       "116852    2006\n",
       "Name: modelDate, Length: 116850, dtype: int64"
      ]
     },
     "execution_count": 48,
     "metadata": {},
     "output_type": "execute_result"
    }
   ],
   "source": [
    "data.modelDate"
   ]
  },
  {
   "cell_type": "code",
   "execution_count": 49,
   "id": "fb81ccfd",
   "metadata": {},
   "outputs": [
    {
     "data": {
      "text/plain": [
       "0         {'code': 'OCTAVIA', 'name': 'Octavia', 'ru_nam...\n",
       "1         {'code': 'OCTAVIA', 'name': 'Octavia', 'ru_nam...\n",
       "2         {'code': 'OCTAVIA', 'name': 'Octavia', 'ru_nam...\n",
       "3         {'code': 'OCTAVIA', 'name': 'Octavia', 'ru_nam...\n",
       "4         {'code': 'OCTAVIA', 'name': 'Octavia', 'ru_nam...\n",
       "                                ...                        \n",
       "116848    {\"code\":\"3ER\",\"name\":\"3 серии\",\"ru_name\":\"3 се...\n",
       "116849    {\"code\":\"5ER\",\"name\":\"5 серии\",\"ru_name\":\"5 се...\n",
       "116850    {\"code\":\"5ER\",\"name\":\"5 серии\",\"ru_name\":\"5 се...\n",
       "116851    {\"code\":\"X1\",\"name\":\"X1\",\"ru_name\":\"Х1\",\"morph...\n",
       "116852    {\"code\":\"X5\",\"name\":\"X5\",\"ru_name\":\"Х5\",\"morph...\n",
       "Name: model_info, Length: 116850, dtype: object"
      ]
     },
     "execution_count": 49,
     "metadata": {},
     "output_type": "execute_result"
    }
   ],
   "source": [
    "data.model_info"
   ]
  },
  {
   "cell_type": "code",
   "execution_count": 50,
   "id": "aa8caf7f",
   "metadata": {},
   "outputs": [
    {
     "data": {
      "text/plain": [
       "\"{'code': 'OCTAVIA', 'name': 'Octavia', 'ru_name': 'Октавия', 'morphology': {'gender': 'FEMININE'}, 'nameplate': {'code': '', 'name': '', 'semantic_url': ''}}\""
      ]
     },
     "execution_count": 50,
     "metadata": {},
     "output_type": "execute_result"
    }
   ],
   "source": [
    "data.model_info[0]"
   ]
  },
  {
   "cell_type": "code",
   "execution_count": 51,
   "id": "690e89d5",
   "metadata": {},
   "outputs": [],
   "source": [
    "del data['model_info']"
   ]
  },
  {
   "cell_type": "code",
   "execution_count": 52,
   "id": "ef3874be",
   "metadata": {},
   "outputs": [
    {
     "data": {
      "text/plain": [
       "Index(['Unnamed: 0.1', 'bodyType', 'brand', 'car_url', 'color',\n",
       "       'engineDisplacement', 'enginePower', 'fuelType', 'mileage', 'modelDate',\n",
       "       'model_name', 'name', 'numberOfDoors', 'parsing_unixtime',\n",
       "       'priceCurrency', 'productionDate', 'sell_id', 'super_gen',\n",
       "       'vehicleConfiguration', 'vehicleTransmission', 'vendor', 'Владельцы',\n",
       "       'ПТС', 'Привод', 'Руль', 'Состояние', 'Таможня', 'price', 'is_val'],\n",
       "      dtype='object')"
      ]
     },
     "execution_count": 52,
     "metadata": {},
     "output_type": "execute_result"
    }
   ],
   "source": [
    "data.columns"
   ]
  },
  {
   "cell_type": "code",
   "execution_count": 53,
   "id": "28f48a03",
   "metadata": {},
   "outputs": [
    {
     "data": {
      "text/plain": [
       "0                         1.4 AMT (140 л.с.)\n",
       "1                           1.4 MT (75 л.с.)\n",
       "2                          1.4 AT (150 л.с.)\n",
       "3                          1.8 MT (160 л.с.)\n",
       "4                          1.6 AT (102 л.с.)\n",
       "                         ...                \n",
       "116848                316i 1.6 AT (136 л.с.)\n",
       "116849    520d xDrive 2.0d AT (190 л.с.) 4WD\n",
       "116850                523i 2.5 AT (170 л.с.)\n",
       "116851            20d 2.0d AT (184 л.с.) 4WD\n",
       "116852            30d 3.0d AT (235 л.с.) 4WD\n",
       "Name: name, Length: 116850, dtype: object"
      ]
     },
     "execution_count": 53,
     "metadata": {},
     "output_type": "execute_result"
    }
   ],
   "source": [
    "data.name\n"
   ]
  },
  {
   "cell_type": "code",
   "execution_count": 54,
   "id": "fc9a2103",
   "metadata": {},
   "outputs": [
    {
     "data": {
      "text/plain": [
       "0         5\n",
       "1         5\n",
       "2         5\n",
       "3         5\n",
       "4         5\n",
       "         ..\n",
       "116848    4\n",
       "116849    4\n",
       "116850    4\n",
       "116851    5\n",
       "116852    5\n",
       "Name: numberOfDoors, Length: 116850, dtype: int64"
      ]
     },
     "execution_count": 54,
     "metadata": {},
     "output_type": "execute_result"
    }
   ],
   "source": [
    "data.numberOfDoors"
   ]
  },
  {
   "cell_type": "code",
   "execution_count": 55,
   "id": "257cbd91",
   "metadata": {},
   "outputs": [],
   "source": [
    "del data['parsing_unixtime']"
   ]
  },
  {
   "cell_type": "code",
   "execution_count": 56,
   "id": "85e3da38",
   "metadata": {},
   "outputs": [
    {
     "data": {
      "text/plain": [
       "0         RUB\n",
       "1         RUB\n",
       "2         RUB\n",
       "3         RUB\n",
       "4         RUB\n",
       "         ... \n",
       "116848    RUB\n",
       "116849    RUB\n",
       "116850    RUB\n",
       "116851    RUB\n",
       "116852    RUB\n",
       "Name: priceCurrency, Length: 116850, dtype: object"
      ]
     },
     "execution_count": 56,
     "metadata": {},
     "output_type": "execute_result"
    }
   ],
   "source": [
    "data.priceCurrency"
   ]
  },
  {
   "cell_type": "code",
   "execution_count": 57,
   "id": "9d95760a",
   "metadata": {},
   "outputs": [],
   "source": [
    "del data['priceCurrency']"
   ]
  },
  {
   "cell_type": "code",
   "execution_count": 58,
   "id": "e0780358",
   "metadata": {},
   "outputs": [
    {
     "data": {
      "text/plain": [
       "0         2014\n",
       "1         2008\n",
       "2         2021\n",
       "3         2008\n",
       "4         2006\n",
       "          ... \n",
       "116848    2014\n",
       "116849    2018\n",
       "116850    1997\n",
       "116851    2013\n",
       "116852    2008\n",
       "Name: productionDate, Length: 116850, dtype: int64"
      ]
     },
     "execution_count": 58,
     "metadata": {},
     "output_type": "execute_result"
    }
   ],
   "source": [
    "data.productionDate"
   ]
  },
  {
   "cell_type": "code",
   "execution_count": 59,
   "id": "b8f06541",
   "metadata": {},
   "outputs": [
    {
     "data": {
      "text/plain": [
       "0                  0\n",
       "1                  0\n",
       "2                  0\n",
       "3                  0\n",
       "4                  0\n",
       "             ...    \n",
       "116848    1101369263\n",
       "116849    1101369581\n",
       "116850    1101364889\n",
       "116851    1101362518\n",
       "116852    1101256068\n",
       "Name: sell_id, Length: 116850, dtype: int64"
      ]
     },
     "execution_count": 59,
     "metadata": {},
     "output_type": "execute_result"
    }
   ],
   "source": [
    "data.sell_id"
   ]
  },
  {
   "cell_type": "code",
   "execution_count": 60,
   "id": "3b827923",
   "metadata": {},
   "outputs": [
    {
     "data": {
      "text/plain": [
       "Index(['Unnamed: 0.1', 'bodyType', 'brand', 'car_url', 'color',\n",
       "       'engineDisplacement', 'enginePower', 'fuelType', 'mileage', 'modelDate',\n",
       "       'model_name', 'name', 'numberOfDoors', 'productionDate', 'sell_id',\n",
       "       'super_gen', 'vehicleConfiguration', 'vehicleTransmission', 'vendor',\n",
       "       'Владельцы', 'ПТС', 'Привод', 'Руль', 'Состояние', 'Таможня', 'price',\n",
       "       'is_val'],\n",
       "      dtype='object')"
      ]
     },
     "execution_count": 60,
     "metadata": {},
     "output_type": "execute_result"
    }
   ],
   "source": [
    "data.columns"
   ]
  },
  {
   "cell_type": "code",
   "execution_count": 61,
   "id": "cdad7dc0",
   "metadata": {},
   "outputs": [
    {
     "data": {
      "text/plain": [
       "0         {'id': '10373637', 'displacement': 1395, 'engi...\n",
       "1         {'id': '2309188', 'displacement': 1390, 'engin...\n",
       "2         {'id': '22568936', 'displacement': 1395, 'engi...\n",
       "3         {'id': '3813503', 'displacement': 1798, 'engin...\n",
       "4         {'id': '2309203', 'displacement': 1595, 'engin...\n",
       "                                ...                        \n",
       "116848    {\"id\":\"8546464\",\"name\":\"316\",\"nameplate\":\"316i...\n",
       "116849    {\"id\":\"20856402\",\"name\":\"520\",\"nameplate\":\"520...\n",
       "116850    {\"id\":\"6329747\",\"name\":\"523\",\"nameplate\":\"523i...\n",
       "116851    {\"id\":\"8247004\",\"name\":\"20d\",\"nameplate\":\"20d\"...\n",
       "116852    {\"id\":\"20390090\",\"name\":\"30d\",\"nameplate\":\"30d...\n",
       "Name: super_gen, Length: 116850, dtype: object"
      ]
     },
     "execution_count": 61,
     "metadata": {},
     "output_type": "execute_result"
    }
   ],
   "source": [
    "data.super_gen"
   ]
  },
  {
   "cell_type": "code",
   "execution_count": 62,
   "id": "0f8e66f3",
   "metadata": {},
   "outputs": [
    {
     "data": {
      "text/plain": [
       "\"{'id': '10373637', 'displacement': 1395, 'engine_type': 'GASOLINE', 'gear_type': 'FORWARD_CONTROL', 'transmission': 'ROBOT', 'power': 140, 'power_kvt': 103, 'human_name': '1.4 AMT (140 л.с.)', 'acceleration': 8.6, 'clearance_min': 155, 'fuel_rate': 5.3}\""
      ]
     },
     "execution_count": 62,
     "metadata": {},
     "output_type": "execute_result"
    }
   ],
   "source": [
    "data.super_gen[0]"
   ]
  },
  {
   "cell_type": "code",
   "execution_count": 63,
   "id": "52d6be17",
   "metadata": {},
   "outputs": [
    {
     "data": {
      "text/plain": [
       "0               WAGON_5_DOORS ROBOT 1.4\n",
       "1               LIFTBACK MECHANICAL 1.4\n",
       "2                LIFTBACK AUTOMATIC 1.4\n",
       "3               LIFTBACK MECHANICAL 1.8\n",
       "4                LIFTBACK AUTOMATIC 1.6\n",
       "                      ...              \n",
       "116848              SEDAN AUTOMATIC 1.6\n",
       "116849              SEDAN AUTOMATIC 2.0\n",
       "116850              SEDAN AUTOMATIC 2.5\n",
       "116851    ALLROAD_5_DOORS AUTOMATIC 2.0\n",
       "116852    ALLROAD_5_DOORS AUTOMATIC 3.0\n",
       "Name: vehicleConfiguration, Length: 116850, dtype: object"
      ]
     },
     "execution_count": 63,
     "metadata": {},
     "output_type": "execute_result"
    }
   ],
   "source": [
    "data.vehicleConfiguration"
   ]
  },
  {
   "cell_type": "code",
   "execution_count": 64,
   "id": "bc284048",
   "metadata": {},
   "outputs": [
    {
     "data": {
      "text/plain": [
       "Index(['Unnamed: 0.1', 'bodyType', 'brand', 'car_url', 'color',\n",
       "       'engineDisplacement', 'enginePower', 'fuelType', 'mileage', 'modelDate',\n",
       "       'model_name', 'name', 'numberOfDoors', 'productionDate', 'sell_id',\n",
       "       'super_gen', 'vehicleConfiguration', 'vehicleTransmission', 'vendor',\n",
       "       'Владельцы', 'ПТС', 'Привод', 'Руль', 'Состояние', 'Таможня', 'price',\n",
       "       'is_val'],\n",
       "      dtype='object')"
      ]
     },
     "execution_count": 64,
     "metadata": {},
     "output_type": "execute_result"
    }
   ],
   "source": [
    "data.columns"
   ]
  },
  {
   "cell_type": "code",
   "execution_count": 65,
   "id": "1f4799e3",
   "metadata": {},
   "outputs": [
    {
     "data": {
      "text/plain": [
       "автоматическая      65203\n",
       "механическая        25067\n",
       "вариатор            14767\n",
       "роботизированная    11813\n",
       "Name: vehicleTransmission, dtype: int64"
      ]
     },
     "execution_count": 65,
     "metadata": {},
     "output_type": "execute_result"
    }
   ],
   "source": [
    "data.vehicleTransmission.value_counts()"
   ]
  },
  {
   "cell_type": "code",
   "execution_count": 66,
   "id": "0870071f",
   "metadata": {},
   "outputs": [
    {
     "data": {
      "text/plain": [
       "EUROPEAN    64536\n",
       "JAPANESE    52310\n",
       "AMERICAN        4\n",
       "Name: vendor, dtype: int64"
      ]
     },
     "execution_count": 66,
     "metadata": {},
     "output_type": "execute_result"
    }
   ],
   "source": [
    "data.vendor.value_counts()"
   ]
  },
  {
   "cell_type": "code",
   "execution_count": 67,
   "id": "3dd1795e",
   "metadata": {},
   "outputs": [
    {
     "data": {
      "text/plain": [
       "3 или более    58656\n",
       "1 владелец     30699\n",
       "2 владельца    27495\n",
       "Name: Владельцы, dtype: int64"
      ]
     },
     "execution_count": 67,
     "metadata": {},
     "output_type": "execute_result"
    }
   ],
   "source": [
    "data.Владельцы.value_counts()"
   ]
  },
  {
   "cell_type": "code",
   "execution_count": 68,
   "id": "7bad0eea",
   "metadata": {},
   "outputs": [
    {
     "data": {
      "text/plain": [
       "Index(['Unnamed: 0.1', 'bodyType', 'brand', 'car_url', 'color',\n",
       "       'engineDisplacement', 'enginePower', 'fuelType', 'mileage', 'modelDate',\n",
       "       'model_name', 'name', 'numberOfDoors', 'productionDate', 'sell_id',\n",
       "       'super_gen', 'vehicleConfiguration', 'vehicleTransmission', 'vendor',\n",
       "       'Владельцы', 'ПТС', 'Привод', 'Руль', 'Состояние', 'Таможня', 'price',\n",
       "       'is_val'],\n",
       "      dtype='object')"
      ]
     },
     "execution_count": 68,
     "metadata": {},
     "output_type": "execute_result"
    }
   ],
   "source": [
    "data.columns"
   ]
  },
  {
   "cell_type": "code",
   "execution_count": 69,
   "id": "099394cc",
   "metadata": {},
   "outputs": [
    {
     "data": {
      "text/plain": [
       "Оригинал    97847\n",
       "Дубликат    19003\n",
       "Name: ПТС, dtype: int64"
      ]
     },
     "execution_count": 69,
     "metadata": {},
     "output_type": "execute_result"
    }
   ],
   "source": [
    "data.ПТС.value_counts()"
   ]
  },
  {
   "cell_type": "code",
   "execution_count": 70,
   "id": "d80e4df4",
   "metadata": {},
   "outputs": [
    {
     "data": {
      "text/plain": [
       "передний    52201\n",
       "полный      50168\n",
       "задний      14481\n",
       "Name: Привод, dtype: int64"
      ]
     },
     "execution_count": 70,
     "metadata": {},
     "output_type": "execute_result"
    }
   ],
   "source": [
    "data.Привод.value_counts()"
   ]
  },
  {
   "cell_type": "code",
   "execution_count": 71,
   "id": "cb544f79",
   "metadata": {},
   "outputs": [
    {
     "data": {
      "text/plain": [
       "Левый     104825\n",
       "Правый     12025\n",
       "Name: Руль, dtype: int64"
      ]
     },
     "execution_count": 71,
     "metadata": {},
     "output_type": "execute_result"
    }
   ],
   "source": [
    "data.Руль.value_counts()"
   ]
  },
  {
   "cell_type": "code",
   "execution_count": 72,
   "id": "6ad73ea4",
   "metadata": {},
   "outputs": [
    {
     "data": {
      "text/plain": [
       "Не требует ремонта    116850\n",
       "Name: Состояние, dtype: int64"
      ]
     },
     "execution_count": 72,
     "metadata": {},
     "output_type": "execute_result"
    }
   ],
   "source": [
    "data.Состояние.value_counts()"
   ]
  },
  {
   "cell_type": "code",
   "execution_count": 73,
   "id": "edfdd3cf",
   "metadata": {},
   "outputs": [
    {
     "data": {
      "text/plain": [
       "Растаможен    116850\n",
       "Name: Таможня, dtype: int64"
      ]
     },
     "execution_count": 73,
     "metadata": {},
     "output_type": "execute_result"
    }
   ],
   "source": [
    "data.Таможня.value_counts()"
   ]
  },
  {
   "cell_type": "code",
   "execution_count": 74,
   "id": "fb68f85f",
   "metadata": {},
   "outputs": [
    {
     "data": {
      "text/plain": [
       "1    82164\n",
       "0    34686\n",
       "Name: is_val, dtype: int64"
      ]
     },
     "execution_count": 74,
     "metadata": {},
     "output_type": "execute_result"
    }
   ],
   "source": [
    "data.is_val.value_counts()"
   ]
  },
  {
   "cell_type": "code",
   "execution_count": null,
   "id": "2f5ce673",
   "metadata": {},
   "outputs": [],
   "source": []
  },
  {
   "cell_type": "code",
   "execution_count": 75,
   "id": "a4562bc1",
   "metadata": {},
   "outputs": [
    {
     "name": "stdout",
     "output_type": "stream",
     "text": [
      "<class 'pandas.core.frame.DataFrame'>\n",
      "Int64Index: 116850 entries, 0 to 116852\n",
      "Data columns (total 27 columns):\n",
      " #   Column                Non-Null Count   Dtype  \n",
      "---  ------                --------------   -----  \n",
      " 0   Unnamed: 0.1          82164 non-null   float64\n",
      " 1   bodyType              116850 non-null  object \n",
      " 2   brand                 116850 non-null  object \n",
      " 3   car_url               116850 non-null  object \n",
      " 4   color                 116850 non-null  object \n",
      " 5   engineDisplacement    116850 non-null  object \n",
      " 6   enginePower           116850 non-null  object \n",
      " 7   fuelType              116850 non-null  object \n",
      " 8   mileage               116850 non-null  int64  \n",
      " 9   modelDate             116850 non-null  int64  \n",
      " 10  model_name            116850 non-null  object \n",
      " 11  name                  116850 non-null  object \n",
      " 12  numberOfDoors         116850 non-null  int64  \n",
      " 13  productionDate        116850 non-null  int64  \n",
      " 14  sell_id               116850 non-null  int64  \n",
      " 15  super_gen             116850 non-null  object \n",
      " 16  vehicleConfiguration  116850 non-null  object \n",
      " 17  vehicleTransmission   116850 non-null  object \n",
      " 18  vendor                116850 non-null  object \n",
      " 19  Владельцы             116850 non-null  object \n",
      " 20  ПТС                   116850 non-null  object \n",
      " 21  Привод                116850 non-null  object \n",
      " 22  Руль                  116850 non-null  object \n",
      " 23  Состояние             116850 non-null  object \n",
      " 24  Таможня               116850 non-null  object \n",
      " 25  price                 116850 non-null  int64  \n",
      " 26  is_val                116850 non-null  object \n",
      "dtypes: float64(1), int64(6), object(20)\n",
      "memory usage: 29.0+ MB\n"
     ]
    }
   ],
   "source": [
    "data.info()"
   ]
  },
  {
   "cell_type": "code",
   "execution_count": 76,
   "id": "72ec6ce6",
   "metadata": {},
   "outputs": [
    {
     "data": {
      "text/html": [
       "<div>\n",
       "<style scoped>\n",
       "    .dataframe tbody tr th:only-of-type {\n",
       "        vertical-align: middle;\n",
       "    }\n",
       "\n",
       "    .dataframe tbody tr th {\n",
       "        vertical-align: top;\n",
       "    }\n",
       "\n",
       "    .dataframe thead th {\n",
       "        text-align: right;\n",
       "    }\n",
       "</style>\n",
       "<table border=\"1\" class=\"dataframe\">\n",
       "  <thead>\n",
       "    <tr style=\"text-align: right;\">\n",
       "      <th></th>\n",
       "      <th>58962</th>\n",
       "      <th>48812</th>\n",
       "      <th>3036</th>\n",
       "    </tr>\n",
       "  </thead>\n",
       "  <tbody>\n",
       "    <tr>\n",
       "      <th>Unnamed: 0.1</th>\n",
       "      <td>62505.0</td>\n",
       "      <td>51526.0</td>\n",
       "      <td>3185.0</td>\n",
       "    </tr>\n",
       "    <tr>\n",
       "      <th>bodyType</th>\n",
       "      <td>седан</td>\n",
       "      <td>седан</td>\n",
       "      <td>внедорожник 5 дв.</td>\n",
       "    </tr>\n",
       "    <tr>\n",
       "      <th>brand</th>\n",
       "      <td>LEXUS</td>\n",
       "      <td>TOYOTA</td>\n",
       "      <td>SKODA</td>\n",
       "    </tr>\n",
       "    <tr>\n",
       "      <th>car_url</th>\n",
       "      <td>https://auto.ru/cars/used/sale/lexus/gs/110574...</td>\n",
       "      <td>https://auto.ru/cars/used/sale/toyota/avensis/...</td>\n",
       "      <td>https://auto.ru/cars/used/sale/skoda/kodiaq/11...</td>\n",
       "    </tr>\n",
       "    <tr>\n",
       "      <th>color</th>\n",
       "      <td>чёрный</td>\n",
       "      <td>серый</td>\n",
       "      <td>чёрный</td>\n",
       "    </tr>\n",
       "    <tr>\n",
       "      <th>engineDisplacement</th>\n",
       "      <td>2.5 LTR</td>\n",
       "      <td>1.8 LTR</td>\n",
       "      <td>2.0 LTR</td>\n",
       "    </tr>\n",
       "    <tr>\n",
       "      <th>enginePower</th>\n",
       "      <td>208 N12</td>\n",
       "      <td>129 N12</td>\n",
       "      <td>150 N12</td>\n",
       "    </tr>\n",
       "    <tr>\n",
       "      <th>fuelType</th>\n",
       "      <td>бензин</td>\n",
       "      <td>бензин</td>\n",
       "      <td>дизель</td>\n",
       "    </tr>\n",
       "    <tr>\n",
       "      <th>mileage</th>\n",
       "      <td>140000</td>\n",
       "      <td>264000</td>\n",
       "      <td>66000</td>\n",
       "    </tr>\n",
       "    <tr>\n",
       "      <th>modelDate</th>\n",
       "      <td>2011</td>\n",
       "      <td>2006</td>\n",
       "      <td>2016</td>\n",
       "    </tr>\n",
       "    <tr>\n",
       "      <th>model_name</th>\n",
       "      <td>GS</td>\n",
       "      <td>AVENSIS</td>\n",
       "      <td>KODIAQ</td>\n",
       "    </tr>\n",
       "    <tr>\n",
       "      <th>name</th>\n",
       "      <td>250 2.5 AT (208 л.с.)</td>\n",
       "      <td>1.8 MT (129 л.с.)</td>\n",
       "      <td>2.0d AMT (150 л.с.) 4WD</td>\n",
       "    </tr>\n",
       "    <tr>\n",
       "      <th>numberOfDoors</th>\n",
       "      <td>4</td>\n",
       "      <td>4</td>\n",
       "      <td>5</td>\n",
       "    </tr>\n",
       "    <tr>\n",
       "      <th>productionDate</th>\n",
       "      <td>2013</td>\n",
       "      <td>2007</td>\n",
       "      <td>2019</td>\n",
       "    </tr>\n",
       "    <tr>\n",
       "      <th>sell_id</th>\n",
       "      <td>0</td>\n",
       "      <td>0</td>\n",
       "      <td>0</td>\n",
       "    </tr>\n",
       "    <tr>\n",
       "      <th>super_gen</th>\n",
       "      <td>{'id': '7919399', 'name': '250', 'nameplate': ...</td>\n",
       "      <td>{'id': '2426728', 'displacement': 1794, 'engin...</td>\n",
       "      <td>{'id': '20839377', 'displacement': 1968, 'engi...</td>\n",
       "    </tr>\n",
       "    <tr>\n",
       "      <th>vehicleConfiguration</th>\n",
       "      <td>SEDAN AUTOMATIC 2.5</td>\n",
       "      <td>SEDAN MECHANICAL 1.8</td>\n",
       "      <td>ALLROAD_5_DOORS ROBOT 2.0</td>\n",
       "    </tr>\n",
       "    <tr>\n",
       "      <th>vehicleTransmission</th>\n",
       "      <td>автоматическая</td>\n",
       "      <td>механическая</td>\n",
       "      <td>роботизированная</td>\n",
       "    </tr>\n",
       "    <tr>\n",
       "      <th>vendor</th>\n",
       "      <td>JAPANESE</td>\n",
       "      <td>JAPANESE</td>\n",
       "      <td>EUROPEAN</td>\n",
       "    </tr>\n",
       "    <tr>\n",
       "      <th>Владельцы</th>\n",
       "      <td>1 владелец</td>\n",
       "      <td>3 или более</td>\n",
       "      <td>2 владельца</td>\n",
       "    </tr>\n",
       "    <tr>\n",
       "      <th>ПТС</th>\n",
       "      <td>Оригинал</td>\n",
       "      <td>Дубликат</td>\n",
       "      <td>Оригинал</td>\n",
       "    </tr>\n",
       "    <tr>\n",
       "      <th>Привод</th>\n",
       "      <td>задний</td>\n",
       "      <td>передний</td>\n",
       "      <td>полный</td>\n",
       "    </tr>\n",
       "    <tr>\n",
       "      <th>Руль</th>\n",
       "      <td>Левый</td>\n",
       "      <td>Левый</td>\n",
       "      <td>Левый</td>\n",
       "    </tr>\n",
       "    <tr>\n",
       "      <th>Состояние</th>\n",
       "      <td>Не требует ремонта</td>\n",
       "      <td>Не требует ремонта</td>\n",
       "      <td>Не требует ремонта</td>\n",
       "    </tr>\n",
       "    <tr>\n",
       "      <th>Таможня</th>\n",
       "      <td>Растаможен</td>\n",
       "      <td>Растаможен</td>\n",
       "      <td>Растаможен</td>\n",
       "    </tr>\n",
       "    <tr>\n",
       "      <th>price</th>\n",
       "      <td>2090000</td>\n",
       "      <td>530000</td>\n",
       "      <td>2754000</td>\n",
       "    </tr>\n",
       "    <tr>\n",
       "      <th>is_val</th>\n",
       "      <td>1</td>\n",
       "      <td>1</td>\n",
       "      <td>1</td>\n",
       "    </tr>\n",
       "  </tbody>\n",
       "</table>\n",
       "</div>"
      ],
      "text/plain": [
       "                                                                  58962  \\\n",
       "Unnamed: 0.1                                                    62505.0   \n",
       "bodyType                                                          седан   \n",
       "brand                                                             LEXUS   \n",
       "car_url               https://auto.ru/cars/used/sale/lexus/gs/110574...   \n",
       "color                                                            чёрный   \n",
       "engineDisplacement                                              2.5 LTR   \n",
       "enginePower                                                     208 N12   \n",
       "fuelType                                                         бензин   \n",
       "mileage                                                          140000   \n",
       "modelDate                                                          2011   \n",
       "model_name                                                           GS   \n",
       "name                                              250 2.5 AT (208 л.с.)   \n",
       "numberOfDoors                                                         4   \n",
       "productionDate                                                     2013   \n",
       "sell_id                                                               0   \n",
       "super_gen             {'id': '7919399', 'name': '250', 'nameplate': ...   \n",
       "vehicleConfiguration                                SEDAN AUTOMATIC 2.5   \n",
       "vehicleTransmission                                      автоматическая   \n",
       "vendor                                                         JAPANESE   \n",
       "Владельцы                                                    1 владелец   \n",
       "ПТС                                                            Оригинал   \n",
       "Привод                                                           задний   \n",
       "Руль                                                              Левый   \n",
       "Состояние                                            Не требует ремонта   \n",
       "Таможня                                                      Растаможен   \n",
       "price                                                           2090000   \n",
       "is_val                                                                1   \n",
       "\n",
       "                                                                  48812  \\\n",
       "Unnamed: 0.1                                                    51526.0   \n",
       "bodyType                                                          седан   \n",
       "brand                                                            TOYOTA   \n",
       "car_url               https://auto.ru/cars/used/sale/toyota/avensis/...   \n",
       "color                                                             серый   \n",
       "engineDisplacement                                              1.8 LTR   \n",
       "enginePower                                                     129 N12   \n",
       "fuelType                                                         бензин   \n",
       "mileage                                                          264000   \n",
       "modelDate                                                          2006   \n",
       "model_name                                                      AVENSIS   \n",
       "name                                                  1.8 MT (129 л.с.)   \n",
       "numberOfDoors                                                         4   \n",
       "productionDate                                                     2007   \n",
       "sell_id                                                               0   \n",
       "super_gen             {'id': '2426728', 'displacement': 1794, 'engin...   \n",
       "vehicleConfiguration                               SEDAN MECHANICAL 1.8   \n",
       "vehicleTransmission                                        механическая   \n",
       "vendor                                                         JAPANESE   \n",
       "Владельцы                                                   3 или более   \n",
       "ПТС                                                            Дубликат   \n",
       "Привод                                                         передний   \n",
       "Руль                                                              Левый   \n",
       "Состояние                                            Не требует ремонта   \n",
       "Таможня                                                      Растаможен   \n",
       "price                                                            530000   \n",
       "is_val                                                                1   \n",
       "\n",
       "                                                                  3036   \n",
       "Unnamed: 0.1                                                     3185.0  \n",
       "bodyType                                              внедорожник 5 дв.  \n",
       "brand                                                             SKODA  \n",
       "car_url               https://auto.ru/cars/used/sale/skoda/kodiaq/11...  \n",
       "color                                                            чёрный  \n",
       "engineDisplacement                                              2.0 LTR  \n",
       "enginePower                                                     150 N12  \n",
       "fuelType                                                         дизель  \n",
       "mileage                                                           66000  \n",
       "modelDate                                                          2016  \n",
       "model_name                                                       KODIAQ  \n",
       "name                                            2.0d AMT (150 л.с.) 4WD  \n",
       "numberOfDoors                                                         5  \n",
       "productionDate                                                     2019  \n",
       "sell_id                                                               0  \n",
       "super_gen             {'id': '20839377', 'displacement': 1968, 'engi...  \n",
       "vehicleConfiguration                          ALLROAD_5_DOORS ROBOT 2.0  \n",
       "vehicleTransmission                                    роботизированная  \n",
       "vendor                                                         EUROPEAN  \n",
       "Владельцы                                                   2 владельца  \n",
       "ПТС                                                            Оригинал  \n",
       "Привод                                                           полный  \n",
       "Руль                                                              Левый  \n",
       "Состояние                                            Не требует ремонта  \n",
       "Таможня                                                      Растаможен  \n",
       "price                                                           2754000  \n",
       "is_val                                                                1  "
      ]
     },
     "execution_count": 76,
     "metadata": {},
     "output_type": "execute_result"
    }
   ],
   "source": [
    "data.sample(3).T"
   ]
  },
  {
   "cell_type": "code",
   "execution_count": null,
   "id": "6e28ed3b",
   "metadata": {},
   "outputs": [],
   "source": []
  },
  {
   "cell_type": "code",
   "execution_count": 77,
   "id": "a3daadd3",
   "metadata": {},
   "outputs": [
    {
     "data": {
      "text/plain": [
       "Unnamed: 0.1            34686\n",
       "bodyType                    0\n",
       "brand                       0\n",
       "car_url                     0\n",
       "color                       0\n",
       "engineDisplacement          0\n",
       "enginePower                 0\n",
       "fuelType                    0\n",
       "mileage                     0\n",
       "modelDate                   0\n",
       "model_name                  0\n",
       "name                        0\n",
       "numberOfDoors               0\n",
       "productionDate              0\n",
       "sell_id                     0\n",
       "super_gen                   0\n",
       "vehicleConfiguration        0\n",
       "vehicleTransmission         0\n",
       "vendor                      0\n",
       "Владельцы                   0\n",
       "ПТС                         0\n",
       "Привод                      0\n",
       "Руль                        0\n",
       "Состояние                   0\n",
       "Таможня                     0\n",
       "price                       0\n",
       "is_val                      0\n",
       "dtype: int64"
      ]
     },
     "execution_count": 77,
     "metadata": {},
     "output_type": "execute_result"
    }
   ],
   "source": [
    "data.isnull().sum()"
   ]
  },
  {
   "cell_type": "code",
   "execution_count": null,
   "id": "e8ac5368",
   "metadata": {},
   "outputs": [],
   "source": []
  },
  {
   "cell_type": "code",
   "execution_count": 78,
   "id": "86402bb9",
   "metadata": {},
   "outputs": [],
   "source": [
    "num_f=['modelDate', 'productionDate', 'numberOfDoors','mileage', 'price']\n",
    "\n",
    "for col in num_f:\n",
    "    data[col] = data[col].astype('int64')"
   ]
  },
  {
   "cell_type": "markdown",
   "id": "95edf983",
   "metadata": {},
   "source": [
    "Выбираем признаки для дальнейшей работы  "
   ]
  },
  {
   "cell_type": "code",
   "execution_count": 79,
   "id": "9b39d352",
   "metadata": {},
   "outputs": [],
   "source": [
    "columns = ['bodyType', 'brand', 'color', 'fuelType', 'modelDate', 'model_name', 'numberOfDoors',\n",
    "           'productionDate', 'vehicleConfiguration', 'vehicleTransmission', 'engineDisplacement',\n",
    "           'enginePower', 'mileage', 'vendor','price','is_val']\n",
    "data = data[columns]"
   ]
  },
  {
   "cell_type": "code",
   "execution_count": 80,
   "id": "7a91a841",
   "metadata": {},
   "outputs": [
    {
     "data": {
      "text/plain": [
       "0         1020000\n",
       "1          285000\n",
       "2         2230000\n",
       "3          430000\n",
       "4          369000\n",
       "           ...   \n",
       "116848          0\n",
       "116849          0\n",
       "116850          0\n",
       "116851          0\n",
       "116852          0\n",
       "Name: price, Length: 116850, dtype: int64"
      ]
     },
     "execution_count": 80,
     "metadata": {},
     "output_type": "execute_result"
    }
   ],
   "source": [
    "data['price']"
   ]
  },
  {
   "cell_type": "markdown",
   "id": "5cc99e4d",
   "metadata": {},
   "source": [
    "# Часть 3. EDA."
   ]
  },
  {
   "cell_type": "code",
   "execution_count": 81,
   "id": "65ec068a",
   "metadata": {},
   "outputs": [
    {
     "data": {
      "text/html": [
       "<div>\n",
       "<style scoped>\n",
       "    .dataframe tbody tr th:only-of-type {\n",
       "        vertical-align: middle;\n",
       "    }\n",
       "\n",
       "    .dataframe tbody tr th {\n",
       "        vertical-align: top;\n",
       "    }\n",
       "\n",
       "    .dataframe thead th {\n",
       "        text-align: right;\n",
       "    }\n",
       "</style>\n",
       "<table border=\"1\" class=\"dataframe\">\n",
       "  <thead>\n",
       "    <tr style=\"text-align: right;\">\n",
       "      <th></th>\n",
       "      <th>bodyType</th>\n",
       "      <th>brand</th>\n",
       "      <th>color</th>\n",
       "      <th>fuelType</th>\n",
       "      <th>modelDate</th>\n",
       "      <th>model_name</th>\n",
       "      <th>numberOfDoors</th>\n",
       "      <th>productionDate</th>\n",
       "      <th>vehicleConfiguration</th>\n",
       "      <th>vehicleTransmission</th>\n",
       "      <th>engineDisplacement</th>\n",
       "      <th>enginePower</th>\n",
       "      <th>mileage</th>\n",
       "      <th>vendor</th>\n",
       "      <th>price</th>\n",
       "      <th>is_val</th>\n",
       "    </tr>\n",
       "  </thead>\n",
       "  <tbody>\n",
       "    <tr>\n",
       "      <th>0</th>\n",
       "      <td>универсал 5 дв.</td>\n",
       "      <td>SKODA</td>\n",
       "      <td>коричневый</td>\n",
       "      <td>бензин</td>\n",
       "      <td>2013</td>\n",
       "      <td>OCTAVIA</td>\n",
       "      <td>5</td>\n",
       "      <td>2014</td>\n",
       "      <td>WAGON_5_DOORS ROBOT 1.4</td>\n",
       "      <td>роботизированная</td>\n",
       "      <td>1.4 LTR</td>\n",
       "      <td>140 N12</td>\n",
       "      <td>185000</td>\n",
       "      <td>EUROPEAN</td>\n",
       "      <td>1020000</td>\n",
       "      <td>1</td>\n",
       "    </tr>\n",
       "    <tr>\n",
       "      <th>1</th>\n",
       "      <td>лифтбек</td>\n",
       "      <td>SKODA</td>\n",
       "      <td>синий</td>\n",
       "      <td>бензин</td>\n",
       "      <td>2000</td>\n",
       "      <td>OCTAVIA</td>\n",
       "      <td>5</td>\n",
       "      <td>2008</td>\n",
       "      <td>LIFTBACK MECHANICAL 1.4</td>\n",
       "      <td>механическая</td>\n",
       "      <td>1.4 LTR</td>\n",
       "      <td>75 N12</td>\n",
       "      <td>241327</td>\n",
       "      <td>EUROPEAN</td>\n",
       "      <td>285000</td>\n",
       "      <td>1</td>\n",
       "    </tr>\n",
       "    <tr>\n",
       "      <th>2</th>\n",
       "      <td>лифтбек</td>\n",
       "      <td>SKODA</td>\n",
       "      <td>серебристый</td>\n",
       "      <td>бензин</td>\n",
       "      <td>2019</td>\n",
       "      <td>OCTAVIA</td>\n",
       "      <td>5</td>\n",
       "      <td>2021</td>\n",
       "      <td>LIFTBACK AUTOMATIC 1.4</td>\n",
       "      <td>автоматическая</td>\n",
       "      <td>1.4 LTR</td>\n",
       "      <td>150 N12</td>\n",
       "      <td>14000</td>\n",
       "      <td>EUROPEAN</td>\n",
       "      <td>2230000</td>\n",
       "      <td>1</td>\n",
       "    </tr>\n",
       "  </tbody>\n",
       "</table>\n",
       "</div>"
      ],
      "text/plain": [
       "          bodyType  brand        color fuelType  modelDate model_name  \\\n",
       "0  универсал 5 дв.  SKODA   коричневый   бензин       2013    OCTAVIA   \n",
       "1          лифтбек  SKODA        синий   бензин       2000    OCTAVIA   \n",
       "2          лифтбек  SKODA  серебристый   бензин       2019    OCTAVIA   \n",
       "\n",
       "   numberOfDoors  productionDate     vehicleConfiguration vehicleTransmission  \\\n",
       "0              5            2014  WAGON_5_DOORS ROBOT 1.4    роботизированная   \n",
       "1              5            2008  LIFTBACK MECHANICAL 1.4        механическая   \n",
       "2              5            2021   LIFTBACK AUTOMATIC 1.4      автоматическая   \n",
       "\n",
       "  engineDisplacement enginePower  mileage    vendor    price is_val  \n",
       "0            1.4 LTR     140 N12   185000  EUROPEAN  1020000      1  \n",
       "1            1.4 LTR      75 N12   241327  EUROPEAN   285000      1  \n",
       "2            1.4 LTR     150 N12    14000  EUROPEAN  2230000      1  "
      ]
     },
     "execution_count": 81,
     "metadata": {},
     "output_type": "execute_result"
    }
   ],
   "source": [
    "data.head(3)"
   ]
  },
  {
   "cell_type": "code",
   "execution_count": 82,
   "id": "7d9e6148",
   "metadata": {},
   "outputs": [
    {
     "name": "stdout",
     "output_type": "stream",
     "text": [
      "<class 'pandas.core.frame.DataFrame'>\n",
      "Int64Index: 116850 entries, 0 to 116852\n",
      "Data columns (total 16 columns):\n",
      " #   Column                Non-Null Count   Dtype \n",
      "---  ------                --------------   ----- \n",
      " 0   bodyType              116850 non-null  object\n",
      " 1   brand                 116850 non-null  object\n",
      " 2   color                 116850 non-null  object\n",
      " 3   fuelType              116850 non-null  object\n",
      " 4   modelDate             116850 non-null  int64 \n",
      " 5   model_name            116850 non-null  object\n",
      " 6   numberOfDoors         116850 non-null  int64 \n",
      " 7   productionDate        116850 non-null  int64 \n",
      " 8   vehicleConfiguration  116850 non-null  object\n",
      " 9   vehicleTransmission   116850 non-null  object\n",
      " 10  engineDisplacement    116850 non-null  object\n",
      " 11  enginePower           116850 non-null  object\n",
      " 12  mileage               116850 non-null  int64 \n",
      " 13  vendor                116850 non-null  object\n",
      " 14  price                 116850 non-null  int64 \n",
      " 15  is_val                116850 non-null  object\n",
      "dtypes: int64(5), object(11)\n",
      "memory usage: 19.2+ MB\n"
     ]
    }
   ],
   "source": [
    "data.info()"
   ]
  },
  {
   "cell_type": "code",
   "execution_count": 83,
   "id": "226d7b77",
   "metadata": {},
   "outputs": [
    {
     "name": "stdout",
     "output_type": "stream",
     "text": [
      "347 55\n"
     ]
    }
   ],
   "source": [
    "print(data['enginePower'].nunique(), data['engineDisplacement'].nunique())"
   ]
  },
  {
   "cell_type": "code",
   "execution_count": 84,
   "id": "2eb0e96a",
   "metadata": {},
   "outputs": [],
   "source": [
    "# Избавляемся от пустых значений в 'engineDisplacement'(их всего 101), заменяя на среднее\n",
    "data['engineDisplacement'] = data['engineDisplacement'].apply(lambda x: '2.5 LTR' if x == ' LTR' else x)"
   ]
  },
  {
   "cell_type": "code",
   "execution_count": 85,
   "id": "e6adf351",
   "metadata": {},
   "outputs": [],
   "source": [
    "data['enginePower'] = data['enginePower'].apply(lambda x: int(x.split(' ')[0].replace('.', '')))\n",
    "data['engineDisplacement'] = data['engineDisplacement'].apply(\n",
    "                                                    lambda x: int(x.split(' ')[0].replace('.', '')))"
   ]
  },
  {
   "cell_type": "code",
   "execution_count": 86,
   "id": "763007e8",
   "metadata": {},
   "outputs": [],
   "source": [
    "# Списки числовых и категориальных признаков в cars\n",
    "num_f = ['modelDate', 'productionDate', 'mileage', 'enginePower', 'engineDisplacement']\n",
    "cat_f = ['bodyType', 'brand', 'color', 'fuelType', 'model_name', 'numberOfDoors', 'vehicleConfiguration',\n",
    "         'vehicleTransmission', 'vendor']"
   ]
  },
  {
   "cell_type": "markdown",
   "id": "51b0b56d",
   "metadata": {},
   "source": [
    "# 3.1 Числовые признаки"
   ]
  },
  {
   "cell_type": "code",
   "execution_count": 87,
   "id": "bc667597",
   "metadata": {},
   "outputs": [
    {
     "name": "stderr",
     "output_type": "stream",
     "text": [
      "/home/admins/anaconda3/lib/python3.9/site-packages/seaborn/distributions.py:2619: FutureWarning: `distplot` is a deprecated function and will be removed in a future version. Please adapt your code to use either `displot` (a figure-level function with similar flexibility) or `histplot` (an axes-level function for histograms).\n",
      "  warnings.warn(msg, FutureWarning)\n"
     ]
    },
    {
     "data": {
      "image/png": "[encoded data removed]",
      "text/plain": [
       "<Figure size 432x288 with 1 Axes>"
      ]
     },
     "metadata": {
      "needs_background": "light"
     },
     "output_type": "display_data"
    },
    {
     "name": "stderr",
     "output_type": "stream",
     "text": [
      "/home/admins/anaconda3/lib/python3.9/site-packages/seaborn/distributions.py:2619: FutureWarning: `distplot` is a deprecated function and will be removed in a future version. Please adapt your code to use either `displot` (a figure-level function with similar flexibility) or `histplot` (an axes-level function for histograms).\n",
      "  warnings.warn(msg, FutureWarning)\n"
     ]
    },
    {
     "data": {
      "image/png": "[encoded data removed]",
      "text/plain": [
       "<Figure size 432x288 with 1 Axes>"
      ]
     },
     "metadata": {
      "needs_background": "light"
     },
     "output_type": "display_data"
    },
    {
     "name": "stderr",
     "output_type": "stream",
     "text": [
      "/home/admins/anaconda3/lib/python3.9/site-packages/seaborn/distributions.py:2619: FutureWarning: `distplot` is a deprecated function and will be removed in a future version. Please adapt your code to use either `displot` (a figure-level function with similar flexibility) or `histplot` (an axes-level function for histograms).\n",
      "  warnings.warn(msg, FutureWarning)\n"
     ]
    },
    {
     "data": {
      "image/png": "[encoded data removed]",
      "text/plain": [
       "<Figure size 432x288 with 1 Axes>"
      ]
     },
     "metadata": {
      "needs_background": "light"
     },
     "output_type": "display_data"
    },
    {
     "name": "stderr",
     "output_type": "stream",
     "text": [
      "/home/admins/anaconda3/lib/python3.9/site-packages/seaborn/distributions.py:2619: FutureWarning: `distplot` is a deprecated function and will be removed in a future version. Please adapt your code to use either `displot` (a figure-level function with similar flexibility) or `histplot` (an axes-level function for histograms).\n",
      "  warnings.warn(msg, FutureWarning)\n"
     ]
    },
    {
     "data": {
      "image/png": "[encoded data removed]",
      "text/plain": [
       "<Figure size 432x288 with 1 Axes>"
      ]
     },
     "metadata": {
      "needs_background": "light"
     },
     "output_type": "display_data"
    },
    {
     "name": "stderr",
     "output_type": "stream",
     "text": [
      "/home/admins/anaconda3/lib/python3.9/site-packages/seaborn/distributions.py:2619: FutureWarning: `distplot` is a deprecated function and will be removed in a future version. Please adapt your code to use either `displot` (a figure-level function with similar flexibility) or `histplot` (an axes-level function for histograms).\n",
      "  warnings.warn(msg, FutureWarning)\n"
     ]
    },
    {
     "data": {
      "image/png": "[encoded data removed]",
      "text/plain": [
       "<Figure size 432x288 with 1 Axes>"
      ]
     },
     "metadata": {
      "needs_background": "light"
     },
     "output_type": "display_data"
    }
   ],
   "source": [
    "for i in num_f:\n",
    "    plt.figure()\n",
    "    sns.distplot(data[i])\n",
    "    plt.title(i)\n",
    "    plt.show()"
   ]
  },
  {
   "cell_type": "markdown",
   "id": "80def654",
   "metadata": {},
   "source": [
    "Видим, что распределения у признаков близки к нормальным, справа или слева имеются длинные хвосты.  \n",
    "Посмотрим на выбросы"
   ]
  },
  {
   "cell_type": "code",
   "execution_count": 88,
   "id": "6e94f58d",
   "metadata": {},
   "outputs": [],
   "source": [
    "def outliers_iqr(x):\n",
    "    ''' found outliers '''\n",
    "    quartile_1, quartile_3 = np.percentile(x, [25, 75])\n",
    "    iqr = quartile_3 - quartile_1\n",
    "    lower_bound = quartile_1 - (iqr * 1.5)\n",
    "    upper_bound = quartile_3 + (iqr * 1.5)    \n",
    "    return np.where((x > upper_bound) | (x < lower_bound))[0]"
   ]
  },
  {
   "cell_type": "code",
   "execution_count": 89,
   "id": "90fd478c",
   "metadata": {},
   "outputs": [
    {
     "name": "stdout",
     "output_type": "stream",
     "text": [
      "modelDate 3027\n",
      "productionDate 2135\n",
      "mileage 2205\n",
      "enginePower 4781\n",
      "engineDisplacement 2666\n"
     ]
    }
   ],
   "source": [
    "# Выведем на экран количество выбросов по межквартильному размаху\n",
    "for i in num_f:\n",
    "    print(i, len(outliers_iqr(data[i])))"
   ]
  },
  {
   "cell_type": "code",
   "execution_count": 90,
   "id": "048bbe45",
   "metadata": {},
   "outputs": [
    {
     "data": {
      "text/plain": [
       "<AxesSubplot:>"
      ]
     },
     "execution_count": 90,
     "metadata": {},
     "output_type": "execute_result"
    },
    {
     "data": {
      "image/png": "[encoded data removed]",
      "text/plain": [
       "<Figure size 720x432 with 2 Axes>"
      ]
     },
     "metadata": {
      "needs_background": "light"
     },
     "output_type": "display_data"
    }
   ],
   "source": [
    "# Посмотрим корреляцию числовых признаков\n",
    "correlation = data[num_f].corr()\n",
    "plt.figure(figsize=(10, 6))\n",
    "sns.heatmap(correlation, annot=True, cmap='coolwarm')"
   ]
  },
  {
   "cell_type": "markdown",
   "id": "aa66fb47",
   "metadata": {},
   "source": [
    "Выводы по рассмотрению корреляции числовых признаков:  \n",
    "  +0.97 между годом выпуска и годом модели, видимо, имеет смысл один из этих  признаков убрать или заменить на их разность  \n",
    "  +0.84 между мощностью и объемом двигателя  \n",
    "  -0.79 между пробегом и годом производства, здесь тоже можно создать новый признак вроде пробег/возраст"
   ]
  },
  {
   "cell_type": "markdown",
   "id": "e6bf611b",
   "metadata": {},
   "source": [
    "# 3.2 Категориальные признаки"
   ]
  },
  {
   "cell_type": "code",
   "execution_count": 91,
   "id": "9375a91d",
   "metadata": {},
   "outputs": [
    {
     "name": "stdout",
     "output_type": "stream",
     "text": [
      "bodyType 24 \n",
      " седан                42220\n",
      "внедорожник 5 дв.    41884\n",
      "хэтчбек 5 дв.         7856\n",
      "Name: bodyType, dtype: int64 \n",
      "\n",
      "brand 12 \n",
      " TOYOTA        18417\n",
      "VOLKSWAGEN    15361\n",
      "MERCEDES      14905\n",
      "Name: brand, dtype: int64 \n",
      "\n",
      "color 16 \n",
      " чёрный    34278\n",
      "белый     24355\n",
      "серый     14951\n",
      "Name: color, dtype: int64 \n",
      "\n",
      "fuelType 5 \n",
      " бензин    94125\n",
      "дизель    20318\n",
      "гибрид     2018\n",
      "Name: fuelType, dtype: int64 \n",
      "\n",
      "model_name 650 \n",
      " OCTAVIA    3686\n",
      "5ER        3156\n",
      "POLO       2985\n",
      "Name: model_name, dtype: int64 \n",
      "\n",
      "numberOfDoors 5 \n",
      " 5    65291\n",
      "4    46060\n",
      "2     3547\n",
      "Name: numberOfDoors, dtype: int64 \n",
      "\n",
      "vehicleConfiguration 813 \n",
      " ALLROAD_5_DOORS AUTOMATIC 3.0    7987\n",
      "SEDAN AUTOMATIC 2.0              5358\n",
      "ALLROAD_5_DOORS VARIATOR 2.0     4766\n",
      "Name: vehicleConfiguration, dtype: int64 \n",
      "\n",
      "vehicleTransmission 4 \n",
      " автоматическая    65203\n",
      "механическая      25067\n",
      "вариатор          14767\n",
      "Name: vehicleTransmission, dtype: int64 \n",
      "\n",
      "vendor 3 \n",
      " EUROPEAN    64536\n",
      "JAPANESE    52310\n",
      "AMERICAN        4\n",
      "Name: vendor, dtype: int64 \n",
      "\n"
     ]
    }
   ],
   "source": [
    "for col in cat_f:\n",
    "    print(col, data[col].nunique(), '\\n', data[col].value_counts()[:3], '\\n')"
   ]
  },
  {
   "cell_type": "markdown",
   "id": "0b7954cb",
   "metadata": {},
   "source": [
    "Зфметим, что признаки 'model_name' и 'vehicleConfiguration' имеют очень большой спектр значений(438 и 650)\n",
    "Остальные 7 категориальных признаков имеют небольшие спектры значений.\n",
    "Займемся пока созданием новых признаков, потом продолжим анализ старых и новых вместе.\n"
   ]
  },
  {
   "cell_type": "markdown",
   "id": "52d4bfbb",
   "metadata": {},
   "source": [
    "# Часть 4. Feature Engineering"
   ]
  },
  {
   "cell_type": "markdown",
   "id": "ac22d2e1",
   "metadata": {},
   "source": [
    "Создадим два бинарных категориальных признака, которые на практике сильно влияют на стоимость автомобиля:\n",
    "'allroad' - будет отражать наличие полного привода\n",
    "'luxury' - будет отражать премиальность бренда\n"
   ]
  },
  {
   "cell_type": "code",
   "execution_count": 92,
   "id": "5f7ddb9d",
   "metadata": {},
   "outputs": [],
   "source": [
    "data['luxury'] = data['brand'].apply(lambda x: 1 if x in ['BMW','MERCEDES','LEXUS','INFINITI'] else 0)\n",
    "cat_f.append('luxury')"
   ]
  },
  {
   "cell_type": "code",
   "execution_count": 93,
   "id": "2b059775",
   "metadata": {},
   "outputs": [],
   "source": [
    "data['allroad'] = data['vehicleConfiguration'].apply(lambda x: 1 if x.split('_')[0] == 'ALLROAD' else 0)\n",
    "cat_f.append('allroad')"
   ]
  },
  {
   "cell_type": "code",
   "execution_count": 94,
   "id": "f801606d",
   "metadata": {},
   "outputs": [
    {
     "name": "stdout",
     "output_type": "stream",
     "text": [
      "<class 'pandas.core.frame.DataFrame'>\n",
      "Int64Index: 116850 entries, 0 to 116852\n",
      "Data columns (total 18 columns):\n",
      " #   Column                Non-Null Count   Dtype \n",
      "---  ------                --------------   ----- \n",
      " 0   bodyType              116850 non-null  object\n",
      " 1   brand                 116850 non-null  object\n",
      " 2   color                 116850 non-null  object\n",
      " 3   fuelType              116850 non-null  object\n",
      " 4   modelDate             116850 non-null  int64 \n",
      " 5   model_name            116850 non-null  object\n",
      " 6   numberOfDoors         116850 non-null  int64 \n",
      " 7   productionDate        116850 non-null  int64 \n",
      " 8   vehicleConfiguration  116850 non-null  object\n",
      " 9   vehicleTransmission   116850 non-null  object\n",
      " 10  engineDisplacement    116850 non-null  int64 \n",
      " 11  enginePower           116850 non-null  int64 \n",
      " 12  mileage               116850 non-null  int64 \n",
      " 13  vendor                116850 non-null  object\n",
      " 14  price                 116850 non-null  int64 \n",
      " 15  is_val                116850 non-null  object\n",
      " 16  luxury                116850 non-null  int64 \n",
      " 17  allroad               116850 non-null  int64 \n",
      "dtypes: int64(9), object(9)\n",
      "memory usage: 21.0+ MB\n"
     ]
    }
   ],
   "source": [
    "data.info()"
   ]
  },
  {
   "cell_type": "code",
   "execution_count": 95,
   "id": "d089c09c",
   "metadata": {},
   "outputs": [],
   "source": [
    "data['model_age'] = data['productionDate'] - data['modelDate']\n",
    "data['model_age'] = data['model_age'].apply(lambda x: 0 if x < 0 else x)\n",
    "data['km_pro_year'] = (data['mileage']/(int(2022) - data['productionDate'])).astype('int64')\n",
    "num_f.append('model_age')\n",
    "num_f.append('km_pro_year')"
   ]
  },
  {
   "cell_type": "code",
   "execution_count": 96,
   "id": "2d056ec9",
   "metadata": {},
   "outputs": [
    {
     "name": "stderr",
     "output_type": "stream",
     "text": [
      "/home/admins/anaconda3/lib/python3.9/site-packages/seaborn/distributions.py:2619: FutureWarning: `distplot` is a deprecated function and will be removed in a future version. Please adapt your code to use either `displot` (a figure-level function with similar flexibility) or `histplot` (an axes-level function for histograms).\n",
      "  warnings.warn(msg, FutureWarning)\n"
     ]
    },
    {
     "data": {
      "image/png": "[encoded data removed]",
      "text/plain": [
       "<Figure size 432x288 with 1 Axes>"
      ]
     },
     "metadata": {
      "needs_background": "light"
     },
     "output_type": "display_data"
    }
   ],
   "source": [
    "plt.figure()\n",
    "sns.distplot(data['model_age'][data['model_age'] < 10])\n",
    "plt.title('model_age')\n",
    "plt.show()"
   ]
  },
  {
   "cell_type": "code",
   "execution_count": 97,
   "id": "fcd7acff",
   "metadata": {},
   "outputs": [
    {
     "name": "stderr",
     "output_type": "stream",
     "text": [
      "/home/admins/anaconda3/lib/python3.9/site-packages/seaborn/distributions.py:2619: FutureWarning: `distplot` is a deprecated function and will be removed in a future version. Please adapt your code to use either `displot` (a figure-level function with similar flexibility) or `histplot` (an axes-level function for histograms).\n",
      "  warnings.warn(msg, FutureWarning)\n"
     ]
    },
    {
     "data": {
      "image/png": "[encoded data removed]",
      "text/plain": [
       "<Figure size 432x288 with 1 Axes>"
      ]
     },
     "metadata": {
      "needs_background": "light"
     },
     "output_type": "display_data"
    }
   ],
   "source": [
    "plt.figure()\n",
    "sns.distplot(data['km_pro_year'][data['km_pro_year'] < 35000])\n",
    "plt.title('km_pro_year')\n",
    "plt.show()"
   ]
  },
  {
   "cell_type": "code",
   "execution_count": 98,
   "id": "7939713b",
   "metadata": {},
   "outputs": [
    {
     "data": {
      "text/plain": [
       "<AxesSubplot:>"
      ]
     },
     "execution_count": 98,
     "metadata": {},
     "output_type": "execute_result"
    },
    {
     "data": {
      "image/png": "[encoded data removed]",
      "text/plain": [
       "<Figure size 720x432 with 2 Axes>"
      ]
     },
     "metadata": {
      "needs_background": "light"
     },
     "output_type": "display_data"
    }
   ],
   "source": [
    "# Снова построим heatmap. Видим, что новые признаки не имеют сильных корреляций\n",
    "correlation = data[num_f].corr()\n",
    "plt.figure(figsize=(10, 6))\n",
    "sns.heatmap(correlation, annot=True, cmap='coolwarm')"
   ]
  },
  {
   "cell_type": "markdown",
   "id": "6007520f",
   "metadata": {},
   "source": [
    "# 5. Label Encoding\n"
   ]
  },
  {
   "cell_type": "code",
   "execution_count": 99,
   "id": "188693a4",
   "metadata": {},
   "outputs": [],
   "source": [
    "# Кодируем категориальные признаки\n",
    "for col in cat_f:\n",
    "    data[col] = data[col].astype('category').cat.codes"
   ]
  },
  {
   "cell_type": "code",
   "execution_count": 100,
   "id": "dd340b26",
   "metadata": {},
   "outputs": [
    {
     "data": {
      "text/html": [
       "<div>\n",
       "<style scoped>\n",
       "    .dataframe tbody tr th:only-of-type {\n",
       "        vertical-align: middle;\n",
       "    }\n",
       "\n",
       "    .dataframe tbody tr th {\n",
       "        vertical-align: top;\n",
       "    }\n",
       "\n",
       "    .dataframe thead th {\n",
       "        text-align: right;\n",
       "    }\n",
       "</style>\n",
       "<table border=\"1\" class=\"dataframe\">\n",
       "  <thead>\n",
       "    <tr style=\"text-align: right;\">\n",
       "      <th></th>\n",
       "      <th>bodyType</th>\n",
       "      <th>brand</th>\n",
       "      <th>color</th>\n",
       "      <th>fuelType</th>\n",
       "      <th>modelDate</th>\n",
       "      <th>model_name</th>\n",
       "      <th>numberOfDoors</th>\n",
       "      <th>productionDate</th>\n",
       "      <th>vehicleConfiguration</th>\n",
       "      <th>vehicleTransmission</th>\n",
       "      <th>engineDisplacement</th>\n",
       "      <th>enginePower</th>\n",
       "      <th>mileage</th>\n",
       "      <th>vendor</th>\n",
       "      <th>price</th>\n",
       "      <th>is_val</th>\n",
       "      <th>luxury</th>\n",
       "      <th>allroad</th>\n",
       "      <th>model_age</th>\n",
       "      <th>km_pro_year</th>\n",
       "    </tr>\n",
       "  </thead>\n",
       "  <tbody>\n",
       "    <tr>\n",
       "      <th>0</th>\n",
       "      <td>19</td>\n",
       "      <td>8</td>\n",
       "      <td>6</td>\n",
       "      <td>0</td>\n",
       "      <td>2013</td>\n",
       "      <td>375</td>\n",
       "      <td>4</td>\n",
       "      <td>2014</td>\n",
       "      <td>792</td>\n",
       "      <td>3</td>\n",
       "      <td>14</td>\n",
       "      <td>140</td>\n",
       "      <td>185000</td>\n",
       "      <td>1</td>\n",
       "      <td>1020000</td>\n",
       "      <td>1</td>\n",
       "      <td>0</td>\n",
       "      <td>0</td>\n",
       "      <td>1</td>\n",
       "      <td>23125</td>\n",
       "    </tr>\n",
       "    <tr>\n",
       "      <th>1</th>\n",
       "      <td>8</td>\n",
       "      <td>8</td>\n",
       "      <td>13</td>\n",
       "      <td>0</td>\n",
       "      <td>2000</td>\n",
       "      <td>375</td>\n",
       "      <td>4</td>\n",
       "      <td>2008</td>\n",
       "      <td>419</td>\n",
       "      <td>2</td>\n",
       "      <td>14</td>\n",
       "      <td>75</td>\n",
       "      <td>241327</td>\n",
       "      <td>1</td>\n",
       "      <td>285000</td>\n",
       "      <td>1</td>\n",
       "      <td>0</td>\n",
       "      <td>0</td>\n",
       "      <td>8</td>\n",
       "      <td>17237</td>\n",
       "    </tr>\n",
       "    <tr>\n",
       "      <th>2</th>\n",
       "      <td>8</td>\n",
       "      <td>8</td>\n",
       "      <td>11</td>\n",
       "      <td>0</td>\n",
       "      <td>2019</td>\n",
       "      <td>375</td>\n",
       "      <td>4</td>\n",
       "      <td>2021</td>\n",
       "      <td>410</td>\n",
       "      <td>0</td>\n",
       "      <td>14</td>\n",
       "      <td>150</td>\n",
       "      <td>14000</td>\n",
       "      <td>1</td>\n",
       "      <td>2230000</td>\n",
       "      <td>1</td>\n",
       "      <td>0</td>\n",
       "      <td>0</td>\n",
       "      <td>2</td>\n",
       "      <td>14000</td>\n",
       "    </tr>\n",
       "  </tbody>\n",
       "</table>\n",
       "</div>"
      ],
      "text/plain": [
       "   bodyType  brand  color  fuelType  modelDate  model_name  numberOfDoors  \\\n",
       "0        19      8      6         0       2013         375              4   \n",
       "1         8      8     13         0       2000         375              4   \n",
       "2         8      8     11         0       2019         375              4   \n",
       "\n",
       "   productionDate  vehicleConfiguration  vehicleTransmission  \\\n",
       "0            2014                   792                    3   \n",
       "1            2008                   419                    2   \n",
       "2            2021                   410                    0   \n",
       "\n",
       "   engineDisplacement  enginePower  mileage  vendor    price is_val  luxury  \\\n",
       "0                  14          140   185000       1  1020000      1       0   \n",
       "1                  14           75   241327       1   285000      1       0   \n",
       "2                  14          150    14000       1  2230000      1       0   \n",
       "\n",
       "   allroad  model_age  km_pro_year  \n",
       "0        0          1        23125  \n",
       "1        0          8        17237  \n",
       "2        0          2        14000  "
      ]
     },
     "execution_count": 100,
     "metadata": {},
     "output_type": "execute_result"
    }
   ],
   "source": [
    "X_train_test = data.copy()\n",
    "X_train_test.head(3)"
   ]
  },
  {
   "cell_type": "code",
   "execution_count": 101,
   "id": "de41901c",
   "metadata": {},
   "outputs": [
    {
     "data": {
      "text/plain": [
       "1    82164\n",
       "0    34686\n",
       "Name: is_val, dtype: int64"
      ]
     },
     "execution_count": 101,
     "metadata": {},
     "output_type": "execute_result"
    }
   ],
   "source": [
    "data.is_val.value_counts()"
   ]
  },
  {
   "cell_type": "code",
   "execution_count": 102,
   "id": "5fda31fa",
   "metadata": {},
   "outputs": [],
   "source": [
    "# Разделяем обратно train и test\n",
    "train = X_train_test.query('is_val == \"1\"').drop(['is_val'], axis=1)\n",
    "test = X_train_test.query('is_val == \"0\"').drop(['is_val'], axis=1)"
   ]
  },
  {
   "cell_type": "code",
   "execution_count": null,
   "id": "e5b46c11",
   "metadata": {},
   "outputs": [],
   "source": []
  },
  {
   "cell_type": "code",
   "execution_count": 103,
   "id": "e28fe19b",
   "metadata": {},
   "outputs": [
    {
     "data": {
      "text/plain": [
       "Index(['bodyType', 'brand', 'color', 'fuelType', 'modelDate', 'model_name',\n",
       "       'numberOfDoors', 'productionDate', 'vehicleConfiguration',\n",
       "       'vehicleTransmission', 'engineDisplacement', 'enginePower', 'mileage',\n",
       "       'vendor', 'price', 'luxury', 'allroad', 'model_age', 'km_pro_year'],\n",
       "      dtype='object')"
      ]
     },
     "execution_count": 103,
     "metadata": {},
     "output_type": "execute_result"
    }
   ],
   "source": [
    "test.columns"
   ]
  },
  {
   "cell_type": "code",
   "execution_count": 104,
   "id": "8b7fcfbe",
   "metadata": {},
   "outputs": [],
   "source": [
    "y = train['price']"
   ]
  },
  {
   "cell_type": "code",
   "execution_count": 105,
   "id": "8355950c",
   "metadata": {},
   "outputs": [
    {
     "data": {
      "text/plain": [
       "pandas.core.series.Series"
      ]
     },
     "execution_count": 105,
     "metadata": {},
     "output_type": "execute_result"
    }
   ],
   "source": [
    "type(pd.Series(y))"
   ]
  },
  {
   "cell_type": "code",
   "execution_count": 106,
   "id": "406c197c",
   "metadata": {},
   "outputs": [],
   "source": [
    "# Делим train для обучения и проверки моделей\n",
    "X_train, X_test, y_train, y_test = train_test_split(train, y, test_size=0.2, shuffle=True, random_state=42)"
   ]
  },
  {
   "cell_type": "code",
   "execution_count": null,
   "id": "30531e0f",
   "metadata": {},
   "outputs": [],
   "source": []
  },
  {
   "cell_type": "markdown",
   "id": "d0e602bb",
   "metadata": {},
   "source": [
    "# Model 1. \"Наивная\"  \n",
    "Эта модель будет предсказывать среднюю цену по модели двигателя (enginePower). \n",
    "C ней будем сравнивать другие модели."
   ]
  },
  {
   "cell_type": "code",
   "execution_count": 107,
   "id": "c8574d80",
   "metadata": {},
   "outputs": [],
   "source": [
    "tmp_train = X_train.copy()\n",
    "tmp_train['price'] = y_train"
   ]
  },
  {
   "cell_type": "code",
   "execution_count": 108,
   "id": "5d9e6380",
   "metadata": {},
   "outputs": [
    {
     "name": "stdout",
     "output_type": "stream",
     "text": [
      "Точность наивной модели по метрике MAPE: 67.80%\n"
     ]
    }
   ],
   "source": [
    "# Находим median по экземплярам enginePower в трейне и размечаем тест\n",
    "predict = X_test['enginePower'].map(tmp_train.groupby('enginePower')['price'].median())\n",
    "\n",
    "#оцениваем точность\n",
    "print(f\"Точность наивной модели по метрике MAPE: {(mape(y_test, predict.values))*100:0.2f}%\")"
   ]
  },
  {
   "cell_type": "code",
   "execution_count": 109,
   "id": "09d0e9cd",
   "metadata": {},
   "outputs": [
    {
     "ename": "ZeroDivisionError",
     "evalue": "division by zero",
     "output_type": "error",
     "traceback": [
      "\u001b[0;31m---------------------------------------------------------------------------\u001b[0m",
      "\u001b[0;31mZeroDivisionError\u001b[0m                         Traceback (most recent call last)",
      "\u001b[0;32m/tmp/ipykernel_62684/2354412189.py\u001b[0m in \u001b[0;36m<module>\u001b[0;34m\u001b[0m\n\u001b[0;32m----> 1\u001b[0;31m \u001b[0;36m1\u001b[0m\u001b[0;34m/\u001b[0m\u001b[0;36m0\u001b[0m\u001b[0;34m\u001b[0m\u001b[0;34m\u001b[0m\u001b[0m\n\u001b[0m",
      "\u001b[0;31mZeroDivisionError\u001b[0m: division by zero"
     ]
    }
   ],
   "source": [
    "1/0"
   ]
  },
  {
   "cell_type": "markdown",
   "id": "8d5b8ed3",
   "metadata": {},
   "source": [
    "# Model 2. CatBoost"
   ]
  },
  {
   "cell_type": "code",
   "execution_count": null,
   "id": "e3976dd9",
   "metadata": {},
   "outputs": [],
   "source": [
    "# !Логарифмироварие целевой переменной улучшает результат на 20%!\n",
    "y_train = y_train.apply(lambda x: math.log(x))\n",
    "y_test = y_test.apply(lambda x: math.log(x))\n",
    "X = train.values\n",
    "y = pd.Series(y).apply(lambda x: math.log(x)).values\n",
    "X_pred = test.values"
   ]
  },
  {
   "cell_type": "code",
   "execution_count": null,
   "id": "10bf1df4",
   "metadata": {},
   "outputs": [],
   "source": [
    "ITERATIONS = 20000\n",
    "LR         = 0.15\n",
    "model = CatBoostRegressor(iterations = ITERATIONS,\n",
    "                          learning_rate = LR,\n",
    "                          depth = 8,\n",
    "                          random_seed = RANDOM_SEED,\n",
    "                          eval_metric='MAPE',\n",
    "                          custom_metric=['RMSE']\n",
    "                         )\n",
    "model.fit(X_train, y_train,\n",
    "#         cat_features=cat_f,\n",
    "         eval_set=(X_test, y_test),\n",
    "         verbose_eval=500,\n",
    "         use_best_model=True,\n",
    "         plot=True\n",
    "         )"
   ]
  },
  {
   "cell_type": "code",
   "execution_count": null,
   "id": "50c9cdc6",
   "metadata": {},
   "outputs": [],
   "source": [
    "predict = model.predict(X_test)\n",
    "\n",
    "# оцениваем точность\n",
    "print(f\"Точность модели по метрике MAPE: {(mape(y_test, predict))*100:0.4f}%\")"
   ]
  },
  {
   "cell_type": "markdown",
   "id": "c995ef9d",
   "metadata": {},
   "source": [
    "# CatBoost + CV"
   ]
  },
  {
   "cell_type": "markdown",
   "id": "4611646e",
   "metadata": {},
   "source": [
    "Применим кросс-валидацию с 5 фолдами\n"
   ]
  },
  {
   "cell_type": "code",
   "execution_count": null,
   "id": "1bdd6260",
   "metadata": {},
   "outputs": [],
   "source": [
    "def cat_model(y_train, X_train, X_test, y_test):\n",
    "    model = CatBoostRegressor(iterations = 20000,\n",
    "                              learning_rate = 0.15,\n",
    "                              eval_metric='MAPE',\n",
    "                              custom_metric=['RMSE','MAPE'],\n",
    "                              random_seed = RANDOM_SEED,)\n",
    "    model.fit(X_train, y_train,\n",
    "              #cat_features=cat_features_ids,\n",
    "              eval_set=(X_test, y_test),\n",
    "              verbose=False,\n",
    "              use_best_model=True,\n",
    "              plot=False)\n",
    "    \n",
    "    return(model)"
   ]
  },
  {
   "cell_type": "code",
   "execution_count": null,
   "id": "d12c13bd",
   "metadata": {},
   "outputs": [],
   "source": [
    "sample_submission.index"
   ]
  },
  {
   "cell_type": "code",
   "execution_count": null,
   "id": "90855a61",
   "metadata": {},
   "outputs": [],
   "source": [
    "N_FOLDS = 5\n",
    "submissions = pd.DataFrame(0,columns=[\"sub_1\"], index=sample_submission.index) # куда пишем предикты\n",
    "score_ls = []\n",
    "splits = list(KFold(n_splits=N_FOLDS, shuffle=True, random_state=RANDOM_SEED).split(X,y))\n",
    "\n",
    "for idx, (train_idx, test_idx) in tqdm(enumerate(splits), total=N_FOLDS,):\n",
    "    # use the indexes to extract the folds in the train and validation data\n",
    "    Xf_train, yf_train, Xf_test, yf_test = X[train_idx], y[train_idx], X[test_idx], y[test_idx]\n",
    "    # model for this fold\n",
    "    model = cat_model(yf_train, Xf_train, Xf_test, yf_test)\n",
    "    # score model on test\n",
    "    test_predict = model.predict(Xf_test)\n",
    "    test_score = mape(yf_test, test_predict)\n",
    "    score_ls.append(test_score)\n",
    "    print(f\"{idx+1} Fold Test MAPE: {mape(yf_test, test_predict)*100:0.4f}%\")\n",
    "    # submissions\n",
    "    submissions[f'sub_{idx+1}'] = model.predict(X_pred)\n",
    "    model.save_model(f'catboost_fold_{idx+1}.model')\n",
    "    \n",
    "print(f'Mean Score: {np.mean(score_ls)*100:0.4f}%')\n",
    "print(f'Std Score: {np.std(score_ls)*100:0.4f}%')\n",
    "print(f'Max Score: {np.max(score_ls)*100:0.4f}%')\n",
    "print(f'Min Score: {np.min(score_ls)*100:0.4f}%')"
   ]
  },
  {
   "cell_type": "markdown",
   "id": "11a1633f",
   "metadata": {},
   "source": [
    "# Submission"
   ]
  },
  {
   "cell_type": "code",
   "execution_count": null,
   "id": "226db1a6",
   "metadata": {},
   "outputs": [],
   "source": [
    "submissions['blend'] = (submissions.sum(axis=1))/len(submissions.columns)\n",
    "sample_submission['price'] = np.round(submissions['blend'].apply(lambda x: math.exp(x)).values, 0)\n",
    "sample_submission.to_csv('submission.csv', index=False)\n",
    "sample_submission.head(3)"
   ]
  },
  {
   "cell_type": "code",
   "execution_count": null,
   "id": "ad16d088",
   "metadata": {},
   "outputs": [],
   "source": [
    "corr_f = ['modelDate']\n",
    "for col in corr_f:\n",
    "    tmp_train = train.drop([col], axis=1).copy()\n",
    "    X_train1, X_test1, y_train1, y_test1 = train_test_split(tmp_train, y,\n",
    "                                                        test_size=0.2, shuffle=True, random_state=42)\n",
    "    model = cat_model(y_train1, X_train1, X_test1, y_test1)\n",
    "    test_predict = model.predict(X_test1)\n",
    "    print(f\"{col} Test MAPE: {mape(y_test1, test_predict)*100:0.3f}%\")"
   ]
  },
  {
   "cell_type": "markdown",
   "id": "dd1204eb",
   "metadata": {},
   "source": [
    "# Model 3. Random Forest."
   ]
  },
  {
   "cell_type": "code",
   "execution_count": null,
   "id": "a54aa57c",
   "metadata": {},
   "outputs": [],
   "source": [
    "# A: пар-ры леса по умолчанию\n",
    "rf = RandomForestRegressor(random_state=42)\n",
    "\n",
    "rf.fit(X_train, y_train)\n",
    "test_predict = rf.predict(X_test)\n",
    "print(f\"Test MAPE: {mape(y_test, test_predict)*100:0.3f}%\")"
   ]
  },
  {
   "cell_type": "code",
   "execution_count": 110,
   "id": "e7943c47",
   "metadata": {},
   "outputs": [],
   "source": [
    "n_estimators = [int(x) for x in np.linspace(start = 200, stop = 2000, num = 10)]\n",
    "max_features = ['auto', 'sqrt']\n",
    "max_depth = [int(x) for x in np.linspace(10, 110, num = 11)]\n",
    "max_depth.append(None)\n",
    "min_samples_split = [2, 5, 10]\n",
    "min_samples_leaf = [1, 2, 4]\n",
    "bootstrap = [True, False]\n",
    "random_grid = {'n_estimators': n_estimators,\n",
    "               'max_features': max_features,\n",
    "               'max_depth': max_depth,\n",
    "               'min_samples_split': min_samples_split,\n",
    "               'min_samples_leaf': min_samples_leaf,\n",
    "               'bootstrap': bootstrap}"
   ]
  },
  {
   "cell_type": "code",
   "execution_count": 111,
   "id": "672a9322",
   "metadata": {},
   "outputs": [
    {
     "name": "stdout",
     "output_type": "stream",
     "text": [
      "Test MAPE: 0.2717%\n"
     ]
    }
   ],
   "source": [
    "# B: пар-ры леса случайные\n",
    "rf = RandomForestRegressor(\n",
    " n_estimators=300, \n",
    " min_samples_split=2,\n",
    " min_samples_leaf=1,\n",
    " max_features=10,\n",
    " max_depth=77,\n",
    " bootstrap=True, \n",
    " random_state=42)\n",
    "\n",
    "rf.fit(X_train, y_train)\n",
    "test_predict = rf.predict(X_test)\n",
    "print(f\"Test MAPE: {mape(y_test, test_predict)*100:0.4f}%\")"
   ]
  },
  {
   "cell_type": "code",
   "execution_count": 112,
   "id": "b0528714",
   "metadata": {},
   "outputs": [
    {
     "ename": "NameError",
     "evalue": "name 'X' is not defined",
     "output_type": "error",
     "traceback": [
      "\u001b[0;31m---------------------------------------------------------------------------\u001b[0m",
      "\u001b[0;31mNameError\u001b[0m                                 Traceback (most recent call last)",
      "\u001b[0;32m/tmp/ipykernel_62684/197640240.py\u001b[0m in \u001b[0;36m<module>\u001b[0;34m\u001b[0m\n\u001b[1;32m     14\u001b[0m \u001b[0msubmissions\u001b[0m \u001b[0;34m=\u001b[0m \u001b[0mpd\u001b[0m\u001b[0;34m.\u001b[0m\u001b[0mDataFrame\u001b[0m\u001b[0;34m(\u001b[0m\u001b[0;36m0\u001b[0m\u001b[0;34m,\u001b[0m\u001b[0mcolumns\u001b[0m\u001b[0;34m=\u001b[0m\u001b[0;34m[\u001b[0m\u001b[0;34m\"sub_1\"\u001b[0m\u001b[0;34m]\u001b[0m\u001b[0;34m,\u001b[0m \u001b[0mindex\u001b[0m\u001b[0;34m=\u001b[0m\u001b[0msample_submission\u001b[0m\u001b[0;34m.\u001b[0m\u001b[0mindex\u001b[0m\u001b[0;34m)\u001b[0m \u001b[0;31m# куда пишем предикты\u001b[0m\u001b[0;34m\u001b[0m\u001b[0;34m\u001b[0m\u001b[0m\n\u001b[1;32m     15\u001b[0m \u001b[0mscore_ls\u001b[0m \u001b[0;34m=\u001b[0m \u001b[0;34m[\u001b[0m\u001b[0;34m]\u001b[0m\u001b[0;34m\u001b[0m\u001b[0;34m\u001b[0m\u001b[0m\n\u001b[0;32m---> 16\u001b[0;31m \u001b[0msplits\u001b[0m \u001b[0;34m=\u001b[0m \u001b[0mlist\u001b[0m\u001b[0;34m(\u001b[0m\u001b[0mKFold\u001b[0m\u001b[0;34m(\u001b[0m\u001b[0mn_splits\u001b[0m\u001b[0;34m=\u001b[0m\u001b[0mN_FOLDS\u001b[0m\u001b[0;34m,\u001b[0m \u001b[0mshuffle\u001b[0m\u001b[0;34m=\u001b[0m\u001b[0;32mTrue\u001b[0m\u001b[0;34m,\u001b[0m \u001b[0mrandom_state\u001b[0m\u001b[0;34m=\u001b[0m\u001b[0mRANDOM_SEED\u001b[0m\u001b[0;34m)\u001b[0m\u001b[0;34m.\u001b[0m\u001b[0msplit\u001b[0m\u001b[0;34m(\u001b[0m\u001b[0mX\u001b[0m\u001b[0;34m,\u001b[0m\u001b[0my\u001b[0m\u001b[0;34m)\u001b[0m\u001b[0;34m)\u001b[0m\u001b[0;34m\u001b[0m\u001b[0;34m\u001b[0m\u001b[0m\n\u001b[0m\u001b[1;32m     17\u001b[0m \u001b[0;34m\u001b[0m\u001b[0m\n\u001b[1;32m     18\u001b[0m \u001b[0;32mfor\u001b[0m \u001b[0midx\u001b[0m\u001b[0;34m,\u001b[0m \u001b[0;34m(\u001b[0m\u001b[0mtrain_idx\u001b[0m\u001b[0;34m,\u001b[0m \u001b[0mtest_idx\u001b[0m\u001b[0;34m)\u001b[0m \u001b[0;32min\u001b[0m \u001b[0mtqdm\u001b[0m\u001b[0;34m(\u001b[0m\u001b[0menumerate\u001b[0m\u001b[0;34m(\u001b[0m\u001b[0msplits\u001b[0m\u001b[0;34m)\u001b[0m\u001b[0;34m,\u001b[0m \u001b[0mtotal\u001b[0m\u001b[0;34m=\u001b[0m\u001b[0mN_FOLDS\u001b[0m\u001b[0;34m,\u001b[0m\u001b[0;34m)\u001b[0m\u001b[0;34m:\u001b[0m\u001b[0;34m\u001b[0m\u001b[0;34m\u001b[0m\u001b[0m\n",
      "\u001b[0;31mNameError\u001b[0m: name 'X' is not defined"
     ]
    }
   ],
   "source": [
    "# Лес с кросс-валидацией\n",
    "def rf_model(y_train, X_train, X_test, y_test):\n",
    "    model = RandomForestRegressor(\n",
    "                 n_estimators=1000,\n",
    "                 min_samples_split=2,\n",
    "                 min_samples_leaf=1,\n",
    "                 max_features=7,\n",
    "                 max_depth=77,\n",
    "                 bootstrap=True, \n",
    "                 random_state=42)\n",
    "    model.fit(X_train, y_train)\n",
    "    return(model)\n",
    "N_FOLDS = 5\n",
    "submissions = pd.DataFrame(0,columns=[\"sub_1\"], index=sample_submission.index) # куда пишем предикты\n",
    "score_ls = []\n",
    "splits = list(KFold(n_splits=N_FOLDS, shuffle=True, random_state=RANDOM_SEED).split(X,y))\n",
    "\n",
    "for idx, (train_idx, test_idx) in tqdm(enumerate(splits), total=N_FOLDS,):\n",
    "    # use the indexes to extract the folds in the train and validation data\n",
    "    Xf_train, yf_train, Xf_test, yf_test = X[train_idx], y[train_idx], X[test_idx], y[test_idx]\n",
    "    # model for this fold\n",
    "    model = rf_model(yf_train, Xf_train, Xf_test, yf_test)\n",
    "    # score model on test\n",
    "    test_predict = model.predict(Xf_test)\n",
    "    test_score = mape(yf_test, test_predict)\n",
    "    score_ls.append(test_score)\n",
    "    print(f\"{idx+1} Fold Test MAPE: {mape(yf_test, test_predict)*100:0.4f}%\")\n",
    "    # submissions\n",
    "    submissions[f'sub_{idx+1}'] = model.predict(X_pred)\n",
    "#    model.save_model(f'catboost_fold_{idx+1}.model')\n",
    "    \n",
    "print(f'Mean Score: {np.mean(score_ls)*100:0.4f}%')\n",
    "print(f'Std Score: {np.std(score_ls)*100:0.4f}%')\n",
    "print(f'Max Score: {np.max(score_ls)*100:0.4f}%')\n",
    "print(f'Min Score: {np.min(score_ls)*100:0.4f}%')"
   ]
  },
  {
   "cell_type": "markdown",
   "id": "77e50b86",
   "metadata": {},
   "source": [
    "# Model 4. Bagging."
   ]
  },
  {
   "cell_type": "code",
   "execution_count": null,
   "id": "92c04380",
   "metadata": {},
   "outputs": [],
   "source": [
    "# Посмотрим сначала на точность одного дерева\n",
    "tree = DecisionTreeRegressor(max_features=int(X_train.shape[1]/3), max_depth=77)\n",
    "tree.fit(X_train, y_train)\n",
    "test_predict = tree.predict(X_test)\n",
    "print(f\"DecisionTreeRegressor Test MAPE: {mape(y_test, test_predict)*100:0.3f}%\")"
   ]
  },
  {
   "cell_type": "code",
   "execution_count": null,
   "id": "a5d3718b",
   "metadata": {},
   "outputs": [],
   "source": [
    "# Теперь обернем деревья в BaggingRegressor\n",
    "bagging_trees = BaggingRegressor(tree)\n",
    "bagging_trees.fit(X_train, y_train)\n",
    "test_predict = bagging_trees.predict(X_test)\n",
    "print(f\"BaggingRegressor(DecisionTrees) Test MAPE: {mape(y_test, test_predict)*100:0.3f}%\")"
   ]
  },
  {
   "cell_type": "markdown",
   "id": "3c3c699f",
   "metadata": {},
   "source": [
    "# Model 5. GradientBoosting."
   ]
  },
  {
   "cell_type": "code",
   "execution_count": null,
   "id": "ce10dc48",
   "metadata": {},
   "outputs": [],
   "source": [
    "# Оставляем только числовые признаки и сразу нормируем их для удобства\n",
    "num_train = train.drop(cat_f, axis=1)\n",
    "scaler = StandardScaler()\n",
    "num_train = pd.DataFrame(data=scaler.fit_transform(num_train), columns=num_train.columns)\n",
    "Xn_train, Xn_test, yn_train, yn_test = train_test_split(num_train, y,\n",
    "                                                    test_size=0.2, shuffle=True, random_state=42)"
   ]
  },
  {
   "cell_type": "markdown",
   "id": "c21af492",
   "metadata": {},
   "source": [
    "# Model 6. Stacking."
   ]
  },
  {
   "cell_type": "code",
   "execution_count": null,
   "id": "6377730a",
   "metadata": {},
   "outputs": [],
   "source": [
    "X_train, X_test, y_train, y_test = train_test_split(X, y, test_size=0.2, shuffle=True, random_state=42)"
   ]
  },
  {
   "cell_type": "code",
   "execution_count": null,
   "id": "c8d0c71b",
   "metadata": {},
   "outputs": [],
   "source": [
    "cv = KFold(n_splits=5, shuffle=True, random_state=42)\n",
    "\n",
    "def compute_metric(regr, X_train=X_train, y_train=y_train, X_test=X_test, y_test=y_test):\n",
    "    regr.fit(X_train, y_train)\n",
    "    y_test_pred = regr.predict(X_test)\n",
    "    return np.round(mape(y_test, y_test_pred)*100, 4)"
   ]
  },
  {
   "cell_type": "code",
   "execution_count": null,
   "id": "6c673203",
   "metadata": {},
   "outputs": [],
   "source": [
    "def compute_meta_feature2(regr, X_train, X_test, y_train, cv, X_pred):    \n",
    "    \n",
    "    X_meta_train = np.zeros_like(y_train, dtype=np.float32)    \n",
    "\n",
    "    splits = cv.split(X_train)\n",
    "    for train_fold_index, predict_fold_index in splits:\n",
    "        X_fold_train, X_fold_predict = X_train[train_fold_index], X_train[predict_fold_index]\n",
    "        y_fold_train = y_train[train_fold_index]\n",
    "        \n",
    "        folded_regr = clone(regr)\n",
    "        folded_regr.fit(X_fold_train, y_fold_train)\n",
    "        \n",
    "        X_meta_train[predict_fold_index] = folded_regr.predict(X_fold_predict)\n",
    "    \n",
    "    meta_regr = clone(regr)\n",
    "    meta_regr.fit(X_train, y_train)\n",
    "    \n",
    "    X_meta_test = meta_regr.predict(X_test)\n",
    "    X_meta_pred = meta_regr.predict(X_pred)\n",
    "    \n",
    "    return X_meta_train, X_meta_test, X_meta_pred"
   ]
  },
  {
   "cell_type": "code",
   "execution_count": null,
   "id": "667169dc",
   "metadata": {},
   "outputs": [],
   "source": [
    "def generate_meta_features2(regr_s, X_train, X_test, y_train, cv, X_pred):\n",
    "   \n",
    "    features = [compute_meta_feature2(regr, X_train, X_test, y_train, cv, X_pred) for regr in tqdm(regr_s)]    \n",
    "    stacked_features_train = np.vstack([features_train for features_train, features_test, features_pred in features]).T\n",
    "    stacked_features_test = np.vstack([features_test for features_train, features_test, features_pred in features]).T\n",
    "    stacked_features_pred = np.vstack([features_pred for features_train, features_test, features_pred in features]).T\n",
    "    return stacked_features_train, stacked_features_test, stacked_features_pred"
   ]
  },
  {
   "cell_type": "code",
   "execution_count": null,
   "id": "a5cd4e24",
   "metadata": {},
   "outputs": [],
   "source": [
    "stacked_features_train, stacked_features_test, stacked_features_pred = generate_meta_features2([\n",
    "    RandomForestRegressor(n_estimators=300, min_samples_split=2, min_samples_leaf=1, \n",
    "                          max_features=7,max_depth=77, bootstrap=True, random_state=42),\n",
    "    AdaBoostRegressor(random_state=42),\n",
    "    ExtraTreesRegressor(random_state=42),\n",
    "    RandomForestRegressor(random_state=42)], X_train, X_test, y_train, cv, X_pred)\n",
    "\n",
    "regr = RandomForestRegressor(\n",
    " n_estimators=300,\n",
    " min_samples_split=2,\n",
    " min_samples_leaf=1,\n",
    " max_features=7,\n",
    " max_depth=77,\n",
    " bootstrap=True, \n",
    " random_state=42)\n",
    "\n",
    "print(f'Stacking MAPE = {compute_metric(regr, X_train=stacked_features_train, y_train=y_train, X_test=stacked_features_test, y_test=y_test)}%')"
   ]
  },
  {
   "cell_type": "markdown",
   "id": "50567102",
   "metadata": {},
   "source": [
    "# LightGBM"
   ]
  },
  {
   "cell_type": "code",
   "execution_count": null,
   "id": "ab62f2f5",
   "metadata": {},
   "outputs": [],
   "source": [
    "import lightgbm as lgb\n",
    "from lightgbm import LGBMRegressor"
   ]
  },
  {
   "cell_type": "code",
   "execution_count": null,
   "id": "f4ade735",
   "metadata": {},
   "outputs": [],
   "source": [
    "X_train, X_valid, y_train, y_valid = train_test_split(\n",
    "    X, y, test_size=0.2, shuffle=True, random_state=42)\n",
    "feature_names = train.columns.tolist()\n",
    "\n",
    "# LightGBM dataset formatting \n",
    "lgtrain = lgb.Dataset(X_train, y_train, categorical_feature = cat_f, feature_name=feature_names)\n",
    "lgvalid = lgb.Dataset(X_valid, y_valid, categorical_feature = cat_f, feature_name=feature_names)"
   ]
  },
  {
   "cell_type": "code",
   "execution_count": null,
   "id": "1c9fb42f",
   "metadata": {},
   "outputs": [],
   "source": [
    "params = {\n",
    "    'objective' : 'regression',\n",
    "    'metric' : 'mape',\n",
    "    'num_leaves' : 2000,\n",
    "    'max_depth': 35,\n",
    "    'learning_rate' : 0.007,\n",
    "    'feature_fraction' : 0.6,\n",
    "    'verbosity' : -1\n",
    "}\n",
    "lgb_regr = lgb.train(\n",
    "    params,\n",
    "    lgtrain,\n",
    "    num_boost_round=20000,\n",
    "    valid_sets=[lgtrain, lgvalid],\n",
    "    valid_names=['train', 'valid'],\n",
    "    early_stopping_rounds=500,\n",
    "    verbose_eval=1000\n",
    ")\n",
    "\n",
    "#print(f\"LightGBM Test MAPE: {mape(y_valid, lgb_clf.predict(X_valid))*100:0.4f}%\")"
   ]
  },
  {
   "cell_type": "code",
   "execution_count": null,
   "id": "b732430a",
   "metadata": {},
   "outputs": [],
   "source": [
    "# LightGBM с кросс-валидацией\n",
    "feature_names = train.columns.tolist()\n",
    "params = {\n",
    "    'objective' : 'regression',\n",
    "    'metric' : 'mape',\n",
    "    'num_leaves' : 2000,\n",
    "    'max_depth': 12,\n",
    "    'learning_rate' : 0.01,\n",
    "    'feature_fraction' : 0.6,\n",
    "    'verbosity' : -1\n",
    "}\n",
    "\n",
    "def LightGBM_model(y_train, X_train, X_test, y_test):\n",
    "    # LightGBM dataset formatting \n",
    "    lgtrain = lgb.Dataset(X_train, y_train, \n",
    "                          categorical_feature = cat_f, feature_name=feature_names)\n",
    "    lgvalid = lgb.Dataset(X_test, y_test, \n",
    "                          categorical_feature = cat_f, feature_name=feature_names)\n",
    "\n",
    "    model = lgb.train(\n",
    "    params,\n",
    "    lgtrain,\n",
    "    num_boost_round=20000,\n",
    "    valid_sets=[lgtrain, lgvalid],\n",
    "    valid_names=['train', 'valid'],\n",
    "    early_stopping_rounds=500,\n",
    "    verbose_eval=2000)\n",
    "    \n",
    "#    model.fit(X_train, y_train)\n",
    "    return(model)\n",
    "\n",
    "\n",
    "N_FOLDS = 5\n",
    "submissions = pd.DataFrame(0,columns=[\"sub_1\"], index=sample_submission.index) # куда пишем предикты\n",
    "score_ls = []\n",
    "splits = list(KFold(n_splits=N_FOLDS, shuffle=True, random_state=RANDOM_SEED).split(X,y))\n",
    "\n",
    "for idx, (train_idx, test_idx) in tqdm(enumerate(splits), total=N_FOLDS,):\n",
    "    # use the indexes to extract the folds in the train and validation data\n",
    "    Xf_train, yf_train, Xf_test, yf_test = X[train_idx], y[train_idx], X[test_idx], y[test_idx]\n",
    "    # model for this fold\n",
    "    model = LightGBM_model(yf_train, Xf_train, Xf_test, yf_test)\n",
    "    # score model on test\n",
    "#    test_predict = model.predict(Xf_test)\n",
    "#    test_score = mape(yf_test, test_predict)\n",
    "#    score_ls.append(test_score)\n",
    "#    print(f\"{idx+1} Fold Test MAPE: {mape(yf_test, test_predict)*100:0.4f}%\")\n",
    "    # submissions\n",
    "    submissions[f'sub_{idx+1}'] = model.predict(X_pred, num_iteration=model.best_iteration)\n",
    "#    model.save_model(f'catboost_fold_{idx+1}.model')\n",
    "    \n",
    "#print(f'Mean Score: {np.mean(score_ls)*100:0.6f}%')\n",
    "#print(f'Std Score: {np.std(score_ls)*100:0.6f}%')\n",
    "#print(f'Max Score: {np.max(score_ls)*100:0.6f}%')\n",
    "#print(f'Min Score: {np.min(score_ls)*100:0.6f}%')"
   ]
  },
  {
   "cell_type": "code",
   "execution_count": null,
   "id": "005d3a36",
   "metadata": {},
   "outputs": [],
   "source": [
    "submissions['blend'] = (submissions.sum(axis=1))/len(submissions.columns)\n",
    "sample_submission['price'] = np.round(submissions['blend'].apply(lambda x: math.exp(x)).values, 0)\n",
    "sample_submission.to_csv('submission.csv', index=False)\n",
    "sample_submission.head(3)"
   ]
  },
  {
   "cell_type": "markdown",
   "id": "91f9e44d",
   "metadata": {},
   "source": [
    "# LGBMRegressor"
   ]
  },
  {
   "cell_type": "code",
   "execution_count": null,
   "id": "34a6acc8",
   "metadata": {},
   "outputs": [],
   "source": [
    "import lightgbm as lgb\n",
    "from lightgbm import LGBMRegressor"
   ]
  },
  {
   "cell_type": "code",
   "execution_count": null,
   "id": "fe09bd1a",
   "metadata": {},
   "outputs": [],
   "source": [
    "LGBMR = LGBMRegressor(objective='regression', max_depth=12, num_leaves=1000,\n",
    "                      learning_rate=0.02, n_estimators=22000, metric='mape',                      \n",
    "                      feature_fraction=0.6,\n",
    "#                      min_data_in_leaf=50, reg_lambda=0.25\n",
    "                     )    "
   ]
  },
  {
   "cell_type": "code",
   "execution_count": null,
   "id": "74e83e6f",
   "metadata": {},
   "outputs": [],
   "source": [
    "LGBMR.fit(X_train, y_train)\n",
    "y_pred = LGBMR.predict(X_test)\n",
    "print(f\"LightGBM Test MAPE: {mape(y_test, y_pred)*100:0.6f}%\")"
   ]
  },
  {
   "cell_type": "code",
   "execution_count": null,
   "id": "072e7902",
   "metadata": {},
   "outputs": [],
   "source": [
    "predict_submission = LGBMR.predict(X_pred)\n",
    "sample_submission['price'] = np.round((Series(predict_submission)).apply(lambda x: math.exp(x)).values, 0)\n",
    "#sample_submission.to_csv('submission.csv', index=False)\n",
    "sample_submission.head(3)"
   ]
  },
  {
   "cell_type": "code",
   "execution_count": null,
   "id": "2ab5ba96",
   "metadata": {},
   "outputs": [],
   "source": [
    "# LGBMR с кросс-валидацией\n",
    "def LGBMR_model(y_train, X_train, X_test, y_test):\n",
    "    \n",
    "    model = LGBMRegressor(objective='regression', max_depth=12, num_leaves=2000,\n",
    "                      learning_rate=0.025, n_estimators=28000, feature_fraction=0.6)    \n",
    "    model.fit(X_train, y_train)\n",
    "    return(model)\n",
    "\n",
    "N_FOLDS = 5\n",
    "submissions = pd.DataFrame(0,columns=[\"sub_1\"], index=sample_submission.index) # куда пишем предикты\n",
    "score_ls = []\n",
    "splits = list(KFold(n_splits=N_FOLDS, shuffle=True, random_state=RANDOM_SEED).split(X,y))\n",
    "\n",
    "for idx, (train_idx, test_idx) in tqdm(enumerate(splits), total=N_FOLDS,):\n",
    "    # use the indexes to extract the folds in the train and validation data\n",
    "    Xf_train, yf_train, Xf_test, yf_test = X[train_idx], y[train_idx], X[test_idx], y[test_idx]\n",
    "    # model for this fold\n",
    "    model = LGBMR_model(yf_train, Xf_train, Xf_test, yf_test)\n",
    "    # score model on test\n",
    "    test_predict = model.predict(Xf_test)\n",
    "    test_score = mape(yf_test, test_predict)\n",
    "    score_ls.append(test_score)\n",
    "    print(f\"{idx+1} Fold Test MAPE: {mape(yf_test, test_predict)*100:0.4f}%\")\n",
    "    # submissions\n",
    "    submissions[f'sub_{idx+1}'] = model.predict(X_pred)\n",
    "#    model.save_model(f'catboost_fold_{idx+1}.model')\n",
    "    \n",
    "print(f'Mean Score: {np.mean(score_ls)*100:0.6f}%')\n",
    "print(f'Std Score: {np.std(score_ls)*100:0.6f}%')\n",
    "print(f'Max Score: {np.max(score_ls)*100:0.6f}%')\n",
    "print(f'Min Score: {np.min(score_ls)*100:0.6f}%')"
   ]
  },
  {
   "cell_type": "code",
   "execution_count": null,
   "id": "0b2d9215",
   "metadata": {},
   "outputs": [],
   "source": [
    "submissions['blend'] = (submissions.sum(axis=1))/len(submissions.columns)\n",
    "sample_submission['price'] = np.round(submissions['blend'].apply(lambda x: math.exp(x)).values, 0)\n",
    "sample_submission.('submission.csv', index=False)\n",
    "sample_submission.head(3)"
   ]
  },
  {
   "cell_type": "markdown",
   "id": "f8d36b3b",
   "metadata": {},
   "source": [
    "# Итоги.  \n",
    "\n",
    "С авто.ру получено 90 тыс объявлений  \n",
    "Признаки унифицированы с признаками из теста  \n",
    "Проведены анализ признаков, оценка их важности и скоррелированности  \n",
    "Созданы новые признаки и отобран набор для работы с алгоритмами  \n",
    "Протестировано 5 типов алгоритмов с регрессорами и 1 'наивный' для наглядности  \n",
    "Лучшую оценку MAPE показал RandomForestRegressor  \n",
    "Лучший submission выдал LightGBMRegressor с кросс-валидацией"
   ]
  }
 ],
 "metadata": {
  "kernelspec": {
   "display_name": "Python 3 (ipykernel)",
   "language": "python",
   "name": "python3"
  },
  "language_info": {
   "codemirror_mode": {
    "name": "ipython",
    "version": 3
   },
   "file_extension": ".py",
   "mimetype": "text/x-python",
   "name": "python",
   "nbconvert_exporter": "python",
   "pygments_lexer": "ipython3",
   "version": "3.9.7"
  }
 },
 "nbformat": 4,
 "nbformat_minor": 5
}

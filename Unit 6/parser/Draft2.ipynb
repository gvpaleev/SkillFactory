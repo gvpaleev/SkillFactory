{
 "cells": [
  {
   "cell_type": "code",
   "execution_count": 1,
   "id": "5c51aab6",
   "metadata": {},
   "outputs": [],
   "source": [
    "import pandas as pd\n",
    "import numpy as np\n",
    "import requests\n",
    "import json\n",
    "import asyncio \n",
    "import aiohttp\n",
    "import time \n",
    "\n",
    "from lxml import html\n",
    "from datetime import datetime\n"
   ]
  },
  {
   "cell_type": "code",
   "execution_count": 2,
   "id": "53204692",
   "metadata": {},
   "outputs": [],
   "source": [
    "test = pd.read_csv('test.csv')\n",
    "test['is_test'] = 1"
   ]
  },
  {
   "cell_type": "markdown",
   "id": "a59a33cd",
   "metadata": {},
   "source": [
    "В ходе анализа test.csv сделал вывод:\n",
    "Данные только с auto.ru , б/у, оганичены годом от и до.\n",
    "\n",
    "В ходе аналиаз auto.ru : Данные были вытащены из раметки, 2 - JSON  и чуть из html ...\n",
    "\n",
    "Парсим данные с auto двумя способами: \n",
    "1) Как можно больше\n",
    "2) Только модели марок тех авто, которые нужно оценить\n",
    "\n",
    "На каждый способ своя модель, сравним которая лучше."
   ]
  },
  {
   "cell_type": "code",
   "execution_count": 3,
   "id": "8b7cc772",
   "metadata": {},
   "outputs": [],
   "source": [
    "dfTestCarMod = test['car_url']\\\n",
    "                .apply(lambda x : x.split('/')[6:8] )\n",
    "\n",
    "dfTestCarMod = pd.DataFrame(\\\n",
    "                            [\\\n",
    "                             dfTestCarMod.apply(lambda x : x[0]),\\\n",
    "                             dfTestCarMod.apply(lambda x : x[1])\\\n",
    "                            ],\\\n",
    "                            index=[0,1]\n",
    "                           ).T\n",
    "\n",
    "jsonTestCarMod={}\n",
    "\n",
    "for brand in dfTestCarMod[0].unique():\n",
    "    timArr=[]\n",
    "    timArr = dfTestCarMod[dfTestCarMod[0] == brand][1].unique()\n",
    "    jsonTestCarMod[brand]=timArr"
   ]
  },
  {
   "cell_type": "code",
   "execution_count": 4,
   "id": "dbcb48cb",
   "metadata": {},
   "outputs": [
    {
     "data": {
      "text/plain": [
       "34686"
      ]
     },
     "execution_count": 4,
     "metadata": {},
     "output_type": "execute_result"
    }
   ],
   "source": [
    "len(dfTestCarMod)\n"
   ]
  },
  {
   "cell_type": "markdown",
   "id": "4c77555b",
   "metadata": {
    "scrolled": false
   },
   "source": [
    "# Соберем все url по брендам и условиям мин и макс год + перемножим на все сортировки ...\n",
    "\n",
    "urlFullCar = [];#Все возможные модели марок\n",
    "urlIfCar = [];# Модели марок только релевантные тестовой \n",
    "\n",
    "\n",
    "sort = ['fresh_relevance_1-desc','cr_date-desc','price-asc','price-desc','year-desc','year-asc','km_age-asc','alphabet-asc','autoru_exclusive-desc','price_profitability-desc','proven_owner-desc']\n",
    "\n",
    "\n",
    "for car in jsonTestCarMod.keys():\n",
    "    yearMin = test[test['brand']==car].modelDate.min()\n",
    "    yearMax = test[test['brand']==car].modelDate.max()\n",
    "    \n",
    "    carUrl = 'https://auto.ru/cars/{0}/used/?year_from={1}&year_to={2}&sort='.format(car,yearMin,yearMax)\n",
    "    for so in sort:\n",
    "        urlFullCar.append(carUrl+so)\n",
    "\n",
    "        \n",
    "#Каждую ссылку по условиям выже перемножим на 99 вкладок        \n",
    "timArr=[]\n",
    "\n",
    "for url in urlFullCar:\n",
    "    \n",
    "    for i in range(1,100):\n",
    "\n",
    "        timArr.append(url+'&page='+str(i))\n",
    "        \n",
    "urlFullCar=timArr\n",
    "\n",
    "\n",
    "j=1;\n",
    "jEnd=len(dfTestCarMod[1].unique());\n",
    "\n",
    "for brand in jsonTestCarMod:\n",
    "    \n",
    "    for model in jsonTestCarMod[brand]:\n",
    "        \n",
    "        timStr='{0}/{1}'.format(brand,model)\n",
    "        timStr = 'https://auto.ru/cars/{0}/used/'.format(timStr)\n",
    "        \n",
    "        #urlIfCar.append(timStr)\n",
    "        \n",
    "        page = requests.get(timStr)\n",
    "        tree = html.fromstring(page.content)\n",
    "        timArr = tree.xpath(\"//a[@class='Button Button_color_whiteHoverBlue Button_size_s Button_type_link Button_width_default ListingPagination__page']/span/span\")\n",
    "        \n",
    "        if(len (timArr) > 0  ):\n",
    "            \n",
    "            for i  in range(1, int( timArr[-1].text )+1):\n",
    "                urlIfCar.append(timStr+'?page='+str(i))\n",
    "            \n",
    "        else:\n",
    "            urlIfCar.append(timStr)\n",
    "            \n",
    "        #print(str(j)+'/'+str(jEnd))\n",
    "        j+=1"
   ]
  },
  {
   "cell_type": "code",
   "execution_count": 5,
   "id": "fc74e358",
   "metadata": {},
   "outputs": [
    {
     "data": {
      "text/plain": [
       "{'skoda': array(['octavia', 'superb', 'octavia_rs', 'yeti', 'kodiaq', 'rapid',\n",
       "        'fabia', 'roomster', 'felicia', 'karoq', 'fabia_rs', '120',\n",
       "        '100_series', 'favorit', 'popular'], dtype=object),\n",
       " 'audi': array(['q5', 'r8', 'q7', 'q3', 'a4', 'a3', 'a5', 'a6', 'rs7', 's6', 'rs6',\n",
       "        'allroad', 'tt', 's5', 's8', 'a1', 'a8', '80', 'a7', 'rsq3', 'rs3',\n",
       "        'a4_allroad', 'q8', '100', 'sq5', 's4', 'tt_rs', 'rs4', 's7',\n",
       "        'rs5', '90', 'coupe', 'a2', 'tts', '920', 's3', '200', 'v8',\n",
       "        'e_tron'], dtype=object),\n",
       " 'honda': array(['cr_v', 'accord', 'pilot', 'civic', 'odyssey', 'stream',\n",
       "        'crosstour', 'elysion', 'element', 'ridgeline', 'fit', 'hr_v',\n",
       "        'shuttle', 'freed', 'odyssey_na', 'jazz', 'z', 'civic_ferio',\n",
       "        's2000', 'cr_z', 'legend', 'stepwagon', 'civic_type_r', 'fr_v',\n",
       "        'cr_x', 'prelude', 'mobilio_spike', 'n_box', 'zest', 'integra',\n",
       "        'inspire', 'vezel', 'n_wgn', 'ascot', 'logo', 'acty', 'concerto',\n",
       "        'avancier', 'saber', 'mobilio', 'crossroad', 'insight', 'torneo',\n",
       "        'airwave', 'domani', 'rafaga', 'city', 'vigor', 'orthia',\n",
       "        'partner'], dtype=object),\n",
       " 'volvo': array(['v60_cross_country', 'xc40', 'xc60', 'c30', 'v50', 'xc90',\n",
       "        'v90_cross_country', 's60', 'xc70', 'v40_cc', 's40', 's90', 'v40',\n",
       "        '240_series', 's80', 'v70', 's60_cross_country', '940', '740',\n",
       "        '850', 'v60', 's70', 'c70', '760', '960', '460', '440', '140'],\n",
       "       dtype=object),\n",
       " 'bmw': array(['x5', 'x6', 'x7', 'x3', '5er', 'x2', 'z4', 'x1', '6er', '7er',\n",
       "        'x5_m', 'm5', '1er', '3er', 'x6_m', '4', 'x4', 'm2', 'm6', 'x4_m',\n",
       "        '8er', 'i8', 'i3', '2er', 'm3', 'm1', 'm4', 'x3_m', '2grandtourer',\n",
       "        'z1', '2activetourer', '02', 'z3', 'e3', '340', '321', 'z3m',\n",
       "        '326'], dtype=object),\n",
       " 'nissan': array(['patrol', 'teana', 'qashqai', 'avenir', 'x_trail', 'murano',\n",
       "        'maxima', 'navara', 'pathfinder', 'note', 'tiida', 'juke',\n",
       "        'terrano', 'almera_classic', 'primera', 'skyline', 'almera',\n",
       "        'qashqai_plus_2', 'serena', 'ad', 'micra', 'leaf', 'gt_r', 'march',\n",
       "        'sentra', 'bluebird_sylphy', 'presage', 'altima', 'np300',\n",
       "        'clipper', 'prairie', 'almera_tino', 'dayz', 'fairlady_z', 'quest',\n",
       "        'silvia', 'armada', '350z', 'nv200', 'juke_nismo', 'stagea',\n",
       "        '280zx', 'elgrand', '300zx', 'cefiro', 'president', 'cube',\n",
       "        'pulsar', 'bluebird', 'fuga', 'laurel', 'wingroad',\n",
       "        'caravan_coach', 'datsun', 'gloria', 'expert', '100nx', 'safari',\n",
       "        'liberty', 'cedric', 'vanette', 'sunny', 'otti', 'dayz_roox',\n",
       "        'presea', 'bassara', 'terrano_regulus', 'rnessa', 'tino', '200sx',\n",
       "        'lafesta', 'kix', 'largo', 'urvan'], dtype=object),\n",
       " 'infiniti': array(['jx', 'fx', 'g35', 'q50', 'qx56', 'qx50', 'qx80', 'ex', 'q70',\n",
       "        'qx70', 'qx60', 'm', 'qx4', 'q30', 'qx30', 'q60', 'q', 'i'],\n",
       "       dtype=object),\n",
       " 'mercedes': array(['v_klasse', 'c_klasse', 'gle_klasse', 'e_klasse', 's_klasse',\n",
       "        'gla_class', 'slk_klasse', 'sls_amg', 'g_klasse_amg',\n",
       "        'gle_klasse_coupe', 'm_klasse_amg', 'e_klasse_amg', 'glc_klasse',\n",
       "        'cla_klasse', 'gl_klasse', 'b_klasse', 'a_klasse', 'gls_klasse',\n",
       "        'glk_klasse', 'm_klasse', 'w124', 'viano', 'vito', 'g_klasse',\n",
       "        's_class_maybach', 'c_klasse_amg', 'clc_klasse', 'clk_klasse',\n",
       "        'gl_klasse_amg', 'glc_coupe', 'cls_klasse', 's_klasse_amg',\n",
       "        'gle_klasse_coupe_amg', 'amg_gt', 'w201', 'cla_klasse_amg',\n",
       "        'sl_klasse', 'gls_klasse_amg', 'cl_klasse', 'r_klasse',\n",
       "        'gle_klasse_amg', 'cls_klasse_amg', 'sl_klasse_amg',\n",
       "        'a_klasse_amg', 'w111', 'w128', 'glc_klasse_amg', 'slc_klasse',\n",
       "        'glb_klasse', 'gla_class_amg', 'amg_glc_coupe', 'x_klasse',\n",
       "        'cl_klasse_amg', 'maybach_gls', 'slr_klasse', 'vaneo', 'w123',\n",
       "        'citan', 'w136', 'simplex', 'w114', '190_sl', 'w186', 'w188'],\n",
       "       dtype=object),\n",
       " 'toyota': array(['camry', 'rav_4', 'avensis', 'gt86', 'land_cruiser', 'corolla',\n",
       "        'land_cruiser_prado', 'matrix', '4runner', 'sequoia', 'highlander',\n",
       "        'crown', 'hilux', 'hilux_surf', 'isis', 'auris', 'vitz', 'prius',\n",
       "        'yaris', 'carina', 'chaser', 'estima', 'esquire', 'verso', 'echo',\n",
       "        'town_ace', 'fj_cruiser', 'venza', 'tundra', 'sienna', 'bb',\n",
       "        'aqua', 'iq', 'caldina', 'fortuner', 'alphard', 'supra', 'c_hr',\n",
       "        'mark_ii', 'celica', 'soarer', 'sera', 'mark_x', 'sprinter_trueno',\n",
       "        'camry_solara', 'voxy', 'crown_majesta', 'altezza', 'mr2',\n",
       "        'avensis_verso', 'aristo', 'harrier', 'hiace', 'verso_s',\n",
       "        'vellfire', 'corolla_verso', 'regius', 'ipsum', 'cresta', 'mr_s',\n",
       "        'yaris_verso', 'noah', 'lite_ace', 'blade', 'picnic',\n",
       "        'corolla_spacio', 'carina_ed', 'corolla_levin', 'corolla_rumion',\n",
       "        'grand_hiace', 'carina_e', 'origin', 'aygo', 'starlet', 'vanguard',\n",
       "        'wish', 'probox', 'curren', 'verossa', 'sienta', 'scepter_sedan',\n",
       "        'funcargo', 'progres', 'passo', 'opa', 'sparky', 'succeed',\n",
       "        'premio', 'previa', 'windom', 'allex', 'corona', 'sprinter_carib',\n",
       "        'spade', 'avalon', 'tercel', 'cynos', 'prius_alpha', 'sprinter',\n",
       "        'master_ace_surf', 'sprinter_marino', 'cami', 'corolla_ii',\n",
       "        'corsa', 'raum', 'vista', 'corona_exiv', 'mega_cruiser',\n",
       "        'mark_x_zio', 'priusplus', 'ist', 'granvia', 'gaia', 'cavalier',\n",
       "        'duet', 'ractis', 'nadia', 'porte', 'will_cypha', 'paseo', 'will',\n",
       "        'platz'], dtype=object),\n",
       " 'lexus': array(['ls', 'gs', 'es', 'is', 'lx', 'rx', 'nx', 'gx', 'ux', 'ct', 'lm',\n",
       "        'rc', 'hs', 'sc'], dtype=object),\n",
       " 'volkswagen': array(['touareg', 'tiguan', 'passat', 'amarok', 'polo', 'caddy',\n",
       "        'passat_cc', 'jetta', 'transporter', 'scirocco', 'golf', 'touran',\n",
       "        'caravelle', 'multivan', 'sharan', 'golf_plus', 'teramont',\n",
       "        'vento', 'arteon', 'phaeton', 'golf_gti', 'beetle', 'eurovan',\n",
       "        'california', 'golf_r', 'corrado', 'golf_r32', 'eos', 'bora',\n",
       "        'polo_gti', 'lupo', 'type_1', 'pointer', 'fox', 'taro', 'atlas'],\n",
       "       dtype=object),\n",
       " 'mitsubishi': array(['pajero_sport', 'outlander', 'l200', 'montero', 'lancer', 'pajero',\n",
       "        'montero_sport', 'galant', 'pajero_mini', 'pajero_io', 'asx',\n",
       "        'colt', 'carisma', 'space_star', 'pajero_pinin', 'fto',\n",
       "        'lancer_evolution', 'grandis', 'eclipse_cross', 'eclipse',\n",
       "        'minicab', 'delica_d_5', 'endeavor', 'delica', 'i_miev',\n",
       "        'space_wagon', 'lancer_ralliart', 'legnum', 'airtrek',\n",
       "        'space_gear', 'delica_d2', 'l300', 'sigma', 'diamante', 'l400',\n",
       "        'mirage', 'dingo', 'space_runner', 'chariot', 'ek_wagon', 'rvr',\n",
       "        'libero', 'dion', 'emeraude', 'aspire', 'minica'], dtype=object)}"
      ]
     },
     "execution_count": 5,
     "metadata": {},
     "output_type": "execute_result"
    }
   ],
   "source": [
    "jsonTestCarMod"
   ]
  },
  {
   "cell_type": "markdown",
   "id": "8401b3b5",
   "metadata": {},
   "source": [
    "# Генерация urlFullCar_\n",
    "urlFullCar_ = []\n",
    "i = 1;\n",
    "endI = len(urlFullCar)\n",
    "\n",
    "for url in urlFullCar:\n",
    "\n",
    "    page = requests.get(url)\n",
    "    tree = html.fromstring(page.content)\n",
    "    arr = tree.xpath(\"//a[@class='Link ListingItemTitle__link']\")\n",
    "    for item in arr:\n",
    "        urlFullCar_.append(item.get('href'))\n",
    "\n",
    "    print(str(i)+'/'+str(endI))  \n",
    "    time.sleep(0.1)\n",
    "        \n",
    "    i+=1    \n",
    "    \n",
    "urlFullCar = urlFullCar_"
   ]
  },
  {
   "cell_type": "markdown",
   "id": "209ff117",
   "metadata": {},
   "source": [
    "pd.DataFrame(pd.Series(urlFullCar).unique()).to_csv('urlFullCar.csv', encoding='utf-8')"
   ]
  },
  {
   "cell_type": "code",
   "execution_count": 6,
   "id": "09cdb570",
   "metadata": {},
   "outputs": [],
   "source": [
    "urlFullCar = pd.read_csv('urlFullCar.csv')['0']"
   ]
  },
  {
   "cell_type": "code",
   "execution_count": 7,
   "id": "8c2c72e0",
   "metadata": {},
   "outputs": [
    {
     "data": {
      "text/plain": [
       "96257"
      ]
     },
     "execution_count": 7,
     "metadata": {},
     "output_type": "execute_result"
    }
   ],
   "source": [
    "len(urlFullCar)"
   ]
  },
  {
   "cell_type": "markdown",
   "id": "95c92cff",
   "metadata": {},
   "source": [
    "urlIfCar_ = []\n",
    "i = 1;\n",
    "endI = len(urlIfCar)\n",
    "\n",
    "for url in urlIfCar:\n",
    "\n",
    "    page = requests.get(url)\n",
    "    tree = html.fromstring(page.content)\n",
    "    arr = tree.xpath(\"//a[@class='Link ListingItemTitle__link']\")\n",
    "    for item in arr:\n",
    "        urlIfCar_.append(item.get('href'))\n",
    "\n",
    "    print(str(i)+'/'+str(endI))\n",
    "        \n",
    "    i+=1\n",
    "urlIfCar = urlIfCar_"
   ]
  },
  {
   "cell_type": "markdown",
   "id": "583ed10c",
   "metadata": {},
   "source": [
    "pd.DataFrame(pd.Series(urlIfCar).unique()).to_csv('urlIfCar.csv', encoding='utf-8')"
   ]
  },
  {
   "cell_type": "code",
   "execution_count": 8,
   "id": "952780af",
   "metadata": {},
   "outputs": [],
   "source": [
    "urlIfCar = pd.read_csv('urlIfCar_.csv')['0']"
   ]
  },
  {
   "cell_type": "code",
   "execution_count": 9,
   "id": "953dc8a8",
   "metadata": {},
   "outputs": [
    {
     "data": {
      "text/plain": [
       "0        https://auto.ru/cars/used/sale/bmw/x5_m/110359...\n",
       "1        https://auto.ru/cars/used/sale/bmw/x1/11057334...\n",
       "2        https://auto.ru/cars/used/sale/bmw/7er/1104984...\n",
       "3        https://auto.ru/cars/used/sale/bmw/7er/1102875...\n",
       "4        https://auto.ru/cars/used/sale/bmw/5er/1104780...\n",
       "                               ...                        \n",
       "96252    https://auto.ru/cars/used/sale/lexus/rx/110582...\n",
       "96253    https://auto.ru/cars/used/sale/lexus/rx/110600...\n",
       "96254    https://auto.ru/cars/used/sale/lexus/es/110584...\n",
       "96255    https://auto.ru/cars/used/sale/lexus/gx/110503...\n",
       "96256    https://auto.ru/cars/used/sale/lexus/lx/110600...\n",
       "Name: 0, Length: 96257, dtype: object"
      ]
     },
     "execution_count": 9,
     "metadata": {},
     "output_type": "execute_result"
    }
   ],
   "source": [
    "urlFullCar"
   ]
  },
  {
   "cell_type": "code",
   "execution_count": 10,
   "id": "5547a8ab",
   "metadata": {},
   "outputs": [
    {
     "data": {
      "text/plain": [
       "0         https://auto.ru/cars/used/sale/skoda/octavia/1...\n",
       "1         https://auto.ru/cars/used/sale/skoda/octavia/1...\n",
       "2         https://auto.ru/cars/used/sale/skoda/octavia/1...\n",
       "3         https://auto.ru/cars/used/sale/skoda/octavia/1...\n",
       "4         https://auto.ru/cars/used/sale/skoda/octavia/1...\n",
       "                                ...                        \n",
       "106322    https://auto.ru/cars/used/sale/mitsubishi/mini...\n",
       "106323    https://auto.ru/cars/used/sale/mitsubishi/mini...\n",
       "106324    https://auto.ru/cars/used/sale/mitsubishi/mini...\n",
       "106325    https://auto.ru/cars/used/sale/mitsubishi/mini...\n",
       "106326    https://auto.ru/cars/used/sale/mitsubishi/mini...\n",
       "Name: 0, Length: 106327, dtype: object"
      ]
     },
     "execution_count": 10,
     "metadata": {},
     "output_type": "execute_result"
    }
   ],
   "source": [
    "urlIfCar"
   ]
  },
  {
   "cell_type": "markdown",
   "id": "001c2623",
   "metadata": {},
   "source": [
    "urlIfCar - Ссылка на авто только моделей из выборки для оценки\n",
    "\n",
    "urlFullCar - Ссылки на авто, все подрят "
   ]
  },
  {
   "cell_type": "code",
   "execution_count": null,
   "id": "c4a81326",
   "metadata": {},
   "outputs": [],
   "source": []
  },
  {
   "cell_type": "code",
   "execution_count": 16,
   "id": "4fc1e726",
   "metadata": {},
   "outputs": [
    {
     "name": "stdout",
     "output_type": "stream",
     "text": [
      "96257\n",
      "106327\n"
     ]
    }
   ],
   "source": [
    "from time import time, sleep\n",
    "import asyncio \n",
    "import aiohttp\n",
    "\n",
    "import requests\n",
    "import json\n",
    "from lxml import html\n",
    "\n",
    "import pandas as pd\n",
    "import numpy as np\n",
    "\n",
    "import asyncio\n",
    "\n",
    "from requests.api import get \n",
    "\n",
    "import tracemalloc\n",
    "\n",
    "tracemalloc.start()\n",
    "\n",
    "\n",
    "urlFullCar = pd.read_csv('urlFullCar.csv')['0']\n",
    "urlIfCar = pd.read_csv('urlIfCar_.csv')['0']\n",
    "\n",
    "print(len(urlFullCar))\n",
    "print(len(urlIfCar))\n",
    "\n",
    "async def get_date(url,session):\n",
    "    obj1, obj2 , arr = await get_contens(url,session)\n",
    "\n",
    "    if not 'price' in obj1['offers']:\n",
    "        \n",
    "        return ['price']\n",
    "\n",
    "    bodyType = obj1['bodyType']\n",
    "    brand = obj1['brand']\n",
    "    car_url = url\n",
    "    color = obj1['color']\n",
    "    complectation_dict = obj2['card']['vehicle_info']['complectation']\n",
    "    description = obj1['description']\n",
    "    engineDisplacement = obj1['vehicleEngine']['engineDisplacement']\n",
    "    enginePower = obj1['vehicleEngine']['enginePower'] \n",
    "    equipment_dict = obj2['card']['vehicle_info']['equipment']\n",
    "    fuelType = obj1['fuelType']\n",
    "    image = obj1['image']\n",
    "    mileage = obj2['card']['state']['mileage']\n",
    "    modelDate = obj1['modelDate']\n",
    "    model_info = obj2['card']['vehicle_info']['model_info']\n",
    "    model_name =obj2['card']['vehicle_info']['model_info']['code']\n",
    "    name = obj2['card']['vehicle_info']['tech_param']['human_name']\n",
    "    numberOfDoors = obj1['numberOfDoors']\n",
    "    parsing_unixtime = int(time())\n",
    "    priceCurrency = obj1['offers']['priceCurrency']\n",
    "    productionDate = obj1['productionDate']\n",
    "    sell_id = 0\n",
    "    super_gen = obj2['card']['vehicle_info']['tech_param']\n",
    "    vehicleConfiguration = obj1['vehicleConfiguration']\n",
    "    vehicleTransmission = obj1['vehicleTransmission']\n",
    "    vendor = obj2['card']['vehicle_info']['vendor']\n",
    "    Владельцы = arr[0]\n",
    "    Владение = 0# Нет инфы\n",
    "    ПТС = arr[1]\n",
    "    Привод = arr[2]\n",
    "    Руль = arr[3]\n",
    "    Состояние  = arr[4]\n",
    "    Таможня  = arr[5]\n",
    "    price = obj1['offers']['price']\n",
    "\n",
    "    timArr = [bodyType, brand, car_url, color, complectation_dict,\n",
    "           description, engineDisplacement, enginePower, str(equipment_dict),\n",
    "           fuelType, image, mileage, modelDate, model_info, model_name,\n",
    "           name, numberOfDoors, parsing_unixtime, priceCurrency,\n",
    "           productionDate, sell_id, super_gen, vehicleConfiguration,\n",
    "           vehicleTransmission, vendor, Владельцы, Владение, ПТС,\n",
    "           Привод, Руль, Состояние, Таможня,price]\n",
    "\n",
    "    return(timArr)\n",
    "\n",
    "\n",
    "\n",
    "async def get_contens(url,session):\n",
    "    \n",
    "    async with session.get(url) as response:\n",
    "\n",
    "        resText = await response.text()\n",
    "        tree = html.fromstring(resText)\n",
    "        obj1 = json.loads( \\\n",
    "                    tree.xpath(\"//head/script[@type='application/ld+json']\")[0].text\\\n",
    "                )\n",
    "\n",
    "        obj2 = json.loads( \\\n",
    "            tree.xpath(\"//script[@id='initial-state']\")[0].text\\\n",
    "        )    \n",
    "\n",
    "\n",
    "        Владельцы = tree.xpath(\"//li[@class = 'CardInfoRow CardInfoRow_ownersCount']/span\")[1].text\n",
    "        ПТС = tree.xpath(\"//li[@class='CardInfoRow CardInfoRow_pts']/span\")[1].text\n",
    "        Привод = tree.xpath(\"//li[@class='CardInfoRow CardInfoRow_drive']/span\")[1].text\n",
    "        Руль = tree.xpath(\"//li[@class='CardInfoRow CardInfoRow_wheel']/span\")[1].text\n",
    "        Состояние  = tree.xpath(\"//li[@class='CardInfoRow CardInfoRow_state']/span\")[1].text\n",
    "        Таможня  = tree.xpath(\"//li[@class='CardInfoRow CardInfoRow_customs']/span\")[1].text\n",
    "\n",
    "\n",
    "    return [obj1,obj2,[Владельцы,ПТС,Привод,Руль,Состояние,Таможня]]\n",
    "\n",
    "\n",
    "\n",
    "\n",
    "\n",
    "async def main(urlArr):\n",
    "    \n",
    "    dataArr = []\n",
    "\n",
    "    tasks = []\n",
    "\n",
    "    async with aiohttp.ClientSession() as session:\n",
    "        for url in urlArr:\n",
    "            task = asyncio.create_task(get_date(url,session))\n",
    "            tasks.append(task)\n",
    "\n",
    "        print('stop for!')\n",
    "        dataArr.append(await asyncio.gather(*tasks))\n",
    "\n",
    "\n",
    "\n",
    "\n",
    "\n",
    "\n"
   ]
  },
  {
   "cell_type": "code",
   "execution_count": 17,
   "id": "d8b5c22a",
   "metadata": {},
   "outputs": [
    {
     "ename": "RuntimeError",
     "evalue": "asyncio.run() cannot be called from a running event loop",
     "output_type": "error",
     "traceback": [
      "\u001b[0;31m---------------------------------------------------------------------------\u001b[0m",
      "\u001b[0;31mRuntimeError\u001b[0m                              Traceback (most recent call last)",
      "\u001b[0;32m/tmp/ipykernel_10675/171709594.py\u001b[0m in \u001b[0;36m<module>\u001b[0;34m\u001b[0m\n\u001b[1;32m      1\u001b[0m \u001b[0;32mif\u001b[0m \u001b[0m__name__\u001b[0m \u001b[0;34m==\u001b[0m \u001b[0;34m'__main__'\u001b[0m\u001b[0;34m:\u001b[0m\u001b[0;34m\u001b[0m\u001b[0;34m\u001b[0m\u001b[0m\n\u001b[1;32m      2\u001b[0m     \u001b[0mt0\u001b[0m \u001b[0;34m=\u001b[0m \u001b[0mtime\u001b[0m\u001b[0;34m(\u001b[0m\u001b[0;34m)\u001b[0m\u001b[0;34m\u001b[0m\u001b[0;34m\u001b[0m\u001b[0m\n\u001b[0;32m----> 3\u001b[0;31m     \u001b[0masyncio\u001b[0m\u001b[0;34m.\u001b[0m\u001b[0mrun\u001b[0m\u001b[0;34m(\u001b[0m\u001b[0mmain\u001b[0m\u001b[0;34m(\u001b[0m\u001b[0murlIfCar\u001b[0m\u001b[0;34m)\u001b[0m\u001b[0;34m)\u001b[0m\u001b[0;34m\u001b[0m\u001b[0;34m\u001b[0m\u001b[0m\n\u001b[0m\u001b[1;32m      4\u001b[0m     \u001b[0mprint\u001b[0m\u001b[0;34m(\u001b[0m\u001b[0mtime\u001b[0m\u001b[0;34m(\u001b[0m\u001b[0;34m)\u001b[0m\u001b[0;34m-\u001b[0m\u001b[0mt0\u001b[0m\u001b[0;34m)\u001b[0m\u001b[0;34m\u001b[0m\u001b[0;34m\u001b[0m\u001b[0m\n",
      "\u001b[0;32m~/anaconda3/lib/python3.8/asyncio/runners.py\u001b[0m in \u001b[0;36mrun\u001b[0;34m(main, debug)\u001b[0m\n\u001b[1;32m     31\u001b[0m     \"\"\"\n\u001b[1;32m     32\u001b[0m     \u001b[0;32mif\u001b[0m \u001b[0mevents\u001b[0m\u001b[0;34m.\u001b[0m\u001b[0m_get_running_loop\u001b[0m\u001b[0;34m(\u001b[0m\u001b[0;34m)\u001b[0m \u001b[0;32mis\u001b[0m \u001b[0;32mnot\u001b[0m \u001b[0;32mNone\u001b[0m\u001b[0;34m:\u001b[0m\u001b[0;34m\u001b[0m\u001b[0;34m\u001b[0m\u001b[0m\n\u001b[0;32m---> 33\u001b[0;31m         raise RuntimeError(\n\u001b[0m\u001b[1;32m     34\u001b[0m             \"asyncio.run() cannot be called from a running event loop\")\n\u001b[1;32m     35\u001b[0m \u001b[0;34m\u001b[0m\u001b[0m\n",
      "\u001b[0;31mRuntimeError\u001b[0m: asyncio.run() cannot be called from a running event loop"
     ]
    }
   ],
   "source": [
    "if __name__ == '__main__':\n",
    "    t0 = time()\n",
    "    asyncio.run(main(urlIfCar))\n",
    "    print(time()-t0)\n"
   ]
  },
  {
   "cell_type": "code",
   "execution_count": null,
   "id": "ae60e862",
   "metadata": {},
   "outputs": [],
   "source": []
  },
  {
   "cell_type": "code",
   "execution_count": null,
   "id": "0d84bab0",
   "metadata": {},
   "outputs": [],
   "source": []
  },
  {
   "cell_type": "code",
   "execution_count": 22,
   "id": "ab0961e2",
   "metadata": {},
   "outputs": [],
   "source": [
    "def ferch_date(url):   \n",
    "  \n",
    "    page = requests.get(url)\n",
    "    tree = html.fromstring(page.content)\n",
    "\n",
    "    jsDataOne = json.loads( \\\n",
    "                       tree.xpath(\"//head/script[@type='application/ld+json']\")[0].text\\\n",
    "                      )\n",
    "    jsDataTwo = json.loads( \\\n",
    "               tree.xpath(\"//script[@id='initial-state']\")[0].text\\\n",
    "              )\n",
    "\n",
    "    if not 'price' in jsDataOne['offers']:\n",
    "        \n",
    "        return []\n",
    "\n",
    "    bodyType = jsDataOne['bodyType']\n",
    "    brand = jsDataOne['brand']\n",
    "    car_url = url\n",
    "    color = jsDataOne['color']\n",
    "    complectation_dict = jsDataTwo['card']['vehicle_info']['complectation']\n",
    "    description = jsDataOne['description']\n",
    "    engineDisplacement = jsDataOne['vehicleEngine']['engineDisplacement']\n",
    "    enginePower = jsDataOne['vehicleEngine']['enginePower'] \n",
    "    equipment_dict = jsDataTwo['card']['vehicle_info']['equipment']\n",
    "    fuelType = jsDataOne['fuelType']\n",
    "    image = jsDataOne['image']\n",
    "    mileage = jsDataTwo['card']['state']['mileage']\n",
    "    modelDate = jsDataOne['modelDate']\n",
    "    model_info = jsDataTwo['card']['vehicle_info']['model_info']\n",
    "    model_name =jsDataTwo['card']['vehicle_info']['model_info']['code']\n",
    "    name = jsDataTwo['card']['vehicle_info']['tech_param']['human_name']\n",
    "    numberOfDoors = jsDataOne['numberOfDoors']\n",
    "    parsing_unixtime = int(time.mktime(datetime.now().timetuple()))\n",
    "    priceCurrency = jsDataOne['offers']['priceCurrency']\n",
    "    productionDate = jsDataOne['productionDate']\n",
    "    sell_id = 0\n",
    "    super_gen = jsDataTwo['card']['vehicle_info']['tech_param']\n",
    "    vehicleConfiguration = jsDataOne['vehicleConfiguration']\n",
    "    vehicleTransmission = jsDataOne['vehicleTransmission']\n",
    "    vendor = jsDataTwo['card']['vehicle_info']['vendor']\n",
    "    Владельцы = tree.xpath(\"//li[@class = 'CardInfoRow CardInfoRow_ownersCount']/span\")[1].text\n",
    "    Владение = 0# Нет инфы\n",
    "    ПТС = tree.xpath(\"//li[@class='CardInfoRow CardInfoRow_pts']/span\")[1].text\n",
    "    Привод = tree.xpath(\"//li[@class='CardInfoRow CardInfoRow_drive']/span\")[1].text\n",
    "    Руль = tree.xpath(\"//li[@class='CardInfoRow CardInfoRow_wheel']/span\")[1].text\n",
    "    Состояние  = tree.xpath(\"//li[@class='CardInfoRow CardInfoRow_state']/span\")[1].text\n",
    "    Таможня  = tree.xpath(\"//li[@class='CardInfoRow CardInfoRow_customs']/span\")[1].text\n",
    "    price = jsDataOne['offers']['price']\n",
    "\n",
    "    timArr = [bodyType, brand, car_url, color, complectation_dict,\n",
    "           description, engineDisplacement, enginePower, str(equipment_dict),\n",
    "           fuelType, image, mileage, modelDate, model_info, model_name,\n",
    "           name, numberOfDoors, parsing_unixtime, priceCurrency,\n",
    "           productionDate, sell_id, super_gen, vehicleConfiguration,\n",
    "           vehicleTransmission, vendor, Владельцы, Владение, ПТС,\n",
    "           Привод, Руль, Состояние, Таможня,price]\n",
    "\n",
    "    #timData=pd.DataFrame(np.array([timArr]),\\\n",
    "    #                    columns=['bodyType', 'brand', 'car_url', 'color', 'complectation_dict',\n",
    "    #       'description', 'engineDisplacement', 'enginePower', 'equipment_dict',\n",
    "    #       'fuelType', 'image', 'mileage', 'modelDate', 'model_info', 'model_name',\n",
    "    #       'name', 'numberOfDoors', 'parsing_unixtime', 'priceCurrency',\n",
    "    #       'productionDate', 'sell_id', 'super_gen', 'vehicleConfiguration',\n",
    "    #       'vehicleTransmission', 'vendor', 'Владельцы', 'Владение', 'ПТС',\n",
    "    #       'Привод', 'Руль', 'Состояние', 'Таможня','price'])\n",
    "    \n",
    "    return(timArr)"
   ]
  },
  {
   "cell_type": "code",
   "execution_count": null,
   "id": "84ed234e",
   "metadata": {},
   "outputs": [],
   "source": []
  },
  {
   "cell_type": "code",
   "execution_count": 11,
   "id": "c7252cfe",
   "metadata": {},
   "outputs": [
    {
     "data": {
      "text/plain": [
       "'https://auto.ru/cars/used/sale/skoda/octavia/1105878245-472c3ac4/'"
      ]
     },
     "execution_count": 11,
     "metadata": {},
     "output_type": "execute_result"
    }
   ],
   "source": [
    "urlIfCar[0]"
   ]
  },
  {
   "cell_type": "code",
   "execution_count": 28,
   "id": "d51a0918",
   "metadata": {},
   "outputs": [
    {
     "ename": "IndexError",
     "evalue": "list index out of range",
     "output_type": "error",
     "traceback": [
      "\u001b[0;31m---------------------------------------------------------------------------\u001b[0m",
      "\u001b[0;31mRemoteTraceback\u001b[0m                           Traceback (most recent call last)",
      "\u001b[0;31mRemoteTraceback\u001b[0m: \n\"\"\"\nTraceback (most recent call last):\n  File \"/home/admins/anaconda3/lib/python3.8/multiprocessing/pool.py\", line 125, in worker\n    result = (True, func(*args, **kwds))\n  File \"/home/admins/anaconda3/lib/python3.8/multiprocessing/pool.py\", line 48, in mapstar\n    return list(map(*args))\n  File \"/tmp/ipykernel_7457/3317807448.py\", line 47, in funcGetParam\n    Состояние  = tree.xpath(\"//li[@class='CardInfoRow CardInfoRow_state']/span\")[1].text\nIndexError: list index out of range\n\"\"\"",
      "\nThe above exception was the direct cause of the following exception:\n",
      "\u001b[0;31mIndexError\u001b[0m                                Traceback (most recent call last)",
      "\u001b[0;32m/tmp/ipykernel_7457/1056092678.py\u001b[0m in \u001b[0;36m<module>\u001b[0;34m\u001b[0m\n\u001b[1;32m      7\u001b[0m \u001b[0mstart\u001b[0m \u001b[0;34m=\u001b[0m \u001b[0mtime\u001b[0m\u001b[0;34m.\u001b[0m\u001b[0mtime\u001b[0m\u001b[0;34m(\u001b[0m\u001b[0;34m)\u001b[0m\u001b[0;34m\u001b[0m\u001b[0;34m\u001b[0m\u001b[0m\n\u001b[1;32m      8\u001b[0m \u001b[0mp\u001b[0m \u001b[0;34m=\u001b[0m \u001b[0mPool\u001b[0m\u001b[0;34m(\u001b[0m\u001b[0;36m6\u001b[0m\u001b[0;34m)\u001b[0m\u001b[0;34m\u001b[0m\u001b[0;34m\u001b[0m\u001b[0m\n\u001b[0;32m----> 9\u001b[0;31m \u001b[0mdataUrlIfCar\u001b[0m \u001b[0;34m=\u001b[0m \u001b[0mp\u001b[0m\u001b[0;34m.\u001b[0m\u001b[0mmap\u001b[0m\u001b[0;34m(\u001b[0m\u001b[0mfuncGetParam\u001b[0m\u001b[0;34m,\u001b[0m \u001b[0murlIfCar\u001b[0m\u001b[0;34m)\u001b[0m\u001b[0;34m\u001b[0m\u001b[0;34m\u001b[0m\u001b[0m\n\u001b[0m\u001b[1;32m     10\u001b[0m \u001b[0;34m\u001b[0m\u001b[0m\n\u001b[1;32m     11\u001b[0m \u001b[0mprint\u001b[0m\u001b[0;34m(\u001b[0m\u001b[0;34m'Время {0} sec'\u001b[0m\u001b[0;34m.\u001b[0m\u001b[0mformat\u001b[0m\u001b[0;34m(\u001b[0m\u001b[0;34m-\u001b[0m\u001b[0;36m1\u001b[0m\u001b[0;34m*\u001b[0m\u001b[0mstart\u001b[0m \u001b[0;34m+\u001b[0m \u001b[0mtime\u001b[0m\u001b[0;34m.\u001b[0m\u001b[0mtime\u001b[0m\u001b[0;34m(\u001b[0m\u001b[0;34m)\u001b[0m\u001b[0;34m)\u001b[0m\u001b[0;34m)\u001b[0m\u001b[0;34m\u001b[0m\u001b[0;34m\u001b[0m\u001b[0m\n",
      "\u001b[0;32m~/anaconda3/lib/python3.8/multiprocessing/pool.py\u001b[0m in \u001b[0;36mmap\u001b[0;34m(self, func, iterable, chunksize)\u001b[0m\n\u001b[1;32m    362\u001b[0m         \u001b[0;32min\u001b[0m \u001b[0ma\u001b[0m \u001b[0mlist\u001b[0m \u001b[0mthat\u001b[0m \u001b[0;32mis\u001b[0m \u001b[0mreturned\u001b[0m\u001b[0;34m.\u001b[0m\u001b[0;34m\u001b[0m\u001b[0;34m\u001b[0m\u001b[0m\n\u001b[1;32m    363\u001b[0m         '''\n\u001b[0;32m--> 364\u001b[0;31m         \u001b[0;32mreturn\u001b[0m \u001b[0mself\u001b[0m\u001b[0;34m.\u001b[0m\u001b[0m_map_async\u001b[0m\u001b[0;34m(\u001b[0m\u001b[0mfunc\u001b[0m\u001b[0;34m,\u001b[0m \u001b[0miterable\u001b[0m\u001b[0;34m,\u001b[0m \u001b[0mmapstar\u001b[0m\u001b[0;34m,\u001b[0m \u001b[0mchunksize\u001b[0m\u001b[0;34m)\u001b[0m\u001b[0;34m.\u001b[0m\u001b[0mget\u001b[0m\u001b[0;34m(\u001b[0m\u001b[0;34m)\u001b[0m\u001b[0;34m\u001b[0m\u001b[0;34m\u001b[0m\u001b[0m\n\u001b[0m\u001b[1;32m    365\u001b[0m \u001b[0;34m\u001b[0m\u001b[0m\n\u001b[1;32m    366\u001b[0m     \u001b[0;32mdef\u001b[0m \u001b[0mstarmap\u001b[0m\u001b[0;34m(\u001b[0m\u001b[0mself\u001b[0m\u001b[0;34m,\u001b[0m \u001b[0mfunc\u001b[0m\u001b[0;34m,\u001b[0m \u001b[0miterable\u001b[0m\u001b[0;34m,\u001b[0m \u001b[0mchunksize\u001b[0m\u001b[0;34m=\u001b[0m\u001b[0;32mNone\u001b[0m\u001b[0;34m)\u001b[0m\u001b[0;34m:\u001b[0m\u001b[0;34m\u001b[0m\u001b[0;34m\u001b[0m\u001b[0m\n",
      "\u001b[0;32m~/anaconda3/lib/python3.8/multiprocessing/pool.py\u001b[0m in \u001b[0;36mget\u001b[0;34m(self, timeout)\u001b[0m\n\u001b[1;32m    769\u001b[0m             \u001b[0;32mreturn\u001b[0m \u001b[0mself\u001b[0m\u001b[0;34m.\u001b[0m\u001b[0m_value\u001b[0m\u001b[0;34m\u001b[0m\u001b[0;34m\u001b[0m\u001b[0m\n\u001b[1;32m    770\u001b[0m         \u001b[0;32melse\u001b[0m\u001b[0;34m:\u001b[0m\u001b[0;34m\u001b[0m\u001b[0;34m\u001b[0m\u001b[0m\n\u001b[0;32m--> 771\u001b[0;31m             \u001b[0;32mraise\u001b[0m \u001b[0mself\u001b[0m\u001b[0;34m.\u001b[0m\u001b[0m_value\u001b[0m\u001b[0;34m\u001b[0m\u001b[0;34m\u001b[0m\u001b[0m\n\u001b[0m\u001b[1;32m    772\u001b[0m \u001b[0;34m\u001b[0m\u001b[0m\n\u001b[1;32m    773\u001b[0m     \u001b[0;32mdef\u001b[0m \u001b[0m_set\u001b[0m\u001b[0;34m(\u001b[0m\u001b[0mself\u001b[0m\u001b[0;34m,\u001b[0m \u001b[0mi\u001b[0m\u001b[0;34m,\u001b[0m \u001b[0mobj\u001b[0m\u001b[0;34m)\u001b[0m\u001b[0;34m:\u001b[0m\u001b[0;34m\u001b[0m\u001b[0;34m\u001b[0m\u001b[0m\n",
      "\u001b[0;31mIndexError\u001b[0m: list index out of range"
     ]
    }
   ],
   "source": [
    "from multiprocessing import Pool\n",
    "\n",
    "def f(x):\n",
    "    return x*x\n",
    "    \n",
    "\n",
    "start = time.time()\n",
    "p = Pool(6)\n",
    "dataUrlIfCar = p.map(funcGetParam, urlIfCar)\n",
    "\n",
    "print('Время {0} sec'.format(-1*start + time.time()))"
   ]
  },
  {
   "cell_type": "code",
   "execution_count": 29,
   "id": "37088a72",
   "metadata": {},
   "outputs": [
    {
     "data": {
      "text/plain": [
       "1000"
      ]
     },
     "execution_count": 29,
     "metadata": {},
     "output_type": "execute_result"
    }
   ],
   "source": [
    "len(dataUrlIfCar)"
   ]
  },
  {
   "cell_type": "code",
   "execution_count": 32,
   "id": "1fbcb94c",
   "metadata": {},
   "outputs": [],
   "source": [
    "start = time()"
   ]
  },
  {
   "cell_type": "code",
   "execution_count": 46,
   "id": "38368a8a",
   "metadata": {},
   "outputs": [
    {
     "data": {
      "text/plain": [
       "56.303168058395386"
      ]
     },
     "execution_count": 46,
     "metadata": {},
     "output_type": "execute_result"
    }
   ],
   "source": [
    "(-1*start + time())"
   ]
  },
  {
   "cell_type": "code",
   "execution_count": 26,
   "id": "db065d1e",
   "metadata": {},
   "outputs": [
    {
     "data": {
      "text/plain": [
       "1000"
      ]
     },
     "execution_count": 26,
     "metadata": {},
     "output_type": "execute_result"
    }
   ],
   "source": [
    "len(dataUrlIfCar)"
   ]
  },
  {
   "cell_type": "code",
   "execution_count": 33,
   "id": "31c1b0cc",
   "metadata": {},
   "outputs": [
    {
     "data": {
      "text/plain": [
       "1637585483.3487368"
      ]
     },
     "execution_count": 33,
     "metadata": {},
     "output_type": "execute_result"
    }
   ],
   "source": [
    "start"
   ]
  },
  {
   "cell_type": "code",
   "execution_count": 7,
   "id": "9f11614d",
   "metadata": {},
   "outputs": [],
   "source": [
    "arrFullCar = []"
   ]
  },
  {
   "cell_type": "code",
   "execution_count": 11,
   "id": "3562c301",
   "metadata": {},
   "outputs": [],
   "source": [
    "for i in range(0,20):\n",
    "    arrFullCar.append(pd.read_csv('train_{}.csv'.format(i)))"
   ]
  },
  {
   "cell_type": "code",
   "execution_count": 14,
   "id": "be7d9d27",
   "metadata": {},
   "outputs": [
    {
     "data": {
      "text/plain": [
       "[      Unnamed: 0                                                  0\n",
       " 0              0  ['внедорожник 5 дв.', 'BMW', 'https://auto.ru/...\n",
       " 1              1  ['внедорожник 5 дв.', 'BMW', 'https://auto.ru/...\n",
       " 2              2  ['седан', 'BMW', 'https://auto.ru/cars/used/sa...\n",
       " 3              3  ['седан', 'BMW', 'https://auto.ru/cars/used/sa...\n",
       " 4              4                                          ['price']\n",
       " ...          ...                                                ...\n",
       " 4995        4995  ['седан', 'BMW', 'https://auto.ru/cars/used/sa...\n",
       " 4996        4996  ['седан', 'BMW', 'https://auto.ru/cars/used/sa...\n",
       " 4997        4997  ['седан', 'BMW', 'https://auto.ru/cars/used/sa...\n",
       " 4998        4998                                          ['price']\n",
       " 4999        4999  ['седан', 'BMW', 'https://auto.ru/cars/used/sa...\n",
       " \n",
       " [5000 rows x 2 columns],\n",
       "       Unnamed: 0                                                  0\n",
       " 0              0                                          ['price']\n",
       " 1              1  ['седан', 'BMW', 'https://auto.ru/cars/used/sa...\n",
       " 2              2  ['седан', 'BMW', 'https://auto.ru/cars/used/sa...\n",
       " 3              3  ['седан', 'BMW', 'https://auto.ru/cars/used/sa...\n",
       " 4              4  ['седан', 'BMW', 'https://auto.ru/cars/used/sa...\n",
       " ...          ...                                                ...\n",
       " 4995        4995  ['седан', 'BMW', 'https://auto.ru/cars/used/sa...\n",
       " 4996        4996                                          ['price']\n",
       " 4997        4997  ['седан', 'BMW', 'https://auto.ru/cars/used/sa...\n",
       " 4998        4998                                          ['price']\n",
       " 4999        4999  ['седан', 'BMW', 'https://auto.ru/cars/used/sa...\n",
       " \n",
       " [5000 rows x 2 columns],\n",
       "       Unnamed: 0                                                  0\n",
       " 0              0                                          ['price']\n",
       " 1              1  ['купе', 'BMW', 'https://auto.ru/cars/used/sal...\n",
       " 2              2                                          ['price']\n",
       " 3              3  ['купе', 'BMW', 'https://auto.ru/cars/used/sal...\n",
       " 4              4  ['седан', 'BMW', 'https://auto.ru/cars/used/sa...\n",
       " ...          ...                                                ...\n",
       " 4995        4995  ['внедорожник 5 дв.', 'VOLKSWAGEN', 'https://a...\n",
       " 4996        4996                                          ['price']\n",
       " 4997        4997  ['седан', 'VOLKSWAGEN', 'https://auto.ru/cars/...\n",
       " 4998        4998  ['хэтчбек 5 дв.', 'VOLKSWAGEN', 'https://auto....\n",
       " 4999        4999  ['внедорожник 5 дв.', 'VOLKSWAGEN', 'https://a...\n",
       " \n",
       " [5000 rows x 2 columns],\n",
       "       Unnamed: 0                                                  0\n",
       " 0              0                                          ['price']\n",
       " 1              1  ['внедорожник 5 дв.', 'VOLKSWAGEN', 'https://a...\n",
       " 2              2  ['седан', 'VOLKSWAGEN', 'https://auto.ru/cars/...\n",
       " 3              3  ['внедорожник 5 дв.', 'VOLKSWAGEN', 'https://a...\n",
       " 4              4                                          ['price']\n",
       " ...          ...                                                ...\n",
       " 4995        4995  ['внедорожник 5 дв.', 'VOLKSWAGEN', 'https://a...\n",
       " 4996        4996  ['внедорожник 5 дв.', 'VOLKSWAGEN', 'https://a...\n",
       " 4997        4997                                          ['price']\n",
       " 4998        4998  ['внедорожник 5 дв.', 'VOLKSWAGEN', 'https://a...\n",
       " 4999        4999  ['компактвэн', 'VOLKSWAGEN', 'https://auto.ru/...\n",
       " \n",
       " [5000 rows x 2 columns],\n",
       "       Unnamed: 0                                                  0\n",
       " 0              0  ['лифтбек', 'VOLKSWAGEN', 'https://auto.ru/car...\n",
       " 1              1  ['седан', 'VOLKSWAGEN', 'https://auto.ru/cars/...\n",
       " 2              2                                          ['price']\n",
       " 3              3  ['внедорожник 5 дв.', 'VOLKSWAGEN', 'https://a...\n",
       " 4              4  ['внедорожник 5 дв.', 'VOLKSWAGEN', 'https://a...\n",
       " ...          ...                                                ...\n",
       " 4995        4995  ['седан', 'NISSAN', 'https://auto.ru/cars/used...\n",
       " 4996        4996  ['внедорожник 5 дв.', 'NISSAN', 'https://auto....\n",
       " 4997        4997                                          ['price']\n",
       " 4998        4998  ['внедорожник 5 дв.', 'NISSAN', 'https://auto....\n",
       " 4999        4999  ['внедорожник 5 дв.', 'NISSAN', 'https://auto....\n",
       " \n",
       " [5000 rows x 2 columns],\n",
       "       Unnamed: 0                                                  0\n",
       " 0              0  ['седан', 'NISSAN', 'https://auto.ru/cars/used...\n",
       " 1              1  ['внедорожник 5 дв.', 'NISSAN', 'https://auto....\n",
       " 2              2                                          ['price']\n",
       " 3              3  ['внедорожник 5 дв.', 'NISSAN', 'https://auto....\n",
       " 4              4  ['внедорожник 5 дв.', 'NISSAN', 'https://auto....\n",
       " ...          ...                                                ...\n",
       " 4995        4995  ['универсал 5 дв.', 'NISSAN', 'https://auto.ru...\n",
       " 4996        4996  ['универсал 5 дв.', 'NISSAN', 'https://auto.ru...\n",
       " 4997        4997                                          ['price']\n",
       " 4998        4998  ['седан', 'NISSAN', 'https://auto.ru/cars/used...\n",
       " 4999        4999  ['компактвэн', 'NISSAN', 'https://auto.ru/cars...\n",
       " \n",
       " [5000 rows x 2 columns],\n",
       "       Unnamed: 0                                                  0\n",
       " 0              0  ['седан', 'NISSAN', 'https://auto.ru/cars/used...\n",
       " 1              1  ['компактвэн', 'NISSAN', 'https://auto.ru/cars...\n",
       " 2              2  ['минивэн', 'NISSAN', 'https://auto.ru/cars/us...\n",
       " 3              3  ['хэтчбек 5 дв.', 'NISSAN', 'https://auto.ru/c...\n",
       " 4              4  ['седан', 'NISSAN', 'https://auto.ru/cars/used...\n",
       " ...          ...                                                ...\n",
       " 4995        4995                                          ['price']\n",
       " 4996        4996                                          ['price']\n",
       " 4997        4997  ['внедорожник 5 дв.', 'NISSAN', 'https://auto....\n",
       " 4998        4998  ['седан', 'NISSAN', 'https://auto.ru/cars/used...\n",
       " 4999        4999  ['внедорожник 5 дв.', 'NISSAN', 'https://auto....\n",
       " \n",
       " [5000 rows x 2 columns],\n",
       "       Unnamed: 0                                                  0\n",
       " 0              0  ['хэтчбек 5 дв.', 'NISSAN', 'https://auto.ru/c...\n",
       " 1              1  ['внедорожник 5 дв.', 'NISSAN', 'https://auto....\n",
       " 2              2                                          ['price']\n",
       " 3              3  ['внедорожник 5 дв.', 'NISSAN', 'https://auto....\n",
       " 4              4  ['внедорожник 5 дв.', 'NISSAN', 'https://auto....\n",
       " ...          ...                                                ...\n",
       " 4995        4995                                          ['price']\n",
       " 4996        4996                                          ['price']\n",
       " 4997        4997  ['седан', 'MERCEDES', 'https://auto.ru/cars/us...\n",
       " 4998        4998  ['минивэн', 'MERCEDES', 'https://auto.ru/cars/...\n",
       " 4999        4999  ['седан', 'MERCEDES', 'https://auto.ru/cars/us...\n",
       " \n",
       " [5000 rows x 2 columns],\n",
       "       Unnamed: 0                                                  0\n",
       " 0              0                                          ['price']\n",
       " 1              1  ['внедорожник 5 дв.', 'MERCEDES', 'https://aut...\n",
       " 2              2  ['внедорожник 5 дв.', 'MERCEDES', 'https://aut...\n",
       " 3              3  ['родстер', 'MERCEDES', 'https://auto.ru/cars/...\n",
       " 4              4  ['седан', 'MERCEDES', 'https://auto.ru/cars/us...\n",
       " ...          ...                                                ...\n",
       " 4995        4995  ['внедорожник 5 дв.', 'MERCEDES', 'https://aut...\n",
       " 4996        4996  ['седан', 'MERCEDES', 'https://auto.ru/cars/us...\n",
       " 4997        4997  ['внедорожник 5 дв.', 'MERCEDES', 'https://aut...\n",
       " 4998        4998  ['внедорожник 5 дв.', 'MERCEDES', 'https://aut...\n",
       " 4999        4999  ['внедорожник 5 дв.', 'MERCEDES', 'https://aut...\n",
       " \n",
       " [5000 rows x 2 columns],\n",
       "       Unnamed: 0                                                  0\n",
       " 0              0  ['внедорожник 5 дв.', 'MERCEDES', 'https://aut...\n",
       " 1              1  ['внедорожник 5 дв.', 'MERCEDES', 'https://aut...\n",
       " 2              2                                          ['price']\n",
       " 3              3  ['внедорожник 5 дв.', 'MERCEDES', 'https://aut...\n",
       " 4              4  ['внедорожник 5 дв.', 'MERCEDES', 'https://aut...\n",
       " ...          ...                                                ...\n",
       " 4995        4995                                          ['price']\n",
       " 4996        4996  ['внедорожник 5 дв.', 'TOYOTA', 'https://auto....\n",
       " 4997        4997  ['внедорожник 5 дв.', 'TOYOTA', 'https://auto....\n",
       " 4998        4998  ['внедорожник 5 дв.', 'TOYOTA', 'https://auto....\n",
       " 4999        4999                                          ['price']\n",
       " \n",
       " [5000 rows x 2 columns],\n",
       "       Unnamed: 0                                                  0\n",
       " 0              0  ['внедорожник 5 дв.', 'TOYOTA', 'https://auto....\n",
       " 1              1                                          ['price']\n",
       " 2              2  ['внедорожник 5 дв.', 'TOYOTA', 'https://auto....\n",
       " 3              3  ['внедорожник 5 дв.', 'TOYOTA', 'https://auto....\n",
       " 4              4  ['минивэн', 'TOYOTA', 'https://auto.ru/cars/us...\n",
       " ...          ...                                                ...\n",
       " 4995        4995  ['седан', 'TOYOTA', 'https://auto.ru/cars/used...\n",
       " 4996        4996  ['универсал 5 дв.', 'TOYOTA', 'https://auto.ru...\n",
       " 4997        4997                                          ['price']\n",
       " 4998        4998  ['универсал 5 дв.', 'TOYOTA', 'https://auto.ru...\n",
       " 4999        4999                                          ['price']\n",
       " \n",
       " [5000 rows x 2 columns],\n",
       "       Unnamed: 0                                                  0\n",
       " 0              0  ['седан', 'TOYOTA', 'https://auto.ru/cars/used...\n",
       " 1              1  ['седан', 'TOYOTA', 'https://auto.ru/cars/used...\n",
       " 2              2  ['хэтчбек 3 дв.', 'TOYOTA', 'https://auto.ru/c...\n",
       " 3              3                                          ['price']\n",
       " 4              4  ['седан', 'TOYOTA', 'https://auto.ru/cars/used...\n",
       " ...          ...                                                ...\n",
       " 4995        4995  ['седан', 'TOYOTA', 'https://auto.ru/cars/used...\n",
       " 4996        4996  ['внедорожник 5 дв.', 'TOYOTA', 'https://auto....\n",
       " 4997        4997  ['универсал 5 дв.', 'TOYOTA', 'https://auto.ru...\n",
       " 4998        4998  ['седан', 'TOYOTA', 'https://auto.ru/cars/used...\n",
       " 4999        4999  ['седан', 'TOYOTA', 'https://auto.ru/cars/used...\n",
       " \n",
       " [5000 rows x 2 columns],\n",
       "       Unnamed: 0                                                  0\n",
       " 0              0                                          ['price']\n",
       " 1              1  ['универсал 5 дв.', 'TOYOTA', 'https://auto.ru...\n",
       " 2              2  ['внедорожник 5 дв.', 'TOYOTA', 'https://auto....\n",
       " 3              3  ['хэтчбек 5 дв.', 'TOYOTA', 'https://auto.ru/c...\n",
       " 4              4  ['внедорожник 5 дв.', 'TOYOTA', 'https://auto....\n",
       " ...          ...                                                ...\n",
       " 4995        4995                                          ['price']\n",
       " 4996        4996  ['седан', 'AUDI', 'https://auto.ru/cars/used/s...\n",
       " 4997        4997                                          ['price']\n",
       " 4998        4998                                          ['price']\n",
       " 4999        4999  ['седан', 'AUDI', 'https://auto.ru/cars/used/s...\n",
       " \n",
       " [5000 rows x 2 columns],\n",
       "       Unnamed: 0                                                  0\n",
       " 0              0                                          ['price']\n",
       " 1              1  ['лифтбек', 'AUDI', 'https://auto.ru/cars/used...\n",
       " 2              2  ['седан', 'AUDI', 'https://auto.ru/cars/used/s...\n",
       " 3              3  ['внедорожник 5 дв.', 'AUDI', 'https://auto.ru...\n",
       " 4              4  ['седан', 'AUDI', 'https://auto.ru/cars/used/s...\n",
       " ...          ...                                                ...\n",
       " 4995        4995  ['седан', 'AUDI', 'https://auto.ru/cars/used/s...\n",
       " 4996        4996                                          ['price']\n",
       " 4997        4997  ['седан', 'AUDI', 'https://auto.ru/cars/used/s...\n",
       " 4998        4998  ['седан', 'AUDI', 'https://auto.ru/cars/used/s...\n",
       " 4999        4999  ['седан', 'AUDI', 'https://auto.ru/cars/used/s...\n",
       " \n",
       " [5000 rows x 2 columns],\n",
       "       Unnamed: 0                                                  0\n",
       " 0              0  ['седан', 'AUDI', 'https://auto.ru/cars/used/s...\n",
       " 1              1  ['седан', 'AUDI', 'https://auto.ru/cars/used/s...\n",
       " 2              2  ['хэтчбек 3 дв.', 'AUDI', 'https://auto.ru/car...\n",
       " 3              3  ['седан', 'AUDI', 'https://auto.ru/cars/used/s...\n",
       " 4              4  ['седан', 'AUDI', 'https://auto.ru/cars/used/s...\n",
       " ...          ...                                                ...\n",
       " 4995        4995  ['внедорожник 3 дв.', 'MITSUBISHI', 'https://a...\n",
       " 4996        4996  ['внедорожник 5 дв.', 'MITSUBISHI', 'https://a...\n",
       " 4997        4997  ['внедорожник 5 дв.', 'MITSUBISHI', 'https://a...\n",
       " 4998        4998  ['седан', 'MITSUBISHI', 'https://auto.ru/cars/...\n",
       " 4999        4999                                          ['price']\n",
       " \n",
       " [5000 rows x 2 columns],\n",
       "       Unnamed: 0                                                  0\n",
       " 0              0  ['седан', 'MITSUBISHI', 'https://auto.ru/cars/...\n",
       " 1              1  ['внедорожник 5 дв.', 'MITSUBISHI', 'https://a...\n",
       " 2              2  ['седан', 'MITSUBISHI', 'https://auto.ru/cars/...\n",
       " 3              3                                          ['price']\n",
       " 4              4                                          ['price']\n",
       " ...          ...                                                ...\n",
       " 4995        4995  ['лифтбек', 'SKODA', 'https://auto.ru/cars/use...\n",
       " 4996        4996                                          ['price']\n",
       " 4997        4997  ['внедорожник 5 дв.', 'SKODA', 'https://auto.r...\n",
       " 4998        4998                                          ['price']\n",
       " 4999        4999  ['лифтбек', 'SKODA', 'https://auto.ru/cars/use...\n",
       " \n",
       " [5000 rows x 2 columns],\n",
       "       Unnamed: 0                                                  0\n",
       " 0              0  ['лифтбек', 'SKODA', 'https://auto.ru/cars/use...\n",
       " 1              1  ['лифтбек', 'SKODA', 'https://auto.ru/cars/use...\n",
       " 2              2  ['лифтбек', 'SKODA', 'https://auto.ru/cars/use...\n",
       " 3              3  ['лифтбек', 'SKODA', 'https://auto.ru/cars/use...\n",
       " 4              4                                          ['price']\n",
       " ...          ...                                                ...\n",
       " 4995        4995  ['седан', 'VOLVO', 'https://auto.ru/cars/used/...\n",
       " 4996        4996  ['внедорожник 5 дв.', 'VOLVO', 'https://auto.r...\n",
       " 4997        4997                                          ['price']\n",
       " 4998        4998  ['внедорожник 5 дв.', 'VOLVO', 'https://auto.r...\n",
       " 4999        4999  ['хэтчбек 5 дв.', 'VOLVO', 'https://auto.ru/ca...\n",
       " \n",
       " [5000 rows x 2 columns],\n",
       "       Unnamed: 0                                                  0\n",
       " 0              0  ['седан', 'VOLVO', 'https://auto.ru/cars/used/...\n",
       " 1              1  ['универсал 5 дв.', 'VOLVO', 'https://auto.ru/...\n",
       " 2              2  ['внедорожник 5 дв.', 'VOLVO', 'https://auto.r...\n",
       " 3              3  ['седан', 'VOLVO', 'https://auto.ru/cars/used/...\n",
       " 4              4  ['хэтчбек 5 дв.', 'VOLVO', 'https://auto.ru/ca...\n",
       " ...          ...                                                ...\n",
       " 4995        4995  ['внедорожник 5 дв.', 'HONDA', 'https://auto.r...\n",
       " 4996        4996                                          ['price']\n",
       " 4997        4997                                          ['price']\n",
       " 4998        4998                                          ['price']\n",
       " 4999        4999  ['хэтчбек 5 дв.', 'HONDA', 'https://auto.ru/ca...\n",
       " \n",
       " [5000 rows x 2 columns],\n",
       "       Unnamed: 0                                                  0\n",
       " 0              0  ['седан', 'HONDA', 'https://auto.ru/cars/used/...\n",
       " 1              1                                          ['price']\n",
       " 2              2  ['седан', 'HONDA', 'https://auto.ru/cars/used/...\n",
       " 3              3  ['седан', 'HONDA', 'https://auto.ru/cars/used/...\n",
       " 4              4  ['внедорожник 5 дв.', 'HONDA', 'https://auto.r...\n",
       " ...          ...                                                ...\n",
       " 4995        4995  ['внедорожник 5 дв.', 'LEXUS', 'https://auto.r...\n",
       " 4996        4996  ['внедорожник 5 дв.', 'LEXUS', 'https://auto.r...\n",
       " 4997        4997                                          ['price']\n",
       " 4998        4998                                          ['price']\n",
       " 4999        4999  ['внедорожник 5 дв.', 'LEXUS', 'https://auto.r...\n",
       " \n",
       " [5000 rows x 2 columns],\n",
       "       Unnamed: 0                                                  0\n",
       " 0              0  ['внедорожник 5 дв.', 'LEXUS', 'https://auto.r...\n",
       " 1              1  ['седан', 'LEXUS', 'https://auto.ru/cars/used/...\n",
       " 2              2                                          ['price']\n",
       " 3              3  ['внедорожник 5 дв.', 'LEXUS', 'https://auto.r...\n",
       " 4              4  ['внедорожник 5 дв.', 'LEXUS', 'https://auto.r...\n",
       " ...          ...                                                ...\n",
       " 1252        1252                                          ['price']\n",
       " 1253        1253  ['внедорожник 5 дв.', 'LEXUS', 'https://auto.r...\n",
       " 1254        1254  ['седан', 'LEXUS', 'https://auto.ru/cars/used/...\n",
       " 1255        1255  ['внедорожник 5 дв.', 'LEXUS', 'https://auto.r...\n",
       " 1256        1256  ['внедорожник 5 дв.', 'LEXUS', 'https://auto.r...\n",
       " \n",
       " [1257 rows x 2 columns]]"
      ]
     },
     "execution_count": 14,
     "metadata": {},
     "output_type": "execute_result"
    }
   ],
   "source": [
    "arrFullCar"
   ]
  },
  {
   "cell_type": "code",
   "execution_count": 24,
   "id": "3de82ab3",
   "metadata": {},
   "outputs": [],
   "source": [
    "trainFull = pd.DataFrame(np.concatenate(arrFullCar))[1]"
   ]
  },
  {
   "cell_type": "code",
   "execution_count": 26,
   "id": "2eec82ac",
   "metadata": {},
   "outputs": [],
   "source": [
    "trainFull.to_csv('trainFull.csv')"
   ]
  },
  {
   "cell_type": "code",
   "execution_count": null,
   "id": "83f628ae",
   "metadata": {},
   "outputs": [],
   "source": []
  },
  {
   "cell_type": "code",
   "execution_count": 30,
   "id": "1ba3097a",
   "metadata": {},
   "outputs": [],
   "source": [
    "arrIfCat = []"
   ]
  },
  {
   "cell_type": "code",
   "execution_count": 31,
   "id": "076dc6ed",
   "metadata": {},
   "outputs": [],
   "source": [
    "for i in range(0,22):\n",
    "    arrIfCat.append(pd.read_csv('train_if_{}.csv'.format(i)))"
   ]
  },
  {
   "cell_type": "code",
   "execution_count": 32,
   "id": "5d1a9c06",
   "metadata": {},
   "outputs": [],
   "source": [
    "trainIf = pd.DataFrame(np.concatenate(arrIfCat))[1]"
   ]
  },
  {
   "cell_type": "code",
   "execution_count": 34,
   "id": "27a72160",
   "metadata": {},
   "outputs": [],
   "source": [
    "trainIf.to_csv('trainIf.csv')"
   ]
  },
  {
   "cell_type": "code",
   "execution_count": null,
   "id": "c65492c9",
   "metadata": {},
   "outputs": [],
   "source": []
  }
 ],
 "metadata": {
  "kernelspec": {
   "display_name": "Python 3 (ipykernel)",
   "language": "python",
   "name": "python3"
  },
  "language_info": {
   "codemirror_mode": {
    "name": "ipython",
    "version": 3
   },
   "file_extension": ".py",
   "mimetype": "text/x-python",
   "name": "python",
   "nbconvert_exporter": "python",
   "pygments_lexer": "ipython3",
   "version": "3.8.8"
  }
 },
 "nbformat": 4,
 "nbformat_minor": 5
}

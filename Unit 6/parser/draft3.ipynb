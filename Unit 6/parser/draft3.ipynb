{
 "cells": [
  {
   "cell_type": "code",
   "execution_count": 74,
   "id": "b3305fcc",
   "metadata": {},
   "outputs": [],
   "source": [
    "import pandas as pd\n",
    "import numpy as np\n",
    "import ast"
   ]
  },
  {
   "cell_type": "code",
   "execution_count": 5,
   "id": "e936a087",
   "metadata": {},
   "outputs": [],
   "source": [
    "test = pd.read_csv('test.csv')"
   ]
  },
  {
   "cell_type": "code",
   "execution_count": 61,
   "id": "9dd85a95",
   "metadata": {},
   "outputs": [],
   "source": [
    "trainFull = pd.read_csv('trainFull.csv')"
   ]
  },
  {
   "cell_type": "code",
   "execution_count": 62,
   "id": "453266a2",
   "metadata": {},
   "outputs": [],
   "source": [
    "trainIf = pd.read_csv('trainIf.csv')"
   ]
  },
  {
   "cell_type": "code",
   "execution_count": 21,
   "id": "498c4c90",
   "metadata": {},
   "outputs": [
    {
     "data": {
      "text/plain": [
       "pandas.core.frame.DataFrame"
      ]
     },
     "execution_count": 21,
     "metadata": {},
     "output_type": "execute_result"
    }
   ],
   "source": [
    "type(trainFull)"
   ]
  },
  {
   "cell_type": "code",
   "execution_count": 33,
   "id": "f0ac63bc",
   "metadata": {},
   "outputs": [
    {
     "data": {
      "text/plain": [
       "str"
      ]
     },
     "execution_count": 33,
     "metadata": {},
     "output_type": "execute_result"
    }
   ],
   "source": [
    "type(trainFull['1'].iloc[0])"
   ]
  },
  {
   "cell_type": "code",
   "execution_count": 63,
   "id": "efeadeb5",
   "metadata": {
    "scrolled": true
   },
   "outputs": [],
   "source": [
    "trainFull = trainFull['1'].apply(lambda x : None if x == \"['price']\" \\\n",
    "                     or x == \"['error']\"  else x)"
   ]
  },
  {
   "cell_type": "code",
   "execution_count": 64,
   "id": "436ebaa3",
   "metadata": {},
   "outputs": [],
   "source": [
    "trainIf = trainIf['1'].apply(lambda x : None if x == \"['price']\" \\\n",
    "                     or x == \"['error']\"  else x)"
   ]
  },
  {
   "cell_type": "code",
   "execution_count": 66,
   "id": "399ad368",
   "metadata": {},
   "outputs": [],
   "source": [
    "trainFull = trainFull.dropna()"
   ]
  },
  {
   "cell_type": "code",
   "execution_count": 67,
   "id": "9978bf67",
   "metadata": {},
   "outputs": [],
   "source": [
    "trainIf = trainIf.dropna()"
   ]
  },
  {
   "cell_type": "code",
   "execution_count": 84,
   "id": "301593c2",
   "metadata": {},
   "outputs": [],
   "source": [
    "trainFull = trainFull.apply(lambda x : ast.literal_eval(x))"
   ]
  },
  {
   "cell_type": "code",
   "execution_count": 83,
   "id": "12ff3c5b",
   "metadata": {},
   "outputs": [],
   "source": [
    "trainIf = trainIf.apply(lambda x : ast.literal_eval(x))"
   ]
  },
  {
   "cell_type": "code",
   "execution_count": 96,
   "id": "3e8f791a",
   "metadata": {},
   "outputs": [],
   "source": [
    "arr = []\n",
    "for item in trainFull:\n",
    "    arr.append(item)\n",
    "trainFull = pd.DataFrame(arr)"
   ]
  },
  {
   "cell_type": "code",
   "execution_count": 97,
   "id": "02c1ba18",
   "metadata": {},
   "outputs": [],
   "source": [
    "arr = []\n",
    "for item in trainIf:\n",
    "    arr.append(item)\n",
    "trainIf = pd.DataFrame(arr)"
   ]
  },
  {
   "cell_type": "code",
   "execution_count": 133,
   "id": "10bda4ec",
   "metadata": {},
   "outputs": [],
   "source": [
    "test['price'] = 0"
   ]
  },
  {
   "cell_type": "code",
   "execution_count": 139,
   "id": "7d6d1a62",
   "metadata": {},
   "outputs": [],
   "source": [
    "trainFull.columns = test.columns"
   ]
  },
  {
   "cell_type": "code",
   "execution_count": 142,
   "id": "4aefd3a2",
   "metadata": {},
   "outputs": [],
   "source": [
    "trainIf.columns = test.columns"
   ]
  },
  {
   "cell_type": "code",
   "execution_count": 158,
   "id": "d93872db",
   "metadata": {},
   "outputs": [],
   "source": [
    "trainIf.to_csv('trainFinIf.csv')"
   ]
  },
  {
   "cell_type": "code",
   "execution_count": 159,
   "id": "66f39de6",
   "metadata": {},
   "outputs": [],
   "source": [
    "trainFull.to_csv('trainFinFull.csv')"
   ]
  },
  {
   "cell_type": "code",
   "execution_count": null,
   "id": "9fbebe14",
   "metadata": {},
   "outputs": [],
   "source": []
  }
 ],
 "metadata": {
  "kernelspec": {
   "display_name": "Python 3 (ipykernel)",
   "language": "python",
   "name": "python3"
  },
  "language_info": {
   "codemirror_mode": {
    "name": "ipython",
    "version": 3
   },
   "file_extension": ".py",
   "mimetype": "text/x-python",
   "name": "python",
   "nbconvert_exporter": "python",
   "pygments_lexer": "ipython3",
   "version": "3.8.8"
  }
 },
 "nbformat": 4,
 "nbformat_minor": 5
}

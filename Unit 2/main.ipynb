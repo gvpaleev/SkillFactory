{
 "cells": [
  {
   "cell_type": "code",
   "execution_count": 1,
   "metadata": {},
   "outputs": [],
   "source": [
    "import pandas as pd\n",
    "import matplotlib.pyplot as plt\n",
    "import seaborn as sns\n",
    "from itertools import combinations\n",
    "from scipy.stats import ttest_ind"
   ]
  },
  {
   "cell_type": "code",
   "execution_count": 2,
   "metadata": {},
   "outputs": [],
   "source": [
    "df = pd.read_csv('stud_math.csv')\n",
    "df2 = pd.read_csv('stud_math.csv')"
   ]
  },
  {
   "cell_type": "markdown",
   "metadata": {},
   "source": [
    "Суть проекта — отследить влияние условий жизни учащихся в возрасте от 15 до 22 лет на их успеваемость по математике, чтобы на ранней стадии выявлять студентов, находящихся в группе риска.\n",
    "\n",
    "Для этого у нас имеется различные данные об ученике, из которых можно попытаться рассчитать коэффициент благополучия.\n",
    "\n",
    "Т.к. данных не много, ведем две копии DataFrame.\n",
    "На df смотрим данные и делаем логические выводы, в df2 попытаемся преобразовать данные по каждому критерии в оценку благополучия что позволит в итоге подсчитать общую оценку благополучия ученика и сделать корреляционный анализ с баллами по гос экз по математике."
   ]
  },
  {
   "cell_type": "code",
   "execution_count": 3,
   "metadata": {},
   "outputs": [],
   "source": [
    "def statusCounts(ser):\n",
    "    print('Статистика по : '+ser.name)\n",
    "    print('Всего : ' + str(len(ser)))\n",
    "    print('Уникальных : ' + str(len(ser.value_counts())))\n",
    "    print('Сумма уникальных : ' + str(ser.value_counts().sum()))\n",
    "    print('Пустых : ' + str(len(ser) - ser.value_counts().sum()))\n",
    "\n",
    "    if ser.dtype == 'O':\n",
    "        #print('Undefined : ' + list(returnUpdateTheVoid(ser).loc['Undefined']))\n",
    "        display(returnUpdateTheVoid(ser).value_counts())\n",
    "        returnUpdateTheVoid(ser).hist()\n",
    "    else:\n",
    "        display(ser.value_counts())\n",
    "        display(ser.describe())\n",
    "\n",
    "        sns.boxplot(x=ser)"
   ]
  },
  {
   "cell_type": "code",
   "execution_count": 4,
   "metadata": {},
   "outputs": [],
   "source": [
    "# None or Nan in Empty string\n",
    "def returnUpdateTheVoid(ser):\n",
    "    if ser.dtype == 'O':\n",
    "        return ser.apply(lambda x: 'Undefined' if (x != x) | (x == None) else x)\n",
    "   # else:\n",
    "        # return ser.apply(lambda x: -0.00001 if (x != x) | (x == None) else x)"
   ]
  },
  {
   "cell_type": "code",
   "execution_count": 5,
   "metadata": {},
   "outputs": [],
   "source": [
    "def returnNotTheVoid(ser):\n",
    "    return ser[ser]"
   ]
  },
  {
   "cell_type": "code",
   "execution_count": 6,
   "metadata": {},
   "outputs": [
    {
     "data": {
      "text/html": [
       "<div>\n",
       "<style scoped>\n",
       "    .dataframe tbody tr th:only-of-type {\n",
       "        vertical-align: middle;\n",
       "    }\n",
       "\n",
       "    .dataframe tbody tr th {\n",
       "        vertical-align: top;\n",
       "    }\n",
       "\n",
       "    .dataframe thead th {\n",
       "        text-align: right;\n",
       "    }\n",
       "</style>\n",
       "<table border=\"1\" class=\"dataframe\">\n",
       "  <thead>\n",
       "    <tr style=\"text-align: right;\">\n",
       "      <th></th>\n",
       "      <th>school</th>\n",
       "      <th>sex</th>\n",
       "      <th>age</th>\n",
       "      <th>address</th>\n",
       "      <th>famsize</th>\n",
       "      <th>Pstatus</th>\n",
       "      <th>Medu</th>\n",
       "      <th>Fedu</th>\n",
       "      <th>Mjob</th>\n",
       "      <th>Fjob</th>\n",
       "      <th>...</th>\n",
       "      <th>studytime, granular</th>\n",
       "      <th>higher</th>\n",
       "      <th>internet</th>\n",
       "      <th>romantic</th>\n",
       "      <th>famrel</th>\n",
       "      <th>freetime</th>\n",
       "      <th>goout</th>\n",
       "      <th>health</th>\n",
       "      <th>absences</th>\n",
       "      <th>score</th>\n",
       "    </tr>\n",
       "  </thead>\n",
       "  <tbody>\n",
       "    <tr>\n",
       "      <th>0</th>\n",
       "      <td>GP</td>\n",
       "      <td>F</td>\n",
       "      <td>18</td>\n",
       "      <td>U</td>\n",
       "      <td>NaN</td>\n",
       "      <td>A</td>\n",
       "      <td>4.0</td>\n",
       "      <td>4.0</td>\n",
       "      <td>at_home</td>\n",
       "      <td>teacher</td>\n",
       "      <td>...</td>\n",
       "      <td>-6.0</td>\n",
       "      <td>yes</td>\n",
       "      <td>NaN</td>\n",
       "      <td>no</td>\n",
       "      <td>4.0</td>\n",
       "      <td>3.0</td>\n",
       "      <td>4.0</td>\n",
       "      <td>3.0</td>\n",
       "      <td>6.0</td>\n",
       "      <td>30.0</td>\n",
       "    </tr>\n",
       "    <tr>\n",
       "      <th>1</th>\n",
       "      <td>GP</td>\n",
       "      <td>F</td>\n",
       "      <td>17</td>\n",
       "      <td>U</td>\n",
       "      <td>GT3</td>\n",
       "      <td>NaN</td>\n",
       "      <td>1.0</td>\n",
       "      <td>1.0</td>\n",
       "      <td>at_home</td>\n",
       "      <td>other</td>\n",
       "      <td>...</td>\n",
       "      <td>-6.0</td>\n",
       "      <td>yes</td>\n",
       "      <td>yes</td>\n",
       "      <td>no</td>\n",
       "      <td>5.0</td>\n",
       "      <td>3.0</td>\n",
       "      <td>3.0</td>\n",
       "      <td>3.0</td>\n",
       "      <td>4.0</td>\n",
       "      <td>30.0</td>\n",
       "    </tr>\n",
       "    <tr>\n",
       "      <th>2</th>\n",
       "      <td>GP</td>\n",
       "      <td>F</td>\n",
       "      <td>15</td>\n",
       "      <td>U</td>\n",
       "      <td>LE3</td>\n",
       "      <td>T</td>\n",
       "      <td>1.0</td>\n",
       "      <td>1.0</td>\n",
       "      <td>at_home</td>\n",
       "      <td>other</td>\n",
       "      <td>...</td>\n",
       "      <td>-6.0</td>\n",
       "      <td>yes</td>\n",
       "      <td>yes</td>\n",
       "      <td>NaN</td>\n",
       "      <td>4.0</td>\n",
       "      <td>3.0</td>\n",
       "      <td>2.0</td>\n",
       "      <td>3.0</td>\n",
       "      <td>10.0</td>\n",
       "      <td>50.0</td>\n",
       "    </tr>\n",
       "    <tr>\n",
       "      <th>3</th>\n",
       "      <td>GP</td>\n",
       "      <td>F</td>\n",
       "      <td>15</td>\n",
       "      <td>U</td>\n",
       "      <td>GT3</td>\n",
       "      <td>T</td>\n",
       "      <td>4.0</td>\n",
       "      <td>2.0</td>\n",
       "      <td>health</td>\n",
       "      <td>NaN</td>\n",
       "      <td>...</td>\n",
       "      <td>-9.0</td>\n",
       "      <td>yes</td>\n",
       "      <td>yes</td>\n",
       "      <td>yes</td>\n",
       "      <td>3.0</td>\n",
       "      <td>2.0</td>\n",
       "      <td>2.0</td>\n",
       "      <td>5.0</td>\n",
       "      <td>2.0</td>\n",
       "      <td>75.0</td>\n",
       "    </tr>\n",
       "    <tr>\n",
       "      <th>4</th>\n",
       "      <td>GP</td>\n",
       "      <td>F</td>\n",
       "      <td>16</td>\n",
       "      <td>U</td>\n",
       "      <td>GT3</td>\n",
       "      <td>T</td>\n",
       "      <td>3.0</td>\n",
       "      <td>3.0</td>\n",
       "      <td>other</td>\n",
       "      <td>other</td>\n",
       "      <td>...</td>\n",
       "      <td>-6.0</td>\n",
       "      <td>yes</td>\n",
       "      <td>no</td>\n",
       "      <td>no</td>\n",
       "      <td>4.0</td>\n",
       "      <td>3.0</td>\n",
       "      <td>2.0</td>\n",
       "      <td>5.0</td>\n",
       "      <td>4.0</td>\n",
       "      <td>50.0</td>\n",
       "    </tr>\n",
       "  </tbody>\n",
       "</table>\n",
       "<p>5 rows × 30 columns</p>\n",
       "</div>"
      ],
      "text/plain": [
       "  school sex  age address famsize Pstatus  Medu  Fedu     Mjob     Fjob  ...  \\\n",
       "0     GP   F   18       U     NaN       A   4.0   4.0  at_home  teacher  ...   \n",
       "1     GP   F   17       U     GT3     NaN   1.0   1.0  at_home    other  ...   \n",
       "2     GP   F   15       U     LE3       T   1.0   1.0  at_home    other  ...   \n",
       "3     GP   F   15       U     GT3       T   4.0   2.0   health      NaN  ...   \n",
       "4     GP   F   16       U     GT3       T   3.0   3.0    other    other  ...   \n",
       "\n",
       "  studytime, granular higher  internet  romantic  famrel freetime goout  \\\n",
       "0                -6.0    yes       NaN        no     4.0      3.0   4.0   \n",
       "1                -6.0    yes       yes        no     5.0      3.0   3.0   \n",
       "2                -6.0    yes       yes       NaN     4.0      3.0   2.0   \n",
       "3                -9.0    yes       yes       yes     3.0      2.0   2.0   \n",
       "4                -6.0    yes        no        no     4.0      3.0   2.0   \n",
       "\n",
       "  health absences score  \n",
       "0    3.0      6.0  30.0  \n",
       "1    3.0      4.0  30.0  \n",
       "2    3.0     10.0  50.0  \n",
       "3    5.0      2.0  75.0  \n",
       "4    5.0      4.0  50.0  \n",
       "\n",
       "[5 rows x 30 columns]"
      ]
     },
     "metadata": {},
     "output_type": "display_data"
    },
    {
     "name": "stdout",
     "output_type": "stream",
     "text": [
      "<class 'pandas.core.frame.DataFrame'>\n",
      "RangeIndex: 395 entries, 0 to 394\n",
      "Data columns (total 30 columns):\n",
      " #   Column               Non-Null Count  Dtype  \n",
      "---  ------               --------------  -----  \n",
      " 0   school               395 non-null    object \n",
      " 1   sex                  395 non-null    object \n",
      " 2   age                  395 non-null    int64  \n",
      " 3   address              378 non-null    object \n",
      " 4   famsize              368 non-null    object \n",
      " 5   Pstatus              350 non-null    object \n",
      " 6   Medu                 392 non-null    float64\n",
      " 7   Fedu                 371 non-null    float64\n",
      " 8   Mjob                 376 non-null    object \n",
      " 9   Fjob                 359 non-null    object \n",
      " 10  reason               378 non-null    object \n",
      " 11  guardian             364 non-null    object \n",
      " 12  traveltime           367 non-null    float64\n",
      " 13  studytime            388 non-null    float64\n",
      " 14  failures             373 non-null    float64\n",
      " 15  schoolsup            386 non-null    object \n",
      " 16  famsup               356 non-null    object \n",
      " 17  paid                 355 non-null    object \n",
      " 18  activities           381 non-null    object \n",
      " 19  nursery              379 non-null    object \n",
      " 20  studytime, granular  388 non-null    float64\n",
      " 21  higher               375 non-null    object \n",
      " 22  internet             361 non-null    object \n",
      " 23  romantic             364 non-null    object \n",
      " 24  famrel               368 non-null    float64\n",
      " 25  freetime             384 non-null    float64\n",
      " 26  goout                387 non-null    float64\n",
      " 27  health               380 non-null    float64\n",
      " 28  absences             383 non-null    float64\n",
      " 29  score                389 non-null    float64\n",
      "dtypes: float64(12), int64(1), object(17)\n",
      "memory usage: 92.7+ KB\n"
     ]
    }
   ],
   "source": [
    "display(df.head())\n",
    "df.info()"
   ]
  },
  {
   "cell_type": "code",
   "execution_count": 7,
   "metadata": {
    "scrolled": true
   },
   "outputs": [
    {
     "name": "stdout",
     "output_type": "stream",
     "text": [
      "Статистика по : school\n",
      "Всего : 395\n",
      "Уникальных : 2\n",
      "Сумма уникальных : 395\n",
      "Пустых : 0\n"
     ]
    },
    {
     "data": {
      "text/plain": [
       "GP    349\n",
       "MS     46\n",
       "Name: school, dtype: int64"
      ]
     },
     "metadata": {},
     "output_type": "display_data"
    },
    {
     "data": {
      "image/png": "[encoded data removed]",
      "text/plain": [
       "<Figure size 432x288 with 1 Axes>"
      ]
     },
     "metadata": {
      "needs_background": "light"
     },
     "output_type": "display_data"
    }
   ],
   "source": [
    "statusCounts(df['school'])"
   ]
  },
  {
   "cell_type": "markdown",
   "metadata": {},
   "source": [
    "В вопросе влияний условий жизни на оценку, данные бесполезны!"
   ]
  },
  {
   "cell_type": "code",
   "execution_count": 8,
   "metadata": {},
   "outputs": [
    {
     "name": "stdout",
     "output_type": "stream",
     "text": [
      "Статистика по : sex\n",
      "Всего : 395\n",
      "Уникальных : 2\n",
      "Сумма уникальных : 395\n",
      "Пустых : 0\n"
     ]
    },
    {
     "data": {
      "text/plain": [
       "F    208\n",
       "M    187\n",
       "Name: sex, dtype: int64"
      ]
     },
     "metadata": {},
     "output_type": "display_data"
    },
    {
     "data": {
      "image/png": "[encoded data removed]",
      "text/plain": [
       "<Figure size 432x288 with 1 Axes>"
      ]
     },
     "metadata": {
      "needs_background": "light"
     },
     "output_type": "display_data"
    }
   ],
   "source": [
    "statusCounts(df['sex'])"
   ]
  },
  {
   "cell_type": "markdown",
   "metadata": {},
   "source": [
    "В вопросе влияний условий жизни на оценку, данные бесполезны!"
   ]
  },
  {
   "cell_type": "code",
   "execution_count": 9,
   "metadata": {},
   "outputs": [
    {
     "name": "stdout",
     "output_type": "stream",
     "text": [
      "Статистика по : age\n",
      "Всего : 395\n",
      "Уникальных : 8\n",
      "Сумма уникальных : 395\n",
      "Пустых : 0\n"
     ]
    },
    {
     "data": {
      "text/plain": [
       "16    104\n",
       "17     98\n",
       "15     82\n",
       "18     82\n",
       "19     24\n",
       "20      3\n",
       "21      1\n",
       "22      1\n",
       "Name: age, dtype: int64"
      ]
     },
     "metadata": {},
     "output_type": "display_data"
    },
    {
     "data": {
      "text/plain": [
       "count    395.000000\n",
       "mean      16.696203\n",
       "std        1.276043\n",
       "min       15.000000\n",
       "25%       16.000000\n",
       "50%       17.000000\n",
       "75%       18.000000\n",
       "max       22.000000\n",
       "Name: age, dtype: float64"
      ]
     },
     "metadata": {},
     "output_type": "display_data"
    },
    {
     "data": {
      "image/png": "[encoded data removed]",
      "text/plain": [
       "<Figure size 432x288 with 1 Axes>"
      ]
     },
     "metadata": {
      "needs_background": "light"
     },
     "output_type": "display_data"
    }
   ],
   "source": [
    "statusCounts(df['age'])"
   ]
  },
  {
   "cell_type": "markdown",
   "metadata": {},
   "source": [
    "Данный выброс не целесообразно выкидывать.\n",
    "\n",
    "В вопросе влияний условий жизни на оценку, данные бесполезны!"
   ]
  },
  {
   "cell_type": "code",
   "execution_count": 10,
   "metadata": {
    "scrolled": true
   },
   "outputs": [
    {
     "name": "stdout",
     "output_type": "stream",
     "text": [
      "Статистика по : address\n",
      "Всего : 395\n",
      "Уникальных : 2\n",
      "Сумма уникальных : 378\n",
      "Пустых : 17\n"
     ]
    },
    {
     "data": {
      "text/plain": [
       "U            295\n",
       "R             83\n",
       "Undefined     17\n",
       "Name: address, dtype: int64"
      ]
     },
     "metadata": {},
     "output_type": "display_data"
    },
    {
     "data": {
      "image/png": "[encoded data removed]",
      "text/plain": [
       "<Figure size 432x288 with 1 Axes>"
      ]
     },
     "metadata": {
      "needs_background": "light"
     },
     "output_type": "display_data"
    }
   ],
   "source": [
    "statusCounts(df['address'])"
   ]
  },
  {
   "cell_type": "markdown",
   "metadata": {},
   "source": [
    "Разницы между городским и сельскими жителями в основном нет. НО! Общество которое нас окружает, формирует нас, а в городское общество более развито по уровню жизни и интеллектуальному развитию в львиной доли!\n",
    "\n",
    "Даём городским жителям 100 балов.\n",
    "\n",
    "Сельским 99 балов.\n",
    "\n",
    "Так же имеются пропуски, даём им 99.5 балов.\n",
    "\n",
    "PS. Возможно такой вывод кому та покажется не приемлемый, но это честно и логично. Такой вывод существенно не повлияет на итоговую корреляцию"
   ]
  },
  {
   "cell_type": "code",
   "execution_count": 11,
   "metadata": {},
   "outputs": [
    {
     "name": "stdout",
     "output_type": "stream",
     "text": [
      "Статистика по : address\n",
      "Всего : 395\n",
      "Уникальных : 3\n",
      "Сумма уникальных : 395\n",
      "Пустых : 0\n"
     ]
    },
    {
     "data": {
      "text/plain": [
       "100.0    295\n",
       "99.0      83\n",
       "99.5      17\n",
       "Name: address, dtype: int64"
      ]
     },
     "metadata": {},
     "output_type": "display_data"
    },
    {
     "data": {
      "text/plain": [
       "count    395.000000\n",
       "mean      99.768354\n",
       "std        0.409452\n",
       "min       99.000000\n",
       "25%       99.500000\n",
       "50%      100.000000\n",
       "75%      100.000000\n",
       "max      100.000000\n",
       "Name: address, dtype: float64"
      ]
     },
     "metadata": {},
     "output_type": "display_data"
    },
    {
     "data": {
      "image/png": "[encoded data removed]",
      "text/plain": [
       "<Figure size 432x288 with 1 Axes>"
      ]
     },
     "metadata": {
      "needs_background": "light"
     },
     "output_type": "display_data"
    }
   ],
   "source": [
    "df2['address'] = df2['address'].map({'U': 100, 'R': 99})\n",
    "df2['address'] = df2['address'].fillna(99.5)\n",
    "statusCounts(df2['address'])"
   ]
  },
  {
   "cell_type": "markdown",
   "metadata": {},
   "source": [
    "Создаем колонку коэффициента благополучия и начинаем накапливать."
   ]
  },
  {
   "cell_type": "code",
   "execution_count": 12,
   "metadata": {},
   "outputs": [
    {
     "name": "stdout",
     "output_type": "stream",
     "text": [
      "Статистика по : welfare\n",
      "Всего : 395\n",
      "Уникальных : 3\n",
      "Сумма уникальных : 395\n",
      "Пустых : 0\n"
     ]
    },
    {
     "data": {
      "text/plain": [
       "100.0    295\n",
       "99.0      83\n",
       "99.5      17\n",
       "Name: welfare, dtype: int64"
      ]
     },
     "metadata": {},
     "output_type": "display_data"
    },
    {
     "data": {
      "text/plain": [
       "count    395.000000\n",
       "mean      99.768354\n",
       "std        0.409452\n",
       "min       99.000000\n",
       "25%       99.500000\n",
       "50%      100.000000\n",
       "75%      100.000000\n",
       "max      100.000000\n",
       "Name: welfare, dtype: float64"
      ]
     },
     "metadata": {},
     "output_type": "display_data"
    },
    {
     "data": {
      "image/png": "[encoded data removed]",
      "text/plain": [
       "<Figure size 432x288 with 1 Axes>"
      ]
     },
     "metadata": {
      "needs_background": "light"
     },
     "output_type": "display_data"
    }
   ],
   "source": [
    "df2['welfare'] = 0\n",
    "df2['welfare'] += df2['address']\n",
    "statusCounts(df2['welfare'])"
   ]
  },
  {
   "cell_type": "code",
   "execution_count": 13,
   "metadata": {},
   "outputs": [
    {
     "name": "stdout",
     "output_type": "stream",
     "text": [
      "Статистика по : famsize\n",
      "Всего : 395\n",
      "Уникальных : 2\n",
      "Сумма уникальных : 368\n",
      "Пустых : 27\n"
     ]
    },
    {
     "data": {
      "text/plain": [
       "GT3          261\n",
       "LE3          107\n",
       "Undefined     27\n",
       "Name: famsize, dtype: int64"
      ]
     },
     "metadata": {},
     "output_type": "display_data"
    },
    {
     "data": {
      "image/png": "[encoded data removed]",
      "text/plain": [
       "<Figure size 432x288 with 1 Axes>"
      ]
     },
     "metadata": {
      "needs_background": "light"
     },
     "output_type": "display_data"
    }
   ],
   "source": [
    "statusCounts(df['famsize'])"
   ]
  },
  {
   "cell_type": "markdown",
   "metadata": {},
   "source": [
    "Данные не конкретны! Но можно сделать точный вывод что семья меньше 3 это либо ученик без мамы или папы.\n",
    "\n",
    "Так же, имеются пустые данные.\n",
    "\n",
    "О семье больше 3 членов нельзя говорить на 100 процентов что она полная, возможно она многодетная с одним родителем ну или опекуном итп.\n",
    "\n",
    "Сложно говорить об этих данных на влияния благополучия так как каждый случай индивидуален, можно было бы его связать с образованием родителем или какими та другими данными и сделать более точный логический вывод.\n",
    "\n",
    "Но сделаем грубый вывод оценивая львиную долю подобных семей.\n",
    "У детей в неполной семье менее блогиприятные условия для обучения чем в полной.\n",
    "\n",
    "GT3 = 100\n",
    "\n",
    "LT3 = 99\n",
    "\n",
    "Пустые = 99.5\n",
    "\n",
    "PS. Такой вывод существенно не повлияет на итоговую корреляцию"
   ]
  },
  {
   "cell_type": "code",
   "execution_count": 14,
   "metadata": {},
   "outputs": [
    {
     "name": "stdout",
     "output_type": "stream",
     "text": [
      "Статистика по : famsize\n",
      "Всего : 395\n",
      "Уникальных : 3\n",
      "Сумма уникальных : 395\n",
      "Пустых : 0\n"
     ]
    },
    {
     "data": {
      "text/plain": [
       "100.0    261\n",
       "99.0     107\n",
       "99.5      27\n",
       "Name: famsize, dtype: int64"
      ]
     },
     "metadata": {},
     "output_type": "display_data"
    },
    {
     "data": {
      "text/plain": [
       "count    395.000000\n",
       "mean      99.694937\n",
       "std        0.442047\n",
       "min       99.000000\n",
       "25%       99.000000\n",
       "50%      100.000000\n",
       "75%      100.000000\n",
       "max      100.000000\n",
       "Name: famsize, dtype: float64"
      ]
     },
     "metadata": {},
     "output_type": "display_data"
    },
    {
     "data": {
      "image/png": "[encoded data removed]",
      "text/plain": [
       "<Figure size 432x288 with 1 Axes>"
      ]
     },
     "metadata": {
      "needs_background": "light"
     },
     "output_type": "display_data"
    }
   ],
   "source": [
    "df2['famsize'] = df2['famsize'].map({'GT3': 100, 'LE3': 99})\n",
    "df2['famsize'] = df2['famsize'].fillna(99.5)\n",
    "statusCounts(df2['famsize'])"
   ]
  },
  {
   "cell_type": "code",
   "execution_count": 15,
   "metadata": {},
   "outputs": [
    {
     "name": "stdout",
     "output_type": "stream",
     "text": [
      "Статистика по : welfare\n",
      "Всего : 395\n",
      "Уникальных : 3\n",
      "Сумма уникальных : 395\n",
      "Пустых : 0\n"
     ]
    },
    {
     "data": {
      "text/plain": [
       "200.0    295\n",
       "198.0     83\n",
       "199.0     17\n",
       "Name: welfare, dtype: int64"
      ]
     },
     "metadata": {},
     "output_type": "display_data"
    },
    {
     "data": {
      "text/plain": [
       "count    395.000000\n",
       "mean     199.536709\n",
       "std        0.818904\n",
       "min      198.000000\n",
       "25%      199.000000\n",
       "50%      200.000000\n",
       "75%      200.000000\n",
       "max      200.000000\n",
       "Name: welfare, dtype: float64"
      ]
     },
     "metadata": {},
     "output_type": "display_data"
    },
    {
     "data": {
      "image/png": "[encoded data removed]",
      "text/plain": [
       "<Figure size 432x288 with 1 Axes>"
      ]
     },
     "metadata": {
      "needs_background": "light"
     },
     "output_type": "display_data"
    }
   ],
   "source": [
    "df2['welfare'] += df2['address']\n",
    "statusCounts(df2['welfare'])"
   ]
  },
  {
   "cell_type": "code",
   "execution_count": 16,
   "metadata": {},
   "outputs": [
    {
     "name": "stdout",
     "output_type": "stream",
     "text": [
      "Статистика по : Pstatus\n",
      "Всего : 395\n",
      "Уникальных : 2\n",
      "Сумма уникальных : 350\n",
      "Пустых : 45\n"
     ]
    },
    {
     "data": {
      "text/plain": [
       "T            314\n",
       "Undefined     45\n",
       "A             36\n",
       "Name: Pstatus, dtype: int64"
      ]
     },
     "metadata": {},
     "output_type": "display_data"
    },
    {
     "data": {
      "image/png": "[encoded data removed]",
      "text/plain": [
       "<Figure size 432x288 with 1 Axes>"
      ]
     },
     "metadata": {
      "needs_background": "light"
     },
     "output_type": "display_data"
    }
   ],
   "source": [
    "statusCounts(df['Pstatus'])"
   ]
  },
  {
   "cell_type": "markdown",
   "metadata": {},
   "source": [
    "Об учениках которые живут с родителями в любом случае можно говорить что на них оказывается родительский контроль обучения и мотивационного давления более в вопросах обучения больше чем на учеников живущих без родителей. Также у учеников живущих без родителей появляется больше воли на контроль своего времени ... Думаю ход мыслей понятен.\n",
    "\n",
    "T = 100 б\n",
    "\n",
    "A = 99 б\n",
    "\n",
    "Пропуски 99.5\n"
   ]
  },
  {
   "cell_type": "code",
   "execution_count": 17,
   "metadata": {},
   "outputs": [
    {
     "name": "stdout",
     "output_type": "stream",
     "text": [
      "Статистика по : Pstatus\n",
      "Всего : 395\n",
      "Уникальных : 3\n",
      "Сумма уникальных : 395\n",
      "Пустых : 0\n"
     ]
    },
    {
     "data": {
      "text/plain": [
       "100.0    314\n",
       "99.5      45\n",
       "99.0      36\n",
       "Name: Pstatus, dtype: int64"
      ]
     },
     "metadata": {},
     "output_type": "display_data"
    },
    {
     "data": {
      "text/plain": [
       "count    395.000000\n",
       "mean      99.851899\n",
       "std        0.312944\n",
       "min       99.000000\n",
       "25%      100.000000\n",
       "50%      100.000000\n",
       "75%      100.000000\n",
       "max      100.000000\n",
       "Name: Pstatus, dtype: float64"
      ]
     },
     "metadata": {},
     "output_type": "display_data"
    },
    {
     "data": {
      "image/png": "[encoded data removed]",
      "text/plain": [
       "<Figure size 432x288 with 1 Axes>"
      ]
     },
     "metadata": {
      "needs_background": "light"
     },
     "output_type": "display_data"
    }
   ],
   "source": [
    "df2['Pstatus'] = df2['Pstatus'].map({'T': 100, 'A': 99})\n",
    "df2['Pstatus'] = df2['Pstatus'].fillna(99.5)\n",
    "statusCounts(df2['Pstatus'])"
   ]
  },
  {
   "cell_type": "code",
   "execution_count": 18,
   "metadata": {},
   "outputs": [
    {
     "name": "stdout",
     "output_type": "stream",
     "text": [
      "Статистика по : welfare\n",
      "Всего : 395\n",
      "Уникальных : 7\n",
      "Сумма уникальных : 395\n",
      "Пустых : 0\n"
     ]
    },
    {
     "data": {
      "text/plain": [
       "300.0    229\n",
       "298.0     73\n",
       "299.0     43\n",
       "299.5     37\n",
       "297.5      7\n",
       "297.0      5\n",
       "298.5      1\n",
       "Name: welfare, dtype: int64"
      ]
     },
     "metadata": {},
     "output_type": "display_data"
    },
    {
     "data": {
      "text/plain": [
       "count    395.000000\n",
       "mean     299.388608\n",
       "std        0.854369\n",
       "min      297.000000\n",
       "25%      299.000000\n",
       "50%      300.000000\n",
       "75%      300.000000\n",
       "max      300.000000\n",
       "Name: welfare, dtype: float64"
      ]
     },
     "metadata": {},
     "output_type": "display_data"
    },
    {
     "data": {
      "image/png": "[encoded data removed]",
      "text/plain": [
       "<Figure size 432x288 with 1 Axes>"
      ]
     },
     "metadata": {
      "needs_background": "light"
     },
     "output_type": "display_data"
    }
   ],
   "source": [
    "df2['welfare'] += df2['Pstatus']\n",
    "statusCounts(df2['welfare'])"
   ]
  },
  {
   "cell_type": "code",
   "execution_count": 19,
   "metadata": {},
   "outputs": [
    {
     "name": "stdout",
     "output_type": "stream",
     "text": [
      "Статистика по : Medu\n",
      "Всего : 395\n",
      "Уникальных : 5\n",
      "Сумма уникальных : 392\n",
      "Пустых : 3\n"
     ]
    },
    {
     "data": {
      "text/plain": [
       "4.0    131\n",
       "2.0    102\n",
       "3.0     97\n",
       "1.0     59\n",
       "0.0      3\n",
       "Name: Medu, dtype: int64"
      ]
     },
     "metadata": {},
     "output_type": "display_data"
    },
    {
     "data": {
      "text/plain": [
       "count    392.000000\n",
       "mean       2.750000\n",
       "std        1.098127\n",
       "min        0.000000\n",
       "25%        2.000000\n",
       "50%        3.000000\n",
       "75%        4.000000\n",
       "max        4.000000\n",
       "Name: Medu, dtype: float64"
      ]
     },
     "metadata": {},
     "output_type": "display_data"
    },
    {
     "data": {
      "image/png": "[encoded data removed]",
      "text/plain": [
       "<Figure size 432x288 with 1 Axes>"
      ]
     },
     "metadata": {
      "needs_background": "light"
     },
     "output_type": "display_data"
    }
   ],
   "source": [
    "statusCounts(df['Medu'])"
   ]
  },
  {
   "cell_type": "markdown",
   "metadata": {},
   "source": [
    "Образования матери говорит о ее интеллекте и следственно от уровня интеллекта вытекает уровень мотивационного давления на ребенка...\n",
    "\n",
    "4 = 100 б\n",
    "\n",
    "3 = 99.5 б\n",
    "\n",
    "2 = 99 б\n",
    "\n",
    "1 = 98 б\n",
    "\n",
    "0 = 97\n",
    "\n",
    "Пропуски = 98.7\n",
    "\n",
    "PS. Это грубо, но в лвинной доли это так"
   ]
  },
  {
   "cell_type": "code",
   "execution_count": 20,
   "metadata": {},
   "outputs": [
    {
     "name": "stdout",
     "output_type": "stream",
     "text": [
      "Статистика по : Medu\n",
      "Всего : 395\n",
      "Уникальных : 6\n",
      "Сумма уникальных : 395\n",
      "Пустых : 0\n"
     ]
    },
    {
     "data": {
      "text/plain": [
       "100.0    131\n",
       "99.0     102\n",
       "99.5      97\n",
       "98.0      59\n",
       "97.0       3\n",
       "98.7       3\n",
       "Name: Medu, dtype: int64"
      ]
     },
     "metadata": {},
     "output_type": "display_data"
    },
    {
     "data": {
      "text/plain": [
       "count    395.000000\n",
       "mean      99.287595\n",
       "std        0.701429\n",
       "min       97.000000\n",
       "25%       99.000000\n",
       "50%       99.500000\n",
       "75%      100.000000\n",
       "max      100.000000\n",
       "Name: Medu, dtype: float64"
      ]
     },
     "metadata": {},
     "output_type": "display_data"
    },
    {
     "data": {
      "image/png": "[encoded data removed]",
      "text/plain": [
       "<Figure size 432x288 with 1 Axes>"
      ]
     },
     "metadata": {
      "needs_background": "light"
     },
     "output_type": "display_data"
    }
   ],
   "source": [
    "df2['Medu'] = df2['Medu'].map({4: 100, 3: 99.5, 2: 99, 1: 98, 0: 97})\n",
    "df2['Medu'] = df2['Medu'].fillna(98.7)\n",
    "statusCounts(df2['Medu'])"
   ]
  },
  {
   "cell_type": "code",
   "execution_count": 21,
   "metadata": {},
   "outputs": [
    {
     "name": "stdout",
     "output_type": "stream",
     "text": [
      "Статистика по : welfare\n",
      "Всего : 395\n",
      "Уникальных : 14\n",
      "Сумма уникальных : 395\n",
      "Пустых : 0\n"
     ]
    },
    {
     "data": {
      "text/plain": [
       "400.0    88\n",
       "399.0    85\n",
       "398.0    59\n",
       "399.5    57\n",
       "397.0    30\n",
       "398.5    25\n",
       "397.5    24\n",
       "396.0    17\n",
       "396.5     4\n",
       "395.5     2\n",
       "396.2     1\n",
       "395.0     1\n",
       "398.2     1\n",
       "397.7     1\n",
       "Name: welfare, dtype: int64"
      ]
     },
     "metadata": {},
     "output_type": "display_data"
    },
    {
     "data": {
      "text/plain": [
       "count    395.000000\n",
       "mean     398.676203\n",
       "std        1.158456\n",
       "min      395.000000\n",
       "25%      398.000000\n",
       "50%      399.000000\n",
       "75%      399.500000\n",
       "max      400.000000\n",
       "Name: welfare, dtype: float64"
      ]
     },
     "metadata": {},
     "output_type": "display_data"
    },
    {
     "data": {
      "image/png": "[encoded data removed]",
      "text/plain": [
       "<Figure size 432x288 with 1 Axes>"
      ]
     },
     "metadata": {
      "needs_background": "light"
     },
     "output_type": "display_data"
    }
   ],
   "source": [
    "df2['welfare'] += df2['Medu']\n",
    "statusCounts(df2['welfare'])"
   ]
  },
  {
   "cell_type": "code",
   "execution_count": 22,
   "metadata": {},
   "outputs": [
    {
     "name": "stdout",
     "output_type": "stream",
     "text": [
      "Статистика по : Fedu\n",
      "Всего : 395\n",
      "Уникальных : 6\n",
      "Сумма уникальных : 371\n",
      "Пустых : 24\n"
     ]
    },
    {
     "data": {
      "text/plain": [
       "2.0     106\n",
       "3.0      96\n",
       "4.0      88\n",
       "1.0      78\n",
       "0.0       2\n",
       "40.0      1\n",
       "Name: Fedu, dtype: int64"
      ]
     },
     "metadata": {},
     "output_type": "display_data"
    },
    {
     "data": {
      "text/plain": [
       "count    371.000000\n",
       "mean       2.614555\n",
       "std        2.228732\n",
       "min        0.000000\n",
       "25%        2.000000\n",
       "50%        2.000000\n",
       "75%        3.000000\n",
       "max       40.000000\n",
       "Name: Fedu, dtype: float64"
      ]
     },
     "metadata": {},
     "output_type": "display_data"
    },
    {
     "data": {
      "image/png": "[encoded data removed]",
      "text/plain": [
       "<Figure size 432x288 with 1 Axes>"
      ]
     },
     "metadata": {
      "needs_background": "light"
     },
     "output_type": "display_data"
    }
   ],
   "source": [
    "statusCounts(df['Fedu'])"
   ]
  },
  {
   "cell_type": "markdown",
   "metadata": {},
   "source": [
    "Аналогично и матери... Так же есть значения 40, скорее всего ошибка ввода в котором хотели поставить 4. И! \"Cлово\" отца более \"Сильное\" в вопросе мотивационного давления + 0.1\n",
    "\n",
    "4 и 40 = 100.1 б\n",
    "\n",
    "3 = 99.6 б\n",
    "\n",
    "2 = 99.1 б\n",
    "\n",
    "1 = 98.1 б\n",
    "\n",
    "0 = 97.1\n",
    "\n",
    "Пропуски = 99.6\n",
    "\n",
    "PS. Пропуски матери и отца либо из-за того что не оказаны либо из-за того что нет родителя, в любом случае для того чтоб корреляция была честная даём среднее арифметическое."
   ]
  },
  {
   "cell_type": "code",
   "execution_count": 23,
   "metadata": {},
   "outputs": [
    {
     "name": "stdout",
     "output_type": "stream",
     "text": [
      "Статистика по : Fedu\n",
      "Всего : 395\n",
      "Уникальных : 5\n",
      "Сумма уникальных : 395\n",
      "Пустых : 0\n"
     ]
    },
    {
     "data": {
      "text/plain": [
       "99.6     120\n",
       "99.1     106\n",
       "100.1     89\n",
       "98.1      78\n",
       "97.1       2\n",
       "Name: Fedu, dtype: int64"
      ]
     },
     "metadata": {},
     "output_type": "display_data"
    },
    {
     "data": {
      "text/plain": [
       "count    395.000000\n",
       "mean      99.269620\n",
       "std        0.701042\n",
       "min       97.100000\n",
       "25%       99.100000\n",
       "50%       99.600000\n",
       "75%       99.600000\n",
       "max      100.100000\n",
       "Name: Fedu, dtype: float64"
      ]
     },
     "metadata": {},
     "output_type": "display_data"
    },
    {
     "data": {
      "image/png": "[encoded data removed]",
      "text/plain": [
       "<Figure size 432x288 with 1 Axes>"
      ]
     },
     "metadata": {
      "needs_background": "light"
     },
     "output_type": "display_data"
    }
   ],
   "source": [
    "df2['Fedu'] = df2['Fedu'].map(\n",
    "    {40: 100.1, 4: 100.1, 3: 99.6, 2: 99.1, 1: 98.1, 0: 97.1})\n",
    "df2['Fedu'] = df2['Fedu'].fillna(99.6)\n",
    "statusCounts(df2['Fedu'])"
   ]
  },
  {
   "cell_type": "code",
   "execution_count": 24,
   "metadata": {},
   "outputs": [
    {
     "name": "stdout",
     "output_type": "stream",
     "text": [
      "Статистика по : welfare\n",
      "Всего : 395\n",
      "Уникальных : 16\n",
      "Сумма уникальных : 395\n",
      "Пустых : 0\n"
     ]
    },
    {
     "data": {
      "text/plain": [
       "499.1    51\n",
       "498.1    50\n",
       "498.6    49\n",
       "499.6    43\n",
       "500.1    41\n",
       "497.1    40\n",
       "496.1    36\n",
       "497.6    27\n",
       "495.1    17\n",
       "496.6    13\n",
       "495.6    12\n",
       "494.1    10\n",
       "494.6     2\n",
       "495.8     2\n",
       "493.6     1\n",
       "497.3     1\n",
       "Name: welfare, dtype: int64"
      ]
     },
     "metadata": {},
     "output_type": "display_data"
    },
    {
     "data": {
      "text/plain": [
       "count    395.000000\n",
       "mean     497.945823\n",
       "std        1.575978\n",
       "min      493.600000\n",
       "25%      497.100000\n",
       "50%      498.100000\n",
       "75%      499.100000\n",
       "max      500.100000\n",
       "Name: welfare, dtype: float64"
      ]
     },
     "metadata": {},
     "output_type": "display_data"
    },
    {
     "data": {
      "image/png": "[encoded data removed]",
      "text/plain": [
       "<Figure size 432x288 with 1 Axes>"
      ]
     },
     "metadata": {
      "needs_background": "light"
     },
     "output_type": "display_data"
    }
   ],
   "source": [
    "df2['welfare'] += df2['Fedu']\n",
    "statusCounts(df2['welfare'])"
   ]
  },
  {
   "cell_type": "code",
   "execution_count": 25,
   "metadata": {},
   "outputs": [
    {
     "name": "stdout",
     "output_type": "stream",
     "text": [
      "Статистика по : Mjob\n",
      "Всего : 395\n",
      "Уникальных : 5\n",
      "Сумма уникальных : 376\n",
      "Пустых : 19\n"
     ]
    },
    {
     "data": {
      "text/plain": [
       "other        133\n",
       "services      98\n",
       "at_home       58\n",
       "teacher       55\n",
       "health        32\n",
       "Undefined     19\n",
       "Name: Mjob, dtype: int64"
      ]
     },
     "metadata": {},
     "output_type": "display_data"
    },
    {
     "data": {
      "image/png": "[encoded data removed]",
      "text/plain": [
       "<Figure size 432x288 with 1 Axes>"
      ]
     },
     "metadata": {
      "needs_background": "light"
     },
     "output_type": "display_data"
    }
   ],
   "source": [
    "statusCounts(df['Mjob'])"
   ]
  },
  {
   "cell_type": "markdown",
   "metadata": {},
   "source": [
    "Зная работу человека можно предположить о его морально деловых навыков и умениях.\n",
    "\n",
    "Учитель умеет найти подход к детям, следовательно, более эффективное мотивационное давления у учителя к своим детям.\n",
    "\n",
    "у человека в здравоохранении 100% вещее образования.\n",
    "\n",
    "Гос служба, сложно сказать т.к много факторов, но точно образования среднее и выше.\n",
    "\n",
    "Без работного может быть по многим причинам, но скорее всего тунеядец.\n",
    "\n",
    "Другое и пропуски среднее арифметическое\n",
    "\n",
    "Techer = 100 б\n",
    "\n",
    "Health = 99.8 б\n",
    "\n",
    "Services = 99.6 б\n",
    "\n",
    "at_home = 99.4 б\n",
    "\n",
    "other и пропуски = 99.7"
   ]
  },
  {
   "cell_type": "code",
   "execution_count": 26,
   "metadata": {},
   "outputs": [
    {
     "name": "stdout",
     "output_type": "stream",
     "text": [
      "Статистика по : Mjob\n",
      "Всего : 395\n",
      "Уникальных : 5\n",
      "Сумма уникальных : 395\n",
      "Пустых : 0\n"
     ]
    },
    {
     "data": {
      "text/plain": [
       "99.7     152\n",
       "99.6      98\n",
       "99.4      58\n",
       "100.0     55\n",
       "99.8      32\n",
       "Name: Mjob, dtype: int64"
      ]
     },
     "metadata": {},
     "output_type": "display_data"
    },
    {
     "data": {
      "text/plain": [
       "count    395.000000\n",
       "mean      99.681013\n",
       "std        0.169559\n",
       "min       99.400000\n",
       "25%       99.600000\n",
       "50%       99.700000\n",
       "75%       99.700000\n",
       "max      100.000000\n",
       "Name: Mjob, dtype: float64"
      ]
     },
     "metadata": {},
     "output_type": "display_data"
    },
    {
     "data": {
      "image/png": "[encoded data removed]",
      "text/plain": [
       "<Figure size 432x288 with 1 Axes>"
      ]
     },
     "metadata": {
      "needs_background": "light"
     },
     "output_type": "display_data"
    }
   ],
   "source": [
    "df2['Mjob'] = df2['Mjob'].map({'teacher': 100,\n",
    "                               'health': 99.8,\n",
    "                               'services': 99.6,\n",
    "                               'at_home': 99.4,\n",
    "                               'other': 99.7})\n",
    "\n",
    "df2['Mjob'] = df2['Mjob'].fillna(99.7)\n",
    "statusCounts(df2['Mjob'])"
   ]
  },
  {
   "cell_type": "code",
   "execution_count": 27,
   "metadata": {},
   "outputs": [
    {
     "name": "stdout",
     "output_type": "stream",
     "text": [
      "Статистика по : welfare\n",
      "Всего : 395\n",
      "Уникальных : 54\n",
      "Сумма уникальных : 395\n",
      "Пустых : 0\n"
     ]
    },
    {
     "data": {
      "text/plain": [
       "597.8    23\n",
       "596.8    22\n",
       "598.3    21\n",
       "598.8    21\n",
       "599.6    19\n",
       "598.2    19\n",
       "595.8    17\n",
       "597.7    15\n",
       "595.5    12\n",
       "600.1    12\n",
       "599.7    12\n",
       "598.7    11\n",
       "597.2    10\n",
       "599.1     9\n",
       "594.5     9\n",
       "599.9     8\n",
       "596.7     8\n",
       "599.3     8\n",
       "599.8     8\n",
       "597.0     8\n",
       "598.9     7\n",
       "599.2     7\n",
       "599.4     7\n",
       "598.1     7\n",
       "594.8     7\n",
       "593.8     7\n",
       "596.5     7\n",
       "596.2     7\n",
       "595.3     6\n",
       "597.3     6\n",
       "595.7     6\n",
       "598.0     5\n",
       "595.0     5\n",
       "597.6     4\n",
       "598.5     3\n",
       "593.5     3\n",
       "596.3     3\n",
       "598.4     3\n",
       "597.9     3\n",
       "595.9     2\n",
       "597.5     2\n",
       "596.0     2\n",
       "599.0     2\n",
       "597.1     2\n",
       "596.9     1\n",
       "594.3     1\n",
       "595.2     1\n",
       "594.2     1\n",
       "596.6     1\n",
       "594.9     1\n",
       "595.4     1\n",
       "593.0     1\n",
       "599.5     1\n",
       "598.6     1\n",
       "Name: welfare, dtype: int64"
      ]
     },
     "metadata": {},
     "output_type": "display_data"
    },
    {
     "data": {
      "text/plain": [
       "count    395.000000\n",
       "mean     597.626835\n",
       "std        1.650454\n",
       "min      593.000000\n",
       "25%      596.550000\n",
       "50%      597.800000\n",
       "75%      598.900000\n",
       "max      600.100000\n",
       "Name: welfare, dtype: float64"
      ]
     },
     "metadata": {},
     "output_type": "display_data"
    },
    {
     "data": {
      "image/png": "[encoded data removed]",
      "text/plain": [
       "<Figure size 432x288 with 1 Axes>"
      ]
     },
     "metadata": {
      "needs_background": "light"
     },
     "output_type": "display_data"
    }
   ],
   "source": [
    "df2['welfare'] += df2['Mjob']\n",
    "statusCounts(df2['welfare'])"
   ]
  },
  {
   "cell_type": "code",
   "execution_count": 28,
   "metadata": {},
   "outputs": [
    {
     "name": "stdout",
     "output_type": "stream",
     "text": [
      "Статистика по : Fjob\n",
      "Всего : 395\n",
      "Уникальных : 5\n",
      "Сумма уникальных : 359\n",
      "Пустых : 36\n"
     ]
    },
    {
     "data": {
      "text/plain": [
       "other        197\n",
       "services     102\n",
       "Undefined     36\n",
       "teacher       29\n",
       "at_home       16\n",
       "health        15\n",
       "Name: Fjob, dtype: int64"
      ]
     },
     "metadata": {},
     "output_type": "display_data"
    },
    {
     "data": {
      "image/png": "[encoded data removed]",
      "text/plain": [
       "<Figure size 432x288 with 1 Axes>"
      ]
     },
     "metadata": {
      "needs_background": "light"
     },
     "output_type": "display_data"
    }
   ],
   "source": [
    "statusCounts(df['Fjob'])"
   ]
  },
  {
   "cell_type": "markdown",
   "metadata": {},
   "source": [
    "Аналогично матери только + 0.1\n",
    "\n",
    "Techer = 100.1 б\n",
    "\n",
    "Health = 99.9 б\n",
    "\n",
    "Services = 99.7 б\n",
    "\n",
    "at_home = 99.5 б\n",
    "\n",
    "other и пропуски = 99.775"
   ]
  },
  {
   "cell_type": "code",
   "execution_count": 29,
   "metadata": {},
   "outputs": [
    {
     "name": "stdout",
     "output_type": "stream",
     "text": [
      "Статистика по : Fjob\n",
      "Всего : 395\n",
      "Уникальных : 5\n",
      "Сумма уникальных : 395\n",
      "Пустых : 0\n"
     ]
    },
    {
     "data": {
      "text/plain": [
       "99.775     233\n",
       "99.700     102\n",
       "100.100     29\n",
       "99.500      16\n",
       "99.900      15\n",
       "Name: Fjob, dtype: int64"
      ]
     },
     "metadata": {},
     "output_type": "display_data"
    },
    {
     "data": {
      "text/plain": [
       "count    395.000000\n",
       "mean      99.773101\n",
       "std        0.113547\n",
       "min       99.500000\n",
       "25%       99.700000\n",
       "50%       99.775000\n",
       "75%       99.775000\n",
       "max      100.100000\n",
       "Name: Fjob, dtype: float64"
      ]
     },
     "metadata": {},
     "output_type": "display_data"
    },
    {
     "data": {
      "image/png": "[encoded data removed]",
      "text/plain": [
       "<Figure size 432x288 with 1 Axes>"
      ]
     },
     "metadata": {
      "needs_background": "light"
     },
     "output_type": "display_data"
    }
   ],
   "source": [
    "df2['Fjob'] = df2['Fjob'].map({'teacher': 100.1,\n",
    "                               'health': 99.9,\n",
    "                               'services': 99.7,\n",
    "                               'at_home': 99.5,\n",
    "                               'other': 99.775})\n",
    "\n",
    "df2['Fjob'] = df2['Fjob'].fillna(99.775)\n",
    "statusCounts(df2['Fjob'])"
   ]
  },
  {
   "cell_type": "code",
   "execution_count": 30,
   "metadata": {},
   "outputs": [
    {
     "name": "stdout",
     "output_type": "stream",
     "text": [
      "Статистика по : welfare\n",
      "Всего : 395\n",
      "Уникальных : 113\n",
      "Сумма уникальных : 395\n",
      "Пустых : 0\n"
     ]
    },
    {
     "data": {
      "text/plain": [
       "698.075    19\n",
       "697.575    16\n",
       "696.575    16\n",
       "698.575    15\n",
       "695.575    14\n",
       "           ..\n",
       "695.100     1\n",
       "694.000     1\n",
       "697.375     1\n",
       "692.775     1\n",
       "699.275     1\n",
       "Name: welfare, Length: 113, dtype: int64"
      ]
     },
     "metadata": {},
     "output_type": "display_data"
    },
    {
     "data": {
      "text/plain": [
       "count    395.000000\n",
       "mean     697.399937\n",
       "std        1.680982\n",
       "min      692.775000\n",
       "25%      696.287500\n",
       "50%      697.575000\n",
       "75%      698.675000\n",
       "max      700.200000\n",
       "Name: welfare, dtype: float64"
      ]
     },
     "metadata": {},
     "output_type": "display_data"
    },
    {
     "data": {
      "image/png": "[encoded data removed]",
      "text/plain": [
       "<Figure size 432x288 with 1 Axes>"
      ]
     },
     "metadata": {
      "needs_background": "light"
     },
     "output_type": "display_data"
    }
   ],
   "source": [
    "df2['welfare'] += df2['Fjob']\n",
    "statusCounts(df2['welfare'])"
   ]
  },
  {
   "cell_type": "code",
   "execution_count": 31,
   "metadata": {},
   "outputs": [
    {
     "name": "stdout",
     "output_type": "stream",
     "text": [
      "Статистика по : reason\n",
      "Всего : 395\n",
      "Уникальных : 4\n",
      "Сумма уникальных : 378\n",
      "Пустых : 17\n"
     ]
    },
    {
     "data": {
      "text/plain": [
       "course        137\n",
       "home          104\n",
       "reputation    103\n",
       "other          34\n",
       "Undefined      17\n",
       "Name: reason, dtype: int64"
      ]
     },
     "metadata": {},
     "output_type": "display_data"
    },
    {
     "data": {
      "image/png": "[encoded data removed]",
      "text/plain": [
       "<Figure size 432x288 with 1 Axes>"
      ]
     },
     "metadata": {
      "needs_background": "light"
     },
     "output_type": "display_data"
    }
   ],
   "source": [
    "statusCounts(df['reason'])"
   ]
  },
  {
   "cell_type": "markdown",
   "metadata": {},
   "source": [
    "Тот кто выбирал школу по программе, более заинтересован в образовании так как более глубже размышляли, тот кто выбирал школу  по рейтингу тоже молодцы, интерес в образовании есть.\n",
    "Тот кто выбирал школу из ра расположенности интерес к образованию меньше относительно предыдущих пунктов, ну а другое и пропуски среднее арифметическое\n",
    "\n",
    "course = 100б\n",
    "\n",
    "reputation = 99.9 б\n",
    "\n",
    "home = 99.7 б\n",
    "\n",
    "other и пропуски = 99.87"
   ]
  },
  {
   "cell_type": "code",
   "execution_count": 32,
   "metadata": {},
   "outputs": [
    {
     "name": "stdout",
     "output_type": "stream",
     "text": [
      "Статистика по : reason\n",
      "Всего : 395\n",
      "Уникальных : 4\n",
      "Сумма уникальных : 395\n",
      "Пустых : 0\n"
     ]
    },
    {
     "data": {
      "text/plain": [
       "100.00    137\n",
       "99.70     104\n",
       "99.90     103\n",
       "99.87      51\n",
       "Name: reason, dtype: int64"
      ]
     },
     "metadata": {},
     "output_type": "display_data"
    },
    {
     "data": {
      "text/plain": [
       "count    395.000000\n",
       "mean      99.878152\n",
       "std        0.116934\n",
       "min       99.700000\n",
       "25%       99.700000\n",
       "50%       99.900000\n",
       "75%      100.000000\n",
       "max      100.000000\n",
       "Name: reason, dtype: float64"
      ]
     },
     "metadata": {},
     "output_type": "display_data"
    },
    {
     "data": {
      "image/png": "[encoded data removed]",
      "text/plain": [
       "<Figure size 432x288 with 1 Axes>"
      ]
     },
     "metadata": {
      "needs_background": "light"
     },
     "output_type": "display_data"
    }
   ],
   "source": [
    "df2['reason'] = df2['reason'].map({'course': 100,\n",
    "                                   'reputation': 99.9,\n",
    "                                   'home': 99.7,\n",
    "                                   'other': 99.87})\n",
    "\n",
    "df2['reason'] = df2['reason'].fillna(99.87)\n",
    "statusCounts(df2['reason'])"
   ]
  },
  {
   "cell_type": "code",
   "execution_count": 33,
   "metadata": {},
   "outputs": [
    {
     "name": "stdout",
     "output_type": "stream",
     "text": [
      "Статистика по : welfare\n",
      "Всего : 395\n",
      "Уникальных : 187\n",
      "Сумма уникальных : 395\n",
      "Пустых : 0\n"
     ]
    },
    {
     "data": {
      "text/plain": [
       "797.975    10\n",
       "799.300     8\n",
       "796.275     8\n",
       "798.875     7\n",
       "797.575     7\n",
       "           ..\n",
       "794.070     1\n",
       "795.345     1\n",
       "796.670     1\n",
       "797.370     1\n",
       "793.500     1\n",
       "Name: welfare, Length: 187, dtype: int64"
      ]
     },
     "metadata": {},
     "output_type": "display_data"
    },
    {
     "data": {
      "text/plain": [
       "count    395.000000\n",
       "mean     797.278089\n",
       "std        1.677380\n",
       "min      792.675000\n",
       "25%      796.275000\n",
       "50%      797.575000\n",
       "75%      798.487500\n",
       "max      800.200000\n",
       "Name: welfare, dtype: float64"
      ]
     },
     "metadata": {},
     "output_type": "display_data"
    },
    {
     "data": {
      "image/png": "[encoded data removed]",
      "text/plain": [
       "<Figure size 432x288 with 1 Axes>"
      ]
     },
     "metadata": {
      "needs_background": "light"
     },
     "output_type": "display_data"
    }
   ],
   "source": [
    "df2['welfare'] += df2['reason']\n",
    "statusCounts(df2['welfare'])"
   ]
  },
  {
   "cell_type": "code",
   "execution_count": 34,
   "metadata": {},
   "outputs": [
    {
     "name": "stdout",
     "output_type": "stream",
     "text": [
      "Статистика по : guardian\n",
      "Всего : 395\n",
      "Уникальных : 3\n",
      "Сумма уникальных : 364\n",
      "Пустых : 31\n"
     ]
    },
    {
     "data": {
      "text/plain": [
       "mother       250\n",
       "father        86\n",
       "Undefined     31\n",
       "other         28\n",
       "Name: guardian, dtype: int64"
      ]
     },
     "metadata": {},
     "output_type": "display_data"
    },
    {
     "data": {
      "image/png": "[encoded data removed]",
      "text/plain": [
       "<Figure size 432x288 with 1 Axes>"
      ]
     },
     "metadata": {
      "needs_background": "light"
     },
     "output_type": "display_data"
    }
   ],
   "source": [
    "statusCounts(df['guardian'])"
   ]
  },
  {
   "cell_type": "markdown",
   "metadata": {},
   "source": [
    "Сложно сделать логический вывод только по этим данным.\n",
    "Пасс..."
   ]
  },
  {
   "cell_type": "code",
   "execution_count": 35,
   "metadata": {},
   "outputs": [
    {
     "name": "stdout",
     "output_type": "stream",
     "text": [
      "Статистика по : traveltime\n",
      "Всего : 395\n",
      "Уникальных : 4\n",
      "Сумма уникальных : 367\n",
      "Пустых : 28\n"
     ]
    },
    {
     "data": {
      "text/plain": [
       "1.0    242\n",
       "2.0     96\n",
       "3.0     22\n",
       "4.0      7\n",
       "Name: traveltime, dtype: int64"
      ]
     },
     "metadata": {},
     "output_type": "display_data"
    },
    {
     "data": {
      "text/plain": [
       "count    367.000000\n",
       "mean       1.438692\n",
       "std        0.694181\n",
       "min        1.000000\n",
       "25%        1.000000\n",
       "50%        1.000000\n",
       "75%        2.000000\n",
       "max        4.000000\n",
       "Name: traveltime, dtype: float64"
      ]
     },
     "metadata": {},
     "output_type": "display_data"
    },
    {
     "data": {
      "image/png": "[encoded data removed]",
      "text/plain": [
       "<Figure size 432x288 with 1 Axes>"
      ]
     },
     "metadata": {
      "needs_background": "light"
     },
     "output_type": "display_data"
    }
   ],
   "source": [
    "statusCounts(df['traveltime'])"
   ]
  },
  {
   "cell_type": "markdown",
   "metadata": {},
   "source": [
    "Дорога забирает силы и энергию ...\n",
    "\n",
    "1 = 100 б\n",
    "2 = 99.99 б\n",
    "3 = 99.98 б\n",
    "4 = 99.97 б\n",
    "\n",
    "Пропуски = 99.985"
   ]
  },
  {
   "cell_type": "code",
   "execution_count": 36,
   "metadata": {},
   "outputs": [
    {
     "name": "stdout",
     "output_type": "stream",
     "text": [
      "Статистика по : traveltime\n",
      "Всего : 395\n",
      "Уникальных : 5\n",
      "Сумма уникальных : 395\n",
      "Пустых : 0\n"
     ]
    },
    {
     "data": {
      "text/plain": [
       "100.000    242\n",
       "99.990      96\n",
       "99.985      28\n",
       "99.980      22\n",
       "99.970       7\n",
       "Name: traveltime, dtype: int64"
      ]
     },
     "metadata": {},
     "output_type": "display_data"
    },
    {
     "data": {
      "text/plain": [
       "count    395.000000\n",
       "mean      99.994861\n",
       "std        0.007225\n",
       "min       99.970000\n",
       "25%       99.990000\n",
       "50%      100.000000\n",
       "75%      100.000000\n",
       "max      100.000000\n",
       "Name: traveltime, dtype: float64"
      ]
     },
     "metadata": {},
     "output_type": "display_data"
    },
    {
     "data": {
      "image/png": "[encoded data removed]",
      "text/plain": [
       "<Figure size 432x288 with 1 Axes>"
      ]
     },
     "metadata": {
      "needs_background": "light"
     },
     "output_type": "display_data"
    }
   ],
   "source": [
    "df2['traveltime'] = df2['traveltime'].map({1: 100,\n",
    "                                           2: 99.99,\n",
    "                                           3: 99.98,\n",
    "                                           4: 99.97})\n",
    "\n",
    "df2['traveltime'] = df2['traveltime'].fillna(99.985)\n",
    "statusCounts(df2['traveltime'])"
   ]
  },
  {
   "cell_type": "code",
   "execution_count": 37,
   "metadata": {},
   "outputs": [
    {
     "name": "stdout",
     "output_type": "stream",
     "text": [
      "Статистика по : welfare\n",
      "Всего : 395\n",
      "Уникальных : 258\n",
      "Сумма уникальных : 395\n",
      "Пустых : 0\n"
     ]
    },
    {
     "data": {
      "text/plain": [
       "898.875    7\n",
       "896.275    6\n",
       "898.275    6\n",
       "897.975    6\n",
       "897.575    5\n",
       "          ..\n",
       "896.345    1\n",
       "895.145    1\n",
       "898.560    1\n",
       "899.600    1\n",
       "895.370    1\n",
       "Name: welfare, Length: 258, dtype: int64"
      ]
     },
     "metadata": {},
     "output_type": "display_data"
    },
    {
     "data": {
      "text/plain": [
       "count    395.000000\n",
       "mean     897.272949\n",
       "std        1.679328\n",
       "min      892.665000\n",
       "25%      896.252500\n",
       "50%      897.565000\n",
       "75%      898.482500\n",
       "max      900.200000\n",
       "Name: welfare, dtype: float64"
      ]
     },
     "metadata": {},
     "output_type": "display_data"
    },
    {
     "data": {
      "image/png": "[encoded data removed]",
      "text/plain": [
       "<Figure size 432x288 with 1 Axes>"
      ]
     },
     "metadata": {
      "needs_background": "light"
     },
     "output_type": "display_data"
    }
   ],
   "source": [
    "df2['welfare'] += df2['traveltime']\n",
    "statusCounts(df2['welfare'])"
   ]
  },
  {
   "cell_type": "code",
   "execution_count": 38,
   "metadata": {},
   "outputs": [
    {
     "name": "stdout",
     "output_type": "stream",
     "text": [
      "Статистика по : studytime\n",
      "Всего : 395\n",
      "Уникальных : 4\n",
      "Сумма уникальных : 388\n",
      "Пустых : 7\n"
     ]
    },
    {
     "data": {
      "text/plain": [
       "2.0    194\n",
       "1.0    103\n",
       "3.0     64\n",
       "4.0     27\n",
       "Name: studytime, dtype: int64"
      ]
     },
     "metadata": {},
     "output_type": "display_data"
    },
    {
     "data": {
      "text/plain": [
       "count    388.000000\n",
       "mean       2.038660\n",
       "std        0.842078\n",
       "min        1.000000\n",
       "25%        1.000000\n",
       "50%        2.000000\n",
       "75%        2.000000\n",
       "max        4.000000\n",
       "Name: studytime, dtype: float64"
      ]
     },
     "metadata": {},
     "output_type": "display_data"
    },
    {
     "data": {
      "image/png": "[encoded data removed]",
      "text/plain": [
       "<Figure size 432x288 with 1 Axes>"
      ]
     },
     "metadata": {
      "needs_background": "light"
     },
     "output_type": "display_data"
    }
   ],
   "source": [
    "statusCounts(df['studytime'])"
   ]
  },
  {
   "cell_type": "markdown",
   "metadata": {},
   "source": [
    "4 = 100 б\n",
    "3 = 98 б\n",
    "2 = 96 б\n",
    "1 = 90 б\n",
    "пропуски = 96"
   ]
  },
  {
   "cell_type": "code",
   "execution_count": 39,
   "metadata": {},
   "outputs": [
    {
     "name": "stdout",
     "output_type": "stream",
     "text": [
      "Статистика по : studytime\n",
      "Всего : 395\n",
      "Уникальных : 4\n",
      "Сумма уникальных : 395\n",
      "Пустых : 0\n"
     ]
    },
    {
     "data": {
      "text/plain": [
       "96.0     201\n",
       "90.0     103\n",
       "98.0      64\n",
       "100.0     27\n",
       "Name: studytime, dtype: int64"
      ]
     },
     "metadata": {},
     "output_type": "display_data"
    },
    {
     "data": {
      "text/plain": [
       "count    395.000000\n",
       "mean      95.032911\n",
       "std        3.196831\n",
       "min       90.000000\n",
       "25%       90.000000\n",
       "50%       96.000000\n",
       "75%       96.000000\n",
       "max      100.000000\n",
       "Name: studytime, dtype: float64"
      ]
     },
     "metadata": {},
     "output_type": "display_data"
    },
    {
     "data": {
      "image/png": "[encoded data removed]",
      "text/plain": [
       "<Figure size 432x288 with 1 Axes>"
      ]
     },
     "metadata": {
      "needs_background": "light"
     },
     "output_type": "display_data"
    }
   ],
   "source": [
    "df2['studytime'] = df2['studytime'].map({1: 90,\n",
    "                                         2: 96,\n",
    "                                         3: 98,\n",
    "                                         4: 100})\n",
    "\n",
    "df2['studytime'] = df2['studytime'].fillna(96)\n",
    "statusCounts(df2['studytime'])"
   ]
  },
  {
   "cell_type": "code",
   "execution_count": 40,
   "metadata": {},
   "outputs": [
    {
     "name": "stdout",
     "output_type": "stream",
     "text": [
      "Статистика по : welfare\n",
      "Всего : 395\n",
      "Уникальных : 306\n",
      "Сумма уникальных : 395\n",
      "Пустых : 0\n"
     ]
    },
    {
     "data": {
      "text/plain": [
       "994.275    6\n",
       "993.975    5\n",
       "992.400    4\n",
       "994.875    4\n",
       "995.290    3\n",
       "          ..\n",
       "993.600    1\n",
       "998.400    1\n",
       "989.675    1\n",
       "991.345    1\n",
       "987.465    1\n",
       "Name: welfare, Length: 306, dtype: int64"
      ]
     },
     "metadata": {},
     "output_type": "display_data"
    },
    {
     "data": {
      "text/plain": [
       "count    395.000000\n",
       "mean     992.305861\n",
       "std        3.690708\n",
       "min      983.255000\n",
       "25%      989.595000\n",
       "50%      993.400000\n",
       "75%      994.900000\n",
       "max      999.160000\n",
       "Name: welfare, dtype: float64"
      ]
     },
     "metadata": {},
     "output_type": "display_data"
    },
    {
     "data": {
      "image/png": "[encoded data removed]",
      "text/plain": [
       "<Figure size 432x288 with 1 Axes>"
      ]
     },
     "metadata": {
      "needs_background": "light"
     },
     "output_type": "display_data"
    }
   ],
   "source": [
    "df2['welfare'] += df2['studytime']\n",
    "statusCounts(df2['welfare'])"
   ]
  },
  {
   "cell_type": "code",
   "execution_count": 41,
   "metadata": {},
   "outputs": [
    {
     "name": "stdout",
     "output_type": "stream",
     "text": [
      "Статистика по : failures\n",
      "Всего : 395\n",
      "Уникальных : 4\n",
      "Сумма уникальных : 373\n",
      "Пустых : 22\n"
     ]
    },
    {
     "data": {
      "text/plain": [
       "0.0    293\n",
       "1.0     49\n",
       "2.0     16\n",
       "3.0     15\n",
       "Name: failures, dtype: int64"
      ]
     },
     "metadata": {},
     "output_type": "display_data"
    },
    {
     "data": {
      "text/plain": [
       "count    373.000000\n",
       "mean       0.337802\n",
       "std        0.743135\n",
       "min        0.000000\n",
       "25%        0.000000\n",
       "50%        0.000000\n",
       "75%        0.000000\n",
       "max        3.000000\n",
       "Name: failures, dtype: float64"
      ]
     },
     "metadata": {},
     "output_type": "display_data"
    },
    {
     "data": {
      "image/png": "[encoded data removed]",
      "text/plain": [
       "<Figure size 432x288 with 1 Axes>"
      ]
     },
     "metadata": {
      "needs_background": "light"
     },
     "output_type": "display_data"
    }
   ],
   "source": [
    "statusCounts(df['failures'])"
   ]
  },
  {
   "cell_type": "code",
   "execution_count": 42,
   "metadata": {},
   "outputs": [
    {
     "name": "stdout",
     "output_type": "stream",
     "text": [
      "Статистика по : schoolsup\n",
      "Всего : 395\n",
      "Уникальных : 2\n",
      "Сумма уникальных : 386\n",
      "Пустых : 9\n"
     ]
    },
    {
     "data": {
      "text/plain": [
       "no           335\n",
       "yes           51\n",
       "Undefined      9\n",
       "Name: schoolsup, dtype: int64"
      ]
     },
     "metadata": {},
     "output_type": "display_data"
    },
    {
     "data": {
      "image/png": "[encoded data removed]",
      "text/plain": [
       "<Figure size 432x288 with 1 Axes>"
      ]
     },
     "metadata": {
      "needs_background": "light"
     },
     "output_type": "display_data"
    }
   ],
   "source": [
    "statusCounts(df['schoolsup'])"
   ]
  },
  {
   "cell_type": "markdown",
   "metadata": {},
   "source": [
    "Yes = 100 б\n",
    "No = 95 б\n",
    "Пропуски = 97.5\n"
   ]
  },
  {
   "cell_type": "code",
   "execution_count": 43,
   "metadata": {},
   "outputs": [
    {
     "name": "stdout",
     "output_type": "stream",
     "text": [
      "Статистика по : schoolsup\n",
      "Всего : 395\n",
      "Уникальных : 3\n",
      "Сумма уникальных : 395\n",
      "Пустых : 0\n"
     ]
    },
    {
     "data": {
      "text/plain": [
       "95.0     335\n",
       "100.0     51\n",
       "97.5       9\n",
       "Name: schoolsup, dtype: int64"
      ]
     },
     "metadata": {},
     "output_type": "display_data"
    },
    {
     "data": {
      "text/plain": [
       "count    395.000000\n",
       "mean      95.702532\n",
       "std        1.698235\n",
       "min       95.000000\n",
       "25%       95.000000\n",
       "50%       95.000000\n",
       "75%       95.000000\n",
       "max      100.000000\n",
       "Name: schoolsup, dtype: float64"
      ]
     },
     "metadata": {},
     "output_type": "display_data"
    },
    {
     "data": {
      "image/png": "[encoded data removed]",
      "text/plain": [
       "<Figure size 432x288 with 1 Axes>"
      ]
     },
     "metadata": {
      "needs_background": "light"
     },
     "output_type": "display_data"
    }
   ],
   "source": [
    "df2['schoolsup'] = df2['schoolsup'].map({'yes': 100,\n",
    "                                         'no': 95})\n",
    "\n",
    "df2['schoolsup'] = df2['schoolsup'].fillna(97.5)\n",
    "statusCounts(df2['schoolsup'])"
   ]
  },
  {
   "cell_type": "code",
   "execution_count": 44,
   "metadata": {},
   "outputs": [
    {
     "name": "stdout",
     "output_type": "stream",
     "text": [
      "Статистика по : welfare\n",
      "Всего : 395\n",
      "Уникальных : 307\n",
      "Сумма уникальных : 395\n",
      "Пустых : 0\n"
     ]
    },
    {
     "data": {
      "text/plain": [
       "1089.275    7\n",
       "1088.975    4\n",
       "1087.275    4\n",
       "1087.400    4\n",
       "1089.900    4\n",
       "           ..\n",
       "1089.575    1\n",
       "1089.565    1\n",
       "1094.375    1\n",
       "1083.065    1\n",
       "1079.435    1\n",
       "Name: welfare, Length: 307, dtype: int64"
      ]
     },
     "metadata": {},
     "output_type": "display_data"
    },
    {
     "data": {
      "text/plain": [
       "count     395.000000\n",
       "mean     1088.008392\n",
       "std         4.104372\n",
       "min      1078.255000\n",
       "25%      1085.190000\n",
       "50%      1088.800000\n",
       "75%      1090.575000\n",
       "max      1099.160000\n",
       "Name: welfare, dtype: float64"
      ]
     },
     "metadata": {},
     "output_type": "display_data"
    },
    {
     "data": {
      "image/png": "[encoded data removed]",
      "text/plain": [
       "<Figure size 432x288 with 1 Axes>"
      ]
     },
     "metadata": {
      "needs_background": "light"
     },
     "output_type": "display_data"
    }
   ],
   "source": [
    "df2['welfare'] += df2['schoolsup']\n",
    "statusCounts(df2['welfare'])"
   ]
  },
  {
   "cell_type": "code",
   "execution_count": 45,
   "metadata": {},
   "outputs": [
    {
     "name": "stdout",
     "output_type": "stream",
     "text": [
      "Статистика по : famsup\n",
      "Всего : 395\n",
      "Уникальных : 2\n",
      "Сумма уникальных : 356\n",
      "Пустых : 39\n"
     ]
    },
    {
     "data": {
      "text/plain": [
       "yes          219\n",
       "no           137\n",
       "Undefined     39\n",
       "Name: famsup, dtype: int64"
      ]
     },
     "metadata": {},
     "output_type": "display_data"
    },
    {
     "data": {
      "image/png": "[encoded data removed]",
      "text/plain": [
       "<Figure size 432x288 with 1 Axes>"
      ]
     },
     "metadata": {
      "needs_background": "light"
     },
     "output_type": "display_data"
    }
   ],
   "source": [
    "statusCounts(df['famsup'])"
   ]
  },
  {
   "cell_type": "markdown",
   "metadata": {},
   "source": [
    "yes = 100б no = 97 б пропуски = 98.5 б"
   ]
  },
  {
   "cell_type": "code",
   "execution_count": 46,
   "metadata": {},
   "outputs": [
    {
     "name": "stdout",
     "output_type": "stream",
     "text": [
      "Статистика по : famsup\n",
      "Всего : 395\n",
      "Уникальных : 3\n",
      "Сумма уникальных : 395\n",
      "Пустых : 0\n"
     ]
    },
    {
     "data": {
      "text/plain": [
       "100.0    219\n",
       "95.0     137\n",
       "97.5      39\n",
       "Name: famsup, dtype: int64"
      ]
     },
     "metadata": {},
     "output_type": "display_data"
    },
    {
     "data": {
      "text/plain": [
       "count    395.000000\n",
       "mean      98.018987\n",
       "std        2.318874\n",
       "min       95.000000\n",
       "25%       95.000000\n",
       "50%      100.000000\n",
       "75%      100.000000\n",
       "max      100.000000\n",
       "Name: famsup, dtype: float64"
      ]
     },
     "metadata": {},
     "output_type": "display_data"
    },
    {
     "data": {
      "image/png": "[encoded data removed]",
      "text/plain": [
       "<Figure size 432x288 with 1 Axes>"
      ]
     },
     "metadata": {
      "needs_background": "light"
     },
     "output_type": "display_data"
    }
   ],
   "source": [
    "df2['famsup'] = df2['famsup'].map({'yes': 100,\n",
    "                                   'no': 95})\n",
    "\n",
    "df2['famsup'] = df2['famsup'].fillna(97.5)\n",
    "statusCounts(df2['famsup'])"
   ]
  },
  {
   "cell_type": "code",
   "execution_count": 47,
   "metadata": {},
   "outputs": [
    {
     "name": "stdout",
     "output_type": "stream",
     "text": [
      "Статистика по : welfare\n",
      "Всего : 395\n",
      "Уникальных : 340\n",
      "Сумма уникальных : 395\n",
      "Пустых : 0\n"
     ]
    },
    {
     "data": {
      "text/plain": [
       "1189.275    6\n",
       "1189.900    5\n",
       "1187.575    3\n",
       "1182.775    3\n",
       "1182.275    3\n",
       "           ..\n",
       "1192.675    1\n",
       "1186.945    1\n",
       "1181.670    1\n",
       "1183.275    1\n",
       "1174.755    1\n",
       "Name: welfare, Length: 340, dtype: int64"
      ]
     },
     "metadata": {},
     "output_type": "display_data"
    },
    {
     "data": {
      "text/plain": [
       "count     395.000000\n",
       "mean     1186.027380\n",
       "std         5.122352\n",
       "min      1173.360000\n",
       "25%      1182.472500\n",
       "50%      1186.700000\n",
       "75%      1189.875000\n",
       "max      1199.160000\n",
       "Name: welfare, dtype: float64"
      ]
     },
     "metadata": {},
     "output_type": "display_data"
    },
    {
     "data": {
      "image/png": "[encoded data removed]",
      "text/plain": [
       "<Figure size 432x288 with 1 Axes>"
      ]
     },
     "metadata": {
      "needs_background": "light"
     },
     "output_type": "display_data"
    }
   ],
   "source": [
    "df2['welfare'] += df2['famsup']\n",
    "statusCounts(df2['welfare'])"
   ]
  },
  {
   "cell_type": "code",
   "execution_count": 48,
   "metadata": {},
   "outputs": [
    {
     "name": "stdout",
     "output_type": "stream",
     "text": [
      "Статистика по : paid\n",
      "Всего : 395\n",
      "Уникальных : 2\n",
      "Сумма уникальных : 355\n",
      "Пустых : 40\n"
     ]
    },
    {
     "data": {
      "text/plain": [
       "no           200\n",
       "yes          155\n",
       "Undefined     40\n",
       "Name: paid, dtype: int64"
      ]
     },
     "metadata": {},
     "output_type": "display_data"
    },
    {
     "data": {
      "image/png": "[encoded data removed]",
      "text/plain": [
       "<Figure size 432x288 with 1 Axes>"
      ]
     },
     "metadata": {
      "needs_background": "light"
     },
     "output_type": "display_data"
    }
   ],
   "source": [
    "statusCounts(df['paid'])"
   ]
  },
  {
   "cell_type": "markdown",
   "metadata": {},
   "source": [
    "yes = 100б no = 95 б пропуски = 97.5б"
   ]
  },
  {
   "cell_type": "code",
   "execution_count": 49,
   "metadata": {},
   "outputs": [
    {
     "name": "stdout",
     "output_type": "stream",
     "text": [
      "Статистика по : paid\n",
      "Всего : 395\n",
      "Уникальных : 3\n",
      "Сумма уникальных : 395\n",
      "Пустых : 0\n"
     ]
    },
    {
     "data": {
      "text/plain": [
       "95.0     200\n",
       "100.0    155\n",
       "97.5      40\n",
       "Name: paid, dtype: int64"
      ]
     },
     "metadata": {},
     "output_type": "display_data"
    },
    {
     "data": {
      "text/plain": [
       "count    395.000000\n",
       "mean      97.215190\n",
       "std        2.355849\n",
       "min       95.000000\n",
       "25%       95.000000\n",
       "50%       95.000000\n",
       "75%      100.000000\n",
       "max      100.000000\n",
       "Name: paid, dtype: float64"
      ]
     },
     "metadata": {},
     "output_type": "display_data"
    },
    {
     "data": {
      "image/png": "[encoded data removed]",
      "text/plain": [
       "<Figure size 432x288 with 1 Axes>"
      ]
     },
     "metadata": {
      "needs_background": "light"
     },
     "output_type": "display_data"
    }
   ],
   "source": [
    "df2['paid'] = df2['paid'].map({'yes': 100,\n",
    "                               'no': 95})\n",
    "\n",
    "df2['paid'] = df2['paid'].fillna(97.5)\n",
    "statusCounts(df2['paid'])"
   ]
  },
  {
   "cell_type": "code",
   "execution_count": 50,
   "metadata": {},
   "outputs": [
    {
     "name": "stdout",
     "output_type": "stream",
     "text": [
      "Статистика по : welfare\n",
      "Всего : 395\n",
      "Уникальных : 353\n",
      "Сумма уникальных : 395\n",
      "Пустых : 0\n"
     ]
    },
    {
     "data": {
      "text/plain": [
       "1284.275    4\n",
       "1284.900    4\n",
       "1287.575    3\n",
       "1279.965    3\n",
       "1289.275    3\n",
       "           ..\n",
       "1276.550    1\n",
       "1277.665    1\n",
       "1281.400    1\n",
       "1269.475    1\n",
       "1286.670    1\n",
       "Name: welfare, Length: 353, dtype: int64"
      ]
     },
     "metadata": {},
     "output_type": "display_data"
    },
    {
     "data": {
      "text/plain": [
       "count     395.000000\n",
       "mean     1283.242570\n",
       "std         6.244827\n",
       "min      1268.360000\n",
       "25%      1278.682500\n",
       "50%      1283.975000\n",
       "75%      1288.087500\n",
       "max      1297.975000\n",
       "Name: welfare, dtype: float64"
      ]
     },
     "metadata": {},
     "output_type": "display_data"
    },
    {
     "data": {
      "image/png": "[encoded data removed]",
      "text/plain": [
       "<Figure size 432x288 with 1 Axes>"
      ]
     },
     "metadata": {
      "needs_background": "light"
     },
     "output_type": "display_data"
    }
   ],
   "source": [
    "df2['welfare'] += df2['paid']\n",
    "statusCounts(df2['welfare'])"
   ]
  },
  {
   "cell_type": "code",
   "execution_count": 51,
   "metadata": {},
   "outputs": [
    {
     "name": "stdout",
     "output_type": "stream",
     "text": [
      "Статистика по : activities\n",
      "Всего : 395\n",
      "Уникальных : 2\n",
      "Сумма уникальных : 381\n",
      "Пустых : 14\n"
     ]
    },
    {
     "data": {
      "text/plain": [
       "yes          195\n",
       "no           186\n",
       "Undefined     14\n",
       "Name: activities, dtype: int64"
      ]
     },
     "metadata": {},
     "output_type": "display_data"
    },
    {
     "data": {
      "image/png": "[encoded data removed]",
      "text/plain": [
       "<Figure size 432x288 with 1 Axes>"
      ]
     },
     "metadata": {
      "needs_background": "light"
     },
     "output_type": "display_data"
    }
   ],
   "source": [
    "statusCounts(df['activities'])"
   ]
  },
  {
   "cell_type": "markdown",
   "metadata": {},
   "source": [
    "yes = 100б no = 99б пропуски 99.5 б"
   ]
  },
  {
   "cell_type": "code",
   "execution_count": 52,
   "metadata": {},
   "outputs": [
    {
     "name": "stdout",
     "output_type": "stream",
     "text": [
      "Статистика по : activities\n",
      "Всего : 395\n",
      "Уникальных : 3\n",
      "Сумма уникальных : 395\n",
      "Пустых : 0\n"
     ]
    },
    {
     "data": {
      "text/plain": [
       "100.0    195\n",
       "99.0     186\n",
       "99.5      14\n",
       "Name: activities, dtype: int64"
      ]
     },
     "metadata": {},
     "output_type": "display_data"
    },
    {
     "data": {
      "text/plain": [
       "count    395.000000\n",
       "mean      99.511392\n",
       "std        0.491550\n",
       "min       99.000000\n",
       "25%       99.000000\n",
       "50%       99.500000\n",
       "75%      100.000000\n",
       "max      100.000000\n",
       "Name: activities, dtype: float64"
      ]
     },
     "metadata": {},
     "output_type": "display_data"
    },
    {
     "data": {
      "image/png": "[encoded data removed]",
      "text/plain": [
       "<Figure size 432x288 with 1 Axes>"
      ]
     },
     "metadata": {
      "needs_background": "light"
     },
     "output_type": "display_data"
    }
   ],
   "source": [
    "df2['activities'] = df2['activities'].map({'yes': 100,\n",
    "                                           'no': 99})\n",
    "\n",
    "df2['activities'] = df2['activities'].fillna(99.5)\n",
    "statusCounts(df2['activities'])"
   ]
  },
  {
   "cell_type": "code",
   "execution_count": 53,
   "metadata": {},
   "outputs": [
    {
     "name": "stdout",
     "output_type": "stream",
     "text": [
      "Статистика по : welfare\n",
      "Всего : 395\n",
      "Уникальных : 346\n",
      "Сумма уникальных : 395\n",
      "Пустых : 0\n"
     ]
    },
    {
     "data": {
      "text/plain": [
       "1383.900    4\n",
       "1383.275    4\n",
       "1382.575    4\n",
       "1387.900    3\n",
       "1389.900    3\n",
       "           ..\n",
       "1390.600    1\n",
       "1376.975    1\n",
       "1388.000    1\n",
       "1368.475    1\n",
       "1386.575    1\n",
       "Name: welfare, Length: 346, dtype: int64"
      ]
     },
     "metadata": {},
     "output_type": "display_data"
    },
    {
     "data": {
      "text/plain": [
       "count     395.000000\n",
       "mean     1382.753962\n",
       "std         6.311428\n",
       "min      1367.360000\n",
       "25%      1377.937500\n",
       "50%      1383.400000\n",
       "75%      1387.622500\n",
       "max      1396.975000\n",
       "Name: welfare, dtype: float64"
      ]
     },
     "metadata": {},
     "output_type": "display_data"
    },
    {
     "data": {
      "image/png": "[encoded data removed]",
      "text/plain": [
       "<Figure size 432x288 with 1 Axes>"
      ]
     },
     "metadata": {
      "needs_background": "light"
     },
     "output_type": "display_data"
    }
   ],
   "source": [
    "df2['welfare'] += df2['activities']\n",
    "statusCounts(df2['welfare'])"
   ]
  },
  {
   "cell_type": "code",
   "execution_count": 54,
   "metadata": {},
   "outputs": [
    {
     "name": "stdout",
     "output_type": "stream",
     "text": [
      "Статистика по : nursery\n",
      "Всего : 395\n",
      "Уникальных : 2\n",
      "Сумма уникальных : 379\n",
      "Пустых : 16\n"
     ]
    },
    {
     "data": {
      "text/plain": [
       "yes          300\n",
       "no            79\n",
       "Undefined     16\n",
       "Name: nursery, dtype: int64"
      ]
     },
     "metadata": {},
     "output_type": "display_data"
    },
    {
     "data": {
      "image/png": "[encoded data removed]",
      "text/plain": [
       "<Figure size 432x288 with 1 Axes>"
      ]
     },
     "metadata": {
      "needs_background": "light"
     },
     "output_type": "display_data"
    }
   ],
   "source": [
    "statusCounts(df['nursery'])"
   ]
  },
  {
   "cell_type": "markdown",
   "metadata": {},
   "source": [
    "yes = 100 б no = 70 б пропуски 85 б"
   ]
  },
  {
   "cell_type": "code",
   "execution_count": 55,
   "metadata": {},
   "outputs": [
    {
     "name": "stdout",
     "output_type": "stream",
     "text": [
      "Статистика по : nursery\n",
      "Всего : 395\n",
      "Уникальных : 3\n",
      "Сумма уникальных : 395\n",
      "Пустых : 0\n"
     ]
    },
    {
     "data": {
      "text/plain": [
       "100.0    300\n",
       "70.0      79\n",
       "85.0      16\n",
       "Name: nursery, dtype: int64"
      ]
     },
     "metadata": {},
     "output_type": "display_data"
    },
    {
     "data": {
      "text/plain": [
       "count    395.000000\n",
       "mean      93.392405\n",
       "std       12.075711\n",
       "min       70.000000\n",
       "25%      100.000000\n",
       "50%      100.000000\n",
       "75%      100.000000\n",
       "max      100.000000\n",
       "Name: nursery, dtype: float64"
      ]
     },
     "metadata": {},
     "output_type": "display_data"
    },
    {
     "data": {
      "image/png": "[encoded data removed]",
      "text/plain": [
       "<Figure size 432x288 with 1 Axes>"
      ]
     },
     "metadata": {
      "needs_background": "light"
     },
     "output_type": "display_data"
    }
   ],
   "source": [
    "df2['nursery'] = df2['nursery'].map({'yes': 100,\n",
    "                                     'no': 70})\n",
    "\n",
    "df2['nursery'] = df2['nursery'].fillna(85)\n",
    "statusCounts(df2['nursery'])"
   ]
  },
  {
   "cell_type": "code",
   "execution_count": 56,
   "metadata": {},
   "outputs": [
    {
     "name": "stdout",
     "output_type": "stream",
     "text": [
      "Статистика по : welfare\n",
      "Всего : 395\n",
      "Уникальных : 359\n",
      "Сумма уникальных : 395\n",
      "Пустых : 0\n"
     ]
    },
    {
     "data": {
      "text/plain": [
       "1483.275    4\n",
       "1487.500    3\n",
       "1489.900    3\n",
       "1483.900    3\n",
       "1487.900    3\n",
       "           ..\n",
       "1459.665    1\n",
       "1469.000    1\n",
       "1476.690    1\n",
       "1488.665    1\n",
       "1496.575    1\n",
       "Name: welfare, Length: 359, dtype: int64"
      ]
     },
     "metadata": {},
     "output_type": "display_data"
    },
    {
     "data": {
      "text/plain": [
       "count     395.000000\n",
       "mean     1476.146367\n",
       "std        14.546778\n",
       "min      1438.755000\n",
       "25%      1470.950000\n",
       "50%      1481.055000\n",
       "75%      1486.977500\n",
       "max      1496.975000\n",
       "Name: welfare, dtype: float64"
      ]
     },
     "metadata": {},
     "output_type": "display_data"
    },
    {
     "data": {
      "image/png": "[encoded data removed]",
      "text/plain": [
       "<Figure size 432x288 with 1 Axes>"
      ]
     },
     "metadata": {
      "needs_background": "light"
     },
     "output_type": "display_data"
    }
   ],
   "source": [
    "df2['welfare'] += df2['nursery']\n",
    "statusCounts(df2['welfare'])"
   ]
  },
  {
   "cell_type": "code",
   "execution_count": 57,
   "metadata": {},
   "outputs": [
    {
     "name": "stdout",
     "output_type": "stream",
     "text": [
      "Статистика по : studytime, granular\n",
      "Всего : 395\n",
      "Уникальных : 4\n",
      "Сумма уникальных : 388\n",
      "Пустых : 7\n"
     ]
    },
    {
     "data": {
      "text/plain": [
       "-6.0     194\n",
       "-3.0     103\n",
       "-9.0      64\n",
       "-12.0     27\n",
       "Name: studytime, granular, dtype: int64"
      ]
     },
     "metadata": {},
     "output_type": "display_data"
    },
    {
     "data": {
      "text/plain": [
       "count    388.000000\n",
       "mean      -6.115979\n",
       "std        2.526235\n",
       "min      -12.000000\n",
       "25%       -6.000000\n",
       "50%       -6.000000\n",
       "75%       -3.000000\n",
       "max       -3.000000\n",
       "Name: studytime, granular, dtype: float64"
      ]
     },
     "metadata": {},
     "output_type": "display_data"
    },
    {
     "data": {
      "image/png": "[encoded data removed]",
      "text/plain": [
       "<Figure size 432x288 with 1 Axes>"
      ]
     },
     "metadata": {
      "needs_background": "light"
     },
     "output_type": "display_data"
    }
   ],
   "source": [
    "statusCounts(df['studytime, granular'])"
   ]
  },
  {
   "cell_type": "code",
   "execution_count": null,
   "metadata": {},
   "outputs": [],
   "source": []
  },
  {
   "cell_type": "code",
   "execution_count": 58,
   "metadata": {},
   "outputs": [
    {
     "name": "stdout",
     "output_type": "stream",
     "text": [
      "Статистика по : higher\n",
      "Всего : 395\n",
      "Уникальных : 2\n",
      "Сумма уникальных : 375\n",
      "Пустых : 20\n"
     ]
    },
    {
     "data": {
      "text/plain": [
       "yes          356\n",
       "Undefined     20\n",
       "no            19\n",
       "Name: higher, dtype: int64"
      ]
     },
     "metadata": {},
     "output_type": "display_data"
    },
    {
     "data": {
      "image/png": "[encoded data removed]",
      "text/plain": [
       "<Figure size 432x288 with 1 Axes>"
      ]
     },
     "metadata": {
      "needs_background": "light"
     },
     "output_type": "display_data"
    }
   ],
   "source": [
    "statusCounts(df['higher'])"
   ]
  },
  {
   "cell_type": "markdown",
   "metadata": {},
   "source": [
    "yes = 100б no = 70 б пропуски = 85 б"
   ]
  },
  {
   "cell_type": "code",
   "execution_count": 59,
   "metadata": {},
   "outputs": [
    {
     "name": "stdout",
     "output_type": "stream",
     "text": [
      "Статистика по : higher\n",
      "Всего : 395\n",
      "Уникальных : 3\n",
      "Сумма уникальных : 395\n",
      "Пустых : 0\n"
     ]
    },
    {
     "data": {
      "text/plain": [
       "100.0    356\n",
       "85.0      20\n",
       "70.0      19\n",
       "Name: higher, dtype: int64"
      ]
     },
     "metadata": {},
     "output_type": "display_data"
    },
    {
     "data": {
      "text/plain": [
       "count    395.000000\n",
       "mean      97.797468\n",
       "std        7.068159\n",
       "min       70.000000\n",
       "25%      100.000000\n",
       "50%      100.000000\n",
       "75%      100.000000\n",
       "max      100.000000\n",
       "Name: higher, dtype: float64"
      ]
     },
     "metadata": {},
     "output_type": "display_data"
    },
    {
     "data": {
      "image/png": "[encoded data removed]",
      "text/plain": [
       "<Figure size 432x288 with 1 Axes>"
      ]
     },
     "metadata": {
      "needs_background": "light"
     },
     "output_type": "display_data"
    }
   ],
   "source": [
    "df2['higher'] = df2['higher'].map({'yes': 100,\n",
    "                                   'no': 70})\n",
    "\n",
    "df2['higher'] = df2['higher'].fillna(85)\n",
    "statusCounts(df2['higher'])"
   ]
  },
  {
   "cell_type": "code",
   "execution_count": 60,
   "metadata": {},
   "outputs": [
    {
     "name": "stdout",
     "output_type": "stream",
     "text": [
      "Статистика по : welfare\n",
      "Всего : 395\n",
      "Уникальных : 361\n",
      "Сумма уникальных : 395\n",
      "Пустых : 0\n"
     ]
    },
    {
     "data": {
      "text/plain": [
       "1583.275    3\n",
       "1583.900    3\n",
       "1582.575    3\n",
       "1589.900    3\n",
       "1578.965    3\n",
       "           ..\n",
       "1590.900    1\n",
       "1589.075    1\n",
       "1582.200    1\n",
       "1582.400    1\n",
       "1555.575    1\n",
       "Name: welfare, Length: 361, dtype: int64"
      ]
     },
     "metadata": {},
     "output_type": "display_data"
    },
    {
     "data": {
      "text/plain": [
       "count     395.000000\n",
       "mean     1573.943835\n",
       "std        17.315824\n",
       "min      1509.770000\n",
       "25%      1563.467500\n",
       "50%      1580.165000\n",
       "75%      1586.667500\n",
       "max      1596.975000\n",
       "Name: welfare, dtype: float64"
      ]
     },
     "metadata": {},
     "output_type": "display_data"
    },
    {
     "data": {
      "image/png": "[encoded data removed]",
      "text/plain": [
       "<Figure size 432x288 with 1 Axes>"
      ]
     },
     "metadata": {
      "needs_background": "light"
     },
     "output_type": "display_data"
    }
   ],
   "source": [
    "df2['welfare'] += df2['higher']\n",
    "statusCounts(df2['welfare'])"
   ]
  },
  {
   "cell_type": "code",
   "execution_count": 61,
   "metadata": {},
   "outputs": [
    {
     "name": "stdout",
     "output_type": "stream",
     "text": [
      "Статистика по : internet\n",
      "Всего : 395\n",
      "Уникальных : 2\n",
      "Сумма уникальных : 361\n",
      "Пустых : 34\n"
     ]
    },
    {
     "data": {
      "text/plain": [
       "yes          305\n",
       "no            56\n",
       "Undefined     34\n",
       "Name: internet, dtype: int64"
      ]
     },
     "metadata": {},
     "output_type": "display_data"
    },
    {
     "data": {
      "image/png": "[encoded data removed]",
      "text/plain": [
       "<Figure size 432x288 with 1 Axes>"
      ]
     },
     "metadata": {
      "needs_background": "light"
     },
     "output_type": "display_data"
    }
   ],
   "source": [
    "statusCounts(df['internet'])"
   ]
  },
  {
   "cell_type": "markdown",
   "metadata": {},
   "source": [
    "yes = 100б no = 85 б пропуски = 92.5 б"
   ]
  },
  {
   "cell_type": "code",
   "execution_count": 62,
   "metadata": {},
   "outputs": [
    {
     "name": "stdout",
     "output_type": "stream",
     "text": [
      "Статистика по : internet\n",
      "Всего : 395\n",
      "Уникальных : 3\n",
      "Сумма уникальных : 395\n",
      "Пустых : 0\n"
     ]
    },
    {
     "data": {
      "text/plain": [
       "100.0    305\n",
       "85.0      56\n",
       "92.5      34\n",
       "Name: internet, dtype: int64"
      ]
     },
     "metadata": {},
     "output_type": "display_data"
    },
    {
     "data": {
      "text/plain": [
       "count    395.000000\n",
       "mean      97.227848\n",
       "std        5.397168\n",
       "min       85.000000\n",
       "25%      100.000000\n",
       "50%      100.000000\n",
       "75%      100.000000\n",
       "max      100.000000\n",
       "Name: internet, dtype: float64"
      ]
     },
     "metadata": {},
     "output_type": "display_data"
    },
    {
     "data": {
      "image/png": "[encoded data removed]",
      "text/plain": [
       "<Figure size 432x288 with 1 Axes>"
      ]
     },
     "metadata": {
      "needs_background": "light"
     },
     "output_type": "display_data"
    }
   ],
   "source": [
    "df2['internet'] = df2['internet'].map({'yes': 100,\n",
    "                                       'no': 85})\n",
    "\n",
    "df2['internet'] = df2['internet'].fillna(92.5)\n",
    "statusCounts(df2['internet'])"
   ]
  },
  {
   "cell_type": "code",
   "execution_count": 63,
   "metadata": {},
   "outputs": [
    {
     "name": "stdout",
     "output_type": "stream",
     "text": [
      "Статистика по : welfare\n",
      "Всего : 395\n",
      "Уникальных : 363\n",
      "Сумма уникальных : 395\n",
      "Пустых : 0\n"
     ]
    },
    {
     "data": {
      "text/plain": [
       "1682.575    3\n",
       "1678.965    3\n",
       "1687.500    3\n",
       "1689.900    3\n",
       "1683.900    3\n",
       "           ..\n",
       "1686.660    1\n",
       "1687.670    1\n",
       "1683.090    1\n",
       "1669.290    1\n",
       "1680.465    1\n",
       "Name: welfare, Length: 363, dtype: int64"
      ]
     },
     "metadata": {},
     "output_type": "display_data"
    },
    {
     "data": {
      "text/plain": [
       "count     395.000000\n",
       "mean     1671.741304\n",
       "std        22.090372\n",
       "min      1579.770000\n",
       "25%      1659.322500\n",
       "50%      1680.165000\n",
       "75%      1686.667500\n",
       "max      1696.975000\n",
       "Name: welfare, dtype: float64"
      ]
     },
     "metadata": {},
     "output_type": "display_data"
    },
    {
     "data": {
      "image/png": "[encoded data removed]",
      "text/plain": [
       "<Figure size 432x288 with 1 Axes>"
      ]
     },
     "metadata": {
      "needs_background": "light"
     },
     "output_type": "display_data"
    }
   ],
   "source": [
    "df2['welfare'] += df2['higher']\n",
    "statusCounts(df2['welfare'])"
   ]
  },
  {
   "cell_type": "code",
   "execution_count": 64,
   "metadata": {},
   "outputs": [
    {
     "name": "stdout",
     "output_type": "stream",
     "text": [
      "Статистика по : romantic\n",
      "Всего : 395\n",
      "Уникальных : 2\n",
      "Сумма уникальных : 364\n",
      "Пустых : 31\n"
     ]
    },
    {
     "data": {
      "text/plain": [
       "no           240\n",
       "yes          124\n",
       "Undefined     31\n",
       "Name: romantic, dtype: int64"
      ]
     },
     "metadata": {},
     "output_type": "display_data"
    },
    {
     "data": {
      "image/png": "[encoded data removed]",
      "text/plain": [
       "<Figure size 432x288 with 1 Axes>"
      ]
     },
     "metadata": {
      "needs_background": "light"
     },
     "output_type": "display_data"
    }
   ],
   "source": [
    "statusCounts(df['romantic'])"
   ]
  },
  {
   "cell_type": "code",
   "execution_count": 65,
   "metadata": {},
   "outputs": [
    {
     "name": "stdout",
     "output_type": "stream",
     "text": [
      "Статистика по : romantic\n",
      "Всего : 395\n",
      "Уникальных : 3\n",
      "Сумма уникальных : 395\n",
      "Пустых : 0\n"
     ]
    },
    {
     "data": {
      "text/plain": [
       "100.0    240\n",
       "95.0     124\n",
       "97.5      31\n",
       "Name: romantic, dtype: int64"
      ]
     },
     "metadata": {},
     "output_type": "display_data"
    },
    {
     "data": {
      "text/plain": [
       "count    395.000000\n",
       "mean      98.234177\n",
       "std        2.287734\n",
       "min       95.000000\n",
       "25%       95.000000\n",
       "50%      100.000000\n",
       "75%      100.000000\n",
       "max      100.000000\n",
       "Name: romantic, dtype: float64"
      ]
     },
     "metadata": {},
     "output_type": "display_data"
    },
    {
     "data": {
      "image/png": "[encoded data removed]",
      "text/plain": [
       "<Figure size 432x288 with 1 Axes>"
      ]
     },
     "metadata": {
      "needs_background": "light"
     },
     "output_type": "display_data"
    }
   ],
   "source": [
    "df2['romantic'] = df2['romantic'].map({'yes': 95,\n",
    "                                       'no': 100})\n",
    "\n",
    "df2['romantic'] = df2['romantic'].fillna(97.5)\n",
    "statusCounts(df2['romantic'])"
   ]
  },
  {
   "cell_type": "code",
   "execution_count": 66,
   "metadata": {},
   "outputs": [
    {
     "name": "stdout",
     "output_type": "stream",
     "text": [
      "Статистика по : welfare\n",
      "Всего : 395\n",
      "Уникальных : 359\n",
      "Сумма уникальных : 395\n",
      "Пустых : 0\n"
     ]
    },
    {
     "data": {
      "text/plain": [
       "1778.965    3\n",
       "1778.275    3\n",
       "1787.465    3\n",
       "1786.675    3\n",
       "1787.375    2\n",
       "           ..\n",
       "1776.400    1\n",
       "1779.675    1\n",
       "1788.200    1\n",
       "1769.365    1\n",
       "1719.055    1\n",
       "Name: welfare, Length: 359, dtype: int64"
      ]
     },
     "metadata": {},
     "output_type": "display_data"
    },
    {
     "data": {
      "text/plain": [
       "count     395.000000\n",
       "mean     1769.975481\n",
       "std        22.289585\n",
       "min      1675.770000\n",
       "25%      1757.972500\n",
       "50%      1777.990000\n",
       "75%      1785.370000\n",
       "max      1796.870000\n",
       "Name: welfare, dtype: float64"
      ]
     },
     "metadata": {},
     "output_type": "display_data"
    },
    {
     "data": {
      "image/png": "[encoded data removed]",
      "text/plain": [
       "<Figure size 432x288 with 1 Axes>"
      ]
     },
     "metadata": {
      "needs_background": "light"
     },
     "output_type": "display_data"
    }
   ],
   "source": [
    "df2['welfare'] += df2['romantic']\n",
    "statusCounts(df2['welfare'])"
   ]
  },
  {
   "cell_type": "code",
   "execution_count": 67,
   "metadata": {},
   "outputs": [
    {
     "name": "stdout",
     "output_type": "stream",
     "text": [
      "Статистика по : famrel\n",
      "Всего : 395\n",
      "Уникальных : 6\n",
      "Сумма уникальных : 368\n",
      "Пустых : 27\n"
     ]
    },
    {
     "data": {
      "text/plain": [
       " 4.0    182\n",
       " 5.0     99\n",
       " 3.0     62\n",
       " 2.0     17\n",
       " 1.0      7\n",
       "-1.0      1\n",
       "Name: famrel, dtype: int64"
      ]
     },
     "metadata": {},
     "output_type": "display_data"
    },
    {
     "data": {
      "text/plain": [
       "count    368.000000\n",
       "mean       3.937500\n",
       "std        0.927277\n",
       "min       -1.000000\n",
       "25%        4.000000\n",
       "50%        4.000000\n",
       "75%        5.000000\n",
       "max        5.000000\n",
       "Name: famrel, dtype: float64"
      ]
     },
     "metadata": {},
     "output_type": "display_data"
    },
    {
     "data": {
      "image/png": "[encoded data removed]",
      "text/plain": [
       "<Figure size 432x288 with 1 Axes>"
      ]
     },
     "metadata": {
      "needs_background": "light"
     },
     "output_type": "display_data"
    }
   ],
   "source": [
    "statusCounts(df['famrel'])"
   ]
  },
  {
   "cell_type": "markdown",
   "metadata": {},
   "source": [
    "1 = 92 б\n",
    "\n",
    "2 = 94 б\n",
    "\n",
    "3 = 96 б\n",
    "\n",
    "4 = 98 б\n",
    "\n",
    "5 = 100 б\n",
    "\n",
    "Пропуски 96 б\n"
   ]
  },
  {
   "cell_type": "code",
   "execution_count": 68,
   "metadata": {},
   "outputs": [
    {
     "name": "stdout",
     "output_type": "stream",
     "text": [
      "Статистика по : famrel\n",
      "Всего : 395\n",
      "Уникальных : 4\n",
      "Сумма уникальных : 395\n",
      "Пустых : 0\n"
     ]
    },
    {
     "data": {
      "text/plain": [
       "96.0     271\n",
       "100.0     99\n",
       "94.0      17\n",
       "92.0       8\n",
       "Name: famrel, dtype: int64"
      ]
     },
     "metadata": {},
     "output_type": "display_data"
    },
    {
     "data": {
      "text/plain": [
       "count    395.000000\n",
       "mean      96.835443\n",
       "std        1.953978\n",
       "min       92.000000\n",
       "25%       96.000000\n",
       "50%       96.000000\n",
       "75%       98.000000\n",
       "max      100.000000\n",
       "Name: famrel, dtype: float64"
      ]
     },
     "metadata": {},
     "output_type": "display_data"
    },
    {
     "data": {
      "image/png": "[encoded data removed]",
      "text/plain": [
       "<Figure size 432x288 with 1 Axes>"
      ]
     },
     "metadata": {
      "needs_background": "light"
     },
     "output_type": "display_data"
    }
   ],
   "source": [
    "df2['famrel'] = df2['famrel'].map({1: 92,\n",
    "                                   -1: 92,\n",
    "                                   2: 94,\n",
    "                                   3: 96,\n",
    "                                   4: 96,\n",
    "                                   5: 100\n",
    "                                   })\n",
    "\n",
    "df2['famrel'] = df2['famrel'].fillna(96)\n",
    "statusCounts(df2['famrel'])"
   ]
  },
  {
   "cell_type": "code",
   "execution_count": 69,
   "metadata": {},
   "outputs": [
    {
     "name": "stdout",
     "output_type": "stream",
     "text": [
      "Статистика по : welfare\n",
      "Всего : 395\n",
      "Уникальных : 366\n",
      "Сумма уникальных : 395\n",
      "Пустых : 0\n"
     ]
    },
    {
     "data": {
      "text/plain": [
       "1878.275    3\n",
       "1875.275    3\n",
       "1883.465    3\n",
       "1868.975    2\n",
       "1877.275    2\n",
       "           ..\n",
       "1889.800    1\n",
       "1886.400    1\n",
       "1883.380    1\n",
       "1851.575    1\n",
       "1842.500    1\n",
       "Name: welfare, Length: 366, dtype: int64"
      ]
     },
     "metadata": {},
     "output_type": "display_data"
    },
    {
     "data": {
      "text/plain": [
       "count     395.000000\n",
       "mean     1866.810924\n",
       "std        22.330297\n",
       "min      1775.770000\n",
       "25%      1856.472500\n",
       "50%      1874.945000\n",
       "75%      1881.452500\n",
       "max      1896.575000\n",
       "Name: welfare, dtype: float64"
      ]
     },
     "metadata": {},
     "output_type": "display_data"
    },
    {
     "data": {
      "image/png": "[encoded data removed]",
      "text/plain": [
       "<Figure size 432x288 with 1 Axes>"
      ]
     },
     "metadata": {
      "needs_background": "light"
     },
     "output_type": "display_data"
    }
   ],
   "source": [
    "df2['welfare'] += df2['famrel']\n",
    "statusCounts(df2['welfare'])"
   ]
  },
  {
   "cell_type": "code",
   "execution_count": 70,
   "metadata": {},
   "outputs": [
    {
     "name": "stdout",
     "output_type": "stream",
     "text": [
      "Статистика по : freetime\n",
      "Всего : 395\n",
      "Уникальных : 5\n",
      "Сумма уникальных : 384\n",
      "Пустых : 11\n"
     ]
    },
    {
     "data": {
      "text/plain": [
       "3.0    153\n",
       "4.0    112\n",
       "2.0     63\n",
       "5.0     38\n",
       "1.0     18\n",
       "Name: freetime, dtype: int64"
      ]
     },
     "metadata": {},
     "output_type": "display_data"
    },
    {
     "data": {
      "text/plain": [
       "count    384.000000\n",
       "mean       3.231771\n",
       "std        0.993940\n",
       "min        1.000000\n",
       "25%        3.000000\n",
       "50%        3.000000\n",
       "75%        4.000000\n",
       "max        5.000000\n",
       "Name: freetime, dtype: float64"
      ]
     },
     "metadata": {},
     "output_type": "display_data"
    },
    {
     "data": {
      "image/png": "[encoded data removed]",
      "text/plain": [
       "<Figure size 432x288 with 1 Axes>"
      ]
     },
     "metadata": {
      "needs_background": "light"
     },
     "output_type": "display_data"
    }
   ],
   "source": [
    "statusCounts(df['freetime'])"
   ]
  },
  {
   "cell_type": "markdown",
   "metadata": {},
   "source": [
    "Сложно зделать вывод ... Если связать с другими данными, можно было бы..."
   ]
  },
  {
   "cell_type": "code",
   "execution_count": 71,
   "metadata": {},
   "outputs": [
    {
     "name": "stdout",
     "output_type": "stream",
     "text": [
      "Статистика по : goout\n",
      "Всего : 395\n",
      "Уникальных : 5\n",
      "Сумма уникальных : 387\n",
      "Пустых : 8\n"
     ]
    },
    {
     "data": {
      "text/plain": [
       "3.0    127\n",
       "2.0    101\n",
       "4.0     84\n",
       "5.0     52\n",
       "1.0     23\n",
       "Name: goout, dtype: int64"
      ]
     },
     "metadata": {},
     "output_type": "display_data"
    },
    {
     "data": {
      "text/plain": [
       "count    387.000000\n",
       "mean       3.105943\n",
       "std        1.115896\n",
       "min        1.000000\n",
       "25%        2.000000\n",
       "50%        3.000000\n",
       "75%        4.000000\n",
       "max        5.000000\n",
       "Name: goout, dtype: float64"
      ]
     },
     "metadata": {},
     "output_type": "display_data"
    },
    {
     "data": {
      "image/png": "[encoded data removed]",
      "text/plain": [
       "<Figure size 432x288 with 1 Axes>"
      ]
     },
     "metadata": {
      "needs_background": "light"
     },
     "output_type": "display_data"
    }
   ],
   "source": [
    "statusCounts(df['goout'])"
   ]
  },
  {
   "cell_type": "markdown",
   "metadata": {},
   "source": [
    "Сложно зделать вывод ... Если связать с другими данными, можно было бы..."
   ]
  },
  {
   "cell_type": "code",
   "execution_count": 72,
   "metadata": {},
   "outputs": [
    {
     "name": "stdout",
     "output_type": "stream",
     "text": [
      "Статистика по : health\n",
      "Всего : 395\n",
      "Уникальных : 5\n",
      "Сумма уникальных : 380\n",
      "Пустых : 15\n"
     ]
    },
    {
     "data": {
      "text/plain": [
       "5.0    138\n",
       "3.0     89\n",
       "4.0     63\n",
       "1.0     47\n",
       "2.0     43\n",
       "Name: health, dtype: int64"
      ]
     },
     "metadata": {},
     "output_type": "display_data"
    },
    {
     "data": {
      "text/plain": [
       "count    380.000000\n",
       "mean       3.531579\n",
       "std        1.396019\n",
       "min        1.000000\n",
       "25%        3.000000\n",
       "50%        4.000000\n",
       "75%        5.000000\n",
       "max        5.000000\n",
       "Name: health, dtype: float64"
      ]
     },
     "metadata": {},
     "output_type": "display_data"
    },
    {
     "data": {
      "image/png": "[encoded data removed]",
      "text/plain": [
       "<Figure size 432x288 with 1 Axes>"
      ]
     },
     "metadata": {
      "needs_background": "light"
     },
     "output_type": "display_data"
    }
   ],
   "source": [
    "statusCounts(df['health'])"
   ]
  },
  {
   "cell_type": "markdown",
   "metadata": {},
   "source": [
    "1 = 98 б\n",
    "\n",
    "2 = 98.5 б\n",
    "\n",
    "3 = 99 б\n",
    "\n",
    "4 = 99.5 б\n",
    "\n",
    "5 = 100 б\n",
    "\n",
    "Пропуски 99 б\n"
   ]
  },
  {
   "cell_type": "code",
   "execution_count": 73,
   "metadata": {},
   "outputs": [
    {
     "name": "stdout",
     "output_type": "stream",
     "text": [
      "Статистика по : health\n",
      "Всего : 395\n",
      "Уникальных : 5\n",
      "Сумма уникальных : 395\n",
      "Пустых : 0\n"
     ]
    },
    {
     "data": {
      "text/plain": [
       "100.0    138\n",
       "99.0     104\n",
       "99.5      63\n",
       "98.0      47\n",
       "98.5      43\n",
       "Name: health, dtype: int64"
      ]
     },
     "metadata": {},
     "output_type": "display_data"
    },
    {
     "data": {
      "text/plain": [
       "count    395.000000\n",
       "mean      99.255696\n",
       "std        0.686481\n",
       "min       98.000000\n",
       "25%       99.000000\n",
       "50%       99.500000\n",
       "75%      100.000000\n",
       "max      100.000000\n",
       "Name: health, dtype: float64"
      ]
     },
     "metadata": {},
     "output_type": "display_data"
    },
    {
     "data": {
      "image/png": "[encoded data removed]",
      "text/plain": [
       "<Figure size 432x288 with 1 Axes>"
      ]
     },
     "metadata": {
      "needs_background": "light"
     },
     "output_type": "display_data"
    }
   ],
   "source": [
    "df2['health'] = df2['health'].map({1: 98,\n",
    "                                   2: 98.5,\n",
    "                                   3: 99,\n",
    "                                   4: 99.5,\n",
    "                                   5: 100\n",
    "                                   })\n",
    "\n",
    "df2['health'] = df2['health'].fillna(99)\n",
    "statusCounts(df2['health'])"
   ]
  },
  {
   "cell_type": "code",
   "execution_count": 74,
   "metadata": {},
   "outputs": [
    {
     "name": "stdout",
     "output_type": "stream",
     "text": [
      "Статистика по : welfare\n",
      "Всего : 395\n",
      "Уникальных : 369\n",
      "Сумма уникальных : 395\n",
      "Пустых : 0\n"
     ]
    },
    {
     "data": {
      "text/plain": [
       "1976.775    3\n",
       "1977.575    3\n",
       "1974.400    3\n",
       "1979.790    2\n",
       "1981.300    2\n",
       "           ..\n",
       "1953.675    1\n",
       "1984.175    1\n",
       "1985.100    1\n",
       "1937.965    1\n",
       "1953.665    1\n",
       "Name: welfare, Length: 369, dtype: int64"
      ]
     },
     "metadata": {},
     "output_type": "display_data"
    },
    {
     "data": {
      "text/plain": [
       "count     395.000000\n",
       "mean     1966.066620\n",
       "std        22.312492\n",
       "min      1873.770000\n",
       "25%      1955.722500\n",
       "50%      1973.965000\n",
       "75%      1980.820000\n",
       "max      1995.575000\n",
       "Name: welfare, dtype: float64"
      ]
     },
     "metadata": {},
     "output_type": "display_data"
    },
    {
     "data": {
      "image/png": "[encoded data removed]",
      "text/plain": [
       "<Figure size 432x288 with 1 Axes>"
      ]
     },
     "metadata": {
      "needs_background": "light"
     },
     "output_type": "display_data"
    }
   ],
   "source": [
    "df2['welfare'] += df2['health']\n",
    "statusCounts(df2['welfare'])"
   ]
  },
  {
   "cell_type": "code",
   "execution_count": 75,
   "metadata": {},
   "outputs": [
    {
     "name": "stdout",
     "output_type": "stream",
     "text": [
      "Статистика по : absences\n",
      "Всего : 395\n",
      "Уникальных : 36\n",
      "Сумма уникальных : 383\n",
      "Пустых : 12\n"
     ]
    },
    {
     "data": {
      "text/plain": [
       "0.0      111\n",
       "2.0       60\n",
       "4.0       53\n",
       "6.0       31\n",
       "8.0       21\n",
       "10.0      17\n",
       "14.0      12\n",
       "12.0      12\n",
       "3.0        8\n",
       "16.0       7\n",
       "7.0        6\n",
       "18.0       5\n",
       "5.0        5\n",
       "20.0       4\n",
       "9.0        3\n",
       "22.0       3\n",
       "1.0        3\n",
       "13.0       2\n",
       "15.0       2\n",
       "11.0       2\n",
       "40.0       1\n",
       "38.0       1\n",
       "56.0       1\n",
       "23.0       1\n",
       "24.0       1\n",
       "25.0       1\n",
       "385.0      1\n",
       "17.0       1\n",
       "75.0       1\n",
       "21.0       1\n",
       "212.0      1\n",
       "28.0       1\n",
       "19.0       1\n",
       "26.0       1\n",
       "30.0       1\n",
       "54.0       1\n",
       "Name: absences, dtype: int64"
      ]
     },
     "metadata": {},
     "output_type": "display_data"
    },
    {
     "data": {
      "text/plain": [
       "count    383.000000\n",
       "mean       7.279373\n",
       "std       23.465197\n",
       "min        0.000000\n",
       "25%        0.000000\n",
       "50%        4.000000\n",
       "75%        8.000000\n",
       "max      385.000000\n",
       "Name: absences, dtype: float64"
      ]
     },
     "metadata": {},
     "output_type": "display_data"
    },
    {
     "data": {
      "image/png": "[encoded data removed]",
      "text/plain": [
       "<Figure size 432x288 with 1 Axes>"
      ]
     },
     "metadata": {
      "needs_background": "light"
     },
     "output_type": "display_data"
    }
   ],
   "source": [
    "statusCounts(df['absences'])"
   ]
  },
  {
   "cell_type": "markdown",
   "metadata": {},
   "source": [
    "Пасс..."
   ]
  },
  {
   "cell_type": "code",
   "execution_count": 76,
   "metadata": {},
   "outputs": [
    {
     "name": "stdout",
     "output_type": "stream",
     "text": [
      "Статистика по : score\n",
      "Всего : 395\n",
      "Уникальных : 18\n",
      "Сумма уникальных : 389\n",
      "Пустых : 6\n"
     ]
    },
    {
     "data": {
      "text/plain": [
       "50.0     54\n",
       "55.0     46\n",
       "0.0      37\n",
       "75.0     33\n",
       "65.0     31\n",
       "60.0     31\n",
       "40.0     31\n",
       "45.0     27\n",
       "70.0     27\n",
       "80.0     16\n",
       "30.0     15\n",
       "90.0     12\n",
       "35.0      9\n",
       "25.0      7\n",
       "85.0      6\n",
       "95.0      5\n",
       "20.0      1\n",
       "100.0     1\n",
       "Name: score, dtype: int64"
      ]
     },
     "metadata": {},
     "output_type": "display_data"
    },
    {
     "data": {
      "text/plain": [
       "count    389.000000\n",
       "mean      52.262211\n",
       "std       22.919022\n",
       "min        0.000000\n",
       "25%       40.000000\n",
       "50%       55.000000\n",
       "75%       70.000000\n",
       "max      100.000000\n",
       "Name: score, dtype: float64"
      ]
     },
     "metadata": {},
     "output_type": "display_data"
    },
    {
     "data": {
      "image/png": "[encoded data removed]",
      "text/plain": [
       "<Figure size 432x288 with 1 Axes>"
      ]
     },
     "metadata": {
      "needs_background": "light"
     },
     "output_type": "display_data"
    }
   ],
   "source": [
    "statusCounts(df['score'])"
   ]
  },
  {
   "cell_type": "code",
   "execution_count": 77,
   "metadata": {},
   "outputs": [
    {
     "data": {
      "text/html": [
       "<div>\n",
       "<style scoped>\n",
       "    .dataframe tbody tr th:only-of-type {\n",
       "        vertical-align: middle;\n",
       "    }\n",
       "\n",
       "    .dataframe tbody tr th {\n",
       "        vertical-align: top;\n",
       "    }\n",
       "\n",
       "    .dataframe thead th {\n",
       "        text-align: right;\n",
       "    }\n",
       "</style>\n",
       "<table border=\"1\" class=\"dataframe\">\n",
       "  <thead>\n",
       "    <tr style=\"text-align: right;\">\n",
       "      <th></th>\n",
       "      <th>score</th>\n",
       "      <th>welfare</th>\n",
       "    </tr>\n",
       "  </thead>\n",
       "  <tbody>\n",
       "    <tr>\n",
       "      <th>score</th>\n",
       "      <td>1.000000</td>\n",
       "      <td>0.175628</td>\n",
       "    </tr>\n",
       "    <tr>\n",
       "      <th>welfare</th>\n",
       "      <td>0.175628</td>\n",
       "      <td>1.000000</td>\n",
       "    </tr>\n",
       "  </tbody>\n",
       "</table>\n",
       "</div>"
      ],
      "text/plain": [
       "            score   welfare\n",
       "score    1.000000  0.175628\n",
       "welfare  0.175628  1.000000"
      ]
     },
     "execution_count": 77,
     "metadata": {},
     "output_type": "execute_result"
    }
   ],
   "source": [
    "df2[['score', 'welfare']].corr()"
   ]
  },
  {
   "cell_type": "markdown",
   "metadata": {},
   "source": [
    "Маленькая взаимосвязь вроде есть))"
   ]
  },
  {
   "cell_type": "code",
   "execution_count": 78,
   "metadata": {},
   "outputs": [
    {
     "name": "stdout",
     "output_type": "stream",
     "text": [
      "Статистика по : welfare\n",
      "Всего : 395\n",
      "Уникальных : 369\n",
      "Сумма уникальных : 395\n",
      "Пустых : 0\n"
     ]
    },
    {
     "data": {
      "text/plain": [
       "1976.775    3\n",
       "1977.575    3\n",
       "1974.400    3\n",
       "1979.790    2\n",
       "1981.300    2\n",
       "           ..\n",
       "1953.675    1\n",
       "1984.175    1\n",
       "1985.100    1\n",
       "1937.965    1\n",
       "1953.665    1\n",
       "Name: welfare, Length: 369, dtype: int64"
      ]
     },
     "metadata": {},
     "output_type": "display_data"
    },
    {
     "data": {
      "text/plain": [
       "count     395.000000\n",
       "mean     1966.066620\n",
       "std        22.312492\n",
       "min      1873.770000\n",
       "25%      1955.722500\n",
       "50%      1973.965000\n",
       "75%      1980.820000\n",
       "max      1995.575000\n",
       "Name: welfare, dtype: float64"
      ]
     },
     "metadata": {},
     "output_type": "display_data"
    },
    {
     "data": {
      "image/png": "[encoded data removed]",
      "text/plain": [
       "<Figure size 432x288 with 1 Axes>"
      ]
     },
     "metadata": {
      "needs_background": "light"
     },
     "output_type": "display_data"
    }
   ],
   "source": [
    "statusCounts(df2['welfare'])"
   ]
  },
  {
   "cell_type": "code",
   "execution_count": 79,
   "metadata": {},
   "outputs": [],
   "source": [
    "IQR = df2['welfare'].quantile(q=0.75) - df2['welfare'].quantile(0.25)\n",
    "perc25 = df2['welfare'].quantile(0.25)\n",
    "perc75 = df2['welfare'].quantile(0.75)\n",
    "high_border = perc75 + 1.5*IQR\n",
    "low_border = perc25 - 1.5*IQR\n",
    "\n",
    "df2 = df2[(df2['welfare'] > perc25) & (df2['welfare'] < perc75)]"
   ]
  },
  {
   "cell_type": "code",
   "execution_count": 80,
   "metadata": {},
   "outputs": [
    {
     "name": "stdout",
     "output_type": "stream",
     "text": [
      "Статистика по : welfare\n",
      "Всего : 197\n",
      "Уникальных : 180\n",
      "Сумма уникальных : 197\n",
      "Пустых : 0\n"
     ]
    },
    {
     "data": {
      "text/plain": [
       "1974.400    3\n",
       "1976.775    3\n",
       "1977.575    3\n",
       "1972.375    2\n",
       "1973.965    2\n",
       "           ..\n",
       "1973.480    1\n",
       "1964.775    1\n",
       "1970.380    1\n",
       "1971.200    1\n",
       "1957.680    1\n",
       "Name: welfare, Length: 180, dtype: int64"
      ]
     },
     "metadata": {},
     "output_type": "display_data"
    },
    {
     "data": {
      "text/plain": [
       "count     197.000000\n",
       "mean     1972.740685\n",
       "std         6.012991\n",
       "min      1955.775000\n",
       "25%      1969.170000\n",
       "50%      1973.965000\n",
       "75%      1977.275000\n",
       "max      1980.775000\n",
       "Name: welfare, dtype: float64"
      ]
     },
     "metadata": {},
     "output_type": "display_data"
    },
    {
     "data": {
      "image/png": "[encoded data removed]",
      "text/plain": [
       "<Figure size 432x288 with 1 Axes>"
      ]
     },
     "metadata": {
      "needs_background": "light"
     },
     "output_type": "display_data"
    }
   ],
   "source": [
    "statusCounts(df2['welfare'])"
   ]
  },
  {
   "cell_type": "code",
   "execution_count": 81,
   "metadata": {},
   "outputs": [
    {
     "data": {
      "text/html": [
       "<div>\n",
       "<style scoped>\n",
       "    .dataframe tbody tr th:only-of-type {\n",
       "        vertical-align: middle;\n",
       "    }\n",
       "\n",
       "    .dataframe tbody tr th {\n",
       "        vertical-align: top;\n",
       "    }\n",
       "\n",
       "    .dataframe thead th {\n",
       "        text-align: right;\n",
       "    }\n",
       "</style>\n",
       "<table border=\"1\" class=\"dataframe\">\n",
       "  <thead>\n",
       "    <tr style=\"text-align: right;\">\n",
       "      <th></th>\n",
       "      <th>score</th>\n",
       "      <th>welfare</th>\n",
       "    </tr>\n",
       "  </thead>\n",
       "  <tbody>\n",
       "    <tr>\n",
       "      <th>score</th>\n",
       "      <td>1.000000</td>\n",
       "      <td>-0.039765</td>\n",
       "    </tr>\n",
       "    <tr>\n",
       "      <th>welfare</th>\n",
       "      <td>-0.039765</td>\n",
       "      <td>1.000000</td>\n",
       "    </tr>\n",
       "  </tbody>\n",
       "</table>\n",
       "</div>"
      ],
      "text/plain": [
       "            score   welfare\n",
       "score    1.000000 -0.039765\n",
       "welfare -0.039765  1.000000"
      ]
     },
     "execution_count": 81,
     "metadata": {},
     "output_type": "execute_result"
    }
   ],
   "source": [
    "df2[['score', 'welfare']].corr()"
   ]
  },
  {
   "cell_type": "code",
   "execution_count": 82,
   "metadata": {
    "scrolled": true
   },
   "outputs": [
    {
     "data": {
      "text/html": [
       "<div>\n",
       "<style scoped>\n",
       "    .dataframe tbody tr th:only-of-type {\n",
       "        vertical-align: middle;\n",
       "    }\n",
       "\n",
       "    .dataframe tbody tr th {\n",
       "        vertical-align: top;\n",
       "    }\n",
       "\n",
       "    .dataframe thead th {\n",
       "        text-align: right;\n",
       "    }\n",
       "</style>\n",
       "<table border=\"1\" class=\"dataframe\">\n",
       "  <thead>\n",
       "    <tr style=\"text-align: right;\">\n",
       "      <th></th>\n",
       "      <th>age</th>\n",
       "      <th>address</th>\n",
       "      <th>famsize</th>\n",
       "      <th>Pstatus</th>\n",
       "      <th>Medu</th>\n",
       "      <th>Fedu</th>\n",
       "      <th>Mjob</th>\n",
       "      <th>Fjob</th>\n",
       "      <th>reason</th>\n",
       "      <th>traveltime</th>\n",
       "      <th>...</th>\n",
       "      <th>higher</th>\n",
       "      <th>internet</th>\n",
       "      <th>romantic</th>\n",
       "      <th>famrel</th>\n",
       "      <th>freetime</th>\n",
       "      <th>goout</th>\n",
       "      <th>health</th>\n",
       "      <th>absences</th>\n",
       "      <th>score</th>\n",
       "      <th>welfare</th>\n",
       "    </tr>\n",
       "  </thead>\n",
       "  <tbody>\n",
       "    <tr>\n",
       "      <th>age</th>\n",
       "      <td>1.000000</td>\n",
       "      <td>-0.120745</td>\n",
       "      <td>-0.002838</td>\n",
       "      <td>0.000098</td>\n",
       "      <td>-0.122291</td>\n",
       "      <td>-0.109508</td>\n",
       "      <td>-0.087189</td>\n",
       "      <td>-0.154602</td>\n",
       "      <td>-0.097002</td>\n",
       "      <td>-0.066381</td>\n",
       "      <td>...</td>\n",
       "      <td>0.097639</td>\n",
       "      <td>-0.090908</td>\n",
       "      <td>-0.090099</td>\n",
       "      <td>0.040616</td>\n",
       "      <td>-0.107843</td>\n",
       "      <td>0.134138</td>\n",
       "      <td>-0.018422</td>\n",
       "      <td>0.026996</td>\n",
       "      <td>-0.117076</td>\n",
       "      <td>-0.070727</td>\n",
       "    </tr>\n",
       "    <tr>\n",
       "      <th>address</th>\n",
       "      <td>-0.120745</td>\n",
       "      <td>1.000000</td>\n",
       "      <td>-0.141385</td>\n",
       "      <td>-0.069652</td>\n",
       "      <td>0.138175</td>\n",
       "      <td>0.043130</td>\n",
       "      <td>0.021840</td>\n",
       "      <td>0.011943</td>\n",
       "      <td>-0.087443</td>\n",
       "      <td>0.315345</td>\n",
       "      <td>...</td>\n",
       "      <td>-0.042695</td>\n",
       "      <td>0.144694</td>\n",
       "      <td>-0.015652</td>\n",
       "      <td>-0.050140</td>\n",
       "      <td>-0.038820</td>\n",
       "      <td>-0.045198</td>\n",
       "      <td>-0.064817</td>\n",
       "      <td>0.030810</td>\n",
       "      <td>0.182002</td>\n",
       "      <td>0.107706</td>\n",
       "    </tr>\n",
       "    <tr>\n",
       "      <th>famsize</th>\n",
       "      <td>-0.002838</td>\n",
       "      <td>-0.141385</td>\n",
       "      <td>1.000000</td>\n",
       "      <td>0.086215</td>\n",
       "      <td>0.064752</td>\n",
       "      <td>0.054094</td>\n",
       "      <td>-0.069374</td>\n",
       "      <td>0.086974</td>\n",
       "      <td>-0.042227</td>\n",
       "      <td>-0.072217</td>\n",
       "      <td>...</td>\n",
       "      <td>-0.050983</td>\n",
       "      <td>0.018712</td>\n",
       "      <td>0.019068</td>\n",
       "      <td>0.111078</td>\n",
       "      <td>-0.010627</td>\n",
       "      <td>-0.007319</td>\n",
       "      <td>0.021961</td>\n",
       "      <td>0.036975</td>\n",
       "      <td>-0.089128</td>\n",
       "      <td>0.007650</td>\n",
       "    </tr>\n",
       "    <tr>\n",
       "      <th>Pstatus</th>\n",
       "      <td>0.000098</td>\n",
       "      <td>-0.069652</td>\n",
       "      <td>0.086215</td>\n",
       "      <td>1.000000</td>\n",
       "      <td>-0.103954</td>\n",
       "      <td>-0.058442</td>\n",
       "      <td>-0.004661</td>\n",
       "      <td>-0.084366</td>\n",
       "      <td>0.133604</td>\n",
       "      <td>-0.013171</td>\n",
       "      <td>...</td>\n",
       "      <td>-0.034402</td>\n",
       "      <td>0.015429</td>\n",
       "      <td>0.005172</td>\n",
       "      <td>-0.004372</td>\n",
       "      <td>0.029695</td>\n",
       "      <td>-0.021787</td>\n",
       "      <td>-0.019011</td>\n",
       "      <td>-0.013079</td>\n",
       "      <td>-0.132519</td>\n",
       "      <td>-0.012277</td>\n",
       "    </tr>\n",
       "    <tr>\n",
       "      <th>Medu</th>\n",
       "      <td>-0.122291</td>\n",
       "      <td>0.138175</td>\n",
       "      <td>0.064752</td>\n",
       "      <td>-0.103954</td>\n",
       "      <td>1.000000</td>\n",
       "      <td>0.607611</td>\n",
       "      <td>0.454388</td>\n",
       "      <td>0.286939</td>\n",
       "      <td>-0.013725</td>\n",
       "      <td>0.174122</td>\n",
       "      <td>...</td>\n",
       "      <td>-0.073754</td>\n",
       "      <td>0.173481</td>\n",
       "      <td>-0.125965</td>\n",
       "      <td>-0.010493</td>\n",
       "      <td>0.039522</td>\n",
       "      <td>0.026879</td>\n",
       "      <td>-0.032321</td>\n",
       "      <td>0.005997</td>\n",
       "      <td>0.230596</td>\n",
       "      <td>0.184058</td>\n",
       "    </tr>\n",
       "    <tr>\n",
       "      <th>Fedu</th>\n",
       "      <td>-0.109508</td>\n",
       "      <td>0.043130</td>\n",
       "      <td>0.054094</td>\n",
       "      <td>-0.058442</td>\n",
       "      <td>0.607611</td>\n",
       "      <td>1.000000</td>\n",
       "      <td>0.206264</td>\n",
       "      <td>0.337585</td>\n",
       "      <td>0.026083</td>\n",
       "      <td>0.026055</td>\n",
       "      <td>...</td>\n",
       "      <td>-0.032057</td>\n",
       "      <td>0.083744</td>\n",
       "      <td>-0.085945</td>\n",
       "      <td>-0.101371</td>\n",
       "      <td>0.016429</td>\n",
       "      <td>0.011236</td>\n",
       "      <td>-0.038869</td>\n",
       "      <td>0.057966</td>\n",
       "      <td>0.114847</td>\n",
       "      <td>0.165235</td>\n",
       "    </tr>\n",
       "    <tr>\n",
       "      <th>Mjob</th>\n",
       "      <td>-0.087189</td>\n",
       "      <td>0.021840</td>\n",
       "      <td>-0.069374</td>\n",
       "      <td>-0.004661</td>\n",
       "      <td>0.454388</td>\n",
       "      <td>0.206264</td>\n",
       "      <td>1.000000</td>\n",
       "      <td>0.115468</td>\n",
       "      <td>-0.055108</td>\n",
       "      <td>0.079485</td>\n",
       "      <td>...</td>\n",
       "      <td>-0.143147</td>\n",
       "      <td>0.312537</td>\n",
       "      <td>-0.053825</td>\n",
       "      <td>-0.065439</td>\n",
       "      <td>0.120205</td>\n",
       "      <td>-0.074993</td>\n",
       "      <td>0.069414</td>\n",
       "      <td>0.006669</td>\n",
       "      <td>0.204108</td>\n",
       "      <td>-0.039891</td>\n",
       "    </tr>\n",
       "    <tr>\n",
       "      <th>Fjob</th>\n",
       "      <td>-0.154602</td>\n",
       "      <td>0.011943</td>\n",
       "      <td>0.086974</td>\n",
       "      <td>-0.084366</td>\n",
       "      <td>0.286939</td>\n",
       "      <td>0.337585</td>\n",
       "      <td>0.115468</td>\n",
       "      <td>1.000000</td>\n",
       "      <td>0.065114</td>\n",
       "      <td>-0.023793</td>\n",
       "      <td>...</td>\n",
       "      <td>0.044426</td>\n",
       "      <td>-0.104508</td>\n",
       "      <td>0.013997</td>\n",
       "      <td>-0.085394</td>\n",
       "      <td>0.001621</td>\n",
       "      <td>0.001284</td>\n",
       "      <td>0.053792</td>\n",
       "      <td>0.203770</td>\n",
       "      <td>0.123496</td>\n",
       "      <td>0.218006</td>\n",
       "    </tr>\n",
       "    <tr>\n",
       "      <th>reason</th>\n",
       "      <td>-0.097002</td>\n",
       "      <td>-0.087443</td>\n",
       "      <td>-0.042227</td>\n",
       "      <td>0.133604</td>\n",
       "      <td>-0.013725</td>\n",
       "      <td>0.026083</td>\n",
       "      <td>-0.055108</td>\n",
       "      <td>0.065114</td>\n",
       "      <td>1.000000</td>\n",
       "      <td>-0.009534</td>\n",
       "      <td>...</td>\n",
       "      <td>-0.077325</td>\n",
       "      <td>-0.084307</td>\n",
       "      <td>-0.027927</td>\n",
       "      <td>-0.080209</td>\n",
       "      <td>0.088928</td>\n",
       "      <td>-0.019514</td>\n",
       "      <td>0.136041</td>\n",
       "      <td>-0.010355</td>\n",
       "      <td>0.028314</td>\n",
       "      <td>0.114442</td>\n",
       "    </tr>\n",
       "    <tr>\n",
       "      <th>traveltime</th>\n",
       "      <td>-0.066381</td>\n",
       "      <td>0.315345</td>\n",
       "      <td>-0.072217</td>\n",
       "      <td>-0.013171</td>\n",
       "      <td>0.174122</td>\n",
       "      <td>0.026055</td>\n",
       "      <td>0.079485</td>\n",
       "      <td>-0.023793</td>\n",
       "      <td>-0.009534</td>\n",
       "      <td>1.000000</td>\n",
       "      <td>...</td>\n",
       "      <td>0.102848</td>\n",
       "      <td>0.098922</td>\n",
       "      <td>-0.099658</td>\n",
       "      <td>0.068842</td>\n",
       "      <td>0.064455</td>\n",
       "      <td>-0.035656</td>\n",
       "      <td>-0.097209</td>\n",
       "      <td>0.051258</td>\n",
       "      <td>0.120353</td>\n",
       "      <td>0.175140</td>\n",
       "    </tr>\n",
       "    <tr>\n",
       "      <th>studytime</th>\n",
       "      <td>0.083859</td>\n",
       "      <td>-0.048934</td>\n",
       "      <td>0.071804</td>\n",
       "      <td>0.002357</td>\n",
       "      <td>0.008268</td>\n",
       "      <td>-0.022356</td>\n",
       "      <td>-0.126301</td>\n",
       "      <td>-0.046298</td>\n",
       "      <td>0.035827</td>\n",
       "      <td>0.070746</td>\n",
       "      <td>...</td>\n",
       "      <td>-0.073328</td>\n",
       "      <td>0.098177</td>\n",
       "      <td>-0.270710</td>\n",
       "      <td>-0.072981</td>\n",
       "      <td>-0.066322</td>\n",
       "      <td>0.047424</td>\n",
       "      <td>-0.126882</td>\n",
       "      <td>0.001703</td>\n",
       "      <td>-0.025762</td>\n",
       "      <td>0.095141</td>\n",
       "    </tr>\n",
       "    <tr>\n",
       "      <th>failures</th>\n",
       "      <td>0.076595</td>\n",
       "      <td>-0.089621</td>\n",
       "      <td>0.043338</td>\n",
       "      <td>0.051989</td>\n",
       "      <td>-0.122111</td>\n",
       "      <td>-0.225077</td>\n",
       "      <td>-0.070901</td>\n",
       "      <td>-0.063845</td>\n",
       "      <td>-0.034232</td>\n",
       "      <td>-0.063386</td>\n",
       "      <td>...</td>\n",
       "      <td>0.034391</td>\n",
       "      <td>0.055939</td>\n",
       "      <td>-0.031686</td>\n",
       "      <td>0.024211</td>\n",
       "      <td>0.072981</td>\n",
       "      <td>0.096096</td>\n",
       "      <td>0.106819</td>\n",
       "      <td>-0.000462</td>\n",
       "      <td>-0.370428</td>\n",
       "      <td>-0.091494</td>\n",
       "    </tr>\n",
       "    <tr>\n",
       "      <th>schoolsup</th>\n",
       "      <td>-0.221815</td>\n",
       "      <td>0.093638</td>\n",
       "      <td>-0.010842</td>\n",
       "      <td>-0.011950</td>\n",
       "      <td>-0.058300</td>\n",
       "      <td>0.052034</td>\n",
       "      <td>-0.161660</td>\n",
       "      <td>0.129124</td>\n",
       "      <td>0.065812</td>\n",
       "      <td>0.081374</td>\n",
       "      <td>...</td>\n",
       "      <td>0.027475</td>\n",
       "      <td>-0.060469</td>\n",
       "      <td>0.031050</td>\n",
       "      <td>-0.048830</td>\n",
       "      <td>0.051983</td>\n",
       "      <td>-0.052353</td>\n",
       "      <td>-0.133643</td>\n",
       "      <td>0.183839</td>\n",
       "      <td>-0.019764</td>\n",
       "      <td>0.126715</td>\n",
       "    </tr>\n",
       "    <tr>\n",
       "      <th>famsup</th>\n",
       "      <td>-0.082224</td>\n",
       "      <td>-0.088898</td>\n",
       "      <td>0.127773</td>\n",
       "      <td>-0.018985</td>\n",
       "      <td>0.086335</td>\n",
       "      <td>0.173989</td>\n",
       "      <td>0.047720</td>\n",
       "      <td>0.074594</td>\n",
       "      <td>-0.019573</td>\n",
       "      <td>-0.019148</td>\n",
       "      <td>...</td>\n",
       "      <td>-0.074385</td>\n",
       "      <td>0.027877</td>\n",
       "      <td>-0.075583</td>\n",
       "      <td>-0.136725</td>\n",
       "      <td>-0.012250</td>\n",
       "      <td>-0.028318</td>\n",
       "      <td>0.015376</td>\n",
       "      <td>0.012252</td>\n",
       "      <td>-0.207889</td>\n",
       "      <td>0.205170</td>\n",
       "    </tr>\n",
       "    <tr>\n",
       "      <th>paid</th>\n",
       "      <td>-0.063445</td>\n",
       "      <td>0.025470</td>\n",
       "      <td>0.116829</td>\n",
       "      <td>-0.010594</td>\n",
       "      <td>0.103365</td>\n",
       "      <td>0.024940</td>\n",
       "      <td>0.106844</td>\n",
       "      <td>-0.059859</td>\n",
       "      <td>-0.181193</td>\n",
       "      <td>-0.010980</td>\n",
       "      <td>...</td>\n",
       "      <td>-0.099383</td>\n",
       "      <td>0.197427</td>\n",
       "      <td>-0.163114</td>\n",
       "      <td>-0.047717</td>\n",
       "      <td>-0.087981</td>\n",
       "      <td>0.041156</td>\n",
       "      <td>-0.173780</td>\n",
       "      <td>-0.070685</td>\n",
       "      <td>0.004805</td>\n",
       "      <td>0.137772</td>\n",
       "    </tr>\n",
       "    <tr>\n",
       "      <th>activities</th>\n",
       "      <td>0.012803</td>\n",
       "      <td>-0.043666</td>\n",
       "      <td>0.040165</td>\n",
       "      <td>0.061907</td>\n",
       "      <td>0.085938</td>\n",
       "      <td>0.016342</td>\n",
       "      <td>0.105785</td>\n",
       "      <td>-0.030688</td>\n",
       "      <td>0.181078</td>\n",
       "      <td>0.042862</td>\n",
       "      <td>...</td>\n",
       "      <td>-0.079332</td>\n",
       "      <td>0.042272</td>\n",
       "      <td>-0.071200</td>\n",
       "      <td>-0.034092</td>\n",
       "      <td>0.102649</td>\n",
       "      <td>0.058917</td>\n",
       "      <td>0.070469</td>\n",
       "      <td>-0.061470</td>\n",
       "      <td>-0.023569</td>\n",
       "      <td>0.004300</td>\n",
       "    </tr>\n",
       "    <tr>\n",
       "      <th>nursery</th>\n",
       "      <td>0.032580</td>\n",
       "      <td>0.026510</td>\n",
       "      <td>-0.139940</td>\n",
       "      <td>-0.016607</td>\n",
       "      <td>-0.013400</td>\n",
       "      <td>-0.026015</td>\n",
       "      <td>-0.014992</td>\n",
       "      <td>0.104914</td>\n",
       "      <td>0.157437</td>\n",
       "      <td>0.041883</td>\n",
       "      <td>...</td>\n",
       "      <td>-0.023109</td>\n",
       "      <td>-0.081342</td>\n",
       "      <td>-0.149835</td>\n",
       "      <td>-0.304998</td>\n",
       "      <td>0.054691</td>\n",
       "      <td>0.013266</td>\n",
       "      <td>-0.108420</td>\n",
       "      <td>0.051506</td>\n",
       "      <td>-0.011772</td>\n",
       "      <td>0.661951</td>\n",
       "    </tr>\n",
       "    <tr>\n",
       "      <th>studytime, granular</th>\n",
       "      <td>-0.092921</td>\n",
       "      <td>0.067533</td>\n",
       "      <td>-0.107431</td>\n",
       "      <td>-0.020809</td>\n",
       "      <td>-0.004339</td>\n",
       "      <td>0.010551</td>\n",
       "      <td>0.105328</td>\n",
       "      <td>0.054150</td>\n",
       "      <td>-0.038640</td>\n",
       "      <td>-0.032916</td>\n",
       "      <td>...</td>\n",
       "      <td>0.092954</td>\n",
       "      <td>-0.114842</td>\n",
       "      <td>0.236071</td>\n",
       "      <td>0.024737</td>\n",
       "      <td>0.050690</td>\n",
       "      <td>-0.030052</td>\n",
       "      <td>0.090748</td>\n",
       "      <td>0.027635</td>\n",
       "      <td>0.003524</td>\n",
       "      <td>-0.074195</td>\n",
       "    </tr>\n",
       "    <tr>\n",
       "      <th>higher</th>\n",
       "      <td>0.097639</td>\n",
       "      <td>-0.042695</td>\n",
       "      <td>-0.050983</td>\n",
       "      <td>-0.034402</td>\n",
       "      <td>-0.073754</td>\n",
       "      <td>-0.032057</td>\n",
       "      <td>-0.143147</td>\n",
       "      <td>0.044426</td>\n",
       "      <td>-0.077325</td>\n",
       "      <td>0.102848</td>\n",
       "      <td>...</td>\n",
       "      <td>1.000000</td>\n",
       "      <td>-0.042025</td>\n",
       "      <td>-0.065719</td>\n",
       "      <td>0.024219</td>\n",
       "      <td>0.081463</td>\n",
       "      <td>0.066011</td>\n",
       "      <td>-0.077726</td>\n",
       "      <td>0.015553</td>\n",
       "      <td>-0.008300</td>\n",
       "      <td>0.172157</td>\n",
       "    </tr>\n",
       "    <tr>\n",
       "      <th>internet</th>\n",
       "      <td>-0.090908</td>\n",
       "      <td>0.144694</td>\n",
       "      <td>0.018712</td>\n",
       "      <td>0.015429</td>\n",
       "      <td>0.173481</td>\n",
       "      <td>0.083744</td>\n",
       "      <td>0.312537</td>\n",
       "      <td>-0.104508</td>\n",
       "      <td>-0.084307</td>\n",
       "      <td>0.098922</td>\n",
       "      <td>...</td>\n",
       "      <td>-0.042025</td>\n",
       "      <td>1.000000</td>\n",
       "      <td>-0.118261</td>\n",
       "      <td>0.056259</td>\n",
       "      <td>0.042648</td>\n",
       "      <td>0.035756</td>\n",
       "      <td>-0.164193</td>\n",
       "      <td>0.067717</td>\n",
       "      <td>0.106465</td>\n",
       "      <td>0.031623</td>\n",
       "    </tr>\n",
       "    <tr>\n",
       "      <th>romantic</th>\n",
       "      <td>-0.090099</td>\n",
       "      <td>-0.015652</td>\n",
       "      <td>0.019068</td>\n",
       "      <td>0.005172</td>\n",
       "      <td>-0.125965</td>\n",
       "      <td>-0.085945</td>\n",
       "      <td>-0.053825</td>\n",
       "      <td>0.013997</td>\n",
       "      <td>-0.027927</td>\n",
       "      <td>-0.099658</td>\n",
       "      <td>...</td>\n",
       "      <td>-0.065719</td>\n",
       "      <td>-0.118261</td>\n",
       "      <td>1.000000</td>\n",
       "      <td>0.079947</td>\n",
       "      <td>0.020877</td>\n",
       "      <td>-0.039542</td>\n",
       "      <td>0.010659</td>\n",
       "      <td>0.035739</td>\n",
       "      <td>0.071798</td>\n",
       "      <td>-0.035105</td>\n",
       "    </tr>\n",
       "    <tr>\n",
       "      <th>famrel</th>\n",
       "      <td>0.040616</td>\n",
       "      <td>-0.050140</td>\n",
       "      <td>0.111078</td>\n",
       "      <td>-0.004372</td>\n",
       "      <td>-0.010493</td>\n",
       "      <td>-0.101371</td>\n",
       "      <td>-0.065439</td>\n",
       "      <td>-0.085394</td>\n",
       "      <td>-0.080209</td>\n",
       "      <td>0.068842</td>\n",
       "      <td>...</td>\n",
       "      <td>0.024219</td>\n",
       "      <td>0.056259</td>\n",
       "      <td>0.079947</td>\n",
       "      <td>1.000000</td>\n",
       "      <td>0.078210</td>\n",
       "      <td>0.026355</td>\n",
       "      <td>0.098634</td>\n",
       "      <td>-0.103187</td>\n",
       "      <td>-0.007067</td>\n",
       "      <td>-0.101787</td>\n",
       "    </tr>\n",
       "    <tr>\n",
       "      <th>freetime</th>\n",
       "      <td>-0.107843</td>\n",
       "      <td>-0.038820</td>\n",
       "      <td>-0.010627</td>\n",
       "      <td>0.029695</td>\n",
       "      <td>0.039522</td>\n",
       "      <td>0.016429</td>\n",
       "      <td>0.120205</td>\n",
       "      <td>0.001621</td>\n",
       "      <td>0.088928</td>\n",
       "      <td>0.064455</td>\n",
       "      <td>...</td>\n",
       "      <td>0.081463</td>\n",
       "      <td>0.042648</td>\n",
       "      <td>0.020877</td>\n",
       "      <td>0.078210</td>\n",
       "      <td>1.000000</td>\n",
       "      <td>0.322576</td>\n",
       "      <td>0.012993</td>\n",
       "      <td>-0.021806</td>\n",
       "      <td>0.034785</td>\n",
       "      <td>0.080148</td>\n",
       "    </tr>\n",
       "    <tr>\n",
       "      <th>goout</th>\n",
       "      <td>0.134138</td>\n",
       "      <td>-0.045198</td>\n",
       "      <td>-0.007319</td>\n",
       "      <td>-0.021787</td>\n",
       "      <td>0.026879</td>\n",
       "      <td>0.011236</td>\n",
       "      <td>-0.074993</td>\n",
       "      <td>0.001284</td>\n",
       "      <td>-0.019514</td>\n",
       "      <td>-0.035656</td>\n",
       "      <td>...</td>\n",
       "      <td>0.066011</td>\n",
       "      <td>0.035756</td>\n",
       "      <td>-0.039542</td>\n",
       "      <td>0.026355</td>\n",
       "      <td>0.322576</td>\n",
       "      <td>1.000000</td>\n",
       "      <td>-0.003146</td>\n",
       "      <td>-0.089686</td>\n",
       "      <td>-0.083974</td>\n",
       "      <td>0.047714</td>\n",
       "    </tr>\n",
       "    <tr>\n",
       "      <th>health</th>\n",
       "      <td>-0.018422</td>\n",
       "      <td>-0.064817</td>\n",
       "      <td>0.021961</td>\n",
       "      <td>-0.019011</td>\n",
       "      <td>-0.032321</td>\n",
       "      <td>-0.038869</td>\n",
       "      <td>0.069414</td>\n",
       "      <td>0.053792</td>\n",
       "      <td>0.136041</td>\n",
       "      <td>-0.097209</td>\n",
       "      <td>...</td>\n",
       "      <td>-0.077726</td>\n",
       "      <td>-0.164193</td>\n",
       "      <td>0.010659</td>\n",
       "      <td>0.098634</td>\n",
       "      <td>0.012993</td>\n",
       "      <td>-0.003146</td>\n",
       "      <td>1.000000</td>\n",
       "      <td>-0.046337</td>\n",
       "      <td>-0.107256</td>\n",
       "      <td>-0.162324</td>\n",
       "    </tr>\n",
       "    <tr>\n",
       "      <th>absences</th>\n",
       "      <td>0.026996</td>\n",
       "      <td>0.030810</td>\n",
       "      <td>0.036975</td>\n",
       "      <td>-0.013079</td>\n",
       "      <td>0.005997</td>\n",
       "      <td>0.057966</td>\n",
       "      <td>0.006669</td>\n",
       "      <td>0.203770</td>\n",
       "      <td>-0.010355</td>\n",
       "      <td>0.051258</td>\n",
       "      <td>...</td>\n",
       "      <td>0.015553</td>\n",
       "      <td>0.067717</td>\n",
       "      <td>0.035739</td>\n",
       "      <td>-0.103187</td>\n",
       "      <td>-0.021806</td>\n",
       "      <td>-0.089686</td>\n",
       "      <td>-0.046337</td>\n",
       "      <td>1.000000</td>\n",
       "      <td>0.105153</td>\n",
       "      <td>0.072575</td>\n",
       "    </tr>\n",
       "    <tr>\n",
       "      <th>score</th>\n",
       "      <td>-0.117076</td>\n",
       "      <td>0.182002</td>\n",
       "      <td>-0.089128</td>\n",
       "      <td>-0.132519</td>\n",
       "      <td>0.230596</td>\n",
       "      <td>0.114847</td>\n",
       "      <td>0.204108</td>\n",
       "      <td>0.123496</td>\n",
       "      <td>0.028314</td>\n",
       "      <td>0.120353</td>\n",
       "      <td>...</td>\n",
       "      <td>-0.008300</td>\n",
       "      <td>0.106465</td>\n",
       "      <td>0.071798</td>\n",
       "      <td>-0.007067</td>\n",
       "      <td>0.034785</td>\n",
       "      <td>-0.083974</td>\n",
       "      <td>-0.107256</td>\n",
       "      <td>0.105153</td>\n",
       "      <td>1.000000</td>\n",
       "      <td>-0.039765</td>\n",
       "    </tr>\n",
       "    <tr>\n",
       "      <th>welfare</th>\n",
       "      <td>-0.070727</td>\n",
       "      <td>0.107706</td>\n",
       "      <td>0.007650</td>\n",
       "      <td>-0.012277</td>\n",
       "      <td>0.184058</td>\n",
       "      <td>0.165235</td>\n",
       "      <td>-0.039891</td>\n",
       "      <td>0.218006</td>\n",
       "      <td>0.114442</td>\n",
       "      <td>0.175140</td>\n",
       "      <td>...</td>\n",
       "      <td>0.172157</td>\n",
       "      <td>0.031623</td>\n",
       "      <td>-0.035105</td>\n",
       "      <td>-0.101787</td>\n",
       "      <td>0.080148</td>\n",
       "      <td>0.047714</td>\n",
       "      <td>-0.162324</td>\n",
       "      <td>0.072575</td>\n",
       "      <td>-0.039765</td>\n",
       "      <td>1.000000</td>\n",
       "    </tr>\n",
       "  </tbody>\n",
       "</table>\n",
       "<p>28 rows × 28 columns</p>\n",
       "</div>"
      ],
      "text/plain": [
       "                          age   address   famsize   Pstatus      Medu  \\\n",
       "age                  1.000000 -0.120745 -0.002838  0.000098 -0.122291   \n",
       "address             -0.120745  1.000000 -0.141385 -0.069652  0.138175   \n",
       "famsize             -0.002838 -0.141385  1.000000  0.086215  0.064752   \n",
       "Pstatus              0.000098 -0.069652  0.086215  1.000000 -0.103954   \n",
       "Medu                -0.122291  0.138175  0.064752 -0.103954  1.000000   \n",
       "Fedu                -0.109508  0.043130  0.054094 -0.058442  0.607611   \n",
       "Mjob                -0.087189  0.021840 -0.069374 -0.004661  0.454388   \n",
       "Fjob                -0.154602  0.011943  0.086974 -0.084366  0.286939   \n",
       "reason              -0.097002 -0.087443 -0.042227  0.133604 -0.013725   \n",
       "traveltime          -0.066381  0.315345 -0.072217 -0.013171  0.174122   \n",
       "studytime            0.083859 -0.048934  0.071804  0.002357  0.008268   \n",
       "failures             0.076595 -0.089621  0.043338  0.051989 -0.122111   \n",
       "schoolsup           -0.221815  0.093638 -0.010842 -0.011950 -0.058300   \n",
       "famsup              -0.082224 -0.088898  0.127773 -0.018985  0.086335   \n",
       "paid                -0.063445  0.025470  0.116829 -0.010594  0.103365   \n",
       "activities           0.012803 -0.043666  0.040165  0.061907  0.085938   \n",
       "nursery              0.032580  0.026510 -0.139940 -0.016607 -0.013400   \n",
       "studytime, granular -0.092921  0.067533 -0.107431 -0.020809 -0.004339   \n",
       "higher               0.097639 -0.042695 -0.050983 -0.034402 -0.073754   \n",
       "internet            -0.090908  0.144694  0.018712  0.015429  0.173481   \n",
       "romantic            -0.090099 -0.015652  0.019068  0.005172 -0.125965   \n",
       "famrel               0.040616 -0.050140  0.111078 -0.004372 -0.010493   \n",
       "freetime            -0.107843 -0.038820 -0.010627  0.029695  0.039522   \n",
       "goout                0.134138 -0.045198 -0.007319 -0.021787  0.026879   \n",
       "health              -0.018422 -0.064817  0.021961 -0.019011 -0.032321   \n",
       "absences             0.026996  0.030810  0.036975 -0.013079  0.005997   \n",
       "score               -0.117076  0.182002 -0.089128 -0.132519  0.230596   \n",
       "welfare             -0.070727  0.107706  0.007650 -0.012277  0.184058   \n",
       "\n",
       "                         Fedu      Mjob      Fjob    reason  traveltime  ...  \\\n",
       "age                 -0.109508 -0.087189 -0.154602 -0.097002   -0.066381  ...   \n",
       "address              0.043130  0.021840  0.011943 -0.087443    0.315345  ...   \n",
       "famsize              0.054094 -0.069374  0.086974 -0.042227   -0.072217  ...   \n",
       "Pstatus             -0.058442 -0.004661 -0.084366  0.133604   -0.013171  ...   \n",
       "Medu                 0.607611  0.454388  0.286939 -0.013725    0.174122  ...   \n",
       "Fedu                 1.000000  0.206264  0.337585  0.026083    0.026055  ...   \n",
       "Mjob                 0.206264  1.000000  0.115468 -0.055108    0.079485  ...   \n",
       "Fjob                 0.337585  0.115468  1.000000  0.065114   -0.023793  ...   \n",
       "reason               0.026083 -0.055108  0.065114  1.000000   -0.009534  ...   \n",
       "traveltime           0.026055  0.079485 -0.023793 -0.009534    1.000000  ...   \n",
       "studytime           -0.022356 -0.126301 -0.046298  0.035827    0.070746  ...   \n",
       "failures            -0.225077 -0.070901 -0.063845 -0.034232   -0.063386  ...   \n",
       "schoolsup            0.052034 -0.161660  0.129124  0.065812    0.081374  ...   \n",
       "famsup               0.173989  0.047720  0.074594 -0.019573   -0.019148  ...   \n",
       "paid                 0.024940  0.106844 -0.059859 -0.181193   -0.010980  ...   \n",
       "activities           0.016342  0.105785 -0.030688  0.181078    0.042862  ...   \n",
       "nursery             -0.026015 -0.014992  0.104914  0.157437    0.041883  ...   \n",
       "studytime, granular  0.010551  0.105328  0.054150 -0.038640   -0.032916  ...   \n",
       "higher              -0.032057 -0.143147  0.044426 -0.077325    0.102848  ...   \n",
       "internet             0.083744  0.312537 -0.104508 -0.084307    0.098922  ...   \n",
       "romantic            -0.085945 -0.053825  0.013997 -0.027927   -0.099658  ...   \n",
       "famrel              -0.101371 -0.065439 -0.085394 -0.080209    0.068842  ...   \n",
       "freetime             0.016429  0.120205  0.001621  0.088928    0.064455  ...   \n",
       "goout                0.011236 -0.074993  0.001284 -0.019514   -0.035656  ...   \n",
       "health              -0.038869  0.069414  0.053792  0.136041   -0.097209  ...   \n",
       "absences             0.057966  0.006669  0.203770 -0.010355    0.051258  ...   \n",
       "score                0.114847  0.204108  0.123496  0.028314    0.120353  ...   \n",
       "welfare              0.165235 -0.039891  0.218006  0.114442    0.175140  ...   \n",
       "\n",
       "                       higher  internet  romantic    famrel  freetime  \\\n",
       "age                  0.097639 -0.090908 -0.090099  0.040616 -0.107843   \n",
       "address             -0.042695  0.144694 -0.015652 -0.050140 -0.038820   \n",
       "famsize             -0.050983  0.018712  0.019068  0.111078 -0.010627   \n",
       "Pstatus             -0.034402  0.015429  0.005172 -0.004372  0.029695   \n",
       "Medu                -0.073754  0.173481 -0.125965 -0.010493  0.039522   \n",
       "Fedu                -0.032057  0.083744 -0.085945 -0.101371  0.016429   \n",
       "Mjob                -0.143147  0.312537 -0.053825 -0.065439  0.120205   \n",
       "Fjob                 0.044426 -0.104508  0.013997 -0.085394  0.001621   \n",
       "reason              -0.077325 -0.084307 -0.027927 -0.080209  0.088928   \n",
       "traveltime           0.102848  0.098922 -0.099658  0.068842  0.064455   \n",
       "studytime           -0.073328  0.098177 -0.270710 -0.072981 -0.066322   \n",
       "failures             0.034391  0.055939 -0.031686  0.024211  0.072981   \n",
       "schoolsup            0.027475 -0.060469  0.031050 -0.048830  0.051983   \n",
       "famsup              -0.074385  0.027877 -0.075583 -0.136725 -0.012250   \n",
       "paid                -0.099383  0.197427 -0.163114 -0.047717 -0.087981   \n",
       "activities          -0.079332  0.042272 -0.071200 -0.034092  0.102649   \n",
       "nursery             -0.023109 -0.081342 -0.149835 -0.304998  0.054691   \n",
       "studytime, granular  0.092954 -0.114842  0.236071  0.024737  0.050690   \n",
       "higher               1.000000 -0.042025 -0.065719  0.024219  0.081463   \n",
       "internet            -0.042025  1.000000 -0.118261  0.056259  0.042648   \n",
       "romantic            -0.065719 -0.118261  1.000000  0.079947  0.020877   \n",
       "famrel               0.024219  0.056259  0.079947  1.000000  0.078210   \n",
       "freetime             0.081463  0.042648  0.020877  0.078210  1.000000   \n",
       "goout                0.066011  0.035756 -0.039542  0.026355  0.322576   \n",
       "health              -0.077726 -0.164193  0.010659  0.098634  0.012993   \n",
       "absences             0.015553  0.067717  0.035739 -0.103187 -0.021806   \n",
       "score               -0.008300  0.106465  0.071798 -0.007067  0.034785   \n",
       "welfare              0.172157  0.031623 -0.035105 -0.101787  0.080148   \n",
       "\n",
       "                        goout    health  absences     score   welfare  \n",
       "age                  0.134138 -0.018422  0.026996 -0.117076 -0.070727  \n",
       "address             -0.045198 -0.064817  0.030810  0.182002  0.107706  \n",
       "famsize             -0.007319  0.021961  0.036975 -0.089128  0.007650  \n",
       "Pstatus             -0.021787 -0.019011 -0.013079 -0.132519 -0.012277  \n",
       "Medu                 0.026879 -0.032321  0.005997  0.230596  0.184058  \n",
       "Fedu                 0.011236 -0.038869  0.057966  0.114847  0.165235  \n",
       "Mjob                -0.074993  0.069414  0.006669  0.204108 -0.039891  \n",
       "Fjob                 0.001284  0.053792  0.203770  0.123496  0.218006  \n",
       "reason              -0.019514  0.136041 -0.010355  0.028314  0.114442  \n",
       "traveltime          -0.035656 -0.097209  0.051258  0.120353  0.175140  \n",
       "studytime            0.047424 -0.126882  0.001703 -0.025762  0.095141  \n",
       "failures             0.096096  0.106819 -0.000462 -0.370428 -0.091494  \n",
       "schoolsup           -0.052353 -0.133643  0.183839 -0.019764  0.126715  \n",
       "famsup              -0.028318  0.015376  0.012252 -0.207889  0.205170  \n",
       "paid                 0.041156 -0.173780 -0.070685  0.004805  0.137772  \n",
       "activities           0.058917  0.070469 -0.061470 -0.023569  0.004300  \n",
       "nursery              0.013266 -0.108420  0.051506 -0.011772  0.661951  \n",
       "studytime, granular -0.030052  0.090748  0.027635  0.003524 -0.074195  \n",
       "higher               0.066011 -0.077726  0.015553 -0.008300  0.172157  \n",
       "internet             0.035756 -0.164193  0.067717  0.106465  0.031623  \n",
       "romantic            -0.039542  0.010659  0.035739  0.071798 -0.035105  \n",
       "famrel               0.026355  0.098634 -0.103187 -0.007067 -0.101787  \n",
       "freetime             0.322576  0.012993 -0.021806  0.034785  0.080148  \n",
       "goout                1.000000 -0.003146 -0.089686 -0.083974  0.047714  \n",
       "health              -0.003146  1.000000 -0.046337 -0.107256 -0.162324  \n",
       "absences            -0.089686 -0.046337  1.000000  0.105153  0.072575  \n",
       "score               -0.083974 -0.107256  0.105153  1.000000 -0.039765  \n",
       "welfare              0.047714 -0.162324  0.072575 -0.039765  1.000000  \n",
       "\n",
       "[28 rows x 28 columns]"
      ]
     },
     "execution_count": 82,
     "metadata": {},
     "output_type": "execute_result"
    }
   ],
   "source": [
    "df2.corr()"
   ]
  },
  {
   "cell_type": "code",
   "execution_count": null,
   "metadata": {},
   "outputs": [],
   "source": []
  }
 ],
 "metadata": {
  "celltoolbar": "Редактировать метаданные",
  "kernelspec": {
   "display_name": "Python 3",
   "language": "python",
   "name": "python3"
  },
  "language_info": {
   "codemirror_mode": {
    "name": "ipython",
    "version": 3
   },
   "file_extension": ".py",
   "mimetype": "text/x-python",
   "name": "python",
   "nbconvert_exporter": "python",
   "pygments_lexer": "ipython3",
   "version": "3.8.5"
  }
 },
 "nbformat": 4,
 "nbformat_minor": 4
}
